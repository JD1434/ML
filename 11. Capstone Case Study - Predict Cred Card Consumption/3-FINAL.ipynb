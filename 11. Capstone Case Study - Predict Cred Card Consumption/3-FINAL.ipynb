{
 "cells": [
  {
   "cell_type": "code",
   "execution_count": 165,
   "id": "6803bc15",
   "metadata": {},
   "outputs": [],
   "source": [
    "#Packages related to data importing, manipulation, exploratory data analysis, data understanding\n",
    "import numpy as np\n",
    "import pandas as pd\n",
    "import pandas_profiling\n",
    "import scipy.stats as stats\n",
    "\n",
    "#Packages related to data visualizaiton\n",
    "import seaborn as sns\n",
    "import matplotlib.pyplot as plt\n",
    "from statsmodels.graphics.gofplots import qqplot\n",
    "\n",
    "\n",
    "#Modules related to split the data & gridsearch\n",
    "from sklearn.model_selection import train_test_split, GridSearchCV\n",
    "\n",
    "#Module related to calculation of metrics\n",
    "from sklearn import metrics\n",
    "\n",
    "\n",
    "#Modules related key techniques of supervised learning \n",
    "from sklearn.neighbors import KNeighborsClassifier, KNeighborsRegressor\n",
    "\n",
    "#Modules  to scaling the data\n",
    "from sklearn.preprocessing import StandardScaler, MinMaxScaler,normalize\n",
    "from sklearn import preprocessing\n",
    "\n",
    "#pip install tk  #GUI backend"
   ]
  },
  {
   "cell_type": "code",
   "execution_count": 166,
   "id": "6d0a801b",
   "metadata": {},
   "outputs": [],
   "source": [
    "#importing data\n",
    "Credit=pd.read_excel('CreditConsumptionData.xlsx')\n",
    "Behavior=pd.read_excel('CustomerBehaviorData.xlsx')\n",
    "Demographics=pd.read_excel('CustomerDemographics.xlsx')"
   ]
  },
  {
   "cell_type": "code",
   "execution_count": 167,
   "id": "185d5115",
   "metadata": {},
   "outputs": [],
   "source": [
    "#merging data\n",
    "Customer=Credit.merge(Behavior.merge(Demographics,on='ID'),on='ID')"
   ]
  },
  {
   "cell_type": "code",
   "execution_count": 168,
   "id": "1d7c2d21",
   "metadata": {},
   "outputs": [],
   "source": [
    "#Customer[Customer.duplicated()] \n",
    "#Customer.isnull().sum()\n",
    "#Customer.describe()\n",
    "#Customer.info()\n",
    "#Customer.shape\n",
    "#Customer"
   ]
  },
  {
   "cell_type": "code",
   "execution_count": 169,
   "id": "2b0a9d2f",
   "metadata": {},
   "outputs": [],
   "source": [
    "# dataset(target-null value) segregation\n",
    "Customer_existing_cc_cons = Customer[Customer.cc_cons.isnull()==0]\n",
    "##-----------*****-----------\n",
    "Customer_missing_cc_cons = Customer[Customer.cc_cons.isnull()==1]"
   ]
  },
  {
   "cell_type": "raw",
   "id": "4c6805b0",
   "metadata": {},
   "source": [
    "Checklist for EDA:\n",
    "1. Checking the different features present in the dataset & its shape\n",
    "\n",
    "2. Checking the data type of each columns\n",
    "\n",
    "3. Encoding the labels for classification problems\n",
    "\n",
    "4. Checking for missing values\n",
    "\n",
    "5. Descriptive summary of the dataset\n",
    "\n",
    "6. Checking the distribution of the target variable\n",
    "\n",
    "# Data Visualization:\n",
    "\n",
    "8. Distribution plot for all the columns\n",
    "\n",
    "9. Count plot for Categorical columns\n",
    "\n",
    "10. Pair plot\n",
    "\n",
    "11. Checking for Outliers\n",
    "\n",
    "12. Correlation matrix\n",
    "\n",
    "13. Inference from EDA"
   ]
  },
  {
   "cell_type": "code",
   "execution_count": 170,
   "id": "e4920c03",
   "metadata": {},
   "outputs": [],
   "source": [
    "#Customer_existing_cc_cons.info()\n",
    "#Customer_existing_cc_cons.isnull().sum()"
   ]
  },
  {
   "cell_type": "code",
   "execution_count": 171,
   "id": "aad249a3",
   "metadata": {},
   "outputs": [],
   "source": [
    "# Column segregation\n",
    "Bincol=['account_type','gender','loan_enq']\n",
    "Ordcol=['Income']\n",
    "Numcol=list(set(Customer_existing_cc_cons.columns).difference(set(Bincol).union(set(Ordcol))).difference(['cc_cons']))"
   ]
  },
  {
   "cell_type": "code",
   "execution_count": 172,
   "id": "c90c4e9f",
   "metadata": {},
   "outputs": [],
   "source": [
    "# Dummy encoding \n",
    "#Nomcol\n",
    "#new_Customer_existing=pd.get_dummies(Customer_existing_cc_cons, columns =Bincol)\n",
    "#Ordcol\n",
    "'''\n",
    "# Create Y Multinomial variable\n",
    "dim={'LOW':0,'MEDIUM':1, 'HIGH':2}\n",
    "new_Customer_existing['Income']=new_Customer_existing['Income'].map(dim)\n",
    "'''\n",
    "#one_hot_encoding\n",
    "new_Customer_existing=pd.get_dummies(Customer_existing_cc_cons, columns = ['Income','account_type','gender','loan_enq'])"
   ]
  },
  {
   "cell_type": "code",
   "execution_count": 173,
   "id": "2110af8c",
   "metadata": {},
   "outputs": [
    {
     "data": {
      "text/plain": [
       "(15000, 53)"
      ]
     },
     "execution_count": 173,
     "metadata": {},
     "output_type": "execute_result"
    }
   ],
   "source": [
    "new_Customer_existing.shape\n",
    "#new_Customer_existing.std()"
   ]
  },
  {
   "cell_type": "code",
   "execution_count": 174,
   "id": "a9ac362a",
   "metadata": {},
   "outputs": [],
   "source": [
    "###zero-deviation columns droping :\n",
    "#below columns have no deviation from the average\n",
    "new_Customer_existing.std()==0\n",
    "#droping columns\n",
    "new_Customer_existing = new_Customer_existing.drop(new_Customer_existing.columns[new_Customer_existing.nunique() == 1],axis=1)"
   ]
  },
  {
   "cell_type": "code",
   "execution_count": null,
   "id": "4603a020",
   "metadata": {},
   "outputs": [],
   "source": []
  },
  {
   "cell_type": "code",
   "execution_count": null,
   "id": "ffa80a5b",
   "metadata": {},
   "outputs": [],
   "source": []
  },
  {
   "cell_type": "code",
   "execution_count": null,
   "id": "184fdbce",
   "metadata": {},
   "outputs": [],
   "source": []
  },
  {
   "cell_type": "code",
   "execution_count": 175,
   "id": "ab7d2bf2",
   "metadata": {},
   "outputs": [
    {
     "data": {
      "text/plain": [
       "Index(['cc_count_apr', 'investment_3', 'debit_count_apr', 'emi_active',\n",
       "       'Avg_days_between_transaction'],\n",
       "      dtype='object')"
      ]
     },
     "execution_count": 175,
     "metadata": {},
     "output_type": "execute_result"
    }
   ],
   "source": [
    "new_Customer_existing.columns[new_Customer_existing.isnull().sum()>0]"
   ]
  },
  {
   "cell_type": "code",
   "execution_count": null,
   "id": "d03d3f70",
   "metadata": {},
   "outputs": [],
   "source": []
  },
  {
   "cell_type": "code",
   "execution_count": 176,
   "id": "8d6c4032",
   "metadata": {},
   "outputs": [],
   "source": [
    "#missing value clumns:\n",
    "#new_Customer_existing.columns[new_Customer_existing.isnull().sum()>0]\n",
    "\n",
    "#missing value treatment\n",
    "#new_Customer_existing=new_Customer_existing.fillna(np.median)\n",
    "new_Customer_existing=new_Customer_existing.dropna()\n",
    "#droping id\n",
    "new_Customer_existing=new_Customer_existing.drop(columns=['ID'])"
   ]
  },
  {
   "cell_type": "code",
   "execution_count": 177,
   "id": "b5f5b21c",
   "metadata": {},
   "outputs": [
    {
     "name": "stdout",
     "output_type": "stream",
     "text": [
      "total outlier count for- Avg_days_between_transaction : 0\n",
      "total outlier count for- Emp_Tenure_Years : 919\n",
      "total outlier count for- Tenure_with_Bank : 0\n",
      "total outlier count for- age : 534\n",
      "total outlier count for- card_lim : 59\n",
      "total outlier count for- cc_cons : 3133\n",
      "total outlier count for- cc_cons_apr : 1217\n",
      "total outlier count for- cc_cons_jun : 1181\n",
      "total outlier count for- cc_cons_may : 1202\n",
      "total outlier count for- cc_count_apr : 883\n",
      "total outlier count for- cc_count_jun : 49\n",
      "total outlier count for- cc_count_may : 709\n",
      "total outlier count for- credit_amount_apr : 1229\n",
      "total outlier count for- credit_amount_jun : 1217\n",
      "total outlier count for- credit_amount_may : 1173\n",
      "total outlier count for- credit_count_apr : 58\n",
      "total outlier count for- credit_count_jun : 2216\n",
      "total outlier count for- credit_count_may : 2655\n",
      "total outlier count for- dc_cons_apr : 1220\n",
      "total outlier count for- dc_cons_jun : 1366\n",
      "total outlier count for- dc_cons_may : 1248\n",
      "total outlier count for- dc_count_apr : 434\n",
      "total outlier count for- dc_count_jun : 0\n",
      "total outlier count for- dc_count_may : 1233\n",
      "total outlier count for- debit_amount_apr : 1239\n",
      "total outlier count for- debit_amount_jun : 1175\n",
      "total outlier count for- debit_amount_may : 1235\n",
      "total outlier count for- debit_count_apr : 231\n",
      "total outlier count for- debit_count_jun : 0\n",
      "total outlier count for- debit_count_may : 617\n",
      "total outlier count for- emi_active : 1393\n",
      "total outlier count for- investment_1 : 2123\n",
      "total outlier count for- investment_2 : 1297\n",
      "total outlier count for- investment_3 : 1553\n",
      "total outlier count for- investment_4 : 1004\n",
      "total outlier count for- max_credit_amount_apr : 1376\n",
      "total outlier count for- max_credit_amount_jun : 1385\n",
      "total outlier count for- max_credit_amount_may : 1300\n",
      "total outlier count for- region_code : 0\n",
      "Target(cc_cons) : 3133\n"
     ]
    }
   ],
   "source": [
    "#Below are some of the techniques of detecting outliers\n",
    "#1.Boxplots\n",
    "'''\n",
    "sns.boxplot(new_Customer_existing.cc_cons)\n",
    "plt.show()\n",
    "'''\n",
    "#2.Z-score\n",
    "'''\n",
    "outlier = []\n",
    "def detect_outliers_zscore(data):\n",
    "    threshold = 3\n",
    "    mean=np.mean(data)\n",
    "    std=np.std(data)\n",
    "    for i in data:\n",
    "        z = (i-mean)/std\n",
    "        if z > threshold:\n",
    "                outlier.append(i)\n",
    "    return outlier\n",
    "    \n",
    "for i in new_Customer_existing.columns:\n",
    "    l=len(detect_outliers_zscore(new_Customer_existing[i]))\n",
    "    print(i,\":\",l)\n",
    "'''\n",
    "\n",
    "\n",
    "#3.Inter Quantile Range(IQR)\n",
    "#create a function to find outliers using IQR\n",
    "def find_outliers_IQR(df):\n",
    "   q1=df.quantile(0.25)     \n",
    "   q3=df.quantile(0.75)      \n",
    "   IQR=q3-q1                 \n",
    "   outliers = df[((df<(q1-1.5*IQR)) | (df>(q3+1.5*IQR)))] \n",
    "   return outliers\n",
    "#find_outliers_IQR_count=find_outliers_IQR(new_Customer_existing.cc_cons).count()\n",
    "\n",
    "#finding outlier except binary value column:['gender_F','gender_M','loan_enq_Y','account_type_saving','account_type_current','Income_HIGH', 'Income_LOW','Income_MEDIUM','NetBanking_Flag']\n",
    "for i in new_Customer_existing[new_Customer_existing.columns.difference(['gender_F','gender_M','loan_enq_Y','account_type_saving','account_type_current','Income_HIGH', 'Income_LOW','Income_MEDIUM','NetBanking_Flag'])]:\n",
    "    print(\"total outlier count for-\",i,':',find_outliers_IQR(new_Customer_existing[i]).count())\n",
    "print(\"Target(cc_cons)\",':',find_outliers_IQR(new_Customer_existing.cc_cons).count())\n",
    "#print('total',find_outliers_IQR_count/new_Customer_existing.cc_cons.count()*100,'% data outlier from Target variable')"
   ]
  },
  {
   "cell_type": "code",
   "execution_count": 178,
   "id": "4da9e889",
   "metadata": {},
   "outputs": [
    {
     "name": "stderr",
     "output_type": "stream",
     "text": [
      "C:\\Users\\Shubham Jadhav\\anaconda3\\lib\\site-packages\\seaborn\\_decorators.py:36: FutureWarning: Pass the following variable as a keyword arg: x. From version 0.12, the only valid positional argument will be `data`, and passing other arguments without an explicit keyword will result in an error or misinterpretation.\n",
      "  warnings.warn(\n"
     ]
    },
    {
     "data": {
      "image/png": "[encoded data removed]",
      "text/plain": [
       "<Figure size 640x480 with 1 Axes>"
      ]
     },
     "metadata": {},
     "output_type": "display_data"
    },
    {
     "name": "stderr",
     "output_type": "stream",
     "text": [
      "C:\\Users\\Shubham Jadhav\\anaconda3\\lib\\site-packages\\seaborn\\_decorators.py:36: FutureWarning: Pass the following variable as a keyword arg: x. From version 0.12, the only valid positional argument will be `data`, and passing other arguments without an explicit keyword will result in an error or misinterpretation.\n",
      "  warnings.warn(\n"
     ]
    },
    {
     "data": {
      "image/png": "[encoded data removed]",
      "text/plain": [
       "<Figure size 640x480 with 1 Axes>"
      ]
     },
     "metadata": {},
     "output_type": "display_data"
    },
    {
     "name": "stderr",
     "output_type": "stream",
     "text": [
      "C:\\Users\\Shubham Jadhav\\anaconda3\\lib\\site-packages\\seaborn\\_decorators.py:36: FutureWarning: Pass the following variable as a keyword arg: x. From version 0.12, the only valid positional argument will be `data`, and passing other arguments without an explicit keyword will result in an error or misinterpretation.\n",
      "  warnings.warn(\n"
     ]
    },
    {
     "data": {
      "image/png": "[encoded data removed]",
      "text/plain": [
       "<Figure size 640x480 with 1 Axes>"
      ]
     },
     "metadata": {},
     "output_type": "display_data"
    },
    {
     "name": "stderr",
     "output_type": "stream",
     "text": [
      "C:\\Users\\Shubham Jadhav\\anaconda3\\lib\\site-packages\\seaborn\\_decorators.py:36: FutureWarning: Pass the following variable as a keyword arg: x. From version 0.12, the only valid positional argument will be `data`, and passing other arguments without an explicit keyword will result in an error or misinterpretation.\n",
      "  warnings.warn(\n"
     ]
    },
    {
     "data": {
      "image/png": "[encoded data removed]",
      "text/plain": [
       "<Figure size 640x480 with 1 Axes>"
      ]
     },
     "metadata": {},
     "output_type": "display_data"
    },
    {
     "name": "stderr",
     "output_type": "stream",
     "text": [
      "C:\\Users\\Shubham Jadhav\\anaconda3\\lib\\site-packages\\seaborn\\_decorators.py:36: FutureWarning: Pass the following variable as a keyword arg: x. From version 0.12, the only valid positional argument will be `data`, and passing other arguments without an explicit keyword will result in an error or misinterpretation.\n",
      "  warnings.warn(\n"
     ]
    },
    {
     "data": {
      "image/png": "[encoded data removed]",
      "text/plain": [
       "<Figure size 640x480 with 1 Axes>"
      ]
     },
     "metadata": {},
     "output_type": "display_data"
    },
    {
     "name": "stderr",
     "output_type": "stream",
     "text": [
      "C:\\Users\\Shubham Jadhav\\anaconda3\\lib\\site-packages\\seaborn\\_decorators.py:36: FutureWarning: Pass the following variable as a keyword arg: x. From version 0.12, the only valid positional argument will be `data`, and passing other arguments without an explicit keyword will result in an error or misinterpretation.\n",
      "  warnings.warn(\n"
     ]
    },
    {
     "data": {
      "image/png": "[encoded data removed]",
      "text/plain": [
       "<Figure size 640x480 with 1 Axes>"
      ]
     },
     "metadata": {},
     "output_type": "display_data"
    },
    {
     "name": "stderr",
     "output_type": "stream",
     "text": [
      "C:\\Users\\Shubham Jadhav\\anaconda3\\lib\\site-packages\\seaborn\\_decorators.py:36: FutureWarning: Pass the following variable as a keyword arg: x. From version 0.12, the only valid positional argument will be `data`, and passing other arguments without an explicit keyword will result in an error or misinterpretation.\n",
      "  warnings.warn(\n"
     ]
    },
    {
     "data": {
      "image/png": "[encoded data removed]",
      "text/plain": [
       "<Figure size 640x480 with 1 Axes>"
      ]
     },
     "metadata": {},
     "output_type": "display_data"
    },
    {
     "name": "stderr",
     "output_type": "stream",
     "text": [
      "C:\\Users\\Shubham Jadhav\\anaconda3\\lib\\site-packages\\seaborn\\_decorators.py:36: FutureWarning: Pass the following variable as a keyword arg: x. From version 0.12, the only valid positional argument will be `data`, and passing other arguments without an explicit keyword will result in an error or misinterpretation.\n",
      "  warnings.warn(\n"
     ]
    },
    {
     "data": {
      "image/png": "[encoded data removed]",
      "text/plain": [
       "<Figure size 640x480 with 1 Axes>"
      ]
     },
     "metadata": {},
     "output_type": "display_data"
    },
    {
     "name": "stderr",
     "output_type": "stream",
     "text": [
      "C:\\Users\\Shubham Jadhav\\anaconda3\\lib\\site-packages\\seaborn\\_decorators.py:36: FutureWarning: Pass the following variable as a keyword arg: x. From version 0.12, the only valid positional argument will be `data`, and passing other arguments without an explicit keyword will result in an error or misinterpretation.\n",
      "  warnings.warn(\n"
     ]
    },
    {
     "data": {
      "image/png": "[encoded data removed]",
      "text/plain": [
       "<Figure size 640x480 with 1 Axes>"
      ]
     },
     "metadata": {},
     "output_type": "display_data"
    },
    {
     "name": "stderr",
     "output_type": "stream",
     "text": [
      "C:\\Users\\Shubham Jadhav\\anaconda3\\lib\\site-packages\\seaborn\\_decorators.py:36: FutureWarning: Pass the following variable as a keyword arg: x. From version 0.12, the only valid positional argument will be `data`, and passing other arguments without an explicit keyword will result in an error or misinterpretation.\n",
      "  warnings.warn(\n"
     ]
    },
    {
     "data": {
      "image/png": "[encoded data removed]",
      "text/plain": [
       "<Figure size 640x480 with 1 Axes>"
      ]
     },
     "metadata": {},
     "output_type": "display_data"
    },
    {
     "name": "stderr",
     "output_type": "stream",
     "text": [
      "C:\\Users\\Shubham Jadhav\\anaconda3\\lib\\site-packages\\seaborn\\_decorators.py:36: FutureWarning: Pass the following variable as a keyword arg: x. From version 0.12, the only valid positional argument will be `data`, and passing other arguments without an explicit keyword will result in an error or misinterpretation.\n",
      "  warnings.warn(\n"
     ]
    },
    {
     "data": {
      "image/png": "[encoded data removed]",
      "text/plain": [
       "<Figure size 640x480 with 1 Axes>"
      ]
     },
     "metadata": {},
     "output_type": "display_data"
    },
    {
     "name": "stderr",
     "output_type": "stream",
     "text": [
      "C:\\Users\\Shubham Jadhav\\anaconda3\\lib\\site-packages\\seaborn\\_decorators.py:36: FutureWarning: Pass the following variable as a keyword arg: x. From version 0.12, the only valid positional argument will be `data`, and passing other arguments without an explicit keyword will result in an error or misinterpretation.\n",
      "  warnings.warn(\n"
     ]
    },
    {
     "data": {
      "image/png": "[encoded data removed]",
      "text/plain": [
       "<Figure size 640x480 with 1 Axes>"
      ]
     },
     "metadata": {},
     "output_type": "display_data"
    },
    {
     "name": "stderr",
     "output_type": "stream",
     "text": [
      "C:\\Users\\Shubham Jadhav\\anaconda3\\lib\\site-packages\\seaborn\\_decorators.py:36: FutureWarning: Pass the following variable as a keyword arg: x. From version 0.12, the only valid positional argument will be `data`, and passing other arguments without an explicit keyword will result in an error or misinterpretation.\n",
      "  warnings.warn(\n"
     ]
    },
    {
     "data": {
      "image/png": "[encoded data removed]",
      "text/plain": [
       "<Figure size 640x480 with 1 Axes>"
      ]
     },
     "metadata": {},
     "output_type": "display_data"
    },
    {
     "name": "stderr",
     "output_type": "stream",
     "text": [
      "C:\\Users\\Shubham Jadhav\\anaconda3\\lib\\site-packages\\seaborn\\_decorators.py:36: FutureWarning: Pass the following variable as a keyword arg: x. From version 0.12, the only valid positional argument will be `data`, and passing other arguments without an explicit keyword will result in an error or misinterpretation.\n",
      "  warnings.warn(\n"
     ]
    },
    {
     "data": {
      "image/png": "[encoded data removed]",
      "text/plain": [
       "<Figure size 640x480 with 1 Axes>"
      ]
     },
     "metadata": {},
     "output_type": "display_data"
    },
    {
     "name": "stderr",
     "output_type": "stream",
     "text": [
      "C:\\Users\\Shubham Jadhav\\anaconda3\\lib\\site-packages\\seaborn\\_decorators.py:36: FutureWarning: Pass the following variable as a keyword arg: x. From version 0.12, the only valid positional argument will be `data`, and passing other arguments without an explicit keyword will result in an error or misinterpretation.\n",
      "  warnings.warn(\n"
     ]
    },
    {
     "data": {
      "image/png": "[encoded data removed]",
      "text/plain": [
       "<Figure size 640x480 with 1 Axes>"
      ]
     },
     "metadata": {},
     "output_type": "display_data"
    },
    {
     "name": "stderr",
     "output_type": "stream",
     "text": [
      "C:\\Users\\Shubham Jadhav\\anaconda3\\lib\\site-packages\\seaborn\\_decorators.py:36: FutureWarning: Pass the following variable as a keyword arg: x. From version 0.12, the only valid positional argument will be `data`, and passing other arguments without an explicit keyword will result in an error or misinterpretation.\n",
      "  warnings.warn(\n"
     ]
    },
    {
     "data": {
      "image/png": "[encoded data removed]",
      "text/plain": [
       "<Figure size 640x480 with 1 Axes>"
      ]
     },
     "metadata": {},
     "output_type": "display_data"
    },
    {
     "name": "stderr",
     "output_type": "stream",
     "text": [
      "C:\\Users\\Shubham Jadhav\\anaconda3\\lib\\site-packages\\seaborn\\_decorators.py:36: FutureWarning: Pass the following variable as a keyword arg: x. From version 0.12, the only valid positional argument will be `data`, and passing other arguments without an explicit keyword will result in an error or misinterpretation.\n",
      "  warnings.warn(\n"
     ]
    },
    {
     "data": {
      "image/png": "[encoded data removed]",
      "text/plain": [
       "<Figure size 640x480 with 1 Axes>"
      ]
     },
     "metadata": {},
     "output_type": "display_data"
    },
    {
     "name": "stderr",
     "output_type": "stream",
     "text": [
      "C:\\Users\\Shubham Jadhav\\anaconda3\\lib\\site-packages\\seaborn\\_decorators.py:36: FutureWarning: Pass the following variable as a keyword arg: x. From version 0.12, the only valid positional argument will be `data`, and passing other arguments without an explicit keyword will result in an error or misinterpretation.\n",
      "  warnings.warn(\n"
     ]
    },
    {
     "data": {
      "image/png": "[encoded data removed]",
      "text/plain": [
       "<Figure size 640x480 with 1 Axes>"
      ]
     },
     "metadata": {},
     "output_type": "display_data"
    },
    {
     "name": "stderr",
     "output_type": "stream",
     "text": [
      "C:\\Users\\Shubham Jadhav\\anaconda3\\lib\\site-packages\\seaborn\\_decorators.py:36: FutureWarning: Pass the following variable as a keyword arg: x. From version 0.12, the only valid positional argument will be `data`, and passing other arguments without an explicit keyword will result in an error or misinterpretation.\n",
      "  warnings.warn(\n"
     ]
    },
    {
     "data": {
      "image/png": "[encoded data removed]",
      "text/plain": [
       "<Figure size 640x480 with 1 Axes>"
      ]
     },
     "metadata": {},
     "output_type": "display_data"
    },
    {
     "name": "stderr",
     "output_type": "stream",
     "text": [
      "C:\\Users\\Shubham Jadhav\\anaconda3\\lib\\site-packages\\seaborn\\_decorators.py:36: FutureWarning: Pass the following variable as a keyword arg: x. From version 0.12, the only valid positional argument will be `data`, and passing other arguments without an explicit keyword will result in an error or misinterpretation.\n",
      "  warnings.warn(\n"
     ]
    },
    {
     "data": {
      "image/png": "[encoded data removed]",
      "text/plain": [
       "<Figure size 640x480 with 1 Axes>"
      ]
     },
     "metadata": {},
     "output_type": "display_data"
    },
    {
     "name": "stderr",
     "output_type": "stream",
     "text": [
      "C:\\Users\\Shubham Jadhav\\anaconda3\\lib\\site-packages\\seaborn\\_decorators.py:36: FutureWarning: Pass the following variable as a keyword arg: x. From version 0.12, the only valid positional argument will be `data`, and passing other arguments without an explicit keyword will result in an error or misinterpretation.\n",
      "  warnings.warn(\n"
     ]
    },
    {
     "data": {
      "image/png": "[encoded data removed]",
      "text/plain": [
       "<Figure size 640x480 with 1 Axes>"
      ]
     },
     "metadata": {},
     "output_type": "display_data"
    },
    {
     "name": "stderr",
     "output_type": "stream",
     "text": [
      "C:\\Users\\Shubham Jadhav\\anaconda3\\lib\\site-packages\\seaborn\\_decorators.py:36: FutureWarning: Pass the following variable as a keyword arg: x. From version 0.12, the only valid positional argument will be `data`, and passing other arguments without an explicit keyword will result in an error or misinterpretation.\n",
      "  warnings.warn(\n"
     ]
    },
    {
     "data": {
      "image/png": "[encoded data removed]",
      "text/plain": [
       "<Figure size 640x480 with 1 Axes>"
      ]
     },
     "metadata": {},
     "output_type": "display_data"
    },
    {
     "name": "stderr",
     "output_type": "stream",
     "text": [
      "C:\\Users\\Shubham Jadhav\\anaconda3\\lib\\site-packages\\seaborn\\_decorators.py:36: FutureWarning: Pass the following variable as a keyword arg: x. From version 0.12, the only valid positional argument will be `data`, and passing other arguments without an explicit keyword will result in an error or misinterpretation.\n",
      "  warnings.warn(\n"
     ]
    },
    {
     "data": {
      "image/png": "[encoded data removed]",
      "text/plain": [
       "<Figure size 640x480 with 1 Axes>"
      ]
     },
     "metadata": {},
     "output_type": "display_data"
    },
    {
     "name": "stderr",
     "output_type": "stream",
     "text": [
      "C:\\Users\\Shubham Jadhav\\anaconda3\\lib\\site-packages\\seaborn\\_decorators.py:36: FutureWarning: Pass the following variable as a keyword arg: x. From version 0.12, the only valid positional argument will be `data`, and passing other arguments without an explicit keyword will result in an error or misinterpretation.\n",
      "  warnings.warn(\n"
     ]
    },
    {
     "data": {
      "image/png": "[encoded data removed]",
      "text/plain": [
       "<Figure size 640x480 with 1 Axes>"
      ]
     },
     "metadata": {},
     "output_type": "display_data"
    },
    {
     "name": "stderr",
     "output_type": "stream",
     "text": [
      "C:\\Users\\Shubham Jadhav\\anaconda3\\lib\\site-packages\\seaborn\\_decorators.py:36: FutureWarning: Pass the following variable as a keyword arg: x. From version 0.12, the only valid positional argument will be `data`, and passing other arguments without an explicit keyword will result in an error or misinterpretation.\n",
      "  warnings.warn(\n"
     ]
    },
    {
     "data": {
      "image/png": "[encoded data removed]",
      "text/plain": [
       "<Figure size 640x480 with 1 Axes>"
      ]
     },
     "metadata": {},
     "output_type": "display_data"
    },
    {
     "name": "stderr",
     "output_type": "stream",
     "text": [
      "C:\\Users\\Shubham Jadhav\\anaconda3\\lib\\site-packages\\seaborn\\_decorators.py:36: FutureWarning: Pass the following variable as a keyword arg: x. From version 0.12, the only valid positional argument will be `data`, and passing other arguments without an explicit keyword will result in an error or misinterpretation.\n",
      "  warnings.warn(\n"
     ]
    },
    {
     "data": {
      "image/png": "[encoded data removed]",
      "text/plain": [
       "<Figure size 640x480 with 1 Axes>"
      ]
     },
     "metadata": {},
     "output_type": "display_data"
    },
    {
     "name": "stderr",
     "output_type": "stream",
     "text": [
      "C:\\Users\\Shubham Jadhav\\anaconda3\\lib\\site-packages\\seaborn\\_decorators.py:36: FutureWarning: Pass the following variable as a keyword arg: x. From version 0.12, the only valid positional argument will be `data`, and passing other arguments without an explicit keyword will result in an error or misinterpretation.\n",
      "  warnings.warn(\n"
     ]
    },
    {
     "data": {
      "image/png": "[encoded data removed]",
      "text/plain": [
       "<Figure size 640x480 with 1 Axes>"
      ]
     },
     "metadata": {},
     "output_type": "display_data"
    },
    {
     "name": "stderr",
     "output_type": "stream",
     "text": [
      "C:\\Users\\Shubham Jadhav\\anaconda3\\lib\\site-packages\\seaborn\\_decorators.py:36: FutureWarning: Pass the following variable as a keyword arg: x. From version 0.12, the only valid positional argument will be `data`, and passing other arguments without an explicit keyword will result in an error or misinterpretation.\n",
      "  warnings.warn(\n"
     ]
    },
    {
     "data": {
      "image/png": "[encoded data removed]",
      "text/plain": [
       "<Figure size 640x480 with 1 Axes>"
      ]
     },
     "metadata": {},
     "output_type": "display_data"
    },
    {
     "name": "stderr",
     "output_type": "stream",
     "text": [
      "C:\\Users\\Shubham Jadhav\\anaconda3\\lib\\site-packages\\seaborn\\_decorators.py:36: FutureWarning: Pass the following variable as a keyword arg: x. From version 0.12, the only valid positional argument will be `data`, and passing other arguments without an explicit keyword will result in an error or misinterpretation.\n",
      "  warnings.warn(\n"
     ]
    },
    {
     "data": {
      "image/png": "[encoded data removed]",
      "text/plain": [
       "<Figure size 640x480 with 1 Axes>"
      ]
     },
     "metadata": {},
     "output_type": "display_data"
    },
    {
     "name": "stderr",
     "output_type": "stream",
     "text": [
      "C:\\Users\\Shubham Jadhav\\anaconda3\\lib\\site-packages\\seaborn\\_decorators.py:36: FutureWarning: Pass the following variable as a keyword arg: x. From version 0.12, the only valid positional argument will be `data`, and passing other arguments without an explicit keyword will result in an error or misinterpretation.\n",
      "  warnings.warn(\n"
     ]
    },
    {
     "data": {
      "image/png": "[encoded data removed]",
      "text/plain": [
       "<Figure size 640x480 with 1 Axes>"
      ]
     },
     "metadata": {},
     "output_type": "display_data"
    },
    {
     "name": "stderr",
     "output_type": "stream",
     "text": [
      "C:\\Users\\Shubham Jadhav\\anaconda3\\lib\\site-packages\\seaborn\\_decorators.py:36: FutureWarning: Pass the following variable as a keyword arg: x. From version 0.12, the only valid positional argument will be `data`, and passing other arguments without an explicit keyword will result in an error or misinterpretation.\n",
      "  warnings.warn(\n"
     ]
    },
    {
     "data": {
      "image/png": "[encoded data removed]",
      "text/plain": [
       "<Figure size 640x480 with 1 Axes>"
      ]
     },
     "metadata": {},
     "output_type": "display_data"
    },
    {
     "name": "stderr",
     "output_type": "stream",
     "text": [
      "C:\\Users\\Shubham Jadhav\\anaconda3\\lib\\site-packages\\seaborn\\_decorators.py:36: FutureWarning: Pass the following variable as a keyword arg: x. From version 0.12, the only valid positional argument will be `data`, and passing other arguments without an explicit keyword will result in an error or misinterpretation.\n",
      "  warnings.warn(\n"
     ]
    },
    {
     "data": {
      "image/png": "[encoded data removed]",
      "text/plain": [
       "<Figure size 640x480 with 1 Axes>"
      ]
     },
     "metadata": {},
     "output_type": "display_data"
    },
    {
     "name": "stderr",
     "output_type": "stream",
     "text": [
      "C:\\Users\\Shubham Jadhav\\anaconda3\\lib\\site-packages\\seaborn\\_decorators.py:36: FutureWarning: Pass the following variable as a keyword arg: x. From version 0.12, the only valid positional argument will be `data`, and passing other arguments without an explicit keyword will result in an error or misinterpretation.\n",
      "  warnings.warn(\n"
     ]
    },
    {
     "data": {
      "image/png": "[encoded data removed]",
      "text/plain": [
       "<Figure size 640x480 with 1 Axes>"
      ]
     },
     "metadata": {},
     "output_type": "display_data"
    },
    {
     "name": "stderr",
     "output_type": "stream",
     "text": [
      "C:\\Users\\Shubham Jadhav\\anaconda3\\lib\\site-packages\\seaborn\\_decorators.py:36: FutureWarning: Pass the following variable as a keyword arg: x. From version 0.12, the only valid positional argument will be `data`, and passing other arguments without an explicit keyword will result in an error or misinterpretation.\n",
      "  warnings.warn(\n"
     ]
    },
    {
     "data": {
      "image/png": "[encoded data removed]",
      "text/plain": [
       "<Figure size 640x480 with 1 Axes>"
      ]
     },
     "metadata": {},
     "output_type": "display_data"
    },
    {
     "name": "stderr",
     "output_type": "stream",
     "text": [
      "C:\\Users\\Shubham Jadhav\\anaconda3\\lib\\site-packages\\seaborn\\_decorators.py:36: FutureWarning: Pass the following variable as a keyword arg: x. From version 0.12, the only valid positional argument will be `data`, and passing other arguments without an explicit keyword will result in an error or misinterpretation.\n",
      "  warnings.warn(\n"
     ]
    },
    {
     "data": {
      "image/png": "[encoded data removed]",
      "text/plain": [
       "<Figure size 640x480 with 1 Axes>"
      ]
     },
     "metadata": {},
     "output_type": "display_data"
    },
    {
     "name": "stderr",
     "output_type": "stream",
     "text": [
      "C:\\Users\\Shubham Jadhav\\anaconda3\\lib\\site-packages\\seaborn\\_decorators.py:36: FutureWarning: Pass the following variable as a keyword arg: x. From version 0.12, the only valid positional argument will be `data`, and passing other arguments without an explicit keyword will result in an error or misinterpretation.\n",
      "  warnings.warn(\n"
     ]
    },
    {
     "data": {
      "image/png": "[encoded data removed]",
      "text/plain": [
       "<Figure size 640x480 with 1 Axes>"
      ]
     },
     "metadata": {},
     "output_type": "display_data"
    },
    {
     "name": "stderr",
     "output_type": "stream",
     "text": [
      "C:\\Users\\Shubham Jadhav\\anaconda3\\lib\\site-packages\\seaborn\\_decorators.py:36: FutureWarning: Pass the following variable as a keyword arg: x. From version 0.12, the only valid positional argument will be `data`, and passing other arguments without an explicit keyword will result in an error or misinterpretation.\n",
      "  warnings.warn(\n"
     ]
    },
    {
     "data": {
      "image/png": "[encoded data removed]",
      "text/plain": [
       "<Figure size 640x480 with 1 Axes>"
      ]
     },
     "metadata": {},
     "output_type": "display_data"
    },
    {
     "name": "stderr",
     "output_type": "stream",
     "text": [
      "C:\\Users\\Shubham Jadhav\\anaconda3\\lib\\site-packages\\seaborn\\_decorators.py:36: FutureWarning: Pass the following variable as a keyword arg: x. From version 0.12, the only valid positional argument will be `data`, and passing other arguments without an explicit keyword will result in an error or misinterpretation.\n",
      "  warnings.warn(\n"
     ]
    },
    {
     "data": {
      "image/png": "[encoded data removed]",
      "text/plain": [
       "<Figure size 640x480 with 1 Axes>"
      ]
     },
     "metadata": {},
     "output_type": "display_data"
    },
    {
     "name": "stderr",
     "output_type": "stream",
     "text": [
      "C:\\Users\\Shubham Jadhav\\anaconda3\\lib\\site-packages\\seaborn\\_decorators.py:36: FutureWarning: Pass the following variable as a keyword arg: x. From version 0.12, the only valid positional argument will be `data`, and passing other arguments without an explicit keyword will result in an error or misinterpretation.\n",
      "  warnings.warn(\n"
     ]
    },
    {
     "data": {
      "image/png": "[encoded data removed]",
      "text/plain": [
       "<Figure size 640x480 with 1 Axes>"
      ]
     },
     "metadata": {},
     "output_type": "display_data"
    }
   ],
   "source": [
    "#Below are some of the methods of treating the outliers\n",
    "#1)Trimming/removing the outlier\n",
    "# Trimming\n",
    "'''\n",
    "for i in sample_outliers:\n",
    "    a = np.delete(sample, np.where(sample==i))\n",
    "print(a)\n",
    "'''\n",
    "# print(len(sample), len(a))\n",
    "#2)Quantile based flooring and capping\n",
    "'''\n",
    "# Computing 10th, 90th percentiles and replacing the outliers\n",
    "tenth_percentile = np.percentile(sample, 10)\n",
    "ninetieth_percentile = np.percentile(sample, 90)\n",
    "# print(tenth_percentile, ninetieth_percentile)b = np.where(sample<tenth_percentile, tenth_percentile, sample)\n",
    "b = np.where(b>ninetieth_percentile, ninetieth_percentile, b)\n",
    "# print(\"Sample:\", sample)\n",
    "print(\"New array:\",b)\n",
    "'''\n",
    "\n",
    "#3)Mean/Median imputation\n",
    "'''\n",
    "median = np.median(sample)# Replace with median\n",
    "for i in sample_outliers:\n",
    "    c = np.where(sample==i, 14, sample)\n",
    "print(\"Sample: \", sample)\n",
    "print(\"New array: \",c)\n",
    "# print(x.dtype)\n",
    "'''\n",
    "\n",
    "#  treatment\n",
    "for i in new_Customer_existing[new_Customer_existing.columns.difference(['gender_F','gender_M','loan_enq_Y','account_type_saving','account_type_current','Income_HIGH', 'Income_LOW','Income_MEDIUM','NetBanking_Flag'])]:\n",
    "    _, bp = pd.DataFrame.boxplot(new_Customer_existing[i], return_type='both')\n",
    "    whiskers = [whiskers.get_ydata() for whiskers in bp[\"whiskers\"]]\n",
    "    new_Customer_existing[i].clip(lower=whiskers[0][1],upper=whiskers[1][1],inplace=True)\n",
    "    sns.boxplot(new_Customer_existing[i])\n",
    "    plt.show()"
   ]
  },
  {
   "cell_type": "code",
   "execution_count": 179,
   "id": "958ce92c",
   "metadata": {},
   "outputs": [
    {
     "data": {
      "text/html": [
       "<div>\n",
       "<style scoped>\n",
       "    .dataframe tbody tr th:only-of-type {\n",
       "        vertical-align: middle;\n",
       "    }\n",
       "\n",
       "    .dataframe tbody tr th {\n",
       "        vertical-align: top;\n",
       "    }\n",
       "\n",
       "    .dataframe thead th {\n",
       "        text-align: right;\n",
       "    }\n",
       "</style>\n",
       "<table border=\"1\" class=\"dataframe\">\n",
       "  <thead>\n",
       "    <tr style=\"text-align: right;\">\n",
       "      <th></th>\n",
       "      <th>cc_cons</th>\n",
       "      <th>cc_cons_apr</th>\n",
       "      <th>dc_cons_apr</th>\n",
       "      <th>cc_cons_may</th>\n",
       "      <th>dc_cons_may</th>\n",
       "      <th>cc_cons_jun</th>\n",
       "      <th>dc_cons_jun</th>\n",
       "      <th>cc_count_apr</th>\n",
       "      <th>cc_count_may</th>\n",
       "      <th>cc_count_jun</th>\n",
       "      <th>...</th>\n",
       "      <th>NetBanking_Flag</th>\n",
       "      <th>Avg_days_between_transaction</th>\n",
       "      <th>Income_HIGH</th>\n",
       "      <th>Income_LOW</th>\n",
       "      <th>Income_MEDIUM</th>\n",
       "      <th>account_type_current</th>\n",
       "      <th>account_type_saving</th>\n",
       "      <th>gender_F</th>\n",
       "      <th>gender_M</th>\n",
       "      <th>loan_enq_Y</th>\n",
       "    </tr>\n",
       "  </thead>\n",
       "  <tbody>\n",
       "    <tr>\n",
       "      <th>0</th>\n",
       "      <td>20014.0</td>\n",
       "      <td>24893.00</td>\n",
       "      <td>378.00</td>\n",
       "      <td>10288.00</td>\n",
       "      <td>18033.70</td>\n",
       "      <td>16291.40</td>\n",
       "      <td>11432.00</td>\n",
       "      <td>2.0</td>\n",
       "      <td>26.0</td>\n",
       "      <td>10.0</td>\n",
       "      <td>...</td>\n",
       "      <td>0</td>\n",
       "      <td>17.0</td>\n",
       "      <td>0</td>\n",
       "      <td>0</td>\n",
       "      <td>1</td>\n",
       "      <td>1</td>\n",
       "      <td>0</td>\n",
       "      <td>0</td>\n",
       "      <td>1</td>\n",
       "      <td>1</td>\n",
       "    </tr>\n",
       "    <tr>\n",
       "      <th>1</th>\n",
       "      <td>10173.0</td>\n",
       "      <td>18941.62</td>\n",
       "      <td>966.00</td>\n",
       "      <td>20672.00</td>\n",
       "      <td>287.00</td>\n",
       "      <td>4217.00</td>\n",
       "      <td>885.00</td>\n",
       "      <td>1.0</td>\n",
       "      <td>7.0</td>\n",
       "      <td>13.0</td>\n",
       "      <td>...</td>\n",
       "      <td>0</td>\n",
       "      <td>14.0</td>\n",
       "      <td>1</td>\n",
       "      <td>0</td>\n",
       "      <td>0</td>\n",
       "      <td>1</td>\n",
       "      <td>0</td>\n",
       "      <td>0</td>\n",
       "      <td>1</td>\n",
       "      <td>1</td>\n",
       "    </tr>\n",
       "    <tr>\n",
       "      <th>2</th>\n",
       "      <td>16095.0</td>\n",
       "      <td>5678.87</td>\n",
       "      <td>2724.00</td>\n",
       "      <td>1964.50</td>\n",
       "      <td>3933.11</td>\n",
       "      <td>23956.25</td>\n",
       "      <td>5168.00</td>\n",
       "      <td>43.0</td>\n",
       "      <td>32.0</td>\n",
       "      <td>102.0</td>\n",
       "      <td>...</td>\n",
       "      <td>1</td>\n",
       "      <td>3.0</td>\n",
       "      <td>0</td>\n",
       "      <td>0</td>\n",
       "      <td>1</td>\n",
       "      <td>1</td>\n",
       "      <td>0</td>\n",
       "      <td>0</td>\n",
       "      <td>1</td>\n",
       "      <td>1</td>\n",
       "    </tr>\n",
       "    <tr>\n",
       "      <th>3</th>\n",
       "      <td>7707.0</td>\n",
       "      <td>30489.50</td>\n",
       "      <td>1236.00</td>\n",
       "      <td>12609.88</td>\n",
       "      <td>9138.14</td>\n",
       "      <td>17521.00</td>\n",
       "      <td>13650.30</td>\n",
       "      <td>53.0</td>\n",
       "      <td>1.0</td>\n",
       "      <td>50.0</td>\n",
       "      <td>...</td>\n",
       "      <td>1</td>\n",
       "      <td>4.0</td>\n",
       "      <td>0</td>\n",
       "      <td>0</td>\n",
       "      <td>1</td>\n",
       "      <td>1</td>\n",
       "      <td>0</td>\n",
       "      <td>1</td>\n",
       "      <td>0</td>\n",
       "      <td>1</td>\n",
       "    </tr>\n",
       "    <tr>\n",
       "      <th>4</th>\n",
       "      <td>40055.0</td>\n",
       "      <td>7441.40</td>\n",
       "      <td>6906.04</td>\n",
       "      <td>4364.00</td>\n",
       "      <td>1939.00</td>\n",
       "      <td>2121.00</td>\n",
       "      <td>6829.18</td>\n",
       "      <td>67.0</td>\n",
       "      <td>47.0</td>\n",
       "      <td>82.0</td>\n",
       "      <td>...</td>\n",
       "      <td>1</td>\n",
       "      <td>7.0</td>\n",
       "      <td>0</td>\n",
       "      <td>0</td>\n",
       "      <td>1</td>\n",
       "      <td>1</td>\n",
       "      <td>0</td>\n",
       "      <td>0</td>\n",
       "      <td>1</td>\n",
       "      <td>0</td>\n",
       "    </tr>\n",
       "  </tbody>\n",
       "</table>\n",
       "<p>5 rows × 48 columns</p>\n",
       "</div>"
      ],
      "text/plain": [
       "   cc_cons  cc_cons_apr  dc_cons_apr  cc_cons_may  dc_cons_may  cc_cons_jun  \\\n",
       "0  20014.0     24893.00       378.00     10288.00     18033.70     16291.40   \n",
       "1  10173.0     18941.62       966.00     20672.00       287.00      4217.00   \n",
       "2  16095.0      5678.87      2724.00      1964.50      3933.11     23956.25   \n",
       "3   7707.0     30489.50      1236.00     12609.88      9138.14     17521.00   \n",
       "4  40055.0      7441.40      6906.04      4364.00      1939.00      2121.00   \n",
       "\n",
       "   dc_cons_jun  cc_count_apr  cc_count_may  cc_count_jun  ...  \\\n",
       "0     11432.00           2.0          26.0          10.0  ...   \n",
       "1       885.00           1.0           7.0          13.0  ...   \n",
       "2      5168.00          43.0          32.0         102.0  ...   \n",
       "3     13650.30          53.0           1.0          50.0  ...   \n",
       "4      6829.18          67.0          47.0          82.0  ...   \n",
       "\n",
       "   NetBanking_Flag  Avg_days_between_transaction  Income_HIGH  Income_LOW  \\\n",
       "0                0                          17.0            0           0   \n",
       "1                0                          14.0            1           0   \n",
       "2                1                           3.0            0           0   \n",
       "3                1                           4.0            0           0   \n",
       "4                1                           7.0            0           0   \n",
       "\n",
       "   Income_MEDIUM  account_type_current  account_type_saving  gender_F  \\\n",
       "0              1                     1                    0         0   \n",
       "1              0                     1                    0         0   \n",
       "2              1                     1                    0         0   \n",
       "3              1                     1                    0         1   \n",
       "4              1                     1                    0         0   \n",
       "\n",
       "   gender_M  loan_enq_Y  \n",
       "0         1           1  \n",
       "1         1           1  \n",
       "2         1           1  \n",
       "3         0           1  \n",
       "4         1           0  \n",
       "\n",
       "[5 rows x 48 columns]"
      ]
     },
     "execution_count": 179,
     "metadata": {},
     "output_type": "execute_result"
    }
   ],
   "source": [
    "new_Customer_existing.head()"
   ]
  },
  {
   "cell_type": "code",
   "execution_count": 180,
   "id": "6f81e7d6",
   "metadata": {},
   "outputs": [],
   "source": [
    "#assumption of a linear regression\n",
    "#1)y(Target) should follow normal Distribution\n",
    "#2)y&X should have linear relationship\n",
    "#3)NO outliers\n",
    "#4)NO missings\n",
    "#5)NO Multicollinerity"
   ]
  },
  {
   "cell_type": "code",
   "execution_count": null,
   "id": "40da316b",
   "metadata": {},
   "outputs": [],
   "source": []
  },
  {
   "cell_type": "markdown",
   "id": "5ec8afe6",
   "metadata": {},
   "source": [
    "# Scaling Transformation"
   ]
  },
  {
   "cell_type": "code",
   "execution_count": 181,
   "id": "bd0664ec",
   "metadata": {},
   "outputs": [],
   "source": [
    "#There are two ways to go about analyzing the non-normal data.\n",
    "#Either use the non-parametric tests, which do not assume normality or\n",
    "#transform the data using an appropriate function,forcing it to fit normal distribution."
   ]
  },
  {
   "cell_type": "raw",
   "id": "251ec577",
   "metadata": {},
   "source": []
  },
  {
   "cell_type": "code",
   "execution_count": 182,
   "id": "9ec5a2ca",
   "metadata": {},
   "outputs": [
    {
     "name": "stderr",
     "output_type": "stream",
     "text": [
      "C:\\Users\\Shubham Jadhav\\anaconda3\\lib\\site-packages\\scipy\\stats\\_morestats.py:1800: UserWarning: p-value may not be accurate for N > 5000.\n",
      "  warnings.warn(\"p-value may not be accurate for N > 5000.\")\n"
     ]
    },
    {
     "name": "stdout",
     "output_type": "stream",
     "text": [
      "Statistics=0.837, p=0.000\n",
      "Sample does not look Gaussian (reject H0)\n"
     ]
    },
    {
     "data": {
      "image/png": "[encoded data removed]",
      "text/plain": [
       "<Figure size 640x480 with 1 Axes>"
      ]
     },
     "metadata": {},
     "output_type": "display_data"
    }
   ],
   "source": [
    "#Kolmogorov–Smirnov test and the Shapiro–Wilk test are most widely used methods to test the normality of the data.\n",
    "# Shapiro-Wilk Test to check normality \n",
    "stat, p = stats.shapiro(new_Customer_existing.cc_cons)\n",
    "print('Statistics=%.3f, p=%.3f' % (stat, p))\n",
    "# interpret\n",
    "alpha = 0.05\n",
    "if p > alpha:\n",
    "    print('Sample looks Gaussian (fail to reject H0)')\n",
    "else:\n",
    "    print('Sample does not look Gaussian (reject H0)')\n",
    "\n",
    "# normality test\n",
    "    '''    \n",
    "stat, p = stats.normaltest(new_Customer_existing.cc_cons)\n",
    "print('Statistics=%.3f, p=%.3f' % (stat, p))\n",
    "# interpret\n",
    "alpha = 0.05\n",
    "if p > alpha:\n",
    "    print('Sample looks Gaussian (fail to reject H0)')\n",
    "else:\n",
    "    print('Sample does not look Gaussian (reject H0)')\n",
    "'''\n",
    "#\n",
    "#new_Customer_existing.cc_cons.hist()\n",
    "qqplot(new_Customer_existing.cc_cons, line='s',fit=True)\n",
    "\n",
    "#sns.kdeplot(new_Customer_existing.cc_cons)\n",
    "plt.show()"
   ]
  },
  {
   "cell_type": "code",
   "execution_count": 183,
   "id": "6ef76710",
   "metadata": {},
   "outputs": [
    {
     "data": {
      "image/png": "[encoded data removed]",
      "text/plain": [
       "<Figure size 640x480 with 1 Axes>"
      ]
     },
     "metadata": {},
     "output_type": "display_data"
    }
   ],
   "source": [
    "sns.kdeplot(new_Customer_existing.cc_cons)\n",
    "plt.show()"
   ]
  },
  {
   "cell_type": "code",
   "execution_count": 184,
   "id": "43dcdeb6",
   "metadata": {},
   "outputs": [
    {
     "data": {
      "image/png": "[encoded data removed]",
      "text/plain": [
       "<Figure size 640x480 with 1 Axes>"
      ]
     },
     "metadata": {},
     "output_type": "display_data"
    }
   ],
   "source": [
    "plt.hist(new_Customer_existing.cc_cons)\n",
    "plt.show()"
   ]
  },
  {
   "cell_type": "raw",
   "id": "f2b80997",
   "metadata": {},
   "source": [
    "1.Normalization :is the process of scaling in respect to the entire data range so that the data has a range from 0 to 1.\n",
    "\n",
    "2.Standardization :is the process of transforming in respect to the entire data range so that the data has a mean of 0 and a standard deviation of 1. It’s distribution is now a Standard Normal Distribution.\n",
    "\n",
    "3.Transformation : is the application of the same calculation to every point of the data separately.\n",
    "\n",
    "\n",
    "Normalization is used when the data doesn't have Gaussian distribution whereas \n",
    "Standardization is used on data having Gaussian distribution.\n",
    "\n",
    "#########################################################################################\n",
    "Database Normalization                              -preprocessing.normalize()\n",
    "First Normal Form (1NF)\n",
    "Second Normal Form (2NF)\n",
    "Third Normal Form (3NF)\n",
    "Boyce-Codd Normal Form (BCNF)\n",
    "Fourth Normal Form (4NF)\n",
    "Fifth Normal Form (5NF)\n",
    "\n",
    "\n",
    "\n",
    "#1.Logarithmic Transformation\n",
    "#2.Reciprocal Transformation – This will inverse  - data_sqrt = np.reciprocal(data)\n",
    "#3.Square Root Transformation,Cube Root Transformation\n",
    "#4.Exponential Transformation                     - data_sqrt = np.exp(data)\n",
    "#5.Box-Cox Transformation                         - stats.boxcox(data)\n",
    "\n",
    "#MinMax Scaler                   :preprocessing.minmax_scale()/MinMaxScaler\n",
    "#Standard Scaler                 :preprocessing.StandardScaler()\n",
    "#MaxAbs Scaler                   :preprocessing.maxabs_scale()\n",
    "#Robust Scaler                   :preprocessing.RobustScaler()\n",
    "#Quantile Transform Scaler       :preprocessing.QuantileTransformer()\n",
    "#Power Transformer Scaler        :preprocessing.power_transform()\n",
    "#Unit Vector Scaler/Normalizer   :preprocessing.normalize()\n",
    "\n",
    "#Scaling Transformation:\n",
    "#normalization- dataset is not distorted:\n",
    "#                Min Max Scaler\n",
    "#                z-score\n",
    "#standardization-normal distribution:\n",
    "#                Standard Scaler "
   ]
  },
  {
   "cell_type": "raw",
   "id": "47c4c197",
   "metadata": {},
   "source": [
    "#from sklearn.preprocessing import StandardScaler\n",
    "StandScaler=StandardScaler()\n",
    "SScaler=StandScaler.fit_transform(Transf_nor)\n",
    "SScaler=pd.DataFrame(SScaler,columns=data.columns)\n",
    "#############################################################\n",
    "#normalization\n",
    "normalized = normalize(SScaler)\n",
    "normalized=pd.DataFrame(normalized,columns=data.columns)\n",
    "###################################################################\n",
    "sns.distplot(Transf_nor.cc_cons)\n",
    "fig = plt.figure()\n",
    "plt.show()\n",
    "\n",
    "sns.kdeplot(Transf_nor.cc_cons)\n",
    "plt.show()"
   ]
  },
  {
   "cell_type": "code",
   "execution_count": 185,
   "id": "ba58c6db",
   "metadata": {},
   "outputs": [
    {
     "data": {
      "image/png": "[encoded data removed]",
      "text/plain": [
       "<Figure size 640x480 with 4 Axes>"
      ]
     },
     "metadata": {},
     "output_type": "display_data"
    }
   ],
   "source": [
    "#checking & applying using different transformation on data:\n",
    "data = new_Customer_existing\n",
    "#1-create log-transformed data\n",
    "#data_log = np.log(data)\n",
    "#2-create sqrt-transformed data\n",
    "data_sqrt = np.sqrt(data.cc_cons)\n",
    "#3-create cuberoot-transformed data\n",
    "data_cbrt = np.cbrt(data.cc_cons)\n",
    "#4-create square-transformed data\n",
    "data_sq = np.square(data.cc_cons)\n",
    "#define grid of plots\n",
    "fig, axs = plt.subplots(nrows=2, ncols=2)\n",
    "\n",
    "\n",
    "#create histograms\n",
    "axs[0,0].hist(data, edgecolor='black')\n",
    "#axs[4].hist(data_log, edgecolor='black')\n",
    "axs[0,1].hist(data_sqrt, edgecolor='black')\n",
    "axs[1,0].hist(data_cbrt, edgecolor='black')\n",
    "axs[1,1].hist(data_sq, edgecolor='black')\n",
    "#add title to each histogram\n",
    "axs[0,0].set_title('Original Data')\n",
    "#axs[4].set_title('log-transformed')\n",
    "axs[0,1].set_title('sqrt-transformed')\n",
    "axs[1,0].set_title('cuberoot-transformed')\n",
    "axs[1,1].set_title('square-transformed')\n",
    "plt.show()"
   ]
  },
  {
   "cell_type": "code",
   "execution_count": 186,
   "id": "ecc9b714",
   "metadata": {},
   "outputs": [],
   "source": [
    "DF=data"
   ]
  },
  {
   "cell_type": "code",
   "execution_count": 187,
   "id": "2bb853c9",
   "metadata": {},
   "outputs": [],
   "source": [
    "#Normalization\n",
    "DF=preprocessing.normalize(DF)\n",
    "DF=pd.DataFrame(DF,columns=new_Customer_existing.columns)"
   ]
  },
  {
   "cell_type": "code",
   "execution_count": 188,
   "id": "2f238f5f",
   "metadata": {},
   "outputs": [],
   "source": [
    "#Transformation(TARGET)\n",
    "\n",
    "cc=np.square(DF.cc_cons)\n",
    "cc_cons=np.cbrt(cc) #Target varibale to transform in bell shape \n",
    "\n",
    "cc_cons=pd.Series(cc_cons)"
   ]
  },
  {
   "cell_type": "code",
   "execution_count": 189,
   "id": "ff234aaa",
   "metadata": {},
   "outputs": [],
   "source": [
    "#Transformation(X)\n",
    "DF1=np.square(DF[DF.columns.difference(['cc_cons'])])\n",
    "DF1['cc_cons']=cc_cons"
   ]
  },
  {
   "cell_type": "code",
   "execution_count": 190,
   "id": "e4f332fb",
   "metadata": {},
   "outputs": [
    {
     "data": {
      "image/png": "[encoded data removed]",
      "text/plain": [
       "<Figure size 640x480 with 1 Axes>"
      ]
     },
     "metadata": {},
     "output_type": "display_data"
    }
   ],
   "source": [
    "Transf_nor=DF1\n",
    "sns.kdeplot(Transf_nor.cc_cons)\n",
    "plt.show()"
   ]
  },
  {
   "cell_type": "code",
   "execution_count": null,
   "id": "e003c2e4",
   "metadata": {},
   "outputs": [],
   "source": []
  },
  {
   "cell_type": "code",
   "execution_count": null,
   "id": "500ffe02",
   "metadata": {},
   "outputs": [],
   "source": []
  },
  {
   "cell_type": "code",
   "execution_count": null,
   "id": "d3d3cd8a",
   "metadata": {},
   "outputs": [],
   "source": []
  },
  {
   "cell_type": "code",
   "execution_count": 191,
   "id": "8d0a82d8",
   "metadata": {},
   "outputs": [
    {
     "data": {
      "image/png": "[encoded data removed]",
      "text/plain": [
       "<Figure size 640x480 with 1 Axes>"
      ]
     },
     "metadata": {},
     "output_type": "display_data"
    }
   ],
   "source": [
    "qqplot(Transf_nor.cc_cons,line='s',fit=True)\n",
    "plt.show()"
   ]
  },
  {
   "cell_type": "code",
   "execution_count": null,
   "id": "98fa2222",
   "metadata": {},
   "outputs": [],
   "source": []
  },
  {
   "cell_type": "code",
   "execution_count": null,
   "id": "54faed6f",
   "metadata": {},
   "outputs": [],
   "source": []
  },
  {
   "cell_type": "code",
   "execution_count": null,
   "id": "cf5bcb0b",
   "metadata": {},
   "outputs": [],
   "source": []
  },
  {
   "cell_type": "code",
   "execution_count": null,
   "id": "e0a67836",
   "metadata": {},
   "outputs": [],
   "source": []
  },
  {
   "cell_type": "code",
   "execution_count": null,
   "id": "4ad39b24",
   "metadata": {},
   "outputs": [],
   "source": []
  },
  {
   "cell_type": "code",
   "execution_count": null,
   "id": "72cd15ac",
   "metadata": {},
   "outputs": [],
   "source": []
  },
  {
   "cell_type": "markdown",
   "id": "f627f8ad",
   "metadata": {},
   "source": [
    "## analyze whether two population means are different or not"
   ]
  },
  {
   "cell_type": "code",
   "execution_count": 192,
   "id": "ab7c88b1",
   "metadata": {},
   "outputs": [
    {
     "data": {
      "text/html": [
       "<div>\n",
       "<style scoped>\n",
       "    .dataframe tbody tr th:only-of-type {\n",
       "        vertical-align: middle;\n",
       "    }\n",
       "\n",
       "    .dataframe tbody tr th {\n",
       "        vertical-align: top;\n",
       "    }\n",
       "\n",
       "    .dataframe thead th {\n",
       "        text-align: right;\n",
       "    }\n",
       "</style>\n",
       "<table border=\"1\" class=\"dataframe\">\n",
       "  <thead>\n",
       "    <tr style=\"text-align: right;\">\n",
       "      <th></th>\n",
       "      <th>Avg_days_between_transaction</th>\n",
       "      <th>Emp_Tenure_Years</th>\n",
       "      <th>Income_HIGH</th>\n",
       "      <th>Income_LOW</th>\n",
       "      <th>Income_MEDIUM</th>\n",
       "      <th>NetBanking_Flag</th>\n",
       "      <th>Tenure_with_Bank</th>\n",
       "      <th>account_type_current</th>\n",
       "      <th>account_type_saving</th>\n",
       "      <th>age</th>\n",
       "      <th>...</th>\n",
       "      <th>investment_1</th>\n",
       "      <th>investment_2</th>\n",
       "      <th>investment_3</th>\n",
       "      <th>investment_4</th>\n",
       "      <th>loan_enq_Y</th>\n",
       "      <th>max_credit_amount_apr</th>\n",
       "      <th>max_credit_amount_jun</th>\n",
       "      <th>max_credit_amount_may</th>\n",
       "      <th>region_code</th>\n",
       "      <th>cc_cons</th>\n",
       "    </tr>\n",
       "  </thead>\n",
       "  <tbody>\n",
       "    <tr>\n",
       "      <th>0</th>\n",
       "      <td>0.122026</td>\n",
       "      <td>-0.226461</td>\n",
       "      <td>-0.211335</td>\n",
       "      <td>-0.411336</td>\n",
       "      <td>-0.025283</td>\n",
       "      <td>-0.769016</td>\n",
       "      <td>-0.643445</td>\n",
       "      <td>-0.245451</td>\n",
       "      <td>-0.289829</td>\n",
       "      <td>-0.505011</td>\n",
       "      <td>...</td>\n",
       "      <td>-0.600172</td>\n",
       "      <td>-0.805602</td>\n",
       "      <td>-0.412484</td>\n",
       "      <td>-0.187910</td>\n",
       "      <td>-0.402237</td>\n",
       "      <td>-0.451560</td>\n",
       "      <td>-0.163473</td>\n",
       "      <td>-0.453267</td>\n",
       "      <td>-0.184856</td>\n",
       "      <td>0.145774</td>\n",
       "    </tr>\n",
       "    <tr>\n",
       "      <th>1</th>\n",
       "      <td>0.255806</td>\n",
       "      <td>-0.061533</td>\n",
       "      <td>2.560414</td>\n",
       "      <td>-0.411336</td>\n",
       "      <td>-0.706583</td>\n",
       "      <td>-0.769016</td>\n",
       "      <td>-0.012609</td>\n",
       "      <td>0.218320</td>\n",
       "      <td>-0.289829</td>\n",
       "      <td>-0.298194</td>\n",
       "      <td>...</td>\n",
       "      <td>1.111462</td>\n",
       "      <td>0.077136</td>\n",
       "      <td>1.285172</td>\n",
       "      <td>-0.423248</td>\n",
       "      <td>0.056465</td>\n",
       "      <td>1.090673</td>\n",
       "      <td>-0.384987</td>\n",
       "      <td>-0.405553</td>\n",
       "      <td>-0.735276</td>\n",
       "      <td>-0.263783</td>\n",
       "    </tr>\n",
       "    <tr>\n",
       "      <th>2</th>\n",
       "      <td>-0.670597</td>\n",
       "      <td>0.003374</td>\n",
       "      <td>-0.211335</td>\n",
       "      <td>-0.411336</td>\n",
       "      <td>-0.195838</td>\n",
       "      <td>-0.279293</td>\n",
       "      <td>-0.646041</td>\n",
       "      <td>-0.407251</td>\n",
       "      <td>-0.289829</td>\n",
       "      <td>-0.259669</td>\n",
       "      <td>...</td>\n",
       "      <td>-0.149286</td>\n",
       "      <td>2.048813</td>\n",
       "      <td>-0.353649</td>\n",
       "      <td>-0.387608</td>\n",
       "      <td>-0.562268</td>\n",
       "      <td>-0.383012</td>\n",
       "      <td>-0.435571</td>\n",
       "      <td>-0.517856</td>\n",
       "      <td>-0.206950</td>\n",
       "      <td>-0.224356</td>\n",
       "    </tr>\n",
       "    <tr>\n",
       "      <th>3</th>\n",
       "      <td>-0.611092</td>\n",
       "      <td>-0.420192</td>\n",
       "      <td>-0.211335</td>\n",
       "      <td>-0.411336</td>\n",
       "      <td>0.482988</td>\n",
       "      <td>0.371591</td>\n",
       "      <td>-0.001974</td>\n",
       "      <td>0.236731</td>\n",
       "      <td>-0.289829</td>\n",
       "      <td>-0.447739</td>\n",
       "      <td>...</td>\n",
       "      <td>-0.344436</td>\n",
       "      <td>0.696122</td>\n",
       "      <td>0.082844</td>\n",
       "      <td>-0.237516</td>\n",
       "      <td>0.074674</td>\n",
       "      <td>0.164084</td>\n",
       "      <td>-0.076663</td>\n",
       "      <td>-0.493999</td>\n",
       "      <td>0.754603</td>\n",
       "      <td>-0.480227</td>\n",
       "    </tr>\n",
       "    <tr>\n",
       "      <th>4</th>\n",
       "      <td>-0.576358</td>\n",
       "      <td>-0.322907</td>\n",
       "      <td>-0.211335</td>\n",
       "      <td>-0.411336</td>\n",
       "      <td>-0.146173</td>\n",
       "      <td>-0.231673</td>\n",
       "      <td>-0.517334</td>\n",
       "      <td>-0.360136</td>\n",
       "      <td>-0.289829</td>\n",
       "      <td>-0.569509</td>\n",
       "      <td>...</td>\n",
       "      <td>-0.600174</td>\n",
       "      <td>1.295963</td>\n",
       "      <td>0.828146</td>\n",
       "      <td>-0.231473</td>\n",
       "      <td>-1.041501</td>\n",
       "      <td>-0.498804</td>\n",
       "      <td>-0.395932</td>\n",
       "      <td>-0.463323</td>\n",
       "      <td>-0.152650</td>\n",
       "      <td>0.988184</td>\n",
       "    </tr>\n",
       "  </tbody>\n",
       "</table>\n",
       "<p>5 rows × 48 columns</p>\n",
       "</div>"
      ],
      "text/plain": [
       "   Avg_days_between_transaction  Emp_Tenure_Years  Income_HIGH  Income_LOW  \\\n",
       "0                      0.122026         -0.226461    -0.211335   -0.411336   \n",
       "1                      0.255806         -0.061533     2.560414   -0.411336   \n",
       "2                     -0.670597          0.003374    -0.211335   -0.411336   \n",
       "3                     -0.611092         -0.420192    -0.211335   -0.411336   \n",
       "4                     -0.576358         -0.322907    -0.211335   -0.411336   \n",
       "\n",
       "   Income_MEDIUM  NetBanking_Flag  Tenure_with_Bank  account_type_current  \\\n",
       "0      -0.025283        -0.769016         -0.643445             -0.245451   \n",
       "1      -0.706583        -0.769016         -0.012609              0.218320   \n",
       "2      -0.195838        -0.279293         -0.646041             -0.407251   \n",
       "3       0.482988         0.371591         -0.001974              0.236731   \n",
       "4      -0.146173        -0.231673         -0.517334             -0.360136   \n",
       "\n",
       "   account_type_saving       age  ...  investment_1  investment_2  \\\n",
       "0            -0.289829 -0.505011  ...     -0.600172     -0.805602   \n",
       "1            -0.289829 -0.298194  ...      1.111462      0.077136   \n",
       "2            -0.289829 -0.259669  ...     -0.149286      2.048813   \n",
       "3            -0.289829 -0.447739  ...     -0.344436      0.696122   \n",
       "4            -0.289829 -0.569509  ...     -0.600174      1.295963   \n",
       "\n",
       "   investment_3  investment_4  loan_enq_Y  max_credit_amount_apr  \\\n",
       "0     -0.412484     -0.187910   -0.402237              -0.451560   \n",
       "1      1.285172     -0.423248    0.056465               1.090673   \n",
       "2     -0.353649     -0.387608   -0.562268              -0.383012   \n",
       "3      0.082844     -0.237516    0.074674               0.164084   \n",
       "4      0.828146     -0.231473   -1.041501              -0.498804   \n",
       "\n",
       "   max_credit_amount_jun  max_credit_amount_may  region_code   cc_cons  \n",
       "0              -0.163473              -0.453267    -0.184856  0.145774  \n",
       "1              -0.384987              -0.405553    -0.735276 -0.263783  \n",
       "2              -0.435571              -0.517856    -0.206950 -0.224356  \n",
       "3              -0.076663              -0.493999     0.754603 -0.480227  \n",
       "4              -0.395932              -0.463323    -0.152650  0.988184  \n",
       "\n",
       "[5 rows x 48 columns]"
      ]
     },
     "execution_count": 192,
     "metadata": {},
     "output_type": "execute_result"
    }
   ],
   "source": [
    "# analyze whether two population means are different or not using z_test/Z_score\n",
    "Z_score=Transf_nor\n",
    "Z_score_df = (Z_score - Z_score.mean())/Z_score.std()\n",
    "Z_score_df.head()"
   ]
  },
  {
   "cell_type": "code",
   "execution_count": 193,
   "id": "e308efe2",
   "metadata": {},
   "outputs": [
    {
     "name": "stdout",
     "output_type": "stream",
     "text": [
      "0.0\n",
      "Avg_days_between_transaction : Null hyphothesis rejected , Alternative hyphothesis accepted\n",
      "0.0\n",
      "Emp_Tenure_Years : Null hyphothesis rejected , Alternative hyphothesis accepted\n",
      "1.1030288786083995e-147\n",
      "Income_HIGH : Null hyphothesis rejected , Alternative hyphothesis accepted\n",
      "0.0\n",
      "Income_LOW : Null hyphothesis rejected , Alternative hyphothesis accepted\n",
      "0.0\n",
      "Income_MEDIUM : Null hyphothesis rejected , Alternative hyphothesis accepted\n",
      "0.0\n",
      "NetBanking_Flag : Null hyphothesis rejected , Alternative hyphothesis accepted\n",
      "0.0\n",
      "Tenure_with_Bank : Null hyphothesis rejected , Alternative hyphothesis accepted\n",
      "0.0\n",
      "account_type_current : Null hyphothesis rejected , Alternative hyphothesis accepted\n",
      "6.2776573935356666e-276\n",
      "account_type_saving : Null hyphothesis rejected , Alternative hyphothesis accepted\n",
      "0.0\n",
      "age : Null hyphothesis rejected , Alternative hyphothesis accepted\n",
      "0.0\n",
      "card_lim : Null hyphothesis rejected , Alternative hyphothesis accepted\n",
      "0.0\n",
      "cc_cons_apr : Null hyphothesis rejected , Alternative hyphothesis accepted\n",
      "0.0\n",
      "cc_cons_jun : Null hyphothesis rejected , Alternative hyphothesis accepted\n",
      "0.0\n",
      "cc_cons_may : Null hyphothesis rejected , Alternative hyphothesis accepted\n",
      "0.0\n",
      "cc_count_apr : Null hyphothesis rejected , Alternative hyphothesis accepted\n",
      "0.0\n",
      "cc_count_jun : Null hyphothesis rejected , Alternative hyphothesis accepted\n",
      "0.0\n",
      "cc_count_may : Null hyphothesis rejected , Alternative hyphothesis accepted\n",
      "0.0\n",
      "credit_amount_apr : Null hyphothesis rejected , Alternative hyphothesis accepted\n",
      "0.0\n",
      "credit_amount_jun : Null hyphothesis rejected , Alternative hyphothesis accepted\n",
      "0.0\n",
      "credit_amount_may : Null hyphothesis rejected , Alternative hyphothesis accepted\n",
      "0.0\n",
      "credit_count_apr : Null hyphothesis rejected , Alternative hyphothesis accepted\n",
      "0.0\n",
      "credit_count_jun : Null hyphothesis rejected , Alternative hyphothesis accepted\n",
      "0.0\n",
      "credit_count_may : Null hyphothesis rejected , Alternative hyphothesis accepted\n",
      "0.0\n",
      "dc_cons_apr : Null hyphothesis rejected , Alternative hyphothesis accepted\n",
      "0.0\n",
      "dc_cons_jun : Null hyphothesis rejected , Alternative hyphothesis accepted\n",
      "0.0\n",
      "dc_cons_may : Null hyphothesis rejected , Alternative hyphothesis accepted\n",
      "0.0\n",
      "dc_count_apr : Null hyphothesis rejected , Alternative hyphothesis accepted\n",
      "0.0\n",
      "dc_count_jun : Null hyphothesis rejected , Alternative hyphothesis accepted\n",
      "0.0\n",
      "dc_count_may : Null hyphothesis rejected , Alternative hyphothesis accepted\n",
      "0.0\n",
      "debit_amount_apr : Null hyphothesis rejected , Alternative hyphothesis accepted\n",
      "0.0\n",
      "debit_amount_jun : Null hyphothesis rejected , Alternative hyphothesis accepted\n",
      "0.0\n",
      "debit_amount_may : Null hyphothesis rejected , Alternative hyphothesis accepted\n",
      "0.0\n",
      "debit_count_apr : Null hyphothesis rejected , Alternative hyphothesis accepted\n",
      "0.0\n",
      "debit_count_jun : Null hyphothesis rejected , Alternative hyphothesis accepted\n",
      "0.0\n",
      "debit_count_may : Null hyphothesis rejected , Alternative hyphothesis accepted\n",
      "0.0\n",
      "emi_active : Null hyphothesis rejected , Alternative hyphothesis accepted\n",
      "7.267390872374627e-249\n",
      "gender_F : Null hyphothesis rejected , Alternative hyphothesis accepted\n",
      "0.0\n",
      "gender_M : Null hyphothesis rejected , Alternative hyphothesis accepted\n",
      "0.0\n",
      "investment_1 : Null hyphothesis rejected , Alternative hyphothesis accepted\n",
      "0.0\n",
      "investment_2 : Null hyphothesis rejected , Alternative hyphothesis accepted\n",
      "0.0\n",
      "investment_3 : Null hyphothesis rejected , Alternative hyphothesis accepted\n",
      "0.0\n",
      "investment_4 : Null hyphothesis rejected , Alternative hyphothesis accepted\n",
      "0.0\n",
      "loan_enq_Y : Null hyphothesis rejected , Alternative hyphothesis accepted\n",
      "0.0\n",
      "max_credit_amount_apr : Null hyphothesis rejected , Alternative hyphothesis accepted\n",
      "0.0\n",
      "max_credit_amount_jun : Null hyphothesis rejected , Alternative hyphothesis accepted\n",
      "0.0\n",
      "max_credit_amount_may : Null hyphothesis rejected , Alternative hyphothesis accepted\n",
      "0.0\n",
      "region_code : Null hyphothesis rejected , Alternative hyphothesis accepted\n",
      "0.0\n",
      "cc_cons : Null hyphothesis rejected , Alternative hyphothesis accepted\n"
     ]
    }
   ],
   "source": [
    "#Null Hypothesis: H0 : μ=μ0  [ the population means are equal]\n",
    "#Alternative hyphothesis:Ha :μ!=μ0 [ the population means are not equal.]\n",
    "from statsmodels.stats import weightstats as stests\n",
    "for i in Transf_nor.columns:\n",
    "    ztest,propability_value=stests.ztest(Transf_nor[i],alternative='two-sided',)\n",
    "    print(float(propability_value))\n",
    "    if propability_value<0.05:\n",
    "        print(i,\": Null hyphothesis rejected , Alternative hyphothesis accepted\")\n",
    "    else:\n",
    "        print(i,\": Null hyphothesis accepted , Alternative hyphothesis rejected\")"
   ]
  },
  {
   "cell_type": "raw",
   "id": "b1bdfc78",
   "metadata": {},
   "source": [
    "#Rough Work\n",
    "'''\n",
    "Dealing with Non Normal Distributions:\n",
    "You have several options for handling your non normal data. Many tests, including the one sample Z test, T test and ANOVA assume normality. You may still be able to run these tests if your sample size is large enough (usually over 20 items). You can also choose to transform the data with a function, forcing it to fit a normal model. However,\n",
    "if you have a very small sample, a sample that is skewed or one that naturally fits another distribution type, you may want to run a non parametric test.\n",
    "'''\n",
    "\n",
    "\n",
    "\n",
    "#_____________________________________________________________________________________________________________________\n",
    "#                                    Parametric Statistical Hypothesis Tests :\n",
    "#_____________________________________________________________________________________________________________________\n",
    "#####################################1)Student’s t-Test:\n",
    "col=Transf_nor.columns\n",
    "for i in col:\n",
    "    stat, p = stats.ttest_ind(Transf_nor.cc_cons,Transf_nor[i])\n",
    "    print('Parametric:\\nStudent’s t-Test:\\n','[cc_cons-',i,']Statistics=%.3f, p=%.3f' % (stat, p))\n",
    "    # interpret\n",
    "    alpha = 0.05\n",
    "    if p > alpha:\n",
    "         print('Same distributions (fail to reject H0)')\n",
    "    else:\n",
    "         print('Different distributions (reject H0)')\n",
    "#########################################2)Paired Student’s t-Test:\n",
    "col=Transf_nor.columns\n",
    "for i in col:\n",
    "    stat, p = stats.ttest_rel(Transf_nor.cc_cons,Transf_nor[i])\n",
    "    print('Parametric:\\nPaired Student’s t-Test:\\n','[cc_cons-',i,']Statistics=%.3f, p=%.3f' % (stat, p))\n",
    "    # interpret\n",
    "    alpha = 0.05\n",
    "    if p > alpha:\n",
    "         print('Same distributions (fail to reject H0)')\n",
    "    else:\n",
    "         print('Different distributions (reject H0)')\n",
    "#########################################3)Analysis of Variance Test:\n",
    "col=Transf_nor.columns\n",
    "for i in col:\n",
    "    stat, p = stats.f_oneway(Transf_nor.cc_cons,Transf_nor[i])\n",
    "    print('Parametric:\\nAnalysis of Variance Test:\\n','[cc_cons-',i,']Statistics=%.3f, p=%.3f' % (stat, p))\n",
    "    # interpret\n",
    "    alpha = 0.05\n",
    "    if p > alpha:\n",
    "         print('Same distributions (fail to reject H0)')\n",
    "    else:\n",
    "         print('Different distributions (reject H0)')\n",
    "#_____________________________________________________________________________________________________________________         \n",
    "#                                     Nonparametric Statistical Significance Tests:\n",
    "#_____________________________________________________________________________________________________________________\n",
    "#Nonparametric statistics are those methods that do not assume a specific distribution to the data.\n",
    "\n",
    "\n",
    "############################1)Mann-Whitney U test\n",
    "col=Transf_nor.columns\n",
    "for i in col:\n",
    "    stat, p = stats.mannwhitneyu(Transf_nor.cc_cons,Transf_nor[i])\n",
    "    print('Nonparametric:\\nMann-Whitney U test:\\n','[cc_cons-',i,']Statistics=%.3f, p=%.3f' % (stat, p))\n",
    "    # interpret\n",
    "    alpha = 0.05\n",
    "    if p > alpha:\n",
    "         print('Same distributions (fail to reject H0)')\n",
    "    else:\n",
    "         print('Different distributions (reject H0)')\n",
    "############################2) Wilcoxon signed-rank test\n",
    "col=Transf_nor.columns\n",
    "#for i in col:\n",
    "#    stat, p = stats.wilcoxon(Transf_nor.cc_cons,Transf_nor[i])\n",
    "#    print('Nonparametric:\\nWilcoxon signed-rank test:\\n','[cc_cons-',i,']Statistics=%.3f, p=%.3f' % (stat, p))\n",
    "    # interpret\n",
    "#    alpha = 0.05\n",
    "#    if p > alpha:\n",
    "#         print('Same distributions (fail to reject H0)')\n",
    "#    else:\n",
    "#         print('Different distributions (reject H0)')\n",
    "############################3) Kruskal-Wallis H Test\n",
    "col=Transf_nor.columns\n",
    "for i in col:\n",
    "    stat, p = stats.kruskal(Transf_nor.cc_cons,Transf_nor[i])\n",
    "    print('Nonparametric:\\nKruskal-Wallis H Test:\\n','[cc_cons-',i,']Statistics=%.3f, p=%.3f' % (stat, p))\n",
    "    # interpret\n",
    "    alpha = 0.05\n",
    "    if p > alpha:\n",
    "         print('Same distributions (fail to reject H0)')\n",
    "    else:\n",
    "         print('Different distributions (reject H0)')\n",
    "            \n",
    "############################4) Friedman test\n",
    "col=Transf_nor.columns\n",
    "#for i in col:\n",
    "#    stat, p = stats.friedmanchisquare(new_Customer_existing.cc_cons,new_Customer_existing[i])## compare 3 samples\n",
    "#    print('Nonparametric:\\nFriedman test:\\n','[cc_cons-',i,']Statistics=%.3f, p=%.3f' % (stat, p))\n",
    "#    # interpret\n",
    "#    alpha = 0.05\n",
    "#    if p > alpha:\n",
    "#         print('Same distributions (fail to reject H0)')\n",
    "#    else:\n",
    "#         print('Different distributions (reject H0)')"
   ]
  },
  {
   "cell_type": "markdown",
   "id": "db364f11",
   "metadata": {},
   "source": [
    "# checking distribution(skew):"
   ]
  },
  {
   "cell_type": "code",
   "execution_count": 194,
   "id": "7805c88e",
   "metadata": {},
   "outputs": [
    {
     "name": "stdout",
     "output_type": "stream",
     "text": [
      "Avg_days_between_transaction - mean: 1.0377143016043516e-09 - median 5.506651108318721e-10 - : Right skew\n",
      "Emp_Tenure_Years - mean: 1.8877430375035816e-09 - median 4.85390470439362e-10 - : Right skew\n",
      "Income_HIGH - mean: 5.534388552710915e-13 - median 0.0 - : Right skew\n",
      "Income_LOW - mean: 1.9495770285364525e-12 - median 0.0 - : Right skew\n",
      "Income_MEDIUM - mean: 4.3829727404094214e-12 - median 2.7547398554566217e-12 - : Right skew\n",
      "NetBanking_Flag - mean: 4.975027281629494e-12 - median 3.197779385691425e-12 - : Right skew\n",
      "Tenure_with_Bank - mean: 2.664476247113209e-10 - median 1.3727341630523046e-10 - : Right skew\n",
      "account_type_current - mean: 5.8310674992437944e-12 - median 3.919050800421449e-12 - : Right skew\n",
      "account_type_saving - mean: 1.0549211249731564e-12 - median 0.0 - : Right skew\n",
      "age - mean: 1.4247795709728536e-08 - median 8.456166597464501e-09 - : Right skew\n",
      "card_lim - mean: 0.3903409793865531 - median 0.3746447719977392 - : Right skew\n",
      "cc_cons_apr - mean: 0.002900156068985763 - median 0.0005177709901387728 - : Right skew\n",
      "cc_cons_jun - mean: 0.0012625506152356887 - median 0.00022544836896461426 - : Right skew\n",
      "cc_cons_may - mean: 0.0022672063405117077 - median 0.0003666788847995806 - : Right skew\n",
      "cc_count_apr - mean: 1.0895032781837494e-08 - median 6.029515327362539e-10 - : Right skew\n",
      "cc_count_jun - mean: 1.8297553515624573e-08 - median 5.639984849713677e-09 - : Right skew\n",
      "cc_count_may - mean: 1.1790712307011258e-08 - median 2.036328525697346e-09 - : Right skew\n",
      "credit_amount_apr - mean: 0.03848346636127608 - median 0.011625763610891337 - : Right skew\n",
      "credit_amount_jun - mean: 0.03880299837550914 - median 0.011153338938858984 - : Right skew\n",
      "credit_amount_may - mean: 0.045563204107795845 - median 0.012392799995526367 - : Right skew\n",
      "credit_count_apr - mean: 1.9177438482965605e-09 - median 1.1802244868006723e-10 - : Right skew\n",
      "credit_count_jun - mean: 3.490286080641541e-09 - median 3.057836201534681e-10 - : Right skew\n",
      "credit_count_may - mean: 9.388130153558995e-10 - median 9.031147267508669e-11 - : Right skew\n",
      "dc_cons_apr - mean: 0.0005504273249760748 - median 8.127041640928584e-05 - : Right skew\n",
      "dc_cons_jun - mean: 0.00037555768534522105 - median 5.587866846333488e-05 - : Right skew\n",
      "dc_cons_may - mean: 0.00042167938426379423 - median 7.285725033028624e-05 - : Right skew\n",
      "dc_count_apr - mean: 4.37231264669145e-09 - median 2.4587269386840566e-10 - : Right skew\n",
      "dc_count_jun - mean: 1.2248017867503257e-08 - median 1.6905105056706223e-09 - : Right skew\n",
      "dc_count_may - mean: 2.7798251317763066e-09 - median 1.5087012778149426e-10 - : Right skew\n",
      "debit_amount_apr - mean: 0.030661146300439566 - median 0.009030493889147072 - : Right skew\n",
      "debit_amount_jun - mean: 0.036985820487611266 - median 0.011120915749838924 - : Right skew\n",
      "debit_amount_may - mean: 0.029478408328375134 - median 0.007813729351515041 - : Right skew\n",
      "debit_count_apr - mean: 1.4602382516564156e-08 - median 4.016392154735889e-09 - : Right skew\n",
      "debit_count_jun - mean: 2.2317071535307e-08 - median 6.332085823865511e-09 - : Right skew\n",
      "debit_count_may - mean: 1.7782906404551956e-08 - median 2.9527477260800248e-09 - : Right skew\n",
      "emi_active - mean: 0.0005855634987628419 - median 7.811379997562237e-05 - : Right skew\n",
      "gender_F - mean: 9.404333903445776e-13 - median 0.0 - : Right skew\n",
      "gender_M - mean: 5.945555233872378e-12 - median 4.005153662085349e-12 - : Right skew\n",
      "investment_1 - mean: 0.11607777551544994 - median 0.011300219421480963 - : Right skew\n",
      "investment_2 - mean: 0.19752377155179024 - median 0.07697254247792816 - : Right skew\n",
      "investment_3 - mean: 0.01445461336667547 - median 0.000916322785073589 - : Right skew\n",
      "investment_4 - mean: 0.0003472522756667334 - median 0.00010742849180754738 - : Right skew\n",
      "loan_enq_Y - mean: 6.8853075426302736e-12 - median 4.622917569056928e-12 - : Right skew\n",
      "max_credit_amount_apr - mean: 0.015770539972991656 - median 0.005338894209098142 - : Right skew\n",
      "max_credit_amount_jun - mean: 0.01609190008452577 - median 0.004950939183141212 - : Right skew\n",
      "max_credit_amount_may - mean: 0.017873240395102873 - median 0.005295757902129943 - : Right skew\n",
      "region_code - mean: 2.7929908155672584e-06 - median 1.6493445190287687e-06 - : Right skew\n",
      "cc_cons - mean: 0.10911582934570294 - median 0.09410035288701207 - : Right skew\n"
     ]
    }
   ],
   "source": [
    "#checking which distribution(skew) follow:\n",
    "#Zero skew: mean = median\n",
    "#Right skew: mean > median\n",
    "#Left skew: mean < median\n",
    "for i in Transf_nor.columns:  \n",
    "    men=Transf_nor[i].mean()\n",
    "    med=Transf_nor[i].median()\n",
    "    if men>med:\n",
    "        print(i,'-','mean:',men,'-','median',med,'-',': Right skew')\n",
    "    elif men<med:\n",
    "        print(i,'-','mean:',men,'-','median',med,'-',': Left skew')\n",
    "    else :\n",
    "        print(i,'-','mean:',men,'-','median',med,'-',': Zero skew')"
   ]
  },
  {
   "cell_type": "code",
   "execution_count": 195,
   "id": "234c4c9d",
   "metadata": {},
   "outputs": [
    {
     "name": "stdout",
     "output_type": "stream",
     "text": [
      "Avg_days_between_transaction - skewness value: 0.0 - fairly symmetrical\n",
      "Emp_Tenure_Years - skewness value: 0.0 - fairly symmetrical\n",
      "Income_HIGH - skewness value: 0.0 - fairly symmetrical\n",
      "Income_LOW - skewness value: 0.0 - fairly symmetrical\n",
      "Income_MEDIUM - skewness value: 0.0 - fairly symmetrical\n",
      "NetBanking_Flag - skewness value: 0.0 - fairly symmetrical\n",
      "Tenure_with_Bank - skewness value: 0.0 - fairly symmetrical\n",
      "account_type_current - skewness value: 0.0 - fairly symmetrical\n",
      "account_type_saving - skewness value: 0.0 - fairly symmetrical\n",
      "age - skewness value: 0.0 - fairly symmetrical\n",
      "card_lim - skewness value: 0.1816181517398183 - fairly symmetrical\n",
      "cc_cons_apr - skewness value: 6.067801679337324 - highly skewed distribution\n",
      "cc_cons_jun - skewness value: 6.751737273751782 - highly skewed distribution\n",
      "cc_cons_may - skewness value: 5.167189324036821 - highly skewed distribution\n",
      "cc_count_apr - skewness value: 0.0 - fairly symmetrical\n",
      "cc_count_jun - skewness value: 0.0 - fairly symmetrical\n",
      "cc_count_may - skewness value: 0.0 - fairly symmetrical\n",
      "credit_amount_apr - skewness value: 3.3374687673927044 - highly skewed distribution\n",
      "credit_amount_jun - skewness value: 3.455706337368503 - highly skewed distribution\n",
      "credit_amount_may - skewness value: 3.2185917420683103 - highly skewed distribution\n",
      "credit_count_apr - skewness value: 0.0 - fairly symmetrical\n",
      "credit_count_jun - skewness value: 0.0 - fairly symmetrical\n",
      "credit_count_may - skewness value: 0.0 - fairly symmetrical\n",
      "dc_cons_apr - skewness value: 6.481377494869756 - highly skewed distribution\n",
      "dc_cons_jun - skewness value: 6.171851905035303 - highly skewed distribution\n",
      "dc_cons_may - skewness value: 5.252648545299188 - highly skewed distribution\n",
      "dc_count_apr - skewness value: 0.0 - fairly symmetrical\n",
      "dc_count_jun - skewness value: 0.0 - fairly symmetrical\n",
      "dc_count_may - skewness value: 0.0 - fairly symmetrical\n",
      "debit_amount_apr - skewness value: 3.658100781154486 - highly skewed distribution\n",
      "debit_amount_jun - skewness value: 3.3820342718624827 - highly skewed distribution\n",
      "debit_amount_may - skewness value: 3.7924765846262463 - highly skewed distribution\n",
      "debit_count_apr - skewness value: 0.0 - fairly symmetrical\n",
      "debit_count_jun - skewness value: 0.0 - fairly symmetrical\n",
      "debit_count_may - skewness value: 0.0 - fairly symmetrical\n",
      "emi_active - skewness value: 6.565523133182972 - highly skewed distribution\n",
      "gender_F - skewness value: 0.0 - fairly symmetrical\n",
      "gender_M - skewness value: 0.0 - fairly symmetrical\n",
      "investment_1 - skewness value: 1.849046999925918 - highly skewed distribution\n",
      "investment_2 - skewness value: 1.243878479413874 - highly skewed distribution\n",
      "investment_3 - skewness value: 4.53958435152873 - highly skewed distribution\n",
      "investment_4 - skewness value: 7.26578405993076 - highly skewed distribution\n",
      "loan_enq_Y - skewness value: 0.0 - fairly symmetrical\n",
      "max_credit_amount_apr - skewness value: 4.499121386123702 - highly skewed distribution\n",
      "max_credit_amount_jun - skewness value: 4.972553780335965 - highly skewed distribution\n",
      "max_credit_amount_may - skewness value: 4.373381592643374 - highly skewed distribution\n",
      "region_code - skewness value: 4.477420612718592 - highly skewed distribution\n",
      "cc_cons - skewness value: 0.9708037526239511 - moderately skewed\n"
     ]
    }
   ],
   "source": [
    "#checking skew distribution:\n",
    "#  A skewness value greater than 1 or less than -1 indicates a highly skewed distribution.\n",
    "#  A value between 0.5 and 1 or -0.5 and -1 is moderately skewed. \n",
    "# A value between -0.5 and 0.5 indicates that the distribution is fairly symmetrical.\n",
    "for i, j in zip(Transf_nor.skew(), Transf_nor.columns):\n",
    "    if i>1 or i<-1:\n",
    "        print(j,'-','skewness value:',i,'-','highly skewed distribution')\n",
    "    elif 0.5<i<1 or -0.5<i<-1:\n",
    "        print(j,'-','skewness value:',i,'-','moderately skewed')\n",
    "    elif -0.5<i<0.5:\n",
    "        print(j,'-','skewness value:',i,'-','fairly symmetrical')"
   ]
  },
  {
   "cell_type": "code",
   "execution_count": 196,
   "id": "00d48f24",
   "metadata": {},
   "outputs": [
    {
     "name": "stderr",
     "output_type": "stream",
     "text": [
      "C:\\Users\\Shubham Jadhav\\anaconda3\\lib\\site-packages\\seaborn\\distributions.py:2619: FutureWarning: `distplot` is a deprecated function and will be removed in a future version. Please adapt your code to use either `displot` (a figure-level function with similar flexibility) or `histplot` (an axes-level function for histograms).\n",
      "  warnings.warn(msg, FutureWarning)\n"
     ]
    },
    {
     "data": {
      "image/png": "[encoded data removed]",
      "text/plain": [
       "<Figure size 640x480 with 1 Axes>"
      ]
     },
     "metadata": {},
     "output_type": "display_data"
    },
    {
     "data": {
      "text/plain": [
       "<Figure size 640x480 with 0 Axes>"
      ]
     },
     "metadata": {},
     "output_type": "display_data"
    }
   ],
   "source": [
    "#check Target variable\n",
    "\n",
    "sns.distplot(Transf_nor.cc_cons)\n",
    "fig = plt.figure()\n",
    "plt.show()"
   ]
  },
  {
   "cell_type": "markdown",
   "id": "3d97cb05",
   "metadata": {},
   "source": [
    "# Detecting Multicollinearity"
   ]
  },
  {
   "cell_type": "markdown",
   "id": "d08e86cc",
   "metadata": {},
   "source": [
    "## VIF"
   ]
  },
  {
   "cell_type": "code",
   "execution_count": 197,
   "id": "f0dc3763",
   "metadata": {
    "scrolled": true
   },
   "outputs": [
    {
     "name": "stdout",
     "output_type": "stream",
     "text": [
      "                         feature       VIF\n",
      "0   Avg_days_between_transaction  2.352328\n",
      "1               Emp_Tenure_Years  2.896714\n",
      "2                    Income_HIGH  1.129054\n",
      "3                     Income_LOW  1.460170\n",
      "4                NetBanking_Flag  3.358051\n",
      "5               Tenure_with_Bank  2.275930\n",
      "6            account_type_saving  1.197984\n",
      "7                            age  6.727885\n",
      "8                       card_lim  1.336887\n",
      "9                    cc_cons_apr  1.412926\n",
      "10                   cc_cons_jun  1.407924\n",
      "11                   cc_cons_may  1.370396\n",
      "12                  cc_count_apr  1.306953\n",
      "13                  cc_count_jun  1.537377\n",
      "14                  cc_count_may  1.434668\n",
      "15             credit_amount_apr  1.404248\n",
      "16             credit_amount_jun  1.381588\n",
      "17             credit_amount_may  1.328699\n",
      "18              credit_count_apr  1.347180\n",
      "19              credit_count_jun  1.396650\n",
      "20              credit_count_may  1.390967\n",
      "21                   dc_cons_apr  1.389927\n",
      "22                   dc_cons_jun  1.392198\n",
      "23                   dc_cons_may  1.379903\n",
      "24                  dc_count_apr  1.396431\n",
      "25                  dc_count_jun  1.528244\n",
      "26                  dc_count_may  1.341412\n",
      "27              debit_amount_apr  1.402860\n",
      "28              debit_amount_jun  1.387242\n",
      "29              debit_amount_may  1.372170\n",
      "30               debit_count_apr  1.529174\n",
      "31               debit_count_jun  1.667771\n",
      "32               debit_count_may  1.510621\n",
      "33                    emi_active  1.391527\n",
      "34                      gender_F  1.173247\n",
      "35                  investment_1  1.124720\n",
      "36                  investment_2  1.179248\n",
      "37                  investment_3  1.259391\n",
      "38                  investment_4  1.468023\n",
      "39         max_credit_amount_apr  1.568084\n",
      "40         max_credit_amount_jun  1.482312\n",
      "41         max_credit_amount_may  1.475182\n",
      "42                   region_code  3.159426\n"
     ]
    }
   ],
   "source": [
    "#Detecting Multicollinearity with Variance Inflation Factor(VIF)\n",
    "from statsmodels.stats.outliers_influence import variance_inflation_factor\n",
    "#X=new_Customer_existing\n",
    "#one dummy variable should be dropped to avoid being trapped by the dummy variable\n",
    "X=Transf_nor[Transf_nor.columns.difference(['Income_MEDIUM','account_type_current','gender_M','loan_enq_Y','cc_cons'])]\n",
    "# VIF dataframe\n",
    "vif_data = pd.DataFrame()\n",
    "vif_data[\"feature\"] = X.columns\n",
    "# calculating VIF for each feature\n",
    "vif_data[\"VIF\"] = [variance_inflation_factor(X.values, i)for i in range(len(X.columns))]\n",
    "print(vif_data)"
   ]
  },
  {
   "cell_type": "code",
   "execution_count": 198,
   "id": "9925ca37",
   "metadata": {},
   "outputs": [],
   "source": [
    "vif_data=pd.DataFrame(vif_data)\n",
    "#vif_data\n",
    "li=list(vif_data.feature[vif_data.VIF>5])"
   ]
  },
  {
   "cell_type": "code",
   "execution_count": 199,
   "id": "f527cb04",
   "metadata": {},
   "outputs": [
    {
     "data": {
      "text/plain": [
       "['age']"
      ]
     },
     "execution_count": 199,
     "metadata": {},
     "output_type": "execute_result"
    }
   ],
   "source": [
    "li\n",
    "#'Income_HIGH','Income_LOW','Income_MEDIUM','account_type_current','account_type_saving','gender_F','gender_M'"
   ]
  },
  {
   "cell_type": "code",
   "execution_count": 200,
   "id": "3f57191f",
   "metadata": {},
   "outputs": [],
   "source": [
    "#Removing multicollinearity:\n",
    "vif_data=X[X.columns.difference(li)]"
   ]
  },
  {
   "cell_type": "code",
   "execution_count": 201,
   "id": "5abcd2c1",
   "metadata": {},
   "outputs": [],
   "source": [
    "vif_data['cc_cons']=Transf_nor.cc_cons"
   ]
  },
  {
   "cell_type": "code",
   "execution_count": 202,
   "id": "c1bf695b",
   "metadata": {},
   "outputs": [],
   "source": [
    "Transf_nors=vif_data\n",
    "#Transf_nors=Transf_nor"
   ]
  },
  {
   "cell_type": "code",
   "execution_count": null,
   "id": "0f9de51c",
   "metadata": {},
   "outputs": [],
   "source": []
  },
  {
   "cell_type": "markdown",
   "id": "025fe154",
   "metadata": {},
   "source": [
    "### PCA"
   ]
  },
  {
   "cell_type": "code",
   "execution_count": 203,
   "id": "e971902c",
   "metadata": {},
   "outputs": [
    {
     "data": {
      "text/plain": [
       "0                  card_lim\n",
       "1              investment_1\n",
       "2              investment_1\n",
       "3         credit_amount_may\n",
       "4         credit_amount_jun\n",
       "5                   cc_cons\n",
       "6          debit_amount_jun\n",
       "7          debit_amount_apr\n",
       "8          debit_amount_may\n",
       "9              investment_3\n",
       "10             investment_3\n",
       "11    max_credit_amount_jun\n",
       "12    max_credit_amount_apr\n",
       "13              cc_cons_apr\n",
       "14              cc_cons_may\n",
       "15              cc_cons_jun\n",
       "16               emi_active\n",
       "17              dc_cons_apr\n",
       "18              dc_cons_may\n",
       "19              dc_cons_may\n",
       "Name: 1, dtype: object"
      ]
     },
     "execution_count": 203,
     "metadata": {},
     "output_type": "execute_result"
    }
   ],
   "source": [
    "from sklearn.decomposition import PCA\n",
    "model=PCA(n_components = 20).fit(Transf_nor)\n",
    "X_pc=model.transform(Transf_nor)\n",
    "# number of components\n",
    "n_pcs= model.components_.shape[0]\n",
    "# get the index of the most important feature on EACH component\n",
    "# LIST COMPREHENSION HERE\n",
    "most_important = [np.abs(model.components_[i]).argmax() for i in range(n_pcs)]\n",
    "\n",
    "initial_feature_names = Transf_nor.columns\n",
    "# get the names\n",
    "most_important_names = [initial_feature_names[most_important[i]] for i in range(n_pcs)]\n",
    "# LIST COMPREHENSION HERE AGAIN\n",
    "dic = {'PC{}'.format(i): most_important_names[i] for i in range(n_pcs)}\n",
    "# build the dataframe\n",
    "df = pd.DataFrame(dic.items())\n",
    "df[1]"
   ]
  },
  {
   "cell_type": "raw",
   "id": "973e2c6c",
   "metadata": {},
   "source": [
    "   'card_lim',\n",
    " 'investment_1',\n",
    " 'investment_1',\n",
    " 'credit_amount_may',\n",
    " 'credit_amount_jun',\n",
    " 'cc_cons',\n",
    " 'debit_amount_jun',\n",
    " 'debit_amount_apr',\n",
    " 'debit_amount_may',\n",
    " 'investment_3',\n",
    " 'investment_3',\n",
    " 'max_credit_amount_jun',\n",
    " 'max_credit_amount_apr',\n",
    " 'cc_cons_apr',\n",
    " 'cc_cons_may',\n",
    "  'cc_cons_jun',\n",
    "   'emi_active',\n",
    "  'dc_cons_apr',\n",
    "  'dc_cons_may',\n",
    " 'dc_cons_may'"
   ]
  },
  {
   "cell_type": "code",
   "execution_count": null,
   "id": "048b5477",
   "metadata": {},
   "outputs": [],
   "source": []
  },
  {
   "cell_type": "markdown",
   "id": "60be9df6",
   "metadata": {},
   "source": [
    "# checking corr"
   ]
  },
  {
   "cell_type": "code",
   "execution_count": 204,
   "id": "deb4838e",
   "metadata": {},
   "outputs": [
    {
     "data": {
      "text/plain": [
       "Avg_days_between_transaction    0.230959\n",
       "Emp_Tenure_Years                0.141711\n",
       "Income_HIGH                     0.084936\n",
       "Income_LOW                      0.160152\n",
       "NetBanking_Flag                 0.288068\n",
       "Tenure_with_Bank                0.230079\n",
       "account_type_saving             0.112749\n",
       "card_lim                       -0.143804\n",
       "cc_cons_apr                     0.152621\n",
       "cc_cons_jun                     0.158239\n",
       "cc_cons_may                     0.160680\n",
       "cc_count_apr                    0.129622\n",
       "cc_count_jun                    0.172511\n",
       "cc_count_may                    0.169058\n",
       "credit_amount_apr               0.133389\n",
       "credit_amount_jun               0.143439\n",
       "credit_amount_may               0.109719\n",
       "credit_count_apr                0.142946\n",
       "credit_count_jun                0.155774\n",
       "credit_count_may                0.146116\n",
       "dc_cons_apr                     0.150426\n",
       "dc_cons_jun                     0.143467\n",
       "dc_cons_may                     0.135367\n",
       "dc_count_apr                    0.155828\n",
       "dc_count_jun                    0.168452\n",
       "dc_count_may                    0.138700\n",
       "debit_amount_apr                0.147757\n",
       "debit_amount_jun                0.105948\n",
       "debit_amount_may                0.130284\n",
       "debit_count_apr                 0.164180\n",
       "debit_count_jun                 0.188512\n",
       "debit_count_may                 0.171069\n",
       "emi_active                      0.148120\n",
       "gender_F                        0.088302\n",
       "investment_1                   -0.050257\n",
       "investment_2                   -0.107664\n",
       "investment_3                    0.102056\n",
       "investment_4                    0.178084\n",
       "max_credit_amount_apr           0.175876\n",
       "max_credit_amount_jun           0.165267\n",
       "max_credit_amount_may           0.155291\n",
       "region_code                     0.282490\n",
       "cc_cons                         1.000000\n",
       "Name: cc_cons, dtype: float64"
      ]
     },
     "execution_count": 204,
     "metadata": {},
     "output_type": "execute_result"
    }
   ],
   "source": [
    "#checking corr with target('cc_cons'):\n",
    "\n",
    "#new_Customer_existing.corr()['cc_cons']\n",
    "#data.corr()['cc_cons']\n",
    "#normalized.corr()['cc_cons']\n",
    "Transf_nors.corr()['cc_cons']\n",
    "#vif_data.corr()['cc_cons']"
   ]
  },
  {
   "cell_type": "raw",
   "id": "c93607af",
   "metadata": {},
   "source": [
    " x=Transf_nors[['card_lim',\n",
    " 'investment_1',\n",
    " 'investment_1',\n",
    " 'credit_amount_may',\n",
    " 'credit_amount_jun',\n",
    " 'cc_cons',\n",
    " 'debit_amount_jun',\n",
    " 'debit_amount_apr',\n",
    " 'debit_amount_may',\n",
    " 'investment_3',\n",
    " 'investment_3',\n",
    " 'max_credit_amount_jun',\n",
    " 'max_credit_amount_apr',\n",
    " 'cc_cons_apr',\n",
    " 'cc_cons_may',\n",
    "  'cc_cons_jun',\n",
    "   'emi_active',\n",
    "  'dc_cons_apr',\n",
    "  'dc_cons_may',\n",
    " 'dc_cons_may']]"
   ]
  },
  {
   "cell_type": "code",
   "execution_count": 205,
   "id": "19bbf652",
   "metadata": {},
   "outputs": [
    {
     "data": {
      "text/plain": [
       "(14997, 43)"
      ]
     },
     "execution_count": 205,
     "metadata": {},
     "output_type": "execute_result"
    }
   ],
   "source": [
    "x=Transf_nors\n",
    "\n",
    "#x=pd.DataFrame(x,columns=new_Customer_existing.columns)\n",
    "#x=vif_data\n",
    "x.shape"
   ]
  },
  {
   "cell_type": "markdown",
   "id": "e19e9911",
   "metadata": {},
   "source": [
    "# Split the data into train and test data"
   ]
  },
  {
   "cell_type": "code",
   "execution_count": 206,
   "id": "da7963da",
   "metadata": {},
   "outputs": [],
   "source": [
    "#assigning x-y(Target)\n",
    "y = x['cc_cons']\n",
    "X= x[x.columns.difference(['cc_cons'])]\n",
    "##Split the data into train and test data\n",
    "X_train, X_test, y_train, y_test = train_test_split(X, y,random_state=50,test_size=0.30) "
   ]
  },
  {
   "cell_type": "code",
   "execution_count": null,
   "id": "2161b075",
   "metadata": {},
   "outputs": [],
   "source": []
  },
  {
   "cell_type": "markdown",
   "id": "c1e0998d",
   "metadata": {},
   "source": [
    "# Feature selection"
   ]
  },
  {
   "cell_type": "code",
   "execution_count": 207,
   "id": "79a92482",
   "metadata": {},
   "outputs": [],
   "source": [
    "#Feature selection\n",
    "#https://scikit-learn.org/stable/modules/feature_selection.html\n",
    "#.1. Removing features with low variance\n",
    "#.2. Univariate feature selection\n",
    "#.3. Recursive feature elimination\n",
    "#.4. Feature selection using SelectFromModel\n",
    "#.5. Sequential Feature Selection\n",
    "#.6. Feature selection as part of a pipeline\n",
    "\n",
    "#There are  types of feature selection method: \n",
    "#https://www.analyticsvidhya.com/blog/2020/10/feature-selection-techniques-in-machine-learning/\n",
    "\n",
    "#A. Filter methods                      -high Faster process/avoids overfitting\n",
    "#1.Information Gain\n",
    "#2.Chi-square Test [cat(nom)-cat(nom)]\n",
    "#3.Fisher’s Score\n",
    "#4.Correlation Coefficient\n",
    "#5.Variance Threshold\n",
    "#6.Mean Absolute Difference (MAD)\n",
    "#7.Dispersion ratio\n",
    "#8.ANOVA         [cat(ord/nom)-num]\n",
    "#9.Pearson correlation\n",
    "\n",
    "#B. Wrapper methods                     -lower faster process/prone to overfitting\n",
    "#1.Forward Feature Selection (stepwise selection)\n",
    "#2.Backward Feature Elimination\n",
    "#3.Exhaustive Feature Selection\n",
    "#4.Recursive Feature Elimination\n",
    "\n",
    "#C. Embedded methods                    -medium fatser process/less prone to overfitting\n",
    "#1.LASSO Regularization (L1)\n",
    "#2.Random Forest Importance\n",
    "#3.Ridge\n",
    "#4.Decision Tree\n",
    "\n",
    "#D. Hybrid methods"
   ]
  },
  {
   "cell_type": "markdown",
   "id": "b1301891",
   "metadata": {},
   "source": [
    "# Filter methods "
   ]
  },
  {
   "cell_type": "raw",
   "id": "fcc2f690",
   "metadata": {},
   "source": [
    "###Filter methods \n",
    "\n",
    "#--------------------------------------------------------------------------------\n",
    "\n",
    "#1.Information Gain:\n",
    "import sklearn.feature_selection as feature_selection\n",
    "#Importing mutual information gain\n",
    "#The higher the value the more important that feature will be or you can say that the dependency of that independent feature will be more on the dependent feature.\n",
    "# determine the mutual information\n",
    "#mutual_info_regression:\n",
    "mutual_info=feature_selection.mutual_info_regression(X_train,y_train,n_neighbors=3)\n",
    "mutual_info = pd.Series(mutual_info)\n",
    "mutual_info.index = X_train.columns\n",
    "#r_regression:\n",
    "r_regression=feature_selection.r_regression(X_train,y_train)\n",
    "r_regression = pd.Series(r_regression)\n",
    "r_regression.index = X_train.columns\n",
    "#compering [mutual_info-r_regression]:\n",
    "df1 = pd.DataFrame(mutual_info).reset_index()\n",
    "df2 = pd.DataFrame(r_regression).reset_index()\n",
    "Information_Gain=pd.merge(df1,df2,on='index')\n",
    "Information_Gain[['col_name','mutual_info','r_regression']]=pd.merge(df1,df2,on='index')\n",
    "col=Information_Gain.columns.drop(['index','0_x','0_y'])\n",
    "Information_Gain=Information_Gain[col]\n",
    "#Information_Gain\n",
    "#--------------------------------------------------------------------------------\n",
    "#2.Chi-square:\n",
    "#Perform chi2 test\n",
    "from sklearn.feature_selection import chi2\n",
    "#Calculating Fscore and p value\n",
    "#f_p_values=chi2(X_train,y_train)\n",
    "#F_p_values\n",
    "#data is not non-negative, maybe chi2 is not a good method.\n",
    "\n",
    "\n",
    "#--------------------------------------------------------------------------------\n",
    "\n",
    "#3.Fisher’s Score:\n",
    "#!pip install skfeature-chappers\n",
    "from skfeature.function.similarity_based import fisher_score\n",
    "#fisher_score=fisher_score.fisher_score(X_train,y_train)\n",
    "\n",
    "#--------------------------------------------------------------------------------\n",
    "\n",
    "#4.Correlation Coefficient:\n",
    "#correlation coefficients 3 method:\n",
    "#i.pearsonr() [num-num]\n",
    "pearson=X_train.corrwith(y_train,method='pearson').reset_index()\n",
    "#ii.spearmanr() [cat(ord)-num]\n",
    "spearman=X_train.corrwith(y_train,method='spearman').reset_index()\n",
    "#iii.kendalltau() [cat(ord)-num(Conti)]\n",
    "kendall=X_train.corrwith(y_train,method='kendall').reset_index()\n",
    "\n",
    "#correlation=pd.merge(pearson,spearman,on='index')\n",
    "correlations=pd.merge(pd.merge(pearson,spearman,on='index'),kendall,on='index')\n",
    "correlations=correlations[['col_name','pearson','spearman','kendall']]=pd.merge(pd.merge(pearson,spearman,on='index'),kendall,on='index')\n",
    "col=correlations.columns.drop(['index','0_x','0_y',0])\n",
    "correlations=correlations[col]\n",
    "#correlations\n",
    "\n",
    "#--------------------------------------------------------------------------------\n",
    "\n",
    "#5.Variance Threshold:\n",
    "selector=feature_selection.VarianceThreshold()\n",
    "transf=selector.fit_transform(X_train,y_train)\n",
    "Variance_Threshold=pd.DataFrame(transf,columns=X_train.columns).T\n",
    "\n",
    "#--------------------------------------------------------------------------------\n",
    "\n",
    "#6.Mean Absolute Difference (MAD)-[X_train]\n",
    "Mean_Absolute_Difference=np.sum(np.abs(X_train-np.mean(X_train,axis=0)))/X_train.shape[0]\n",
    "Mean_Absolute_Difference=Mean_Absolute_Difference.reset_index()\n",
    "Mean_Absolute_Difference.rename(columns = {'index':'col_name',0:'MAD'}, inplace = True)\n",
    "#Mean_Absolute_Difference-[y_train]\n",
    "Mean_Absolute_Difference_y=np.sum(np.abs(y_train-np.mean(y_train,axis=0)))/y_train.shape[0] #-[y_train]\n",
    "\n",
    "#--------------------------------------------------------------------------------\n",
    "\n",
    "#7.Dispersion ratio = [arithmetic_mean (AM) /geometric_mean (GM)]\n",
    "XX=X_train+1 #to avoid 0 drnominator we add 1 here\n",
    "AM=np.mean(XX,axis=0)\n",
    "GM=np.power(np.prod(XX,axis=0),1/XX.shape[0])\n",
    "Dispersion_ratio=AM/GM\n",
    "Dispersion_ratio=Dispersion_ratio.reset_index()\n",
    "Dispersion_ratio.rename(columns = {'index':'col_name',0:'Dispersion_ratio'}, inplace = True)\n",
    "#Dispersion_ratio\n",
    "\n",
    "#--------------------------------------------------------------------------------\n",
    "\n",
    "#8.ANOVA\n",
    "#stats.f_oneway(X_train,y_train)\n",
    "#--------------------------------------------------------------------------------\n",
    "\n",
    "Filter=pd.merge(pd.merge(Information_Gain,correlations,on='col_name'),Dispersion_ratio,on='col_name')\n",
    "\n",
    "###############################################################################################################\n",
    "from sklearn.feature_selection import SelectKBest\n",
    "from sklearn.feature_selection import f_regression,mutual_info_regression,f_oneway\n",
    "#-----------------------------f_regression:\n",
    "select_kf_R= SelectKBest(score_func=f_regression, k=20)\n",
    "z = select_kf_R.fit_transform(X_train, y_train) \n",
    "selected_F_R=X_train.columns[select_kf_R.get_support()]\n",
    "#----------------------------mutual_info_regression:\n",
    "select_km_infoR = SelectKBest(score_func=mutual_info_regression, k=20)\n",
    "z = select_km_infoR.fit_transform(X_train, y_train) \n",
    "selected_M_INFO_R=X_train.columns[select_km_infoR.get_support()]\n",
    "#----------------------------f_oneway:\n",
    "select_kfO_R = SelectKBest(score_func=f_oneway, k=20)\n",
    "z = select_kfO_R.fit_transform(X_train, y_train) \n",
    "selected_F_OW_R=X_train.columns[select_kfO_R.get_support()]\n",
    "\n",
    "print('f_regression\\n',selected_F_R,'\\n','mutual_info_regression\\n',selected_M_INFO_R,'\\n','f_oneway\\n',selected_F_OW_R)"
   ]
  },
  {
   "cell_type": "raw",
   "id": "75b2e8d3",
   "metadata": {},
   "source": [
    "#using above result we will check that how many columns commonly get from result:\n",
    "#list(selected_F_R.intersection(selected_M_INFO_R.intersection(selected_F_OW_R)))\n",
    "\n",
    "#list(selected_F_R.union(selected_M_INFO_R.union(selected_F_OW_R)))\n",
    "\n",
    "list(selected_F_R.union(selected_M_INFO_R.union(selected_F_OW_R)))\n"
   ]
  },
  {
   "cell_type": "markdown",
   "id": "862d9b60",
   "metadata": {},
   "source": [
    "# B. Wrapper methods "
   ]
  },
  {
   "cell_type": "code",
   "execution_count": 208,
   "id": "a384981a",
   "metadata": {},
   "outputs": [],
   "source": [
    "#B. Wrapper methods                                                           *** importing pckg  ***\n",
    "#1.Forward Feature Selection [/stepwise selection]      from mlxtend.feature_selection import SequentialFeatureSelector as sfs\n",
    "#2.Backward Feature Elimination                         from mlxtend.feature_selection import SequentialFeatureSelector as sfs\n",
    "#3.Exhaustive Feature Selection                         from mlxtend.feature_selection import ExhaustiveFeatureSelector as EFS\n",
    "#4.Recursive Feature Elimination                        from sklearn.feature_selection import RFE\n",
    "\n",
    "from sklearn.ensemble import RandomForestRegressor\n",
    "from sklearn.linear_model import LinearRegression\n",
    "from mlxtend.feature_selection import ExhaustiveFeatureSelector as EFS\n",
    "from mlxtend.feature_selection import SequentialFeatureSelector as sfs\n",
    "from sklearn.feature_selection import RFE\n",
    "\n",
    "#scoring:\n",
    "#{'accuracy', 'f1', 'precision', 'recall', 'roc_auc'} for classifiers,\n",
    "#{'mean_absolute_error', 'mean_squared_error'/'neg_mean_squared_error','median_absolute_error', 'r2'} for regressors\n"
   ]
  },
  {
   "cell_type": "raw",
   "id": "86687702",
   "metadata": {},
   "source": [
    "#lr = LinearRegression()\n",
    "rgr = RandomForestRegressor(n_estimators=50, n_jobs=-1,criterion=\"absolute_error\")\n",
    "# Build step forward feature selection\n",
    "sfs1 = sfs(rgr,\n",
    "           k_features=15,\n",
    "           forward=True, #[Forward selection if True, backward selection otherwise]\n",
    "           verbose=2,\n",
    "           scoring='r2',\n",
    "           cv=10)\n",
    "\n",
    "# Perform SFFS\n",
    "sfs1 = sfs1.fit(X_train, y_train)\n",
    "sfs1.k_feature_names_"
   ]
  },
  {
   "cell_type": "code",
   "execution_count": null,
   "id": "d0708313",
   "metadata": {},
   "outputs": [],
   "source": []
  },
  {
   "cell_type": "raw",
   "id": "d4a9fe7f",
   "metadata": {},
   "source": [
    "\n",
    "########################### #1.Forward Feature Selection:\n",
    "lr = LinearRegression()\n",
    "#rgr = RandomForestRegressor(n_estimators=50, n_jobs=-1)\n",
    "# Build step forward feature selection\n",
    "sfs1 = sfs(lr,\n",
    "           k_features=15,\n",
    "           forward=True, #[Forward selection if True, backward selection otherwise]\n",
    "           verbose=2,\n",
    "           scoring='r2',\n",
    "           cv=5)\n",
    "\n",
    "# Perform SFFS\n",
    "sfs1 = sfs1.fit(X_train, y_train)\n",
    "\n",
    "\n",
    "\n",
    "##########################################2.Backward Feature Elimination\n",
    "lr = LinearRegression()\n",
    "#rgr = RandomForestRegressor(n_estimators=50, n_jobs=-1)\n",
    "\n",
    "# Build step Backward feature selection\n",
    "sfs2 = sfs(lr,\n",
    "           k_features=15,\n",
    "           forward=False, #[Forward selection if True, backward selection otherwise]\n",
    "           verbose=2,\n",
    "           scoring='r2',\n",
    "           cv=5)\n",
    "\n",
    "# Perform SFFS\n",
    "sfs2 = sfs2.fit(X_train, y_train)\n",
    "\n",
    "# Which features?\n",
    "forward_feat_cols = list(sfs1.k_feature_idx_)\n",
    "backward_feat_cols = list(sfs2.k_feature_idx_)\n",
    "\n",
    "print('Forward selection:',forward_feat_cols,'backward selection:',backward_feat_cols)"
   ]
  },
  {
   "cell_type": "raw",
   "id": "878126fe",
   "metadata": {},
   "source": [
    "[2, 4, 7, 9, 10, 14, 15, 16, 20, 27, 28, 34, 35, 37, 41]"
   ]
  },
  {
   "cell_type": "raw",
   "id": "55bed7c1",
   "metadata": {},
   "source": [
    "#####################################3.Exhaustive Feature Selection\n",
    "#lr = LinearRegression()\n",
    "rgr = RandomForestRegressor(n_estimators=50, n_jobs=-1)\n",
    "\n",
    "# Build  Exhaustive Feature Selection\n",
    "efs3 = EFS(rgr, \n",
    "          min_features=1,\n",
    "          max_features=5,\n",
    "          scoring='neg_mean_squared_error',\n",
    "          cv=10)\n",
    "\n",
    "efs3.fit(X_train, y_train)\n",
    "\n",
    "print('Best MSE score: %.2f' % efs3.best_score_ * (-1))\n",
    "print('Best subset:', efs3.best_idx_)\n"
   ]
  },
  {
   "cell_type": "raw",
   "id": "5ca3a434",
   "metadata": {},
   "source": [
    "####################################4.Recursive Feature Elimination\n",
    "#lr = LinearRegression()\n",
    "rgr = RandomForestRegressor(n_estimators=200,criterion='absolute_error', n_jobs=-1)\n",
    "\n",
    "#Build Recursive Feature Elimination\n",
    "rfe4 = RFE(rgr,n_features_to_select=15,\n",
    "    step=1,\n",
    "    verbose=0,\n",
    "    importance_getter='auto',)\n",
    "'''\n",
    "\n",
    "rfe4=RFE(lr,n_features_to_select=10,\n",
    "    step=1,\n",
    "    verbose=0,\n",
    "    importance_getter='auto',)\n",
    "'''\n",
    "rfe4 = rfe4.fit(X_train, y_train)\n",
    "\n",
    "#print('Best MSE score: %.2f' % rfe4.best_score_ * (-1))\n",
    "#print('Best subset:', rfe4.best_idx_)\n",
    "print(\"Num Features: %s\" % (rfe4.n_features_))\n",
    "print(\"Selected Features: %s\" % (rfe4.support_))\n",
    "print(\"Feature Ranking: %s\" % (rfe4.ranking_))"
   ]
  },
  {
   "cell_type": "raw",
   "id": "dbed5c29",
   "metadata": {},
   "source": [
    "X_train.columns[[rfe4]]\n"
   ]
  },
  {
   "cell_type": "markdown",
   "id": "0a78e6c6",
   "metadata": {},
   "source": [
    "# C. Embedded methods :     "
   ]
  },
  {
   "cell_type": "code",
   "execution_count": 209,
   "id": "1d1ab5b8",
   "metadata": {},
   "outputs": [],
   "source": [
    "# C. Embedded methods :                               *** importing pckg  ***\n",
    "#1.LASSO Regularization (L1)                                - from sklearn.linear_model import Lasso,LassoCV\n",
    "#2.Random Forest Importance                                 -from sklearn.ensemble import RandomForestRegressor\n",
    "#3.Ridge                                                    -from sklearn.linear_model import Ridge,RidgeCV,ridge_regression\n",
    "#4.Decision Tree                                            -from sklearn.tree import DecisionTreeRegressor\n",
    "#ElasticNet                                                 -from sklearn.linear_model import ElasticNet\n",
    "\n",
    "from sklearn.linear_model import Lasso,LassoCV\n",
    "from sklearn.linear_model import ElasticNet\n",
    "from sklearn.linear_model import Ridge,RidgeCV,ridge_regression\n",
    "from sklearn.ensemble import RandomForestRegressor\n",
    "from sklearn.tree import DecisionTreeRegressor\n",
    "from sklearn.feature_selection import SelectFromModel"
   ]
  },
  {
   "cell_type": "code",
   "execution_count": 210,
   "id": "6e8c5468",
   "metadata": {},
   "outputs": [
    {
     "name": "stdout",
     "output_type": "stream",
     "text": [
      "lasso\n",
      " Index(['card_lim', 'investment_1', 'investment_2'], dtype='object') \n",
      " ElasticNet\n",
      " Index(['card_lim', 'investment_1', 'investment_2'], dtype='object') \n",
      " Ridge\n",
      " Index(['card_lim', 'cc_cons_apr', 'cc_cons_jun', 'cc_cons_may',\n",
      "       'credit_amount_apr', 'credit_amount_jun', 'credit_amount_may',\n",
      "       'dc_cons_apr', 'dc_cons_jun', 'dc_cons_may', 'debit_amount_apr',\n",
      "       'debit_amount_jun', 'debit_amount_may', 'emi_active', 'investment_1',\n",
      "       'investment_2', 'investment_3', 'investment_4', 'max_credit_amount_apr',\n",
      "       'max_credit_amount_jun', 'max_credit_amount_may'],\n",
      "      dtype='object')\n"
     ]
    }
   ],
   "source": [
    "\n",
    "\n",
    "######################################## 1.LASSO Regularization (L1)\n",
    "#                            (Least Absolute Shrinkage and Selection Operator)\n",
    "\n",
    "sel_ = SelectFromModel(Lasso(alpha=0.001, random_state=100))\n",
    "sel_.fit(X_train, y_train)\n",
    "sel_.get_support()\n",
    "l=X_train.columns[sel_.get_support()]\n",
    "\n",
    "####################################### 2.ElasticNet\n",
    "\n",
    "sel_ = SelectFromModel(ElasticNet(alpha=0.001, random_state=100))\n",
    "sel_.fit(X_train, y_train)\n",
    "sel_.get_support()\n",
    "e=X_train.columns[sel_.get_support()]\n",
    "######################################### 3.Ridge\n",
    "sel_ = SelectFromModel(Ridge(alpha=0.001, random_state=100))\n",
    "sel_.fit(X_train, y_train)\n",
    "sel_.get_support()\n",
    "r=X_train.columns[sel_.get_support()]\n",
    "#(l.union(e)).union(r)\n",
    "print('lasso\\n',l,'\\n','ElasticNet\\n',e,'\\n','Ridge\\n',r)"
   ]
  },
  {
   "cell_type": "code",
   "execution_count": 211,
   "id": "f3fb21e6",
   "metadata": {},
   "outputs": [],
   "source": [
    "#feature importance:"
   ]
  },
  {
   "cell_type": "raw",
   "id": "b8ad8b2c",
   "metadata": {},
   "source": [
    "################################################ 1)LinearRegression\n",
    "from sklearn.linear_model import LinearRegression\n",
    "# define the model\n",
    "model = LinearRegression()\n",
    "# fit the model\n",
    "model.fit(X_train, y_train)\n",
    "# get importance\n",
    "importance = model.coef_\n",
    "# summarize feature importance\n",
    "#for i,v in enumerate(importance):\n",
    "    \n",
    " #print('Feature: %0d, Score: %.5f' % (i,v))\n",
    "LR_feature_importance=pd.DataFrame(importance,X_train.columns).sort_values(0,ascending=False)\n",
    "# plot feature importance\n",
    "plt.bar([x for x in range(len(importance))], importance)\n",
    "plt.show()"
   ]
  },
  {
   "cell_type": "raw",
   "id": "f71a5b9e",
   "metadata": {},
   "source": [
    "################################## 2.Random Forest Importance\n",
    "\n",
    "#feature importance:\n",
    "from sklearn.ensemble import RandomForestRegressor \n",
    "# define the model\n",
    "model = RandomForestRegressor()\n",
    "# fit the model\n",
    "model.fit(X_train, y_train)\n",
    "# get importance\n",
    "importance = model.feature_importances_\n",
    "# summarize feature importance\n",
    "#for i,v in enumerate(importance):\n",
    "    \n",
    " #print('Feature: %0d, Score: %.5f' % (i,v))\n",
    "RFR_feature_importance=pd.DataFrame(importance,X_train.columns).sort_values(0,ascending=False)\n",
    "# plot feature importance\n",
    "plt.bar([x for x in range(len(importance))], importance,)\n",
    "plt.show()\n"
   ]
  },
  {
   "cell_type": "raw",
   "id": "30f40710",
   "metadata": {},
   "source": [
    "pd.DataFrame(model.feature_names_in_,model.feature_importances_).sort_index()"
   ]
  },
  {
   "cell_type": "code",
   "execution_count": null,
   "id": "b2b98f8d",
   "metadata": {},
   "outputs": [],
   "source": []
  },
  {
   "cell_type": "raw",
   "id": "8bfa1770",
   "metadata": {},
   "source": [
    "################################### 3.Decision Tree\n",
    "\n",
    "#feature importance:\n",
    "from sklearn.tree import DecisionTreeRegressor \n",
    "# define the model\n",
    "model = DecisionTreeRegressor()\n",
    "# fit the model\n",
    "model.fit(X_train, y_train)\n",
    "# get importance\n",
    "importance = model.feature_importances_\n",
    "# summarize feature importance\n",
    "#for i,v in enumerate(importance):\n",
    "    \n",
    " #print('Feature: %0d, Score: %.5f' % (i,v))\n",
    "DTR_feature_importance=pd.DataFrame(importance,X_train.columns).sort_values(0,ascending=False)\n",
    "# plot feature importance\n",
    "plt.bar([x for x in range(len(importance))], importance)\n",
    "plt.show()"
   ]
  },
  {
   "cell_type": "raw",
   "id": "dca652ae",
   "metadata": {},
   "source": [
    "\n",
    "##################################XGBoost\n",
    "from xgboost import XGBRegressor\n",
    "# define the model\n",
    "model = XGBRegressor()\n",
    "# fit the model\n",
    "model.fit(X_train, y_train)\n",
    "# get importance\n",
    "importance = model.feature_importances_\n",
    "# summarize feature importance\n",
    "#for i,v in enumerate(importance):\n",
    "# print('Feature: %0d, Score: %.5f' % (i,v))\n",
    "XGB_feature_importance=pd.DataFrame(importance,X_train.columns).sort_values(0,ascending=False)\n",
    "\n",
    "# plot feature importance\n",
    "plt.bar([x for x in range(len(importance))], importance)\n",
    "plt.show()"
   ]
  },
  {
   "cell_type": "raw",
   "id": "5594345e",
   "metadata": {},
   "source": [
    "XGB_feature_importance"
   ]
  },
  {
   "cell_type": "raw",
   "id": "69dbdeae",
   "metadata": {},
   "source": [
    "D=DTR_feature_importance.reset_index()\n",
    "R=RFR_feature_importance.reset_index()\n",
    "L=LR_feature_importance.reset_index()\n",
    "X=XGB_feature_importance.reset_index()\n",
    "Feature_importance=pd.merge(pd.merge(pd.merge(R,D,on='index'),L,on='index'),X,on='index')\n",
    "Feature_importance.columns = ['columns', 'RFR', 'DTR','LR','XGB']\n",
    "Feature_importance"
   ]
  },
  {
   "cell_type": "code",
   "execution_count": null,
   "id": "9c5c3671",
   "metadata": {},
   "outputs": [],
   "source": []
  },
  {
   "cell_type": "code",
   "execution_count": null,
   "id": "ecc76afc",
   "metadata": {},
   "outputs": [],
   "source": []
  },
  {
   "cell_type": "code",
   "execution_count": null,
   "id": "7e18e2be",
   "metadata": {},
   "outputs": [],
   "source": []
  },
  {
   "cell_type": "code",
   "execution_count": null,
   "id": "2ca33f61",
   "metadata": {},
   "outputs": [],
   "source": []
  },
  {
   "cell_type": "code",
   "execution_count": null,
   "id": "054f43a9",
   "metadata": {},
   "outputs": [],
   "source": []
  },
  {
   "cell_type": "code",
   "execution_count": null,
   "id": "d7644cf9",
   "metadata": {},
   "outputs": [],
   "source": []
  },
  {
   "cell_type": "code",
   "execution_count": 212,
   "id": "d9378d81",
   "metadata": {},
   "outputs": [
    {
     "name": "stderr",
     "output_type": "stream",
     "text": [
      "C:\\Users\\Shubham Jadhav\\anaconda3\\lib\\site-packages\\sklearn\\ensemble\\_forest.py:403: FutureWarning: Criterion 'mae' was deprecated in v1.0 and will be removed in version 1.2. Use `criterion='absolute_error'` which is equivalent.\n",
      "  warn(\n"
     ]
    },
    {
     "data": {
      "text/plain": [
       "Index(['card_lim', 'cc_cons_apr', 'cc_cons_jun', 'cc_cons_may',\n",
       "       'credit_amount_apr', 'credit_amount_jun', 'credit_amount_may',\n",
       "       'dc_cons_apr', 'dc_cons_jun', 'dc_cons_may', 'debit_amount_apr',\n",
       "       'debit_amount_jun', 'debit_amount_may', 'emi_active', 'investment_1',\n",
       "       'investment_2', 'investment_3', 'investment_4', 'max_credit_amount_apr',\n",
       "       'max_credit_amount_jun', 'max_credit_amount_may', 'region_code'],\n",
       "      dtype='object')"
      ]
     },
     "execution_count": 212,
     "metadata": {},
     "output_type": "execute_result"
    }
   ],
   "source": [
    "sel_ = SelectFromModel(RandomForestRegressor(criterion='mae',n_estimators=100,n_jobs=-1,random_state=100,bootstrap=True))\n",
    "sel_.fit(X_train, y_train)\n",
    "sel_.get_support()\n",
    "X_train.columns[sel_.get_support()]\n"
   ]
  },
  {
   "cell_type": "code",
   "execution_count": null,
   "id": "bdc9bb71",
   "metadata": {},
   "outputs": [],
   "source": []
  },
  {
   "cell_type": "raw",
   "id": "6288b44e",
   "metadata": {},
   "source": [
    "# #################################Permutation Feature Importance :\n",
    "from sklearn.neighbors import KNeighborsRegressor\n",
    "from sklearn.inspection import permutation_importance\n",
    "\n",
    "# define the model\n",
    "model = KNeighborsRegressor()\n",
    "# fit the model\n",
    "model.fit(X, y)\n",
    "# perform permutation importance\n",
    "results = permutation_importance(model, X, y, scoring='neg_mean_squared_error')\n",
    "# get importance\n",
    "importance = results.importances_mean\n",
    "# summarize feature importance\n",
    "for i,v in enumerate(importance):\n",
    " print('Feature: %0d, Score: %.5f' % (i,v))\n",
    "# plot feature importance\n",
    "plt.bar([x for x in range(len(importance))], importance)\n",
    "plt.show()"
   ]
  },
  {
   "cell_type": "code",
   "execution_count": null,
   "id": "6f25fd6a",
   "metadata": {},
   "outputs": [],
   "source": []
  },
  {
   "cell_type": "raw",
   "id": "d670ac1f",
   "metadata": {},
   "source": [
    "# define the model\n",
    "model = LinearRegression()\n",
    "# fit the model\n",
    "model.fit(X_train, y_train)\n",
    "# get importance\n",
    "importance = model.coef_\n",
    "# summarize feature importance\n",
    "for i,v in enumerate(importance):\n",
    " print('Feature: %0d, Score: %.5f' % (i,v))\n"
   ]
  },
  {
   "cell_type": "raw",
   "id": "61e87362",
   "metadata": {},
   "source": [
    "IMP=pd.DataFrame((X_train.columns),pd.Series(importance)).reset_index()\n",
    "IMP"
   ]
  },
  {
   "cell_type": "raw",
   "id": "cd8caa6b",
   "metadata": {},
   "source": [
    "IMP.sort_values(by='index',axis=0,ascending=False)"
   ]
  },
  {
   "cell_type": "code",
   "execution_count": null,
   "id": "ddf6e554",
   "metadata": {},
   "outputs": [],
   "source": []
  },
  {
   "cell_type": "code",
   "execution_count": null,
   "id": "42b26ee2",
   "metadata": {},
   "outputs": [],
   "source": []
  },
  {
   "cell_type": "raw",
   "id": "9f40509c",
   "metadata": {},
   "source": [
    "#RF importance\n",
    "X_train.columns.difference(['gender_F','credit_count_may','credit_count_apr','Income_HIGH','Income_LOW','account_type_saving'])"
   ]
  },
  {
   "cell_type": "raw",
   "id": "7ff1bf1f",
   "metadata": {},
   "source": [
    "#Ridge:\n",
    "['card_lim', 'cc_cons_apr', 'cc_cons_jun', 'cc_cons_may',\n",
    "       'credit_amount_apr', 'credit_amount_jun', 'credit_amount_may',\n",
    "       'dc_cons_apr', 'dc_cons_jun', 'dc_cons_may', 'debit_amount_apr',\n",
    "       'debit_amount_jun', 'debit_amount_may', 'emi_active', 'investment_1',\n",
    "       'investment_2', 'investment_3', 'investment_4', 'max_credit_amount_apr',\n",
    "       'max_credit_amount_jun', 'max_credit_amount_may']"
   ]
  },
  {
   "cell_type": "raw",
   "id": "6854d20e",
   "metadata": {},
   "source": [
    "#RandomForest:\n",
    "['card_lim', 'cc_cons_apr', 'cc_cons_jun', 'cc_cons_may',\n",
    "       'credit_amount_apr', 'credit_amount_jun', 'credit_amount_may',\n",
    "       'dc_cons_apr', 'dc_cons_jun', 'dc_cons_may', 'debit_amount_apr',\n",
    "       'debit_amount_jun', 'debit_amount_may', 'emi_active', 'investment_1',\n",
    "       'investment_2', 'investment_3', 'investment_4', 'max_credit_amount_apr',\n",
    "       'max_credit_amount_jun', 'max_credit_amount_may']"
   ]
  },
  {
   "cell_type": "code",
   "execution_count": null,
   "id": "815aea04",
   "metadata": {},
   "outputs": [],
   "source": []
  },
  {
   "cell_type": "markdown",
   "id": "a5382630",
   "metadata": {},
   "source": [
    "# Building the Model\n"
   ]
  },
  {
   "cell_type": "code",
   "execution_count": 213,
   "id": "90834bf6",
   "metadata": {},
   "outputs": [],
   "source": [
    "XX_train=X_train[['card_lim', 'cc_cons_apr', 'cc_cons_jun', 'cc_cons_may',\n",
    "       'credit_amount_apr', 'credit_amount_jun', 'credit_amount_may',\n",
    "       'dc_cons_apr', 'dc_cons_jun', 'dc_cons_may', 'debit_amount_apr',\n",
    "       'debit_amount_jun', 'debit_amount_may', 'emi_active', 'investment_1',\n",
    "       'investment_2', 'investment_3', 'investment_4', 'max_credit_amount_apr',\n",
    "       'max_credit_amount_jun', 'max_credit_amount_may']]\n",
    "YY_train= y_train"
   ]
  },
  {
   "cell_type": "code",
   "execution_count": 214,
   "id": "907a5a27",
   "metadata": {},
   "outputs": [],
   "source": [
    "XX_test=X_test[['card_lim', 'cc_cons_apr', 'cc_cons_jun', 'cc_cons_may',\n",
    "       'credit_amount_apr', 'credit_amount_jun', 'credit_amount_may',\n",
    "       'dc_cons_apr', 'dc_cons_jun', 'dc_cons_may', 'debit_amount_apr',\n",
    "       'debit_amount_jun', 'debit_amount_may', 'emi_active', 'investment_1',\n",
    "       'investment_2', 'investment_3', 'investment_4', 'max_credit_amount_apr',\n",
    "       'max_credit_amount_jun', 'max_credit_amount_may']]\n",
    "YY_test=y_test"
   ]
  },
  {
   "cell_type": "code",
   "execution_count": null,
   "id": "c6a12899",
   "metadata": {},
   "outputs": [],
   "source": []
  },
  {
   "cell_type": "code",
   "execution_count": 215,
   "id": "f54f0c52",
   "metadata": {},
   "outputs": [],
   "source": [
    "#train accuracy metrics\n",
    "#Mean Squared Error (MSE).\n",
    "#Root Mean Squared Error (RMSE).\n",
    "#Mean Absolute Error (MAE)"
   ]
  },
  {
   "cell_type": "markdown",
   "id": "5f74c35f",
   "metadata": {},
   "source": [
    "## LinearRegression"
   ]
  },
  {
   "cell_type": "code",
   "execution_count": 216,
   "id": "03b82ddc",
   "metadata": {},
   "outputs": [
    {
     "name": "stdout",
     "output_type": "stream",
     "text": [
      "regression score(r2):  0.7103824391889699\n",
      "Root Mean Squared Error (RMSE):  0.03747235717755502\n",
      "Root Mean Square Percentage Error (RMSPE):  388.5423672435037\n",
      "Mean Squared Error (MSE):  0.0014041775524422588\n",
      "Mean Absolute Error (MAE):  0.029694918036336625\n"
     ]
    }
   ],
   "source": [
    "from sklearn.linear_model import LinearRegression\n",
    "from sklearn import metrics\n",
    "lreg= LinearRegression()\n",
    "lreg=lreg.fit(XX_train,YY_train)\n",
    "\n",
    "#train accuracy metrics:\n",
    "YY_pred=lreg.predict(XX_train)\n",
    "\n",
    "print('regression score(r2): ',metrics.r2_score(YY_train, YY_pred))\n",
    "print('Root Mean Squared Error (RMSE): ',np.sqrt(metrics. mean_squared_error(YY_train, YY_pred)))\n",
    "print('Root Mean Square Percentage Error (RMSPE): ',np.sqrt(np.mean(np.square(((YY_train - YY_pred) / YY_train)), axis=0))*100)\n",
    "print('Mean Squared Error (MSE): ',metrics.mean_squared_error(YY_train, YY_pred))\n",
    "print('Mean Absolute Error (MAE): ',metrics.mean_absolute_error(YY_train, YY_pred))"
   ]
  },
  {
   "cell_type": "code",
   "execution_count": 217,
   "id": "1a0e948f",
   "metadata": {},
   "outputs": [
    {
     "data": {
      "image/png": "[encoded data removed]",
      "text/plain": [
       "<Figure size 500x500 with 1 Axes>"
      ]
     },
     "metadata": {},
     "output_type": "display_data"
    }
   ],
   "source": [
    "#Error Distribution\n",
    "sns.displot(YY_pred-YY_train,kind='kde')\n",
    "plt.show()"
   ]
  },
  {
   "cell_type": "code",
   "execution_count": 218,
   "id": "278b2255",
   "metadata": {},
   "outputs": [
    {
     "name": "stdout",
     "output_type": "stream",
     "text": [
      "regression score(r2):  0.7108370319101456\n",
      "Root Mean Squared Error (RMSE):  0.03636745621119843\n",
      "Mean Squared Error (MSE):  0.0013225918712734357\n",
      "Mean Absolute Error (MAE):  0.02959352044421477\n"
     ]
    }
   ],
   "source": [
    "#testing accuracy metrics\n",
    "YY_pred=lreg.predict(XX_test)\n",
    "from sklearn import metrics\n",
    "print('regression score(r2): ',metrics.r2_score(YY_test, YY_pred))\n",
    "print('Root Mean Squared Error (RMSE): ',np.sqrt(metrics. mean_squared_error(YY_test, YY_pred)))\n",
    "#print('Root Mean Square Percentage Error (RMSPE): ',np.sqrt(np.mean(np.square(((YY_test - YY_pred) / YY_test)), axis=0))*100)\n",
    "print('Mean Squared Error (MSE): ',metrics.mean_squared_error(YY_test, YY_pred))\n",
    "print('Mean Absolute Error (MAE): ',metrics.mean_absolute_error(YY_test, YY_pred))"
   ]
  },
  {
   "cell_type": "code",
   "execution_count": 219,
   "id": "5c218462",
   "metadata": {},
   "outputs": [
    {
     "data": {
      "image/png": "[encoded data removed]",
      "text/plain": [
       "<Figure size 500x500 with 1 Axes>"
      ]
     },
     "metadata": {},
     "output_type": "display_data"
    }
   ],
   "source": [
    "## Error Distribution\n",
    "sns.displot(YY_pred-YY_test,kind='kde')\n",
    "plt.show()"
   ]
  },
  {
   "cell_type": "code",
   "execution_count": 220,
   "id": "62af15ae",
   "metadata": {},
   "outputs": [
    {
     "data": {
      "text/plain": [
       "0.7048486239346975"
      ]
     },
     "execution_count": 220,
     "metadata": {},
     "output_type": "execute_result"
    }
   ],
   "source": [
    "from sklearn.model_selection import cross_val_score\n",
    "#cross_validation training\n",
    "r=cross_val_score(lreg,XX_train,YY_train,scoring='r2',cv=10)\n",
    "np.mean(r)"
   ]
  },
  {
   "cell_type": "code",
   "execution_count": 221,
   "id": "846e50f2",
   "metadata": {},
   "outputs": [
    {
     "data": {
      "text/plain": [
       "0.7091841730293529"
      ]
     },
     "execution_count": 221,
     "metadata": {},
     "output_type": "execute_result"
    }
   ],
   "source": [
    "#cross_validation testing\n",
    "r=cross_val_score(lreg,XX_test,YY_test,scoring='r2',cv=10)\n",
    "np.mean(r)"
   ]
  },
  {
   "cell_type": "code",
   "execution_count": null,
   "id": "f38f80b4",
   "metadata": {},
   "outputs": [],
   "source": []
  },
  {
   "cell_type": "code",
   "execution_count": null,
   "id": "246cb3e9",
   "metadata": {},
   "outputs": [],
   "source": []
  },
  {
   "cell_type": "code",
   "execution_count": null,
   "id": "90e256af",
   "metadata": {},
   "outputs": [],
   "source": []
  },
  {
   "cell_type": "code",
   "execution_count": null,
   "id": "6c7c4a17",
   "metadata": {},
   "outputs": [],
   "source": []
  },
  {
   "cell_type": "code",
   "execution_count": null,
   "id": "533ad559",
   "metadata": {},
   "outputs": [],
   "source": []
  },
  {
   "cell_type": "markdown",
   "id": "cfdeb7db",
   "metadata": {},
   "source": [
    "## DecisionTreeRegressor"
   ]
  },
  {
   "cell_type": "code",
   "execution_count": 222,
   "id": "8098f3f2",
   "metadata": {},
   "outputs": [],
   "source": [
    "from sklearn.tree import DecisionTreeRegressor"
   ]
  },
  {
   "cell_type": "raw",
   "id": "f590ecd6",
   "metadata": {},
   "source": [
    "param={'max_depth':[3,4,5,6,7],\n",
    "       'max_leaf_nodes':[10,15,20,25],\n",
    "       'max_features':[3,4,5,6,7,8,9,] \n",
    "}\n",
    "DTG=GridSearchCV(\n",
    "    DecisionTreeRegressor(),\n",
    "    param,\n",
    "    scoring='r2',\n",
    "    n_jobs=-1,\n",
    "    verbose=True\n",
    ")\n",
    "DTR=DTG.fit(XX_train,YY_train)\n",
    "DTR.best_params_"
   ]
  },
  {
   "cell_type": "raw",
   "id": "f7960d77",
   "metadata": {},
   "source": [
    "DT=DecisionTreeRegressor(criterion='squared_error',max_depth= 6, max_features= 9, max_leaf_nodes= 15)\n",
    "DT=DT.fit(XX_train,YY_train)\n",
    "\n",
    "#train accuracy metrics:\n",
    "YY_pred=DT.predict(XX_train)\n",
    "\n",
    "metrics.r2_score(YY_train, YY_pred)"
   ]
  },
  {
   "cell_type": "raw",
   "id": "33e3f357",
   "metadata": {},
   "source": [
    "YY_pred=DT.predict(XX_test)\n",
    "metrics.r2_score(YY_test, YY_pred)"
   ]
  },
  {
   "cell_type": "code",
   "execution_count": null,
   "id": "67fcff7a",
   "metadata": {},
   "outputs": [],
   "source": []
  },
  {
   "cell_type": "markdown",
   "id": "50a3ab77",
   "metadata": {},
   "source": [
    "## Random Forest "
   ]
  },
  {
   "cell_type": "code",
   "execution_count": 223,
   "id": "46b11117",
   "metadata": {},
   "outputs": [],
   "source": [
    "from sklearn.ensemble import RandomForestRegressor"
   ]
  },
  {
   "cell_type": "raw",
   "id": "51af6539",
   "metadata": {},
   "source": [
    "param={'n_estimators':[50,100,150,200],\n",
    "    'max_depth':[3,4,5],\n",
    "       'max_leaf_nodes':[10,15,20],\n",
    "       'max_features':[4,5,6] \n",
    "}\n",
    "RFG=GridSearchCV(\n",
    "    RandomForestRegressor(),\n",
    "    param,\n",
    "    scoring='r2',\n",
    "    n_jobs=-1,\n",
    "    cv=10,\n",
    "    verbose=True\n",
    ")\n",
    "RFR=RFG.fit(XX_train,YY_train)\n",
    "RFR.best_params_"
   ]
  },
  {
   "cell_type": "raw",
   "id": "3a1e6218",
   "metadata": {},
   "source": [
    "RF=RandomForestRegressor(criterion='squared_error',max_depth= 5, max_features= 6,max_leaf_nodes= 20, n_estimators= 100)\n",
    "RFR=RF.fit(XX_train,YY_train)\n",
    "\n",
    "#train accuracy metrics:\n",
    "YY_pred=RFR.predict(XX_train)\n",
    "\n",
    "metrics.r2_score(YY_train, YY_pred)"
   ]
  },
  {
   "cell_type": "raw",
   "id": "a79ee11b",
   "metadata": {},
   "source": [
    "YY_pred=RFR.predict(XX_test)\n",
    "metrics.r2_score(YY_test, YY_pred)"
   ]
  },
  {
   "cell_type": "code",
   "execution_count": null,
   "id": "9dd4da83",
   "metadata": {},
   "outputs": [],
   "source": []
  },
  {
   "cell_type": "code",
   "execution_count": 224,
   "id": "a15912f4",
   "metadata": {},
   "outputs": [],
   "source": [
    "from sklearn.ensemble import GradientBoostingRegressor\n",
    "import lightgbm\n",
    "import xgboost\n",
    "from xgboost import XGBRFRegressor \n",
    "from xgboost import XGBRegressor\n",
    "from sklearn.model_selection import GridSearchCV\n"
   ]
  },
  {
   "cell_type": "markdown",
   "id": "7068872c",
   "metadata": {},
   "source": [
    "## XGBRFRegressor"
   ]
  },
  {
   "cell_type": "raw",
   "id": "ec9ff467",
   "metadata": {},
   "source": [
    "param_grid = {'n_estimators': [100, 80, 60, 55, 51, 45],  \n",
    "              'max_depth': [7, 8,9,10],\n",
    "              'reg_lambda' :[0.26, 0.25, 0.2]\n",
    "             }\n",
    "XGBRG = GridSearchCV(XGBRFRegressor(), param_grid, refit = True, verbose = 3, n_jobs=-1)  \n",
    "XGBR=XGBRG.fit(XX_train,YY_train)\n",
    "XGBR.best_params_"
   ]
  },
  {
   "cell_type": "raw",
   "id": "376622a2",
   "metadata": {},
   "source": [
    "XGBR=XGBRFRegressor(max_depth= 9, n_estimators= 80, reg_lambda= 0.25)\n",
    "XGBR=XGBR.fit(XX_train,YY_train)\n",
    "\n",
    "#train accuracy metrics:\n",
    "YY_pred=XGBR.predict(XX_train)\n",
    "\n",
    "metrics.r2_score(YY_train, YY_pred)"
   ]
  },
  {
   "cell_type": "raw",
   "id": "850974ec",
   "metadata": {},
   "source": [
    "YY_pred=XGBR.predict(XX_test)\n",
    "metrics.r2_score(YY_test, YY_pred)"
   ]
  },
  {
   "cell_type": "code",
   "execution_count": null,
   "id": "92ecbd0a",
   "metadata": {},
   "outputs": [],
   "source": []
  },
  {
   "cell_type": "code",
   "execution_count": null,
   "id": "162d5a2b",
   "metadata": {},
   "outputs": [],
   "source": []
  },
  {
   "cell_type": "code",
   "execution_count": null,
   "id": "bd607c15",
   "metadata": {},
   "outputs": [],
   "source": []
  },
  {
   "cell_type": "markdown",
   "id": "ed0e2816",
   "metadata": {},
   "source": [
    "## GradientBoostingRegressor"
   ]
  },
  {
   "cell_type": "raw",
   "id": "82b49678",
   "metadata": {},
   "source": [
    "param_grid = {'n_estimators': [120,110,100,90,80],  \n",
    "              'max_depth': [1,2,3,4],\n",
    "              'alpha' :[0.7, 0.8, 0.9,1],\n",
    "              'criterion' : ['friedman_mse', 'squared_error']\n",
    "             }\n",
    "GBRG = GridSearchCV(GradientBoostingRegressor(), param_grid, refit = True, verbose = 3, n_jobs=-1)  \n",
    "GBR=GBRG.fit(XX_train,YY_train)\n",
    "GBR.best_params_"
   ]
  },
  {
   "cell_type": "raw",
   "id": "b17202d4",
   "metadata": {},
   "source": [
    "GBR=GradientBoostingRegressor(alpha= 0.9,\n",
    " criterion= 'squared_error',max_depth= 3, n_estimators= 80)\n",
    "GBR=XGBR.fit(XX_train,YY_train)\n",
    "\n",
    "#train accuracy metrics:\n",
    "YY_pred=GBR.predict(XX_train)\n",
    "\n",
    "metrics.r2_score(YY_train, YY_pred)"
   ]
  },
  {
   "cell_type": "raw",
   "id": "04b3dc79",
   "metadata": {},
   "source": [
    "YY_pred=GBR.predict(XX_test)\n",
    "metrics.r2_score(YY_test, YY_pred)"
   ]
  },
  {
   "cell_type": "code",
   "execution_count": null,
   "id": "d767691c",
   "metadata": {},
   "outputs": [],
   "source": []
  },
  {
   "cell_type": "code",
   "execution_count": null,
   "id": "d39ae332",
   "metadata": {},
   "outputs": [],
   "source": []
  },
  {
   "cell_type": "code",
   "execution_count": null,
   "id": "0012a6b4",
   "metadata": {},
   "outputs": [],
   "source": []
  },
  {
   "cell_type": "code",
   "execution_count": null,
   "id": "5191cde4",
   "metadata": {},
   "outputs": [],
   "source": []
  },
  {
   "cell_type": "markdown",
   "id": "6e90589e",
   "metadata": {},
   "source": [
    "### XGBRegressor"
   ]
  },
  {
   "cell_type": "raw",
   "id": "5ddfa668",
   "metadata": {},
   "source": [
    "param_grid = {'n_estimators': [120,110,100,90,80],  \n",
    "              'max_depth': [1,2,3,4],\n",
    "              'alpha' :[0.7, 0.8, 0.9,1],\n",
    "              'criterion' : ['friedman_mse', 'squared_error']\n",
    "             }\n",
    "GBRG = GridSearchCV(XGBRegressor(), param_grid, refit = True, verbose = 3, n_jobs=-1)  \n",
    "GBR=GBRG.fit(XX_train,YY_train)\n",
    "GBR.best_params_"
   ]
  },
  {
   "cell_type": "raw",
   "id": "714f7d9a",
   "metadata": {},
   "source": [
    "GBR=XGBRegressor(max_depth= 9, n_estimators= 80, reg_lambda= 0.25)\n",
    "GBR=XGBR.fit(XX_train,YY_train)\n",
    "\n",
    "#train accuracy metrics:\n",
    "YY_pred=GBR.predict(XX_train)\n",
    "\n",
    "metrics.r2_score(YY_train, YY_pred)"
   ]
  },
  {
   "cell_type": "raw",
   "id": "a2cf1755",
   "metadata": {},
   "source": [
    "YY_pred=GBR.predict(XX_test)\n",
    "metrics.r2_score(YY_test, YY_pred)"
   ]
  },
  {
   "cell_type": "code",
   "execution_count": null,
   "id": "3dc6499f",
   "metadata": {},
   "outputs": [],
   "source": []
  },
  {
   "cell_type": "code",
   "execution_count": null,
   "id": "b28679df",
   "metadata": {},
   "outputs": [],
   "source": []
  },
  {
   "cell_type": "code",
   "execution_count": null,
   "id": "54919d57",
   "metadata": {},
   "outputs": [],
   "source": []
  },
  {
   "cell_type": "code",
   "execution_count": null,
   "id": "2e8889cd",
   "metadata": {},
   "outputs": [],
   "source": []
  },
  {
   "cell_type": "code",
   "execution_count": null,
   "id": "97cf2237",
   "metadata": {},
   "outputs": [],
   "source": []
  },
  {
   "cell_type": "markdown",
   "id": "8c0518dd",
   "metadata": {},
   "source": [
    "# predicting Target missing value "
   ]
  },
  {
   "cell_type": "code",
   "execution_count": 225,
   "id": "93332187",
   "metadata": {},
   "outputs": [
    {
     "data": {
      "text/plain": [
       "15000   NaN\n",
       "15001   NaN\n",
       "15002   NaN\n",
       "15003   NaN\n",
       "15004   NaN\n",
       "         ..\n",
       "19995   NaN\n",
       "19996   NaN\n",
       "19997   NaN\n",
       "19998   NaN\n",
       "19999   NaN\n",
       "Name: cc_cons, Length: 5000, dtype: float64"
      ]
     },
     "execution_count": 225,
     "metadata": {},
     "output_type": "execute_result"
    }
   ],
   "source": [
    "Customer_missing_cc_cons"
   ]
  },
  {
   "cell_type": "code",
   "execution_count": 231,
   "id": "b614151a",
   "metadata": {},
   "outputs": [],
   "source": [
    "#1)\n",
    "# Column segregation\n",
    "Bincol=['account_type','gender','loan_enq']\n",
    "Ordcol=['Income']\n",
    "Numcol=list(set(Customer_missing_cc_cons.columns).difference(set(Bincol).union(set(Ordcol))).difference(['cc_cons']))"
   ]
  },
  {
   "cell_type": "code",
   "execution_count": 232,
   "id": "d4bdc74e",
   "metadata": {},
   "outputs": [],
   "source": [
    "\n",
    "#2)\n",
    "# Dummy encoding \n",
    "#Nomcol\n",
    "#new_Customer_existing=pd.get_dummies(Customer_existing_cc_cons, columns =Bincol)\n",
    "#Ordcol\n",
    "'''\n",
    "# Create Y Multinomial variable\n",
    "dim={'LOW':0,'MEDIUM':1, 'HIGH':2}\n",
    "new_Customer_existing['Income']=new_Customer_existing['Income'].map(dim)\n",
    "'''\n",
    "#one_hot_encoding\n",
    "new_Customer_missing_cc_cons=pd.get_dummies(Customer_missing_cc_cons, columns = ['Income','account_type','gender','loan_enq'])\n"
   ]
  },
  {
   "cell_type": "code",
   "execution_count": 233,
   "id": "c80d89f1",
   "metadata": {},
   "outputs": [],
   "source": [
    "\n",
    "#3)\n",
    "###zero-deviation columns droping :\n",
    "#below columns have no deviation from the average\n",
    "new_Customer_missing_cc_cons.std()==0\n",
    "#droping columns\n",
    "new_Customer_missing_cc_cons = new_Customer_missing_cc_cons.drop(new_Customer_missing_cc_cons.columns[new_Customer_missing_cc_cons.nunique() == 1],axis=1)\n"
   ]
  },
  {
   "cell_type": "code",
   "execution_count": 236,
   "id": "18a77106",
   "metadata": {},
   "outputs": [],
   "source": [
    "\n",
    "#4)\n",
    "#missing value clumns:\n",
    "#new_Customer_existing.columns[new_Customer_existing.isnull().sum()>0]\n",
    "\n",
    "#missing value treatment\n",
    "#droping id,cc_cons\n",
    "new_Customer_missing_cc_cons=new_Customer_missing_cc_cons.drop(columns=['ID','cc_cons'])\n",
    "\n",
    "#new_Customer_existing=new_Customer_existing.fillna(np.median)\n",
    "new_Customer_missing_cc_cons=new_Customer_missing_cc_cons.dropna()\n",
    "\n"
   ]
  },
  {
   "cell_type": "code",
   "execution_count": 238,
   "id": "401db4d5",
   "metadata": {},
   "outputs": [
    {
     "name": "stderr",
     "output_type": "stream",
     "text": [
      "C:\\Users\\Shubham Jadhav\\anaconda3\\lib\\site-packages\\seaborn\\_decorators.py:36: FutureWarning: Pass the following variable as a keyword arg: x. From version 0.12, the only valid positional argument will be `data`, and passing other arguments without an explicit keyword will result in an error or misinterpretation.\n",
      "  warnings.warn(\n"
     ]
    },
    {
     "data": {
      "image/png": "[encoded data removed]",
      "text/plain": [
       "<Figure size 640x480 with 1 Axes>"
      ]
     },
     "metadata": {},
     "output_type": "display_data"
    },
    {
     "name": "stderr",
     "output_type": "stream",
     "text": [
      "C:\\Users\\Shubham Jadhav\\anaconda3\\lib\\site-packages\\seaborn\\_decorators.py:36: FutureWarning: Pass the following variable as a keyword arg: x. From version 0.12, the only valid positional argument will be `data`, and passing other arguments without an explicit keyword will result in an error or misinterpretation.\n",
      "  warnings.warn(\n"
     ]
    },
    {
     "data": {
      "image/png": "[encoded data removed]",
      "text/plain": [
       "<Figure size 640x480 with 1 Axes>"
      ]
     },
     "metadata": {},
     "output_type": "display_data"
    },
    {
     "name": "stderr",
     "output_type": "stream",
     "text": [
      "C:\\Users\\Shubham Jadhav\\anaconda3\\lib\\site-packages\\seaborn\\_decorators.py:36: FutureWarning: Pass the following variable as a keyword arg: x. From version 0.12, the only valid positional argument will be `data`, and passing other arguments without an explicit keyword will result in an error or misinterpretation.\n",
      "  warnings.warn(\n"
     ]
    },
    {
     "data": {
      "image/png": "[encoded data removed]",
      "text/plain": [
       "<Figure size 640x480 with 1 Axes>"
      ]
     },
     "metadata": {},
     "output_type": "display_data"
    },
    {
     "name": "stderr",
     "output_type": "stream",
     "text": [
      "C:\\Users\\Shubham Jadhav\\anaconda3\\lib\\site-packages\\seaborn\\_decorators.py:36: FutureWarning: Pass the following variable as a keyword arg: x. From version 0.12, the only valid positional argument will be `data`, and passing other arguments without an explicit keyword will result in an error or misinterpretation.\n",
      "  warnings.warn(\n"
     ]
    },
    {
     "data": {
      "image/png": "[encoded data removed]",
      "text/plain": [
       "<Figure size 640x480 with 1 Axes>"
      ]
     },
     "metadata": {},
     "output_type": "display_data"
    },
    {
     "name": "stderr",
     "output_type": "stream",
     "text": [
      "C:\\Users\\Shubham Jadhav\\anaconda3\\lib\\site-packages\\seaborn\\_decorators.py:36: FutureWarning: Pass the following variable as a keyword arg: x. From version 0.12, the only valid positional argument will be `data`, and passing other arguments without an explicit keyword will result in an error or misinterpretation.\n",
      "  warnings.warn(\n"
     ]
    },
    {
     "data": {
      "image/png": "[encoded data removed]",
      "text/plain": [
       "<Figure size 640x480 with 1 Axes>"
      ]
     },
     "metadata": {},
     "output_type": "display_data"
    },
    {
     "name": "stderr",
     "output_type": "stream",
     "text": [
      "C:\\Users\\Shubham Jadhav\\anaconda3\\lib\\site-packages\\seaborn\\_decorators.py:36: FutureWarning: Pass the following variable as a keyword arg: x. From version 0.12, the only valid positional argument will be `data`, and passing other arguments without an explicit keyword will result in an error or misinterpretation.\n",
      "  warnings.warn(\n"
     ]
    },
    {
     "data": {
      "image/png": "[encoded data removed]",
      "text/plain": [
       "<Figure size 640x480 with 1 Axes>"
      ]
     },
     "metadata": {},
     "output_type": "display_data"
    },
    {
     "name": "stderr",
     "output_type": "stream",
     "text": [
      "C:\\Users\\Shubham Jadhav\\anaconda3\\lib\\site-packages\\seaborn\\_decorators.py:36: FutureWarning: Pass the following variable as a keyword arg: x. From version 0.12, the only valid positional argument will be `data`, and passing other arguments without an explicit keyword will result in an error or misinterpretation.\n",
      "  warnings.warn(\n"
     ]
    },
    {
     "data": {
      "image/png": "[encoded data removed]",
      "text/plain": [
       "<Figure size 640x480 with 1 Axes>"
      ]
     },
     "metadata": {},
     "output_type": "display_data"
    },
    {
     "name": "stderr",
     "output_type": "stream",
     "text": [
      "C:\\Users\\Shubham Jadhav\\anaconda3\\lib\\site-packages\\seaborn\\_decorators.py:36: FutureWarning: Pass the following variable as a keyword arg: x. From version 0.12, the only valid positional argument will be `data`, and passing other arguments without an explicit keyword will result in an error or misinterpretation.\n",
      "  warnings.warn(\n"
     ]
    },
    {
     "data": {
      "image/png": "[encoded data removed]",
      "text/plain": [
       "<Figure size 640x480 with 1 Axes>"
      ]
     },
     "metadata": {},
     "output_type": "display_data"
    },
    {
     "name": "stderr",
     "output_type": "stream",
     "text": [
      "C:\\Users\\Shubham Jadhav\\anaconda3\\lib\\site-packages\\seaborn\\_decorators.py:36: FutureWarning: Pass the following variable as a keyword arg: x. From version 0.12, the only valid positional argument will be `data`, and passing other arguments without an explicit keyword will result in an error or misinterpretation.\n",
      "  warnings.warn(\n"
     ]
    },
    {
     "data": {
      "image/png": "[encoded data removed]",
      "text/plain": [
       "<Figure size 640x480 with 1 Axes>"
      ]
     },
     "metadata": {},
     "output_type": "display_data"
    },
    {
     "name": "stderr",
     "output_type": "stream",
     "text": [
      "C:\\Users\\Shubham Jadhav\\anaconda3\\lib\\site-packages\\seaborn\\_decorators.py:36: FutureWarning: Pass the following variable as a keyword arg: x. From version 0.12, the only valid positional argument will be `data`, and passing other arguments without an explicit keyword will result in an error or misinterpretation.\n",
      "  warnings.warn(\n"
     ]
    },
    {
     "data": {
      "image/png": "[encoded data removed]",
      "text/plain": [
       "<Figure size 640x480 with 1 Axes>"
      ]
     },
     "metadata": {},
     "output_type": "display_data"
    },
    {
     "name": "stderr",
     "output_type": "stream",
     "text": [
      "C:\\Users\\Shubham Jadhav\\anaconda3\\lib\\site-packages\\seaborn\\_decorators.py:36: FutureWarning: Pass the following variable as a keyword arg: x. From version 0.12, the only valid positional argument will be `data`, and passing other arguments without an explicit keyword will result in an error or misinterpretation.\n",
      "  warnings.warn(\n"
     ]
    },
    {
     "data": {
      "image/png": "[encoded data removed]",
      "text/plain": [
       "<Figure size 640x480 with 1 Axes>"
      ]
     },
     "metadata": {},
     "output_type": "display_data"
    },
    {
     "name": "stderr",
     "output_type": "stream",
     "text": [
      "C:\\Users\\Shubham Jadhav\\anaconda3\\lib\\site-packages\\seaborn\\_decorators.py:36: FutureWarning: Pass the following variable as a keyword arg: x. From version 0.12, the only valid positional argument will be `data`, and passing other arguments without an explicit keyword will result in an error or misinterpretation.\n",
      "  warnings.warn(\n"
     ]
    },
    {
     "data": {
      "image/png": "[encoded data removed]",
      "text/plain": [
       "<Figure size 640x480 with 1 Axes>"
      ]
     },
     "metadata": {},
     "output_type": "display_data"
    },
    {
     "name": "stderr",
     "output_type": "stream",
     "text": [
      "C:\\Users\\Shubham Jadhav\\anaconda3\\lib\\site-packages\\seaborn\\_decorators.py:36: FutureWarning: Pass the following variable as a keyword arg: x. From version 0.12, the only valid positional argument will be `data`, and passing other arguments without an explicit keyword will result in an error or misinterpretation.\n",
      "  warnings.warn(\n"
     ]
    },
    {
     "data": {
      "image/png": "[encoded data removed]",
      "text/plain": [
       "<Figure size 640x480 with 1 Axes>"
      ]
     },
     "metadata": {},
     "output_type": "display_data"
    },
    {
     "name": "stderr",
     "output_type": "stream",
     "text": [
      "C:\\Users\\Shubham Jadhav\\anaconda3\\lib\\site-packages\\seaborn\\_decorators.py:36: FutureWarning: Pass the following variable as a keyword arg: x. From version 0.12, the only valid positional argument will be `data`, and passing other arguments without an explicit keyword will result in an error or misinterpretation.\n",
      "  warnings.warn(\n"
     ]
    },
    {
     "data": {
      "image/png": "[encoded data removed]",
      "text/plain": [
       "<Figure size 640x480 with 1 Axes>"
      ]
     },
     "metadata": {},
     "output_type": "display_data"
    },
    {
     "name": "stderr",
     "output_type": "stream",
     "text": [
      "C:\\Users\\Shubham Jadhav\\anaconda3\\lib\\site-packages\\seaborn\\_decorators.py:36: FutureWarning: Pass the following variable as a keyword arg: x. From version 0.12, the only valid positional argument will be `data`, and passing other arguments without an explicit keyword will result in an error or misinterpretation.\n",
      "  warnings.warn(\n"
     ]
    },
    {
     "data": {
      "image/png": "[encoded data removed]",
      "text/plain": [
       "<Figure size 640x480 with 1 Axes>"
      ]
     },
     "metadata": {},
     "output_type": "display_data"
    },
    {
     "name": "stderr",
     "output_type": "stream",
     "text": [
      "C:\\Users\\Shubham Jadhav\\anaconda3\\lib\\site-packages\\seaborn\\_decorators.py:36: FutureWarning: Pass the following variable as a keyword arg: x. From version 0.12, the only valid positional argument will be `data`, and passing other arguments without an explicit keyword will result in an error or misinterpretation.\n",
      "  warnings.warn(\n"
     ]
    },
    {
     "data": {
      "image/png": "[encoded data removed]",
      "text/plain": [
       "<Figure size 640x480 with 1 Axes>"
      ]
     },
     "metadata": {},
     "output_type": "display_data"
    },
    {
     "name": "stderr",
     "output_type": "stream",
     "text": [
      "C:\\Users\\Shubham Jadhav\\anaconda3\\lib\\site-packages\\seaborn\\_decorators.py:36: FutureWarning: Pass the following variable as a keyword arg: x. From version 0.12, the only valid positional argument will be `data`, and passing other arguments without an explicit keyword will result in an error or misinterpretation.\n",
      "  warnings.warn(\n"
     ]
    },
    {
     "data": {
      "image/png": "[encoded data removed]",
      "text/plain": [
       "<Figure size 640x480 with 1 Axes>"
      ]
     },
     "metadata": {},
     "output_type": "display_data"
    },
    {
     "name": "stderr",
     "output_type": "stream",
     "text": [
      "C:\\Users\\Shubham Jadhav\\anaconda3\\lib\\site-packages\\seaborn\\_decorators.py:36: FutureWarning: Pass the following variable as a keyword arg: x. From version 0.12, the only valid positional argument will be `data`, and passing other arguments without an explicit keyword will result in an error or misinterpretation.\n",
      "  warnings.warn(\n"
     ]
    },
    {
     "data": {
      "image/png": "[encoded data removed]",
      "text/plain": [
       "<Figure size 640x480 with 1 Axes>"
      ]
     },
     "metadata": {},
     "output_type": "display_data"
    },
    {
     "name": "stderr",
     "output_type": "stream",
     "text": [
      "C:\\Users\\Shubham Jadhav\\anaconda3\\lib\\site-packages\\seaborn\\_decorators.py:36: FutureWarning: Pass the following variable as a keyword arg: x. From version 0.12, the only valid positional argument will be `data`, and passing other arguments without an explicit keyword will result in an error or misinterpretation.\n",
      "  warnings.warn(\n"
     ]
    },
    {
     "data": {
      "image/png": "[encoded data removed]",
      "text/plain": [
       "<Figure size 640x480 with 1 Axes>"
      ]
     },
     "metadata": {},
     "output_type": "display_data"
    },
    {
     "name": "stderr",
     "output_type": "stream",
     "text": [
      "C:\\Users\\Shubham Jadhav\\anaconda3\\lib\\site-packages\\seaborn\\_decorators.py:36: FutureWarning: Pass the following variable as a keyword arg: x. From version 0.12, the only valid positional argument will be `data`, and passing other arguments without an explicit keyword will result in an error or misinterpretation.\n",
      "  warnings.warn(\n"
     ]
    },
    {
     "data": {
      "image/png": "[encoded data removed]",
      "text/plain": [
       "<Figure size 640x480 with 1 Axes>"
      ]
     },
     "metadata": {},
     "output_type": "display_data"
    },
    {
     "name": "stderr",
     "output_type": "stream",
     "text": [
      "C:\\Users\\Shubham Jadhav\\anaconda3\\lib\\site-packages\\seaborn\\_decorators.py:36: FutureWarning: Pass the following variable as a keyword arg: x. From version 0.12, the only valid positional argument will be `data`, and passing other arguments without an explicit keyword will result in an error or misinterpretation.\n",
      "  warnings.warn(\n"
     ]
    },
    {
     "data": {
      "image/png": "[encoded data removed]",
      "text/plain": [
       "<Figure size 640x480 with 1 Axes>"
      ]
     },
     "metadata": {},
     "output_type": "display_data"
    },
    {
     "name": "stderr",
     "output_type": "stream",
     "text": [
      "C:\\Users\\Shubham Jadhav\\anaconda3\\lib\\site-packages\\seaborn\\_decorators.py:36: FutureWarning: Pass the following variable as a keyword arg: x. From version 0.12, the only valid positional argument will be `data`, and passing other arguments without an explicit keyword will result in an error or misinterpretation.\n",
      "  warnings.warn(\n"
     ]
    },
    {
     "data": {
      "image/png": "[encoded data removed]",
      "text/plain": [
       "<Figure size 640x480 with 1 Axes>"
      ]
     },
     "metadata": {},
     "output_type": "display_data"
    },
    {
     "name": "stderr",
     "output_type": "stream",
     "text": [
      "C:\\Users\\Shubham Jadhav\\anaconda3\\lib\\site-packages\\seaborn\\_decorators.py:36: FutureWarning: Pass the following variable as a keyword arg: x. From version 0.12, the only valid positional argument will be `data`, and passing other arguments without an explicit keyword will result in an error or misinterpretation.\n",
      "  warnings.warn(\n"
     ]
    },
    {
     "data": {
      "image/png": "[encoded data removed]",
      "text/plain": [
       "<Figure size 640x480 with 1 Axes>"
      ]
     },
     "metadata": {},
     "output_type": "display_data"
    },
    {
     "name": "stderr",
     "output_type": "stream",
     "text": [
      "C:\\Users\\Shubham Jadhav\\anaconda3\\lib\\site-packages\\seaborn\\_decorators.py:36: FutureWarning: Pass the following variable as a keyword arg: x. From version 0.12, the only valid positional argument will be `data`, and passing other arguments without an explicit keyword will result in an error or misinterpretation.\n",
      "  warnings.warn(\n"
     ]
    },
    {
     "data": {
      "image/png": "[encoded data removed]",
      "text/plain": [
       "<Figure size 640x480 with 1 Axes>"
      ]
     },
     "metadata": {},
     "output_type": "display_data"
    },
    {
     "name": "stderr",
     "output_type": "stream",
     "text": [
      "C:\\Users\\Shubham Jadhav\\anaconda3\\lib\\site-packages\\seaborn\\_decorators.py:36: FutureWarning: Pass the following variable as a keyword arg: x. From version 0.12, the only valid positional argument will be `data`, and passing other arguments without an explicit keyword will result in an error or misinterpretation.\n",
      "  warnings.warn(\n"
     ]
    },
    {
     "data": {
      "image/png": "[encoded data removed]",
      "text/plain": [
       "<Figure size 640x480 with 1 Axes>"
      ]
     },
     "metadata": {},
     "output_type": "display_data"
    },
    {
     "name": "stderr",
     "output_type": "stream",
     "text": [
      "C:\\Users\\Shubham Jadhav\\anaconda3\\lib\\site-packages\\seaborn\\_decorators.py:36: FutureWarning: Pass the following variable as a keyword arg: x. From version 0.12, the only valid positional argument will be `data`, and passing other arguments without an explicit keyword will result in an error or misinterpretation.\n",
      "  warnings.warn(\n"
     ]
    },
    {
     "data": {
      "image/png": "[encoded data removed]",
      "text/plain": [
       "<Figure size 640x480 with 1 Axes>"
      ]
     },
     "metadata": {},
     "output_type": "display_data"
    },
    {
     "name": "stderr",
     "output_type": "stream",
     "text": [
      "C:\\Users\\Shubham Jadhav\\anaconda3\\lib\\site-packages\\seaborn\\_decorators.py:36: FutureWarning: Pass the following variable as a keyword arg: x. From version 0.12, the only valid positional argument will be `data`, and passing other arguments without an explicit keyword will result in an error or misinterpretation.\n",
      "  warnings.warn(\n"
     ]
    },
    {
     "data": {
      "image/png": "[encoded data removed]",
      "text/plain": [
       "<Figure size 640x480 with 1 Axes>"
      ]
     },
     "metadata": {},
     "output_type": "display_data"
    },
    {
     "name": "stderr",
     "output_type": "stream",
     "text": [
      "C:\\Users\\Shubham Jadhav\\anaconda3\\lib\\site-packages\\seaborn\\_decorators.py:36: FutureWarning: Pass the following variable as a keyword arg: x. From version 0.12, the only valid positional argument will be `data`, and passing other arguments without an explicit keyword will result in an error or misinterpretation.\n",
      "  warnings.warn(\n"
     ]
    },
    {
     "data": {
      "image/png": "[encoded data removed]",
      "text/plain": [
       "<Figure size 640x480 with 1 Axes>"
      ]
     },
     "metadata": {},
     "output_type": "display_data"
    },
    {
     "name": "stderr",
     "output_type": "stream",
     "text": [
      "C:\\Users\\Shubham Jadhav\\anaconda3\\lib\\site-packages\\seaborn\\_decorators.py:36: FutureWarning: Pass the following variable as a keyword arg: x. From version 0.12, the only valid positional argument will be `data`, and passing other arguments without an explicit keyword will result in an error or misinterpretation.\n",
      "  warnings.warn(\n"
     ]
    },
    {
     "data": {
      "image/png": "[encoded data removed]",
      "text/plain": [
       "<Figure size 640x480 with 1 Axes>"
      ]
     },
     "metadata": {},
     "output_type": "display_data"
    },
    {
     "name": "stderr",
     "output_type": "stream",
     "text": [
      "C:\\Users\\Shubham Jadhav\\anaconda3\\lib\\site-packages\\seaborn\\_decorators.py:36: FutureWarning: Pass the following variable as a keyword arg: x. From version 0.12, the only valid positional argument will be `data`, and passing other arguments without an explicit keyword will result in an error or misinterpretation.\n",
      "  warnings.warn(\n"
     ]
    },
    {
     "data": {
      "image/png": "[encoded data removed]",
      "text/plain": [
       "<Figure size 640x480 with 1 Axes>"
      ]
     },
     "metadata": {},
     "output_type": "display_data"
    },
    {
     "name": "stderr",
     "output_type": "stream",
     "text": [
      "C:\\Users\\Shubham Jadhav\\anaconda3\\lib\\site-packages\\seaborn\\_decorators.py:36: FutureWarning: Pass the following variable as a keyword arg: x. From version 0.12, the only valid positional argument will be `data`, and passing other arguments without an explicit keyword will result in an error or misinterpretation.\n",
      "  warnings.warn(\n"
     ]
    },
    {
     "data": {
      "image/png": "[encoded data removed]",
      "text/plain": [
       "<Figure size 640x480 with 1 Axes>"
      ]
     },
     "metadata": {},
     "output_type": "display_data"
    },
    {
     "name": "stderr",
     "output_type": "stream",
     "text": [
      "C:\\Users\\Shubham Jadhav\\anaconda3\\lib\\site-packages\\seaborn\\_decorators.py:36: FutureWarning: Pass the following variable as a keyword arg: x. From version 0.12, the only valid positional argument will be `data`, and passing other arguments without an explicit keyword will result in an error or misinterpretation.\n",
      "  warnings.warn(\n"
     ]
    },
    {
     "data": {
      "image/png": "[encoded data removed]",
      "text/plain": [
       "<Figure size 640x480 with 1 Axes>"
      ]
     },
     "metadata": {},
     "output_type": "display_data"
    },
    {
     "name": "stderr",
     "output_type": "stream",
     "text": [
      "C:\\Users\\Shubham Jadhav\\anaconda3\\lib\\site-packages\\seaborn\\_decorators.py:36: FutureWarning: Pass the following variable as a keyword arg: x. From version 0.12, the only valid positional argument will be `data`, and passing other arguments without an explicit keyword will result in an error or misinterpretation.\n",
      "  warnings.warn(\n"
     ]
    },
    {
     "data": {
      "image/png": "[encoded data removed]",
      "text/plain": [
       "<Figure size 640x480 with 1 Axes>"
      ]
     },
     "metadata": {},
     "output_type": "display_data"
    },
    {
     "name": "stderr",
     "output_type": "stream",
     "text": [
      "C:\\Users\\Shubham Jadhav\\anaconda3\\lib\\site-packages\\seaborn\\_decorators.py:36: FutureWarning: Pass the following variable as a keyword arg: x. From version 0.12, the only valid positional argument will be `data`, and passing other arguments without an explicit keyword will result in an error or misinterpretation.\n",
      "  warnings.warn(\n"
     ]
    },
    {
     "data": {
      "image/png": "[encoded data removed]",
      "text/plain": [
       "<Figure size 640x480 with 1 Axes>"
      ]
     },
     "metadata": {},
     "output_type": "display_data"
    },
    {
     "name": "stderr",
     "output_type": "stream",
     "text": [
      "C:\\Users\\Shubham Jadhav\\anaconda3\\lib\\site-packages\\seaborn\\_decorators.py:36: FutureWarning: Pass the following variable as a keyword arg: x. From version 0.12, the only valid positional argument will be `data`, and passing other arguments without an explicit keyword will result in an error or misinterpretation.\n",
      "  warnings.warn(\n"
     ]
    },
    {
     "data": {
      "image/png": "[encoded data removed]",
      "text/plain": [
       "<Figure size 640x480 with 1 Axes>"
      ]
     },
     "metadata": {},
     "output_type": "display_data"
    },
    {
     "name": "stderr",
     "output_type": "stream",
     "text": [
      "C:\\Users\\Shubham Jadhav\\anaconda3\\lib\\site-packages\\seaborn\\_decorators.py:36: FutureWarning: Pass the following variable as a keyword arg: x. From version 0.12, the only valid positional argument will be `data`, and passing other arguments without an explicit keyword will result in an error or misinterpretation.\n",
      "  warnings.warn(\n"
     ]
    },
    {
     "data": {
      "image/png": "[encoded data removed]",
      "text/plain": [
       "<Figure size 640x480 with 1 Axes>"
      ]
     },
     "metadata": {},
     "output_type": "display_data"
    },
    {
     "name": "stderr",
     "output_type": "stream",
     "text": [
      "C:\\Users\\Shubham Jadhav\\anaconda3\\lib\\site-packages\\seaborn\\_decorators.py:36: FutureWarning: Pass the following variable as a keyword arg: x. From version 0.12, the only valid positional argument will be `data`, and passing other arguments without an explicit keyword will result in an error or misinterpretation.\n",
      "  warnings.warn(\n"
     ]
    },
    {
     "data": {
      "image/png": "[encoded data removed]",
      "text/plain": [
       "<Figure size 640x480 with 1 Axes>"
      ]
     },
     "metadata": {},
     "output_type": "display_data"
    },
    {
     "name": "stderr",
     "output_type": "stream",
     "text": [
      "C:\\Users\\Shubham Jadhav\\anaconda3\\lib\\site-packages\\seaborn\\_decorators.py:36: FutureWarning: Pass the following variable as a keyword arg: x. From version 0.12, the only valid positional argument will be `data`, and passing other arguments without an explicit keyword will result in an error or misinterpretation.\n",
      "  warnings.warn(\n"
     ]
    },
    {
     "data": {
      "image/png": "[encoded data removed]",
      "text/plain": [
       "<Figure size 640x480 with 1 Axes>"
      ]
     },
     "metadata": {},
     "output_type": "display_data"
    }
   ],
   "source": [
    "#5)\n",
    "\n",
    "# outlier treatment\n",
    "for i in new_Customer_missing_cc_cons[new_Customer_missing_cc_cons.columns.difference(['gender_F','gender_M','loan_enq_Y','account_type_saving','account_type_current','Income_HIGH', 'Income_LOW','Income_MEDIUM','NetBanking_Flag'])]:\n",
    "    _, bp = pd.DataFrame.boxplot(new_Customer_missing_cc_cons[i], return_type='both')\n",
    "    whiskers = [whiskers.get_ydata() for whiskers in bp[\"whiskers\"]]\n",
    "    new_Customer_missing_cc_cons[i].clip(lower=whiskers[0][1],upper=whiskers[1][1],inplace=True)\n",
    "    sns.boxplot(new_Customer_missing_cc_cons[i])\n",
    "    plt.show()"
   ]
  },
  {
   "cell_type": "code",
   "execution_count": 304,
   "id": "cd4f62b4",
   "metadata": {},
   "outputs": [],
   "source": [
    "#6)\n",
    "DF1=new_Customer_missing_cc_cons\n",
    "\n",
    "#Normalization\n",
    "DF2=preprocessing.normalize(DF1)\n",
    "DF3=pd.DataFrame(DF2,columns=new_Customer_missing_cc_cons.columns)"
   ]
  },
  {
   "cell_type": "code",
   "execution_count": 305,
   "id": "9184cc74",
   "metadata": {},
   "outputs": [],
   "source": [
    "#8)\n",
    "\n",
    "DF4=np.square(DF3)"
   ]
  },
  {
   "cell_type": "code",
   "execution_count": 306,
   "id": "1131db41",
   "metadata": {},
   "outputs": [
    {
     "name": "stdout",
     "output_type": "stream",
     "text": [
      "                         feature       VIF\n",
      "0   Avg_days_between_transaction  2.516345\n",
      "1               Emp_Tenure_Years  3.162594\n",
      "2                    Income_HIGH  1.117102\n",
      "3                     Income_LOW  1.361028\n",
      "4                NetBanking_Flag  3.669546\n",
      "5               Tenure_with_Bank  2.304813\n",
      "6            account_type_saving  1.130332\n",
      "7                            age  7.754590\n",
      "8                       card_lim  1.328763\n",
      "9                    cc_cons_apr  1.429323\n",
      "10                   cc_cons_jun  1.426325\n",
      "11                   cc_cons_may  1.449777\n",
      "12                  cc_count_apr  1.321487\n",
      "13                  cc_count_jun  1.624873\n",
      "14                  cc_count_may  1.570637\n",
      "15             credit_amount_apr  1.404802\n",
      "16             credit_amount_jun  1.395461\n",
      "17             credit_amount_may  1.334486\n",
      "18              credit_count_apr  1.475745\n",
      "19              credit_count_jun  1.448343\n",
      "20              credit_count_may  1.497062\n",
      "21                   dc_cons_apr  1.441779\n",
      "22                   dc_cons_jun  1.525467\n",
      "23                   dc_cons_may  1.465090\n",
      "24                  dc_count_apr  1.393688\n",
      "25                  dc_count_jun  1.532216\n",
      "26                  dc_count_may  1.452767\n",
      "27              debit_amount_apr  1.405571\n",
      "28              debit_amount_jun  1.397038\n",
      "29              debit_amount_may  1.366829\n",
      "30               debit_count_apr  1.653822\n",
      "31               debit_count_jun  1.638233\n",
      "32               debit_count_may  1.630917\n",
      "33                    emi_active  1.438281\n",
      "34                      gender_F  1.138287\n",
      "35                  investment_1  1.119761\n",
      "36                  investment_2  1.182898\n",
      "37                  investment_3  1.264928\n",
      "38                  investment_4  1.578685\n",
      "39         max_credit_amount_apr  1.584192\n",
      "40         max_credit_amount_jun  1.499223\n",
      "41         max_credit_amount_may  1.487714\n",
      "42                   region_code  3.320101\n"
     ]
    }
   ],
   "source": [
    "#9)\n",
    "Transf_missing_cc_cons_nor=DF4\n",
    "\n",
    "#Detecting Multicollinearity with Variance Inflation Factor(VIF)\n",
    "from statsmodels.stats.outliers_influence import variance_inflation_factor\n",
    "#X=new_Customer_existing\n",
    "#one dummy variable should be dropped to avoid being trapped by the dummy variable\n",
    "X=Transf_missing_cc_cons_nor[Transf_missing_cc_cons_nor.columns.difference(['Income_MEDIUM','account_type_current','gender_M','loan_enq_Y','cc_cons'])]\n",
    "# VIF dataframe\n",
    "vif_data = pd.DataFrame()\n",
    "vif_data[\"feature\"] = X.columns\n",
    "# calculating VIF for each feature\n",
    "vif_data[\"VIF\"] = [variance_inflation_factor(X.values, i)for i in range(len(X.columns))]\n",
    "print(vif_data)"
   ]
  },
  {
   "cell_type": "code",
   "execution_count": 307,
   "id": "dfe8b25e",
   "metadata": {},
   "outputs": [],
   "source": [
    "#10)\n",
    "\n",
    "vif_data=pd.DataFrame(vif_data)\n",
    "#vif_data\n",
    "li=list(vif_data.feature[vif_data.VIF>5])\n",
    "\n",
    "#Removing multicollinearity:\n",
    "vif_data=X[X.columns.difference(li)]"
   ]
  },
  {
   "cell_type": "code",
   "execution_count": 308,
   "id": "92210dc0",
   "metadata": {},
   "outputs": [
    {
     "data": {
      "text/html": [
       "<div>\n",
       "<style scoped>\n",
       "    .dataframe tbody tr th:only-of-type {\n",
       "        vertical-align: middle;\n",
       "    }\n",
       "\n",
       "    .dataframe tbody tr th {\n",
       "        vertical-align: top;\n",
       "    }\n",
       "\n",
       "    .dataframe thead th {\n",
       "        text-align: right;\n",
       "    }\n",
       "</style>\n",
       "<table border=\"1\" class=\"dataframe\">\n",
       "  <thead>\n",
       "    <tr style=\"text-align: right;\">\n",
       "      <th></th>\n",
       "      <th>Avg_days_between_transaction</th>\n",
       "      <th>Emp_Tenure_Years</th>\n",
       "      <th>Income_HIGH</th>\n",
       "      <th>Income_LOW</th>\n",
       "      <th>NetBanking_Flag</th>\n",
       "      <th>Tenure_with_Bank</th>\n",
       "      <th>account_type_saving</th>\n",
       "      <th>card_lim</th>\n",
       "      <th>cc_cons_apr</th>\n",
       "      <th>cc_cons_jun</th>\n",
       "      <th>...</th>\n",
       "      <th>emi_active</th>\n",
       "      <th>gender_F</th>\n",
       "      <th>investment_1</th>\n",
       "      <th>investment_2</th>\n",
       "      <th>investment_3</th>\n",
       "      <th>investment_4</th>\n",
       "      <th>max_credit_amount_apr</th>\n",
       "      <th>max_credit_amount_jun</th>\n",
       "      <th>max_credit_amount_may</th>\n",
       "      <th>region_code</th>\n",
       "    </tr>\n",
       "  </thead>\n",
       "  <tbody>\n",
       "    <tr>\n",
       "      <th>0</th>\n",
       "      <td>1.540635e-09</td>\n",
       "      <td>8.522238e-10</td>\n",
       "      <td>0.000000e+00</td>\n",
       "      <td>0.000000e+00</td>\n",
       "      <td>6.018105e-12</td>\n",
       "      <td>9.628967e-11</td>\n",
       "      <td>0.0</td>\n",
       "      <td>0.094033</td>\n",
       "      <td>0.000047</td>\n",
       "      <td>0.000503</td>\n",
       "      <td>...</td>\n",
       "      <td>8.245085e-06</td>\n",
       "      <td>0.0</td>\n",
       "      <td>1.146088e-09</td>\n",
       "      <td>8.535354e-01</td>\n",
       "      <td>1.604841e-05</td>\n",
       "      <td>1.965924e-04</td>\n",
       "      <td>0.003608</td>\n",
       "      <td>0.004051</td>\n",
       "      <td>0.000572</td>\n",
       "      <td>1.989736e-06</td>\n",
       "    </tr>\n",
       "    <tr>\n",
       "      <th>1</th>\n",
       "      <td>1.410278e-09</td>\n",
       "      <td>2.376767e-10</td>\n",
       "      <td>0.000000e+00</td>\n",
       "      <td>0.000000e+00</td>\n",
       "      <td>0.000000e+00</td>\n",
       "      <td>1.406371e-10</td>\n",
       "      <td>0.0</td>\n",
       "      <td>0.013599</td>\n",
       "      <td>0.003378</td>\n",
       "      <td>0.000468</td>\n",
       "      <td>...</td>\n",
       "      <td>1.056804e-03</td>\n",
       "      <td>0.0</td>\n",
       "      <td>4.055750e-02</td>\n",
       "      <td>8.629649e-01</td>\n",
       "      <td>3.101365e-06</td>\n",
       "      <td>1.139654e-03</td>\n",
       "      <td>0.000044</td>\n",
       "      <td>0.000583</td>\n",
       "      <td>0.001125</td>\n",
       "      <td>6.064428e-07</td>\n",
       "    </tr>\n",
       "    <tr>\n",
       "      <th>2</th>\n",
       "      <td>6.415321e-10</td>\n",
       "      <td>3.105016e-09</td>\n",
       "      <td>0.000000e+00</td>\n",
       "      <td>2.851254e-12</td>\n",
       "      <td>2.851254e-12</td>\n",
       "      <td>2.851254e-10</td>\n",
       "      <td>0.0</td>\n",
       "      <td>0.007128</td>\n",
       "      <td>0.000102</td>\n",
       "      <td>0.000001</td>\n",
       "      <td>...</td>\n",
       "      <td>1.960623e-05</td>\n",
       "      <td>0.0</td>\n",
       "      <td>8.122902e-03</td>\n",
       "      <td>8.941532e-01</td>\n",
       "      <td>8.345387e-03</td>\n",
       "      <td>1.864221e-05</td>\n",
       "      <td>0.000637</td>\n",
       "      <td>0.000498</td>\n",
       "      <td>0.003777</td>\n",
       "      <td>2.993132e-07</td>\n",
       "    </tr>\n",
       "    <tr>\n",
       "      <th>3</th>\n",
       "      <td>8.835880e-11</td>\n",
       "      <td>1.097092e-10</td>\n",
       "      <td>0.000000e+00</td>\n",
       "      <td>0.000000e+00</td>\n",
       "      <td>1.803241e-12</td>\n",
       "      <td>4.508102e-11</td>\n",
       "      <td>0.0</td>\n",
       "      <td>0.487596</td>\n",
       "      <td>0.000008</td>\n",
       "      <td>0.000033</td>\n",
       "      <td>...</td>\n",
       "      <td>2.094245e-07</td>\n",
       "      <td>0.0</td>\n",
       "      <td>1.499292e-04</td>\n",
       "      <td>3.983359e-01</td>\n",
       "      <td>6.287725e-05</td>\n",
       "      <td>5.383629e-05</td>\n",
       "      <td>0.018202</td>\n",
       "      <td>0.009430</td>\n",
       "      <td>0.017257</td>\n",
       "      <td>2.468637e-07</td>\n",
       "    </tr>\n",
       "    <tr>\n",
       "      <th>4</th>\n",
       "      <td>4.208473e-11</td>\n",
       "      <td>7.423747e-10</td>\n",
       "      <td>0.000000e+00</td>\n",
       "      <td>4.676081e-12</td>\n",
       "      <td>4.676081e-12</td>\n",
       "      <td>3.787626e-10</td>\n",
       "      <td>0.0</td>\n",
       "      <td>0.108036</td>\n",
       "      <td>0.000050</td>\n",
       "      <td>0.000053</td>\n",
       "      <td>...</td>\n",
       "      <td>3.698064e-05</td>\n",
       "      <td>0.0</td>\n",
       "      <td>6.991264e-01</td>\n",
       "      <td>4.792767e-08</td>\n",
       "      <td>5.847361e-02</td>\n",
       "      <td>8.296416e-06</td>\n",
       "      <td>0.000982</td>\n",
       "      <td>0.008384</td>\n",
       "      <td>0.003649</td>\n",
       "      <td>1.192518e-06</td>\n",
       "    </tr>\n",
       "    <tr>\n",
       "      <th>...</th>\n",
       "      <td>...</td>\n",
       "      <td>...</td>\n",
       "      <td>...</td>\n",
       "      <td>...</td>\n",
       "      <td>...</td>\n",
       "      <td>...</td>\n",
       "      <td>...</td>\n",
       "      <td>...</td>\n",
       "      <td>...</td>\n",
       "      <td>...</td>\n",
       "      <td>...</td>\n",
       "      <td>...</td>\n",
       "      <td>...</td>\n",
       "      <td>...</td>\n",
       "      <td>...</td>\n",
       "      <td>...</td>\n",
       "      <td>...</td>\n",
       "      <td>...</td>\n",
       "      <td>...</td>\n",
       "      <td>...</td>\n",
       "      <td>...</td>\n",
       "    </tr>\n",
       "    <tr>\n",
       "      <th>4990</th>\n",
       "      <td>5.731775e-10</td>\n",
       "      <td>4.075929e-09</td>\n",
       "      <td>0.000000e+00</td>\n",
       "      <td>0.000000e+00</td>\n",
       "      <td>0.000000e+00</td>\n",
       "      <td>1.769066e-10</td>\n",
       "      <td>0.0</td>\n",
       "      <td>0.619994</td>\n",
       "      <td>0.000066</td>\n",
       "      <td>0.001025</td>\n",
       "      <td>...</td>\n",
       "      <td>1.258021e-06</td>\n",
       "      <td>0.0</td>\n",
       "      <td>4.363425e-03</td>\n",
       "      <td>4.509357e-02</td>\n",
       "      <td>4.288891e-03</td>\n",
       "      <td>7.376590e-04</td>\n",
       "      <td>0.001244</td>\n",
       "      <td>0.079638</td>\n",
       "      <td>0.005803</td>\n",
       "      <td>6.630631e-06</td>\n",
       "    </tr>\n",
       "    <tr>\n",
       "      <th>4991</th>\n",
       "      <td>6.859061e-11</td>\n",
       "      <td>2.551151e-10</td>\n",
       "      <td>0.000000e+00</td>\n",
       "      <td>0.000000e+00</td>\n",
       "      <td>0.000000e+00</td>\n",
       "      <td>1.399808e-12</td>\n",
       "      <td>0.0</td>\n",
       "      <td>0.495567</td>\n",
       "      <td>0.000030</td>\n",
       "      <td>0.001312</td>\n",
       "      <td>...</td>\n",
       "      <td>8.671919e-05</td>\n",
       "      <td>0.0</td>\n",
       "      <td>9.982212e-03</td>\n",
       "      <td>4.389799e-01</td>\n",
       "      <td>3.388432e-07</td>\n",
       "      <td>4.280740e-07</td>\n",
       "      <td>0.001084</td>\n",
       "      <td>0.004715</td>\n",
       "      <td>0.001519</td>\n",
       "      <td>3.828882e-07</td>\n",
       "    </tr>\n",
       "    <tr>\n",
       "      <th>4992</th>\n",
       "      <td>1.536755e-11</td>\n",
       "      <td>3.765434e-10</td>\n",
       "      <td>0.000000e+00</td>\n",
       "      <td>0.000000e+00</td>\n",
       "      <td>3.841888e-12</td>\n",
       "      <td>1.882525e-10</td>\n",
       "      <td>0.0</td>\n",
       "      <td>0.000649</td>\n",
       "      <td>0.000096</td>\n",
       "      <td>0.000004</td>\n",
       "      <td>...</td>\n",
       "      <td>5.169807e-05</td>\n",
       "      <td>0.0</td>\n",
       "      <td>5.744051e-01</td>\n",
       "      <td>3.346824e-01</td>\n",
       "      <td>4.052939e-04</td>\n",
       "      <td>1.120780e-03</td>\n",
       "      <td>0.002993</td>\n",
       "      <td>0.002233</td>\n",
       "      <td>0.000301</td>\n",
       "      <td>2.008266e-06</td>\n",
       "    </tr>\n",
       "    <tr>\n",
       "      <th>4993</th>\n",
       "      <td>2.388709e-09</td>\n",
       "      <td>1.333235e-08</td>\n",
       "      <td>9.330894e-12</td>\n",
       "      <td>0.000000e+00</td>\n",
       "      <td>9.330894e-12</td>\n",
       "      <td>5.971772e-10</td>\n",
       "      <td>0.0</td>\n",
       "      <td>0.143472</td>\n",
       "      <td>0.000099</td>\n",
       "      <td>0.000159</td>\n",
       "      <td>...</td>\n",
       "      <td>2.771855e-04</td>\n",
       "      <td>0.0</td>\n",
       "      <td>1.243687e-07</td>\n",
       "      <td>3.732939e-01</td>\n",
       "      <td>8.397805e-03</td>\n",
       "      <td>4.423145e-04</td>\n",
       "      <td>0.001984</td>\n",
       "      <td>0.000029</td>\n",
       "      <td>0.011972</td>\n",
       "      <td>6.949361e-06</td>\n",
       "    </tr>\n",
       "    <tr>\n",
       "      <th>4994</th>\n",
       "      <td>8.206273e-10</td>\n",
       "      <td>7.709041e-10</td>\n",
       "      <td>0.000000e+00</td>\n",
       "      <td>0.000000e+00</td>\n",
       "      <td>0.000000e+00</td>\n",
       "      <td>7.769253e-11</td>\n",
       "      <td>0.0</td>\n",
       "      <td>0.668355</td>\n",
       "      <td>0.000799</td>\n",
       "      <td>0.001112</td>\n",
       "      <td>...</td>\n",
       "      <td>1.706955e-08</td>\n",
       "      <td>0.0</td>\n",
       "      <td>1.156207e-02</td>\n",
       "      <td>1.291891e-05</td>\n",
       "      <td>4.154729e-06</td>\n",
       "      <td>5.307712e-04</td>\n",
       "      <td>0.002769</td>\n",
       "      <td>0.006740</td>\n",
       "      <td>0.007417</td>\n",
       "      <td>3.777430e-06</td>\n",
       "    </tr>\n",
       "  </tbody>\n",
       "</table>\n",
       "<p>4995 rows × 42 columns</p>\n",
       "</div>"
      ],
      "text/plain": [
       "      Avg_days_between_transaction  Emp_Tenure_Years   Income_HIGH  \\\n",
       "0                     1.540635e-09      8.522238e-10  0.000000e+00   \n",
       "1                     1.410278e-09      2.376767e-10  0.000000e+00   \n",
       "2                     6.415321e-10      3.105016e-09  0.000000e+00   \n",
       "3                     8.835880e-11      1.097092e-10  0.000000e+00   \n",
       "4                     4.208473e-11      7.423747e-10  0.000000e+00   \n",
       "...                            ...               ...           ...   \n",
       "4990                  5.731775e-10      4.075929e-09  0.000000e+00   \n",
       "4991                  6.859061e-11      2.551151e-10  0.000000e+00   \n",
       "4992                  1.536755e-11      3.765434e-10  0.000000e+00   \n",
       "4993                  2.388709e-09      1.333235e-08  9.330894e-12   \n",
       "4994                  8.206273e-10      7.709041e-10  0.000000e+00   \n",
       "\n",
       "        Income_LOW  NetBanking_Flag  Tenure_with_Bank  account_type_saving  \\\n",
       "0     0.000000e+00     6.018105e-12      9.628967e-11                  0.0   \n",
       "1     0.000000e+00     0.000000e+00      1.406371e-10                  0.0   \n",
       "2     2.851254e-12     2.851254e-12      2.851254e-10                  0.0   \n",
       "3     0.000000e+00     1.803241e-12      4.508102e-11                  0.0   \n",
       "4     4.676081e-12     4.676081e-12      3.787626e-10                  0.0   \n",
       "...            ...              ...               ...                  ...   \n",
       "4990  0.000000e+00     0.000000e+00      1.769066e-10                  0.0   \n",
       "4991  0.000000e+00     0.000000e+00      1.399808e-12                  0.0   \n",
       "4992  0.000000e+00     3.841888e-12      1.882525e-10                  0.0   \n",
       "4993  0.000000e+00     9.330894e-12      5.971772e-10                  0.0   \n",
       "4994  0.000000e+00     0.000000e+00      7.769253e-11                  0.0   \n",
       "\n",
       "      card_lim  cc_cons_apr  cc_cons_jun  ...    emi_active  gender_F  \\\n",
       "0     0.094033     0.000047     0.000503  ...  8.245085e-06       0.0   \n",
       "1     0.013599     0.003378     0.000468  ...  1.056804e-03       0.0   \n",
       "2     0.007128     0.000102     0.000001  ...  1.960623e-05       0.0   \n",
       "3     0.487596     0.000008     0.000033  ...  2.094245e-07       0.0   \n",
       "4     0.108036     0.000050     0.000053  ...  3.698064e-05       0.0   \n",
       "...        ...          ...          ...  ...           ...       ...   \n",
       "4990  0.619994     0.000066     0.001025  ...  1.258021e-06       0.0   \n",
       "4991  0.495567     0.000030     0.001312  ...  8.671919e-05       0.0   \n",
       "4992  0.000649     0.000096     0.000004  ...  5.169807e-05       0.0   \n",
       "4993  0.143472     0.000099     0.000159  ...  2.771855e-04       0.0   \n",
       "4994  0.668355     0.000799     0.001112  ...  1.706955e-08       0.0   \n",
       "\n",
       "      investment_1  investment_2  investment_3  investment_4  \\\n",
       "0     1.146088e-09  8.535354e-01  1.604841e-05  1.965924e-04   \n",
       "1     4.055750e-02  8.629649e-01  3.101365e-06  1.139654e-03   \n",
       "2     8.122902e-03  8.941532e-01  8.345387e-03  1.864221e-05   \n",
       "3     1.499292e-04  3.983359e-01  6.287725e-05  5.383629e-05   \n",
       "4     6.991264e-01  4.792767e-08  5.847361e-02  8.296416e-06   \n",
       "...            ...           ...           ...           ...   \n",
       "4990  4.363425e-03  4.509357e-02  4.288891e-03  7.376590e-04   \n",
       "4991  9.982212e-03  4.389799e-01  3.388432e-07  4.280740e-07   \n",
       "4992  5.744051e-01  3.346824e-01  4.052939e-04  1.120780e-03   \n",
       "4993  1.243687e-07  3.732939e-01  8.397805e-03  4.423145e-04   \n",
       "4994  1.156207e-02  1.291891e-05  4.154729e-06  5.307712e-04   \n",
       "\n",
       "      max_credit_amount_apr  max_credit_amount_jun  max_credit_amount_may  \\\n",
       "0                  0.003608               0.004051               0.000572   \n",
       "1                  0.000044               0.000583               0.001125   \n",
       "2                  0.000637               0.000498               0.003777   \n",
       "3                  0.018202               0.009430               0.017257   \n",
       "4                  0.000982               0.008384               0.003649   \n",
       "...                     ...                    ...                    ...   \n",
       "4990               0.001244               0.079638               0.005803   \n",
       "4991               0.001084               0.004715               0.001519   \n",
       "4992               0.002993               0.002233               0.000301   \n",
       "4993               0.001984               0.000029               0.011972   \n",
       "4994               0.002769               0.006740               0.007417   \n",
       "\n",
       "       region_code  \n",
       "0     1.989736e-06  \n",
       "1     6.064428e-07  \n",
       "2     2.993132e-07  \n",
       "3     2.468637e-07  \n",
       "4     1.192518e-06  \n",
       "...            ...  \n",
       "4990  6.630631e-06  \n",
       "4991  3.828882e-07  \n",
       "4992  2.008266e-06  \n",
       "4993  6.949361e-06  \n",
       "4994  3.777430e-06  \n",
       "\n",
       "[4995 rows x 42 columns]"
      ]
     },
     "execution_count": 308,
     "metadata": {},
     "output_type": "execute_result"
    }
   ],
   "source": [
    "#11)\n",
    "Transf_missing_cc_cons_nors=vif_data\n",
    "#Transf_nors=Transf_nor\n",
    "\n",
    "#12)\n",
    "Transf_missing_cc_cons_nors"
   ]
  },
  {
   "cell_type": "code",
   "execution_count": 331,
   "id": "73680e85",
   "metadata": {},
   "outputs": [
    {
     "data": {
      "text/plain": [
       "array([0.07283551, 0.07457062, 0.07567937, ..., 0.0773398 , 0.08545268,\n",
       "       0.08137945])"
      ]
     },
     "execution_count": 331,
     "metadata": {},
     "output_type": "execute_result"
    }
   ],
   "source": [
    "#13)\n",
    "Target_X=Transf_missing_cc_cons_nors[['card_lim', 'cc_cons_apr', 'cc_cons_jun', 'cc_cons_may',\n",
    "       'credit_amount_apr', 'credit_amount_jun', 'credit_amount_may',\n",
    "       'dc_cons_apr', 'dc_cons_jun', 'dc_cons_may', 'debit_amount_apr',\n",
    "       'debit_amount_jun', 'debit_amount_may', 'emi_active', 'investment_1',\n",
    "       'investment_2', 'investment_3', 'investment_4', 'max_credit_amount_apr',\n",
    "       'max_credit_amount_jun', 'max_credit_amount_may']]\n"
   ]
  },
  {
   "cell_type": "code",
   "execution_count": 332,
   "id": "f431402b",
   "metadata": {},
   "outputs": [
    {
     "data": {
      "text/plain": [
       "array([0.07283551, 0.07457062, 0.07567937, ..., 0.0773398 , 0.08545268,\n",
       "       0.08137945])"
      ]
     },
     "execution_count": 332,
     "metadata": {},
     "output_type": "execute_result"
    }
   ],
   "source": [
    "YY_pred=lreg.predict(Target_X)\n",
    "YY_pred"
   ]
  },
  {
   "cell_type": "code",
   "execution_count": null,
   "id": "eb83d9c1",
   "metadata": {},
   "outputs": [],
   "source": [
    "#merging dataset"
   ]
  },
  {
   "cell_type": "code",
   "execution_count": 344,
   "id": "6892ea8f",
   "metadata": {},
   "outputs": [],
   "source": [
    "Transf_missing_cc_cons_nors['cc_cons']=YY_pred"
   ]
  },
  {
   "cell_type": "code",
   "execution_count": 345,
   "id": "71d7841a",
   "metadata": {},
   "outputs": [],
   "source": [
    "Transf_missing_cc_cons_nors['predict']='Predicted'\n",
    "Transf_nors['predict']='Available'"
   ]
  },
  {
   "cell_type": "markdown",
   "id": "43c16df6",
   "metadata": {},
   "source": [
    "# Here is Full predicted and avilable data in dataframe"
   ]
  },
  {
   "cell_type": "code",
   "execution_count": 366,
   "id": "40772e0c",
   "metadata": {},
   "outputs": [
    {
     "data": {
      "text/html": [
       "<div>\n",
       "<style scoped>\n",
       "    .dataframe tbody tr th:only-of-type {\n",
       "        vertical-align: middle;\n",
       "    }\n",
       "\n",
       "    .dataframe tbody tr th {\n",
       "        vertical-align: top;\n",
       "    }\n",
       "\n",
       "    .dataframe thead th {\n",
       "        text-align: right;\n",
       "    }\n",
       "</style>\n",
       "<table border=\"1\" class=\"dataframe\">\n",
       "  <thead>\n",
       "    <tr style=\"text-align: right;\">\n",
       "      <th></th>\n",
       "      <th>Avg_days_between_transaction</th>\n",
       "      <th>Emp_Tenure_Years</th>\n",
       "      <th>Income_HIGH</th>\n",
       "      <th>Income_LOW</th>\n",
       "      <th>NetBanking_Flag</th>\n",
       "      <th>Tenure_with_Bank</th>\n",
       "      <th>account_type_saving</th>\n",
       "      <th>card_lim</th>\n",
       "      <th>cc_cons_apr</th>\n",
       "      <th>cc_cons_jun</th>\n",
       "      <th>...</th>\n",
       "      <th>investment_1</th>\n",
       "      <th>investment_2</th>\n",
       "      <th>investment_3</th>\n",
       "      <th>investment_4</th>\n",
       "      <th>max_credit_amount_apr</th>\n",
       "      <th>max_credit_amount_jun</th>\n",
       "      <th>max_credit_amount_may</th>\n",
       "      <th>region_code</th>\n",
       "      <th>cc_cons</th>\n",
       "      <th>predict</th>\n",
       "    </tr>\n",
       "  </thead>\n",
       "  <tbody>\n",
       "    <tr>\n",
       "      <th>0</th>\n",
       "      <td>1.221355e-09</td>\n",
       "      <td>9.508822e-10</td>\n",
       "      <td>0.000000e+00</td>\n",
       "      <td>0.0</td>\n",
       "      <td>0.000000e+00</td>\n",
       "      <td>4.226143e-12</td>\n",
       "      <td>0.0</td>\n",
       "      <td>0.781414</td>\n",
       "      <td>0.002619</td>\n",
       "      <td>0.001122</td>\n",
       "      <td>...</td>\n",
       "      <td>1.487122e-06</td>\n",
       "      <td>0.000007</td>\n",
       "      <td>2.617542e-06</td>\n",
       "      <td>2.003328e-04</td>\n",
       "      <td>0.002704</td>\n",
       "      <td>0.010922</td>\n",
       "      <td>0.002550</td>\n",
       "      <td>2.118413e-06</td>\n",
       "      <td>0.119180</td>\n",
       "      <td>Available</td>\n",
       "    </tr>\n",
       "    <tr>\n",
       "      <th>1</th>\n",
       "      <td>1.422684e-09</td>\n",
       "      <td>1.633183e-09</td>\n",
       "      <td>7.258592e-12</td>\n",
       "      <td>0.0</td>\n",
       "      <td>0.000000e+00</td>\n",
       "      <td>2.613093e-10</td>\n",
       "      <td>0.0</td>\n",
       "      <td>0.117997</td>\n",
       "      <td>0.002604</td>\n",
       "      <td>0.000129</td>\n",
       "      <td>...</td>\n",
       "      <td>3.310401e-01</td>\n",
       "      <td>0.216436</td>\n",
       "      <td>5.948253e-02</td>\n",
       "      <td>1.633183e-05</td>\n",
       "      <td>0.047330</td>\n",
       "      <td>0.003916</td>\n",
       "      <td>0.004163</td>\n",
       "      <td>1.098152e-07</td>\n",
       "      <td>0.090904</td>\n",
       "      <td>Available</td>\n",
       "    </tr>\n",
       "    <tr>\n",
       "      <th>2</th>\n",
       "      <td>2.851363e-11</td>\n",
       "      <td>1.901701e-09</td>\n",
       "      <td>0.000000e+00</td>\n",
       "      <td>0.0</td>\n",
       "      <td>3.168181e-12</td>\n",
       "      <td>3.168181e-12</td>\n",
       "      <td>0.0</td>\n",
       "      <td>0.126726</td>\n",
       "      <td>0.000102</td>\n",
       "      <td>0.001818</td>\n",
       "      <td>...</td>\n",
       "      <td>8.720521e-02</td>\n",
       "      <td>0.699851</td>\n",
       "      <td>2.063990e-03</td>\n",
       "      <td>4.419684e-05</td>\n",
       "      <td>0.004688</td>\n",
       "      <td>0.002316</td>\n",
       "      <td>0.000366</td>\n",
       "      <td>2.037787e-06</td>\n",
       "      <td>0.093626</td>\n",
       "      <td>Available</td>\n",
       "    </tr>\n",
       "    <tr>\n",
       "      <th>3</th>\n",
       "      <td>1.180636e-10</td>\n",
       "      <td>1.494242e-10</td>\n",
       "      <td>0.000000e+00</td>\n",
       "      <td>0.0</td>\n",
       "      <td>7.378975e-12</td>\n",
       "      <td>2.656431e-10</td>\n",
       "      <td>0.0</td>\n",
       "      <td>0.177280</td>\n",
       "      <td>0.006860</td>\n",
       "      <td>0.002265</td>\n",
       "      <td>...</td>\n",
       "      <td>4.946224e-02</td>\n",
       "      <td>0.368199</td>\n",
       "      <td>1.735719e-02</td>\n",
       "      <td>1.615482e-04</td>\n",
       "      <td>0.020518</td>\n",
       "      <td>0.013667</td>\n",
       "      <td>0.001173</td>\n",
       "      <td>5.546694e-06</td>\n",
       "      <td>0.075961</td>\n",
       "      <td>Available</td>\n",
       "    </tr>\n",
       "    <tr>\n",
       "      <th>4</th>\n",
       "      <td>1.703364e-10</td>\n",
       "      <td>5.518900e-10</td>\n",
       "      <td>0.000000e+00</td>\n",
       "      <td>0.0</td>\n",
       "      <td>3.476254e-12</td>\n",
       "      <td>5.562006e-11</td>\n",
       "      <td>0.0</td>\n",
       "      <td>0.306637</td>\n",
       "      <td>0.000192</td>\n",
       "      <td>0.000016</td>\n",
       "      <td>...</td>\n",
       "      <td>1.124684e-06</td>\n",
       "      <td>0.515268</td>\n",
       "      <td>4.346996e-02</td>\n",
       "      <td>1.662729e-04</td>\n",
       "      <td>0.001337</td>\n",
       "      <td>0.003569</td>\n",
       "      <td>0.002210</td>\n",
       "      <td>2.235940e-06</td>\n",
       "      <td>0.177341</td>\n",
       "      <td>Available</td>\n",
       "    </tr>\n",
       "    <tr>\n",
       "      <th>...</th>\n",
       "      <td>...</td>\n",
       "      <td>...</td>\n",
       "      <td>...</td>\n",
       "      <td>...</td>\n",
       "      <td>...</td>\n",
       "      <td>...</td>\n",
       "      <td>...</td>\n",
       "      <td>...</td>\n",
       "      <td>...</td>\n",
       "      <td>...</td>\n",
       "      <td>...</td>\n",
       "      <td>...</td>\n",
       "      <td>...</td>\n",
       "      <td>...</td>\n",
       "      <td>...</td>\n",
       "      <td>...</td>\n",
       "      <td>...</td>\n",
       "      <td>...</td>\n",
       "      <td>...</td>\n",
       "      <td>...</td>\n",
       "      <td>...</td>\n",
       "    </tr>\n",
       "    <tr>\n",
       "      <th>4990</th>\n",
       "      <td>5.731775e-10</td>\n",
       "      <td>4.075929e-09</td>\n",
       "      <td>0.000000e+00</td>\n",
       "      <td>0.0</td>\n",
       "      <td>0.000000e+00</td>\n",
       "      <td>1.769066e-10</td>\n",
       "      <td>0.0</td>\n",
       "      <td>0.619994</td>\n",
       "      <td>0.000066</td>\n",
       "      <td>0.001025</td>\n",
       "      <td>...</td>\n",
       "      <td>4.363425e-03</td>\n",
       "      <td>0.045094</td>\n",
       "      <td>4.288891e-03</td>\n",
       "      <td>7.376590e-04</td>\n",
       "      <td>0.001244</td>\n",
       "      <td>0.079638</td>\n",
       "      <td>0.005803</td>\n",
       "      <td>6.630631e-06</td>\n",
       "      <td>0.081552</td>\n",
       "      <td>Predicted</td>\n",
       "    </tr>\n",
       "    <tr>\n",
       "      <th>4991</th>\n",
       "      <td>6.859061e-11</td>\n",
       "      <td>2.551151e-10</td>\n",
       "      <td>0.000000e+00</td>\n",
       "      <td>0.0</td>\n",
       "      <td>0.000000e+00</td>\n",
       "      <td>1.399808e-12</td>\n",
       "      <td>0.0</td>\n",
       "      <td>0.495567</td>\n",
       "      <td>0.000030</td>\n",
       "      <td>0.001312</td>\n",
       "      <td>...</td>\n",
       "      <td>9.982212e-03</td>\n",
       "      <td>0.438980</td>\n",
       "      <td>3.388432e-07</td>\n",
       "      <td>4.280740e-07</td>\n",
       "      <td>0.001084</td>\n",
       "      <td>0.004715</td>\n",
       "      <td>0.001519</td>\n",
       "      <td>3.828882e-07</td>\n",
       "      <td>0.075984</td>\n",
       "      <td>Predicted</td>\n",
       "    </tr>\n",
       "    <tr>\n",
       "      <th>4992</th>\n",
       "      <td>1.536755e-11</td>\n",
       "      <td>3.765434e-10</td>\n",
       "      <td>0.000000e+00</td>\n",
       "      <td>0.0</td>\n",
       "      <td>3.841888e-12</td>\n",
       "      <td>1.882525e-10</td>\n",
       "      <td>0.0</td>\n",
       "      <td>0.000649</td>\n",
       "      <td>0.000096</td>\n",
       "      <td>0.000004</td>\n",
       "      <td>...</td>\n",
       "      <td>5.744051e-01</td>\n",
       "      <td>0.334682</td>\n",
       "      <td>4.052939e-04</td>\n",
       "      <td>1.120780e-03</td>\n",
       "      <td>0.002993</td>\n",
       "      <td>0.002233</td>\n",
       "      <td>0.000301</td>\n",
       "      <td>2.008266e-06</td>\n",
       "      <td>0.077340</td>\n",
       "      <td>Predicted</td>\n",
       "    </tr>\n",
       "    <tr>\n",
       "      <th>4993</th>\n",
       "      <td>2.388709e-09</td>\n",
       "      <td>1.333235e-08</td>\n",
       "      <td>9.330894e-12</td>\n",
       "      <td>0.0</td>\n",
       "      <td>9.330894e-12</td>\n",
       "      <td>5.971772e-10</td>\n",
       "      <td>0.0</td>\n",
       "      <td>0.143472</td>\n",
       "      <td>0.000099</td>\n",
       "      <td>0.000159</td>\n",
       "      <td>...</td>\n",
       "      <td>1.243687e-07</td>\n",
       "      <td>0.373294</td>\n",
       "      <td>8.397805e-03</td>\n",
       "      <td>4.423145e-04</td>\n",
       "      <td>0.001984</td>\n",
       "      <td>0.000029</td>\n",
       "      <td>0.011972</td>\n",
       "      <td>6.949361e-06</td>\n",
       "      <td>0.085453</td>\n",
       "      <td>Predicted</td>\n",
       "    </tr>\n",
       "    <tr>\n",
       "      <th>4994</th>\n",
       "      <td>8.206273e-10</td>\n",
       "      <td>7.709041e-10</td>\n",
       "      <td>0.000000e+00</td>\n",
       "      <td>0.0</td>\n",
       "      <td>0.000000e+00</td>\n",
       "      <td>7.769253e-11</td>\n",
       "      <td>0.0</td>\n",
       "      <td>0.668355</td>\n",
       "      <td>0.000799</td>\n",
       "      <td>0.001112</td>\n",
       "      <td>...</td>\n",
       "      <td>1.156207e-02</td>\n",
       "      <td>0.000013</td>\n",
       "      <td>4.154729e-06</td>\n",
       "      <td>5.307712e-04</td>\n",
       "      <td>0.002769</td>\n",
       "      <td>0.006740</td>\n",
       "      <td>0.007417</td>\n",
       "      <td>3.777430e-06</td>\n",
       "      <td>0.081379</td>\n",
       "      <td>Predicted</td>\n",
       "    </tr>\n",
       "  </tbody>\n",
       "</table>\n",
       "<p>19992 rows × 44 columns</p>\n",
       "</div>"
      ],
      "text/plain": [
       "      Avg_days_between_transaction  Emp_Tenure_Years   Income_HIGH  \\\n",
       "0                     1.221355e-09      9.508822e-10  0.000000e+00   \n",
       "1                     1.422684e-09      1.633183e-09  7.258592e-12   \n",
       "2                     2.851363e-11      1.901701e-09  0.000000e+00   \n",
       "3                     1.180636e-10      1.494242e-10  0.000000e+00   \n",
       "4                     1.703364e-10      5.518900e-10  0.000000e+00   \n",
       "...                            ...               ...           ...   \n",
       "4990                  5.731775e-10      4.075929e-09  0.000000e+00   \n",
       "4991                  6.859061e-11      2.551151e-10  0.000000e+00   \n",
       "4992                  1.536755e-11      3.765434e-10  0.000000e+00   \n",
       "4993                  2.388709e-09      1.333235e-08  9.330894e-12   \n",
       "4994                  8.206273e-10      7.709041e-10  0.000000e+00   \n",
       "\n",
       "      Income_LOW  NetBanking_Flag  Tenure_with_Bank  account_type_saving  \\\n",
       "0            0.0     0.000000e+00      4.226143e-12                  0.0   \n",
       "1            0.0     0.000000e+00      2.613093e-10                  0.0   \n",
       "2            0.0     3.168181e-12      3.168181e-12                  0.0   \n",
       "3            0.0     7.378975e-12      2.656431e-10                  0.0   \n",
       "4            0.0     3.476254e-12      5.562006e-11                  0.0   \n",
       "...          ...              ...               ...                  ...   \n",
       "4990         0.0     0.000000e+00      1.769066e-10                  0.0   \n",
       "4991         0.0     0.000000e+00      1.399808e-12                  0.0   \n",
       "4992         0.0     3.841888e-12      1.882525e-10                  0.0   \n",
       "4993         0.0     9.330894e-12      5.971772e-10                  0.0   \n",
       "4994         0.0     0.000000e+00      7.769253e-11                  0.0   \n",
       "\n",
       "      card_lim  cc_cons_apr  cc_cons_jun  ...  investment_1  investment_2  \\\n",
       "0     0.781414     0.002619     0.001122  ...  1.487122e-06      0.000007   \n",
       "1     0.117997     0.002604     0.000129  ...  3.310401e-01      0.216436   \n",
       "2     0.126726     0.000102     0.001818  ...  8.720521e-02      0.699851   \n",
       "3     0.177280     0.006860     0.002265  ...  4.946224e-02      0.368199   \n",
       "4     0.306637     0.000192     0.000016  ...  1.124684e-06      0.515268   \n",
       "...        ...          ...          ...  ...           ...           ...   \n",
       "4990  0.619994     0.000066     0.001025  ...  4.363425e-03      0.045094   \n",
       "4991  0.495567     0.000030     0.001312  ...  9.982212e-03      0.438980   \n",
       "4992  0.000649     0.000096     0.000004  ...  5.744051e-01      0.334682   \n",
       "4993  0.143472     0.000099     0.000159  ...  1.243687e-07      0.373294   \n",
       "4994  0.668355     0.000799     0.001112  ...  1.156207e-02      0.000013   \n",
       "\n",
       "      investment_3  investment_4  max_credit_amount_apr  \\\n",
       "0     2.617542e-06  2.003328e-04               0.002704   \n",
       "1     5.948253e-02  1.633183e-05               0.047330   \n",
       "2     2.063990e-03  4.419684e-05               0.004688   \n",
       "3     1.735719e-02  1.615482e-04               0.020518   \n",
       "4     4.346996e-02  1.662729e-04               0.001337   \n",
       "...            ...           ...                    ...   \n",
       "4990  4.288891e-03  7.376590e-04               0.001244   \n",
       "4991  3.388432e-07  4.280740e-07               0.001084   \n",
       "4992  4.052939e-04  1.120780e-03               0.002993   \n",
       "4993  8.397805e-03  4.423145e-04               0.001984   \n",
       "4994  4.154729e-06  5.307712e-04               0.002769   \n",
       "\n",
       "      max_credit_amount_jun  max_credit_amount_may   region_code   cc_cons  \\\n",
       "0                  0.010922               0.002550  2.118413e-06  0.119180   \n",
       "1                  0.003916               0.004163  1.098152e-07  0.090904   \n",
       "2                  0.002316               0.000366  2.037787e-06  0.093626   \n",
       "3                  0.013667               0.001173  5.546694e-06  0.075961   \n",
       "4                  0.003569               0.002210  2.235940e-06  0.177341   \n",
       "...                     ...                    ...           ...       ...   \n",
       "4990               0.079638               0.005803  6.630631e-06  0.081552   \n",
       "4991               0.004715               0.001519  3.828882e-07  0.075984   \n",
       "4992               0.002233               0.000301  2.008266e-06  0.077340   \n",
       "4993               0.000029               0.011972  6.949361e-06  0.085453   \n",
       "4994               0.006740               0.007417  3.777430e-06  0.081379   \n",
       "\n",
       "        predict  \n",
       "0     Available  \n",
       "1     Available  \n",
       "2     Available  \n",
       "3     Available  \n",
       "4     Available  \n",
       "...         ...  \n",
       "4990  Predicted  \n",
       "4991  Predicted  \n",
       "4992  Predicted  \n",
       "4993  Predicted  \n",
       "4994  Predicted  \n",
       "\n",
       "[19992 rows x 44 columns]"
      ]
     },
     "execution_count": 366,
     "metadata": {},
     "output_type": "execute_result"
    }
   ],
   "source": [
    "pd.concat([Transf_nors, Transf_missing_cc_cons_nors], axis=0)"
   ]
  },
  {
   "cell_type": "code",
   "execution_count": null,
   "id": "8e3d9289",
   "metadata": {},
   "outputs": [],
   "source": []
  }
 ],
 "metadata": {
  "kernelspec": {
   "display_name": "Python 3 (ipykernel)",
   "language": "python",
   "name": "python3"
  },
  "language_info": {
   "codemirror_mode": {
    "name": "ipython",
    "version": 3
   },
   "file_extension": ".py",
   "mimetype": "text/x-python",
   "name": "python",
   "nbconvert_exporter": "python",
   "pygments_lexer": "ipython3",
   "version": "3.9.13"
  }
 },
 "nbformat": 4,
 "nbformat_minor": 5
}
