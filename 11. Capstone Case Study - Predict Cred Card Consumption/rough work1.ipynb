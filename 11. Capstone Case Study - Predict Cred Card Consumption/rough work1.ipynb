{
 "cells": [
  {
   "cell_type": "code",
   "execution_count": 1,
   "id": "6803bc15",
   "metadata": {},
   "outputs": [],
   "source": [
    "#Packages related to data importing, manipulation, exploratory data analysis, data understanding\n",
    "import numpy as np\n",
    "import pandas as pd\n",
    "import pandas_profiling\n",
    "import scipy.stats as stats\n",
    "\n",
    "#Packages related to data visualizaiton\n",
    "import seaborn as sns\n",
    "import matplotlib.pyplot as plt\n",
    "from statsmodels.graphics.gofplots import qqplot\n",
    "\n",
    "\n",
    "#Modules related to split the data & gridsearch\n",
    "from sklearn.model_selection import train_test_split, GridSearchCV\n",
    "\n",
    "#Module related to calculation of metrics\n",
    "from sklearn import metrics\n",
    "\n",
    "\n",
    "#Modules related key techniques of supervised learning \n",
    "from sklearn.neighbors import KNeighborsClassifier, KNeighborsRegressor\n",
    "\n",
    "#Modules  to scaling the data\n",
    "from sklearn.preprocessing import StandardScaler, MinMaxScaler,normalize\n",
    "from sklearn import preprocessing\n",
    "\n",
    "#pip install tk  #GUI backend"
   ]
  },
  {
   "cell_type": "code",
   "execution_count": 2,
   "id": "6d0a801b",
   "metadata": {},
   "outputs": [],
   "source": [
    "#importing data\n",
    "Credit=pd.read_excel('CreditConsumptionData.xlsx')\n",
    "Behavior=pd.read_excel('CustomerBehaviorData.xlsx')\n",
    "Demographics=pd.read_excel('CustomerDemographics.xlsx')"
   ]
  },
  {
   "cell_type": "code",
   "execution_count": 3,
   "id": "185d5115",
   "metadata": {},
   "outputs": [],
   "source": [
    "#merging data\n",
    "Customer=Credit.merge(Behavior.merge(Demographics,on='ID'),on='ID')"
   ]
  },
  {
   "cell_type": "code",
   "execution_count": 4,
   "id": "1d7c2d21",
   "metadata": {},
   "outputs": [],
   "source": [
    "#Customer[Customer.duplicated()] \n",
    "#Customer.isnull().sum()\n",
    "#Customer.describe()\n",
    "#Customer.info()\n",
    "#Customer.shape\n",
    "#Customer"
   ]
  },
  {
   "cell_type": "code",
   "execution_count": 5,
   "id": "2b0a9d2f",
   "metadata": {},
   "outputs": [],
   "source": [
    "# dataset(target-null value) segregation\n",
    "Customer_existing_cc_cons = Customer[Customer.cc_cons.isnull()==0]\n",
    "Customer_missing_cc_cons = Customer[Customer.cc_cons.isnull()==1]"
   ]
  },
  {
   "cell_type": "raw",
   "id": "4c6805b0",
   "metadata": {},
   "source": [
    "Checklist for EDA:\n",
    "1. Checking the different features present in the dataset & its shape\n",
    "\n",
    "2. Checking the data type of each columns\n",
    "\n",
    "3. Encoding the labels for classification problems\n",
    "\n",
    "4. Checking for missing values\n",
    "\n",
    "5. Descriptive summary of the dataset\n",
    "\n",
    "6. Checking the distribution of the target variable\n",
    "\n",
    "# Data Visualization:\n",
    "\n",
    "8. Distribution plot for all the columns\n",
    "\n",
    "9. Count plot for Categorical columns\n",
    "\n",
    "10. Pair plot\n",
    "\n",
    "11. Checking for Outliers\n",
    "\n",
    "12. Correlation matrix\n",
    "\n",
    "13. Inference from EDA"
   ]
  },
  {
   "cell_type": "code",
   "execution_count": 6,
   "id": "e4920c03",
   "metadata": {},
   "outputs": [],
   "source": [
    "#Customer_existing_cc_cons.info()\n",
    "#Customer_existing_cc_cons.isnull().sum()"
   ]
  },
  {
   "cell_type": "code",
   "execution_count": 7,
   "id": "aad249a3",
   "metadata": {},
   "outputs": [],
   "source": [
    "# Column segregation\n",
    "Bincol=['account_type','gender','loan_enq']\n",
    "Ordcol=['Income']\n",
    "Numcol=list(set(Customer_existing_cc_cons.columns).difference(set(Bincol).union(set(Ordcol))).difference(['cc_cons']))"
   ]
  },
  {
   "cell_type": "code",
   "execution_count": 8,
   "id": "c90c4e9f",
   "metadata": {},
   "outputs": [],
   "source": [
    "# Dummy encoding \n",
    "#Nomcol\n",
    "#new_Customer_existing=pd.get_dummies(Customer_existing_cc_cons, columns =Bincol)\n",
    "#Ordcol\n",
    "'''\n",
    "# Create Y Multinomial variable\n",
    "dim={'LOW':0,'MEDIUM':1, 'HIGH':2}\n",
    "new_Customer_existing['Income']=new_Customer_existing['Income'].map(dim)\n",
    "'''\n",
    "#one_hot_encoding\n",
    "new_Customer_existing=pd.get_dummies(Customer_existing_cc_cons, columns = ['Income','account_type','gender','loan_enq'])"
   ]
  },
  {
   "cell_type": "code",
   "execution_count": 9,
   "id": "2110af8c",
   "metadata": {},
   "outputs": [
    {
     "data": {
      "text/plain": [
       "(15000, 53)"
      ]
     },
     "execution_count": 9,
     "metadata": {},
     "output_type": "execute_result"
    }
   ],
   "source": [
    "new_Customer_existing.shape\n",
    "#new_Customer_existing.std()"
   ]
  },
  {
   "cell_type": "code",
   "execution_count": 10,
   "id": "a9ac362a",
   "metadata": {},
   "outputs": [],
   "source": [
    "###zero-deviation columns droping :\n",
    "#below columns have no deviation from the average\n",
    "new_Customer_existing.std()==0\n",
    "#droping columns\n",
    "new_Customer_existing = new_Customer_existing.drop(new_Customer_existing.columns[new_Customer_existing.nunique() == 1],axis=1)"
   ]
  },
  {
   "cell_type": "code",
   "execution_count": 11,
   "id": "ab7d2bf2",
   "metadata": {},
   "outputs": [
    {
     "data": {
      "text/plain": [
       "Index(['cc_count_apr', 'investment_3', 'debit_count_apr', 'emi_active',\n",
       "       'Avg_days_between_transaction'],\n",
       "      dtype='object')"
      ]
     },
     "execution_count": 11,
     "metadata": {},
     "output_type": "execute_result"
    }
   ],
   "source": [
    "new_Customer_existing.columns[new_Customer_existing.isnull().sum()>0]"
   ]
  },
  {
   "cell_type": "code",
   "execution_count": 12,
   "id": "8d6c4032",
   "metadata": {},
   "outputs": [],
   "source": [
    "#missing value clumns:\n",
    "#new_Customer_existing.columns[new_Customer_existing.isnull().sum()>0]\n",
    "\n",
    "#missing value treatment\n",
    "#new_Customer_existing=new_Customer_existing.fillna(np.median)\n",
    "new_Customer_existing=new_Customer_existing.dropna()\n",
    "#droping id\n",
    "new_Customer_existing=new_Customer_existing.drop(columns=['ID'])"
   ]
  },
  {
   "cell_type": "code",
   "execution_count": 13,
   "id": "b5f5b21c",
   "metadata": {},
   "outputs": [
    {
     "name": "stdout",
     "output_type": "stream",
     "text": [
      "total outlier count for- Avg_days_between_transaction : 0\n",
      "total outlier count for- Emp_Tenure_Years : 919\n",
      "total outlier count for- Tenure_with_Bank : 0\n",
      "total outlier count for- age : 534\n",
      "total outlier count for- card_lim : 59\n",
      "total outlier count for- cc_cons : 3133\n",
      "total outlier count for- cc_cons_apr : 1217\n",
      "total outlier count for- cc_cons_jun : 1181\n",
      "total outlier count for- cc_cons_may : 1202\n",
      "total outlier count for- cc_count_apr : 883\n",
      "total outlier count for- cc_count_jun : 49\n",
      "total outlier count for- cc_count_may : 709\n",
      "total outlier count for- credit_amount_apr : 1229\n",
      "total outlier count for- credit_amount_jun : 1217\n",
      "total outlier count for- credit_amount_may : 1173\n",
      "total outlier count for- credit_count_apr : 58\n",
      "total outlier count for- credit_count_jun : 2216\n",
      "total outlier count for- credit_count_may : 2655\n",
      "total outlier count for- dc_cons_apr : 1220\n",
      "total outlier count for- dc_cons_jun : 1366\n",
      "total outlier count for- dc_cons_may : 1248\n",
      "total outlier count for- dc_count_apr : 434\n",
      "total outlier count for- dc_count_jun : 0\n",
      "total outlier count for- dc_count_may : 1233\n",
      "total outlier count for- debit_amount_apr : 1239\n",
      "total outlier count for- debit_amount_jun : 1175\n",
      "total outlier count for- debit_amount_may : 1235\n",
      "total outlier count for- debit_count_apr : 231\n",
      "total outlier count for- debit_count_jun : 0\n",
      "total outlier count for- debit_count_may : 617\n",
      "total outlier count for- emi_active : 1393\n",
      "total outlier count for- investment_1 : 2123\n",
      "total outlier count for- investment_2 : 1297\n",
      "total outlier count for- investment_3 : 1553\n",
      "total outlier count for- investment_4 : 1004\n",
      "total outlier count for- max_credit_amount_apr : 1376\n",
      "total outlier count for- max_credit_amount_jun : 1385\n",
      "total outlier count for- max_credit_amount_may : 1300\n",
      "total outlier count for- region_code : 0\n",
      "Target(cc_cons) : 3133\n"
     ]
    }
   ],
   "source": [
    "#Below are some of the techniques of detecting outliers\n",
    "#1.Boxplots\n",
    "'''\n",
    "sns.boxplot(new_Customer_existing.cc_cons)\n",
    "plt.show()\n",
    "'''\n",
    "#2.Z-score\n",
    "'''\n",
    "outlier = []\n",
    "def detect_outliers_zscore(data):\n",
    "    threshold = 3\n",
    "    mean=np.mean(data)\n",
    "    std=np.std(data)\n",
    "    for i in data:\n",
    "        z = (i-mean)/std\n",
    "        if z > threshold:\n",
    "                outlier.append(i)\n",
    "    return outlier\n",
    "    \n",
    "for i in new_Customer_existing.columns:\n",
    "    l=len(detect_outliers_zscore(new_Customer_existing[i]))\n",
    "    print(i,\":\",l)\n",
    "'''\n",
    "\n",
    "\n",
    "#3.Inter Quantile Range(IQR)\n",
    "#create a function to find outliers using IQR\n",
    "def find_outliers_IQR(df):\n",
    "   q1=df.quantile(0.25)     \n",
    "   q3=df.quantile(0.75)      \n",
    "   IQR=q3-q1                 \n",
    "   outliers = df[((df<(q1-1.5*IQR)) | (df>(q3+1.5*IQR)))] \n",
    "   return outliers\n",
    "#find_outliers_IQR_count=find_outliers_IQR(new_Customer_existing.cc_cons).count()\n",
    "\n",
    "#finding outlier except binary value column:['gender_F','gender_M','loan_enq_Y','account_type_saving','account_type_current','Income_HIGH', 'Income_LOW','Income_MEDIUM','NetBanking_Flag']\n",
    "for i in new_Customer_existing[new_Customer_existing.columns.difference(['gender_F','gender_M','loan_enq_Y','account_type_saving','account_type_current','Income_HIGH', 'Income_LOW','Income_MEDIUM','NetBanking_Flag'])]:\n",
    "    print(\"total outlier count for-\",i,':',find_outliers_IQR(new_Customer_existing[i]).count())\n",
    "print(\"Target(cc_cons)\",':',find_outliers_IQR(new_Customer_existing.cc_cons).count())\n",
    "#print('total',find_outliers_IQR_count/new_Customer_existing.cc_cons.count()*100,'% data outlier from Target variable')"
   ]
  },
  {
   "cell_type": "raw",
   "id": "a690e4f6",
   "metadata": {},
   "source": [
    "for i in new_Customer_existing[new_Customer_existing.columns.difference(['gender_F','gender_M','loan_enq_Y','account_type_saving','account_type_current','Income_HIGH', 'Income_LOW','Income_MEDIUM','NetBanking_Flag'])]:\n",
    "    print(\"total outlier count for-\",i,':',find_outliers_IQR(new_Customer_existing[i]).count())\n",
    "print(\"Target(cc_cons)\",':',find_outliers_IQR(new_Customer_existing.cc_cons).count())\n",
    "print('total',find_outliers_IQR_count/new_Customer_existing.cc_cons.count()*100,'% data outlier from Target variable')"
   ]
  },
  {
   "cell_type": "code",
   "execution_count": 14,
   "id": "4da9e889",
   "metadata": {},
   "outputs": [
    {
     "name": "stderr",
     "output_type": "stream",
     "text": [
      "C:\\Users\\Shubham Jadhav\\anaconda3\\lib\\site-packages\\seaborn\\_decorators.py:36: FutureWarning: Pass the following variable as a keyword arg: x. From version 0.12, the only valid positional argument will be `data`, and passing other arguments without an explicit keyword will result in an error or misinterpretation.\n",
      "  warnings.warn(\n"
     ]
    },
    {
     "data": {
      "image/png": "[encoded data removed]",
      "text/plain": [
       "<Figure size 640x480 with 1 Axes>"
      ]
     },
     "metadata": {},
     "output_type": "display_data"
    },
    {
     "name": "stderr",
     "output_type": "stream",
     "text": [
      "C:\\Users\\Shubham Jadhav\\anaconda3\\lib\\site-packages\\seaborn\\_decorators.py:36: FutureWarning: Pass the following variable as a keyword arg: x. From version 0.12, the only valid positional argument will be `data`, and passing other arguments without an explicit keyword will result in an error or misinterpretation.\n",
      "  warnings.warn(\n"
     ]
    },
    {
     "data": {
      "image/png": "[encoded data removed]",
      "text/plain": [
       "<Figure size 640x480 with 1 Axes>"
      ]
     },
     "metadata": {},
     "output_type": "display_data"
    },
    {
     "name": "stderr",
     "output_type": "stream",
     "text": [
      "C:\\Users\\Shubham Jadhav\\anaconda3\\lib\\site-packages\\seaborn\\_decorators.py:36: FutureWarning: Pass the following variable as a keyword arg: x. From version 0.12, the only valid positional argument will be `data`, and passing other arguments without an explicit keyword will result in an error or misinterpretation.\n",
      "  warnings.warn(\n"
     ]
    },
    {
     "data": {
      "image/png": "[encoded data removed]",
      "text/plain": [
       "<Figure size 640x480 with 1 Axes>"
      ]
     },
     "metadata": {},
     "output_type": "display_data"
    },
    {
     "name": "stderr",
     "output_type": "stream",
     "text": [
      "C:\\Users\\Shubham Jadhav\\anaconda3\\lib\\site-packages\\seaborn\\_decorators.py:36: FutureWarning: Pass the following variable as a keyword arg: x. From version 0.12, the only valid positional argument will be `data`, and passing other arguments without an explicit keyword will result in an error or misinterpretation.\n",
      "  warnings.warn(\n"
     ]
    },
    {
     "data": {
      "image/png": "[encoded data removed]",
      "text/plain": [
       "<Figure size 640x480 with 1 Axes>"
      ]
     },
     "metadata": {},
     "output_type": "display_data"
    },
    {
     "name": "stderr",
     "output_type": "stream",
     "text": [
      "C:\\Users\\Shubham Jadhav\\anaconda3\\lib\\site-packages\\seaborn\\_decorators.py:36: FutureWarning: Pass the following variable as a keyword arg: x. From version 0.12, the only valid positional argument will be `data`, and passing other arguments without an explicit keyword will result in an error or misinterpretation.\n",
      "  warnings.warn(\n"
     ]
    },
    {
     "data": {
      "image/png": "[encoded data removed]",
      "text/plain": [
       "<Figure size 640x480 with 1 Axes>"
      ]
     },
     "metadata": {},
     "output_type": "display_data"
    },
    {
     "name": "stderr",
     "output_type": "stream",
     "text": [
      "C:\\Users\\Shubham Jadhav\\anaconda3\\lib\\site-packages\\seaborn\\_decorators.py:36: FutureWarning: Pass the following variable as a keyword arg: x. From version 0.12, the only valid positional argument will be `data`, and passing other arguments without an explicit keyword will result in an error or misinterpretation.\n",
      "  warnings.warn(\n"
     ]
    },
    {
     "data": {
      "image/png": "[encoded data removed]",
      "text/plain": [
       "<Figure size 640x480 with 1 Axes>"
      ]
     },
     "metadata": {},
     "output_type": "display_data"
    },
    {
     "name": "stderr",
     "output_type": "stream",
     "text": [
      "C:\\Users\\Shubham Jadhav\\anaconda3\\lib\\site-packages\\seaborn\\_decorators.py:36: FutureWarning: Pass the following variable as a keyword arg: x. From version 0.12, the only valid positional argument will be `data`, and passing other arguments without an explicit keyword will result in an error or misinterpretation.\n",
      "  warnings.warn(\n"
     ]
    },
    {
     "data": {
      "image/png": "[encoded data removed]",
      "text/plain": [
       "<Figure size 640x480 with 1 Axes>"
      ]
     },
     "metadata": {},
     "output_type": "display_data"
    },
    {
     "name": "stderr",
     "output_type": "stream",
     "text": [
      "C:\\Users\\Shubham Jadhav\\anaconda3\\lib\\site-packages\\seaborn\\_decorators.py:36: FutureWarning: Pass the following variable as a keyword arg: x. From version 0.12, the only valid positional argument will be `data`, and passing other arguments without an explicit keyword will result in an error or misinterpretation.\n",
      "  warnings.warn(\n"
     ]
    },
    {
     "data": {
      "image/png": "[encoded data removed]",
      "text/plain": [
       "<Figure size 640x480 with 1 Axes>"
      ]
     },
     "metadata": {},
     "output_type": "display_data"
    },
    {
     "name": "stderr",
     "output_type": "stream",
     "text": [
      "C:\\Users\\Shubham Jadhav\\anaconda3\\lib\\site-packages\\seaborn\\_decorators.py:36: FutureWarning: Pass the following variable as a keyword arg: x. From version 0.12, the only valid positional argument will be `data`, and passing other arguments without an explicit keyword will result in an error or misinterpretation.\n",
      "  warnings.warn(\n"
     ]
    },
    {
     "data": {
      "image/png": "[encoded data removed]",
      "text/plain": [
       "<Figure size 640x480 with 1 Axes>"
      ]
     },
     "metadata": {},
     "output_type": "display_data"
    },
    {
     "name": "stderr",
     "output_type": "stream",
     "text": [
      "C:\\Users\\Shubham Jadhav\\anaconda3\\lib\\site-packages\\seaborn\\_decorators.py:36: FutureWarning: Pass the following variable as a keyword arg: x. From version 0.12, the only valid positional argument will be `data`, and passing other arguments without an explicit keyword will result in an error or misinterpretation.\n",
      "  warnings.warn(\n"
     ]
    },
    {
     "data": {
      "image/png": "[encoded data removed]",
      "text/plain": [
       "<Figure size 640x480 with 1 Axes>"
      ]
     },
     "metadata": {},
     "output_type": "display_data"
    },
    {
     "name": "stderr",
     "output_type": "stream",
     "text": [
      "C:\\Users\\Shubham Jadhav\\anaconda3\\lib\\site-packages\\seaborn\\_decorators.py:36: FutureWarning: Pass the following variable as a keyword arg: x. From version 0.12, the only valid positional argument will be `data`, and passing other arguments without an explicit keyword will result in an error or misinterpretation.\n",
      "  warnings.warn(\n"
     ]
    },
    {
     "data": {
      "image/png": "[encoded data removed]",
      "text/plain": [
       "<Figure size 640x480 with 1 Axes>"
      ]
     },
     "metadata": {},
     "output_type": "display_data"
    },
    {
     "name": "stderr",
     "output_type": "stream",
     "text": [
      "C:\\Users\\Shubham Jadhav\\anaconda3\\lib\\site-packages\\seaborn\\_decorators.py:36: FutureWarning: Pass the following variable as a keyword arg: x. From version 0.12, the only valid positional argument will be `data`, and passing other arguments without an explicit keyword will result in an error or misinterpretation.\n",
      "  warnings.warn(\n"
     ]
    },
    {
     "data": {
      "image/png": "[encoded data removed]",
      "text/plain": [
       "<Figure size 640x480 with 1 Axes>"
      ]
     },
     "metadata": {},
     "output_type": "display_data"
    },
    {
     "name": "stderr",
     "output_type": "stream",
     "text": [
      "C:\\Users\\Shubham Jadhav\\anaconda3\\lib\\site-packages\\seaborn\\_decorators.py:36: FutureWarning: Pass the following variable as a keyword arg: x. From version 0.12, the only valid positional argument will be `data`, and passing other arguments without an explicit keyword will result in an error or misinterpretation.\n",
      "  warnings.warn(\n"
     ]
    },
    {
     "data": {
      "image/png": "[encoded data removed]",
      "text/plain": [
       "<Figure size 640x480 with 1 Axes>"
      ]
     },
     "metadata": {},
     "output_type": "display_data"
    },
    {
     "name": "stderr",
     "output_type": "stream",
     "text": [
      "C:\\Users\\Shubham Jadhav\\anaconda3\\lib\\site-packages\\seaborn\\_decorators.py:36: FutureWarning: Pass the following variable as a keyword arg: x. From version 0.12, the only valid positional argument will be `data`, and passing other arguments without an explicit keyword will result in an error or misinterpretation.\n",
      "  warnings.warn(\n"
     ]
    },
    {
     "data": {
      "image/png": "[encoded data removed]",
      "text/plain": [
       "<Figure size 640x480 with 1 Axes>"
      ]
     },
     "metadata": {},
     "output_type": "display_data"
    },
    {
     "name": "stderr",
     "output_type": "stream",
     "text": [
      "C:\\Users\\Shubham Jadhav\\anaconda3\\lib\\site-packages\\seaborn\\_decorators.py:36: FutureWarning: Pass the following variable as a keyword arg: x. From version 0.12, the only valid positional argument will be `data`, and passing other arguments without an explicit keyword will result in an error or misinterpretation.\n",
      "  warnings.warn(\n"
     ]
    },
    {
     "data": {
      "image/png": "[encoded data removed]",
      "text/plain": [
       "<Figure size 640x480 with 1 Axes>"
      ]
     },
     "metadata": {},
     "output_type": "display_data"
    },
    {
     "name": "stderr",
     "output_type": "stream",
     "text": [
      "C:\\Users\\Shubham Jadhav\\anaconda3\\lib\\site-packages\\seaborn\\_decorators.py:36: FutureWarning: Pass the following variable as a keyword arg: x. From version 0.12, the only valid positional argument will be `data`, and passing other arguments without an explicit keyword will result in an error or misinterpretation.\n",
      "  warnings.warn(\n"
     ]
    },
    {
     "data": {
      "image/png": "[encoded data removed]",
      "text/plain": [
       "<Figure size 640x480 with 1 Axes>"
      ]
     },
     "metadata": {},
     "output_type": "display_data"
    },
    {
     "name": "stderr",
     "output_type": "stream",
     "text": [
      "C:\\Users\\Shubham Jadhav\\anaconda3\\lib\\site-packages\\seaborn\\_decorators.py:36: FutureWarning: Pass the following variable as a keyword arg: x. From version 0.12, the only valid positional argument will be `data`, and passing other arguments without an explicit keyword will result in an error or misinterpretation.\n",
      "  warnings.warn(\n"
     ]
    },
    {
     "data": {
      "image/png": "[encoded data removed]",
      "text/plain": [
       "<Figure size 640x480 with 1 Axes>"
      ]
     },
     "metadata": {},
     "output_type": "display_data"
    },
    {
     "name": "stderr",
     "output_type": "stream",
     "text": [
      "C:\\Users\\Shubham Jadhav\\anaconda3\\lib\\site-packages\\seaborn\\_decorators.py:36: FutureWarning: Pass the following variable as a keyword arg: x. From version 0.12, the only valid positional argument will be `data`, and passing other arguments without an explicit keyword will result in an error or misinterpretation.\n",
      "  warnings.warn(\n"
     ]
    },
    {
     "data": {
      "image/png": "[encoded data removed]",
      "text/plain": [
       "<Figure size 640x480 with 1 Axes>"
      ]
     },
     "metadata": {},
     "output_type": "display_data"
    },
    {
     "name": "stderr",
     "output_type": "stream",
     "text": [
      "C:\\Users\\Shubham Jadhav\\anaconda3\\lib\\site-packages\\seaborn\\_decorators.py:36: FutureWarning: Pass the following variable as a keyword arg: x. From version 0.12, the only valid positional argument will be `data`, and passing other arguments without an explicit keyword will result in an error or misinterpretation.\n",
      "  warnings.warn(\n"
     ]
    },
    {
     "data": {
      "image/png": "[encoded data removed]",
      "text/plain": [
       "<Figure size 640x480 with 1 Axes>"
      ]
     },
     "metadata": {},
     "output_type": "display_data"
    },
    {
     "name": "stderr",
     "output_type": "stream",
     "text": [
      "C:\\Users\\Shubham Jadhav\\anaconda3\\lib\\site-packages\\seaborn\\_decorators.py:36: FutureWarning: Pass the following variable as a keyword arg: x. From version 0.12, the only valid positional argument will be `data`, and passing other arguments without an explicit keyword will result in an error or misinterpretation.\n",
      "  warnings.warn(\n"
     ]
    },
    {
     "data": {
      "image/png": "[encoded data removed]",
      "text/plain": [
       "<Figure size 640x480 with 1 Axes>"
      ]
     },
     "metadata": {},
     "output_type": "display_data"
    },
    {
     "name": "stderr",
     "output_type": "stream",
     "text": [
      "C:\\Users\\Shubham Jadhav\\anaconda3\\lib\\site-packages\\seaborn\\_decorators.py:36: FutureWarning: Pass the following variable as a keyword arg: x. From version 0.12, the only valid positional argument will be `data`, and passing other arguments without an explicit keyword will result in an error or misinterpretation.\n",
      "  warnings.warn(\n"
     ]
    },
    {
     "data": {
      "image/png": "[encoded data removed]",
      "text/plain": [
       "<Figure size 640x480 with 1 Axes>"
      ]
     },
     "metadata": {},
     "output_type": "display_data"
    },
    {
     "name": "stderr",
     "output_type": "stream",
     "text": [
      "C:\\Users\\Shubham Jadhav\\anaconda3\\lib\\site-packages\\seaborn\\_decorators.py:36: FutureWarning: Pass the following variable as a keyword arg: x. From version 0.12, the only valid positional argument will be `data`, and passing other arguments without an explicit keyword will result in an error or misinterpretation.\n",
      "  warnings.warn(\n"
     ]
    },
    {
     "data": {
      "image/png": "[encoded data removed]",
      "text/plain": [
       "<Figure size 640x480 with 1 Axes>"
      ]
     },
     "metadata": {},
     "output_type": "display_data"
    },
    {
     "name": "stderr",
     "output_type": "stream",
     "text": [
      "C:\\Users\\Shubham Jadhav\\anaconda3\\lib\\site-packages\\seaborn\\_decorators.py:36: FutureWarning: Pass the following variable as a keyword arg: x. From version 0.12, the only valid positional argument will be `data`, and passing other arguments without an explicit keyword will result in an error or misinterpretation.\n",
      "  warnings.warn(\n"
     ]
    },
    {
     "data": {
      "image/png": "[encoded data removed]",
      "text/plain": [
       "<Figure size 640x480 with 1 Axes>"
      ]
     },
     "metadata": {},
     "output_type": "display_data"
    },
    {
     "name": "stderr",
     "output_type": "stream",
     "text": [
      "C:\\Users\\Shubham Jadhav\\anaconda3\\lib\\site-packages\\seaborn\\_decorators.py:36: FutureWarning: Pass the following variable as a keyword arg: x. From version 0.12, the only valid positional argument will be `data`, and passing other arguments without an explicit keyword will result in an error or misinterpretation.\n",
      "  warnings.warn(\n"
     ]
    },
    {
     "data": {
      "image/png": "[encoded data removed]",
      "text/plain": [
       "<Figure size 640x480 with 1 Axes>"
      ]
     },
     "metadata": {},
     "output_type": "display_data"
    },
    {
     "name": "stderr",
     "output_type": "stream",
     "text": [
      "C:\\Users\\Shubham Jadhav\\anaconda3\\lib\\site-packages\\seaborn\\_decorators.py:36: FutureWarning: Pass the following variable as a keyword arg: x. From version 0.12, the only valid positional argument will be `data`, and passing other arguments without an explicit keyword will result in an error or misinterpretation.\n",
      "  warnings.warn(\n"
     ]
    },
    {
     "data": {
      "image/png": "[encoded data removed]",
      "text/plain": [
       "<Figure size 640x480 with 1 Axes>"
      ]
     },
     "metadata": {},
     "output_type": "display_data"
    },
    {
     "name": "stderr",
     "output_type": "stream",
     "text": [
      "C:\\Users\\Shubham Jadhav\\anaconda3\\lib\\site-packages\\seaborn\\_decorators.py:36: FutureWarning: Pass the following variable as a keyword arg: x. From version 0.12, the only valid positional argument will be `data`, and passing other arguments without an explicit keyword will result in an error or misinterpretation.\n",
      "  warnings.warn(\n"
     ]
    },
    {
     "data": {
      "image/png": "[encoded data removed]",
      "text/plain": [
       "<Figure size 640x480 with 1 Axes>"
      ]
     },
     "metadata": {},
     "output_type": "display_data"
    },
    {
     "name": "stderr",
     "output_type": "stream",
     "text": [
      "C:\\Users\\Shubham Jadhav\\anaconda3\\lib\\site-packages\\seaborn\\_decorators.py:36: FutureWarning: Pass the following variable as a keyword arg: x. From version 0.12, the only valid positional argument will be `data`, and passing other arguments without an explicit keyword will result in an error or misinterpretation.\n",
      "  warnings.warn(\n"
     ]
    },
    {
     "data": {
      "image/png": "[encoded data removed]",
      "text/plain": [
       "<Figure size 640x480 with 1 Axes>"
      ]
     },
     "metadata": {},
     "output_type": "display_data"
    },
    {
     "name": "stderr",
     "output_type": "stream",
     "text": [
      "C:\\Users\\Shubham Jadhav\\anaconda3\\lib\\site-packages\\seaborn\\_decorators.py:36: FutureWarning: Pass the following variable as a keyword arg: x. From version 0.12, the only valid positional argument will be `data`, and passing other arguments without an explicit keyword will result in an error or misinterpretation.\n",
      "  warnings.warn(\n"
     ]
    },
    {
     "data": {
      "image/png": "[encoded data removed]",
      "text/plain": [
       "<Figure size 640x480 with 1 Axes>"
      ]
     },
     "metadata": {},
     "output_type": "display_data"
    },
    {
     "name": "stderr",
     "output_type": "stream",
     "text": [
      "C:\\Users\\Shubham Jadhav\\anaconda3\\lib\\site-packages\\seaborn\\_decorators.py:36: FutureWarning: Pass the following variable as a keyword arg: x. From version 0.12, the only valid positional argument will be `data`, and passing other arguments without an explicit keyword will result in an error or misinterpretation.\n",
      "  warnings.warn(\n"
     ]
    },
    {
     "data": {
      "image/png": "[encoded data removed]",
      "text/plain": [
       "<Figure size 640x480 with 1 Axes>"
      ]
     },
     "metadata": {},
     "output_type": "display_data"
    },
    {
     "name": "stderr",
     "output_type": "stream",
     "text": [
      "C:\\Users\\Shubham Jadhav\\anaconda3\\lib\\site-packages\\seaborn\\_decorators.py:36: FutureWarning: Pass the following variable as a keyword arg: x. From version 0.12, the only valid positional argument will be `data`, and passing other arguments without an explicit keyword will result in an error or misinterpretation.\n",
      "  warnings.warn(\n"
     ]
    },
    {
     "data": {
      "image/png": "[encoded data removed]",
      "text/plain": [
       "<Figure size 640x480 with 1 Axes>"
      ]
     },
     "metadata": {},
     "output_type": "display_data"
    },
    {
     "name": "stderr",
     "output_type": "stream",
     "text": [
      "C:\\Users\\Shubham Jadhav\\anaconda3\\lib\\site-packages\\seaborn\\_decorators.py:36: FutureWarning: Pass the following variable as a keyword arg: x. From version 0.12, the only valid positional argument will be `data`, and passing other arguments without an explicit keyword will result in an error or misinterpretation.\n",
      "  warnings.warn(\n"
     ]
    },
    {
     "data": {
      "image/png": "[encoded data removed]",
      "text/plain": [
       "<Figure size 640x480 with 1 Axes>"
      ]
     },
     "metadata": {},
     "output_type": "display_data"
    },
    {
     "name": "stderr",
     "output_type": "stream",
     "text": [
      "C:\\Users\\Shubham Jadhav\\anaconda3\\lib\\site-packages\\seaborn\\_decorators.py:36: FutureWarning: Pass the following variable as a keyword arg: x. From version 0.12, the only valid positional argument will be `data`, and passing other arguments without an explicit keyword will result in an error or misinterpretation.\n",
      "  warnings.warn(\n"
     ]
    },
    {
     "data": {
      "image/png": "[encoded data removed]",
      "text/plain": [
       "<Figure size 640x480 with 1 Axes>"
      ]
     },
     "metadata": {},
     "output_type": "display_data"
    },
    {
     "name": "stderr",
     "output_type": "stream",
     "text": [
      "C:\\Users\\Shubham Jadhav\\anaconda3\\lib\\site-packages\\seaborn\\_decorators.py:36: FutureWarning: Pass the following variable as a keyword arg: x. From version 0.12, the only valid positional argument will be `data`, and passing other arguments without an explicit keyword will result in an error or misinterpretation.\n",
      "  warnings.warn(\n"
     ]
    },
    {
     "data": {
      "image/png": "[encoded data removed]",
      "text/plain": [
       "<Figure size 640x480 with 1 Axes>"
      ]
     },
     "metadata": {},
     "output_type": "display_data"
    },
    {
     "name": "stderr",
     "output_type": "stream",
     "text": [
      "C:\\Users\\Shubham Jadhav\\anaconda3\\lib\\site-packages\\seaborn\\_decorators.py:36: FutureWarning: Pass the following variable as a keyword arg: x. From version 0.12, the only valid positional argument will be `data`, and passing other arguments without an explicit keyword will result in an error or misinterpretation.\n",
      "  warnings.warn(\n"
     ]
    },
    {
     "data": {
      "image/png": "[encoded data removed]",
      "text/plain": [
       "<Figure size 640x480 with 1 Axes>"
      ]
     },
     "metadata": {},
     "output_type": "display_data"
    },
    {
     "name": "stderr",
     "output_type": "stream",
     "text": [
      "C:\\Users\\Shubham Jadhav\\anaconda3\\lib\\site-packages\\seaborn\\_decorators.py:36: FutureWarning: Pass the following variable as a keyword arg: x. From version 0.12, the only valid positional argument will be `data`, and passing other arguments without an explicit keyword will result in an error or misinterpretation.\n",
      "  warnings.warn(\n"
     ]
    },
    {
     "data": {
      "image/png": "[encoded data removed]",
      "text/plain": [
       "<Figure size 640x480 with 1 Axes>"
      ]
     },
     "metadata": {},
     "output_type": "display_data"
    },
    {
     "name": "stderr",
     "output_type": "stream",
     "text": [
      "C:\\Users\\Shubham Jadhav\\anaconda3\\lib\\site-packages\\seaborn\\_decorators.py:36: FutureWarning: Pass the following variable as a keyword arg: x. From version 0.12, the only valid positional argument will be `data`, and passing other arguments without an explicit keyword will result in an error or misinterpretation.\n",
      "  warnings.warn(\n"
     ]
    },
    {
     "data": {
      "image/png": "[encoded data removed]",
      "text/plain": [
       "<Figure size 640x480 with 1 Axes>"
      ]
     },
     "metadata": {},
     "output_type": "display_data"
    },
    {
     "name": "stderr",
     "output_type": "stream",
     "text": [
      "C:\\Users\\Shubham Jadhav\\anaconda3\\lib\\site-packages\\seaborn\\_decorators.py:36: FutureWarning: Pass the following variable as a keyword arg: x. From version 0.12, the only valid positional argument will be `data`, and passing other arguments without an explicit keyword will result in an error or misinterpretation.\n",
      "  warnings.warn(\n"
     ]
    },
    {
     "data": {
      "image/png": "[encoded data removed]",
      "text/plain": [
       "<Figure size 640x480 with 1 Axes>"
      ]
     },
     "metadata": {},
     "output_type": "display_data"
    },
    {
     "name": "stderr",
     "output_type": "stream",
     "text": [
      "C:\\Users\\Shubham Jadhav\\anaconda3\\lib\\site-packages\\seaborn\\_decorators.py:36: FutureWarning: Pass the following variable as a keyword arg: x. From version 0.12, the only valid positional argument will be `data`, and passing other arguments without an explicit keyword will result in an error or misinterpretation.\n",
      "  warnings.warn(\n"
     ]
    },
    {
     "data": {
      "image/png": "[encoded data removed]",
      "text/plain": [
       "<Figure size 640x480 with 1 Axes>"
      ]
     },
     "metadata": {},
     "output_type": "display_data"
    },
    {
     "name": "stderr",
     "output_type": "stream",
     "text": [
      "C:\\Users\\Shubham Jadhav\\anaconda3\\lib\\site-packages\\seaborn\\_decorators.py:36: FutureWarning: Pass the following variable as a keyword arg: x. From version 0.12, the only valid positional argument will be `data`, and passing other arguments without an explicit keyword will result in an error or misinterpretation.\n",
      "  warnings.warn(\n"
     ]
    },
    {
     "data": {
      "image/png": "[encoded data removed]",
      "text/plain": [
       "<Figure size 640x480 with 1 Axes>"
      ]
     },
     "metadata": {},
     "output_type": "display_data"
    }
   ],
   "source": [
    "#Below are some of the methods of treating the outliers\n",
    "#1)Trimming/removing the outlier\n",
    "# Trimming\n",
    "'''\n",
    "for i in sample_outliers:\n",
    "    a = np.delete(sample, np.where(sample==i))\n",
    "print(a)\n",
    "'''\n",
    "# print(len(sample), len(a))\n",
    "#2)Quantile based flooring and capping\n",
    "'''\n",
    "# Computing 10th, 90th percentiles and replacing the outliers\n",
    "tenth_percentile = np.percentile(sample, 10)\n",
    "ninetieth_percentile = np.percentile(sample, 90)\n",
    "# print(tenth_percentile, ninetieth_percentile)b = np.where(sample<tenth_percentile, tenth_percentile, sample)\n",
    "b = np.where(b>ninetieth_percentile, ninetieth_percentile, b)\n",
    "# print(\"Sample:\", sample)\n",
    "print(\"New array:\",b)\n",
    "'''\n",
    "\n",
    "#3)Mean/Median imputation\n",
    "'''\n",
    "median = np.median(sample)# Replace with median\n",
    "for i in sample_outliers:\n",
    "    c = np.where(sample==i, 14, sample)\n",
    "print(\"Sample: \", sample)\n",
    "print(\"New array: \",c)\n",
    "# print(x.dtype)\n",
    "'''\n",
    "\n",
    "#  treatment\n",
    "for i in new_Customer_existing[new_Customer_existing.columns.difference(['gender_F','gender_M','loan_enq_Y','account_type_saving','account_type_current','Income_HIGH', 'Income_LOW','Income_MEDIUM','NetBanking_Flag'])]:\n",
    "    _, bp = pd.DataFrame.boxplot(new_Customer_existing[i], return_type='both')\n",
    "    whiskers = [whiskers.get_ydata() for whiskers in bp[\"whiskers\"]]\n",
    "    new_Customer_existing[i].clip(lower=whiskers[0][1],upper=whiskers[1][1],inplace=True)\n",
    "    sns.boxplot(new_Customer_existing[i])\n",
    "    plt.show()"
   ]
  },
  {
   "cell_type": "code",
   "execution_count": 15,
   "id": "958ce92c",
   "metadata": {},
   "outputs": [
    {
     "data": {
      "text/html": [
       "<div>\n",
       "<style scoped>\n",
       "    .dataframe tbody tr th:only-of-type {\n",
       "        vertical-align: middle;\n",
       "    }\n",
       "\n",
       "    .dataframe tbody tr th {\n",
       "        vertical-align: top;\n",
       "    }\n",
       "\n",
       "    .dataframe thead th {\n",
       "        text-align: right;\n",
       "    }\n",
       "</style>\n",
       "<table border=\"1\" class=\"dataframe\">\n",
       "  <thead>\n",
       "    <tr style=\"text-align: right;\">\n",
       "      <th></th>\n",
       "      <th>cc_cons</th>\n",
       "      <th>cc_cons_apr</th>\n",
       "      <th>dc_cons_apr</th>\n",
       "      <th>cc_cons_may</th>\n",
       "      <th>dc_cons_may</th>\n",
       "      <th>cc_cons_jun</th>\n",
       "      <th>dc_cons_jun</th>\n",
       "      <th>cc_count_apr</th>\n",
       "      <th>cc_count_may</th>\n",
       "      <th>cc_count_jun</th>\n",
       "      <th>...</th>\n",
       "      <th>NetBanking_Flag</th>\n",
       "      <th>Avg_days_between_transaction</th>\n",
       "      <th>Income_HIGH</th>\n",
       "      <th>Income_LOW</th>\n",
       "      <th>Income_MEDIUM</th>\n",
       "      <th>account_type_current</th>\n",
       "      <th>account_type_saving</th>\n",
       "      <th>gender_F</th>\n",
       "      <th>gender_M</th>\n",
       "      <th>loan_enq_Y</th>\n",
       "    </tr>\n",
       "  </thead>\n",
       "  <tbody>\n",
       "    <tr>\n",
       "      <th>0</th>\n",
       "      <td>20014.0</td>\n",
       "      <td>24893.00</td>\n",
       "      <td>378.00</td>\n",
       "      <td>10288.00</td>\n",
       "      <td>18033.70</td>\n",
       "      <td>16291.40</td>\n",
       "      <td>11432.00</td>\n",
       "      <td>2.0</td>\n",
       "      <td>26.0</td>\n",
       "      <td>10.0</td>\n",
       "      <td>...</td>\n",
       "      <td>0</td>\n",
       "      <td>17.0</td>\n",
       "      <td>0</td>\n",
       "      <td>0</td>\n",
       "      <td>1</td>\n",
       "      <td>1</td>\n",
       "      <td>0</td>\n",
       "      <td>0</td>\n",
       "      <td>1</td>\n",
       "      <td>1</td>\n",
       "    </tr>\n",
       "    <tr>\n",
       "      <th>1</th>\n",
       "      <td>10173.0</td>\n",
       "      <td>18941.62</td>\n",
       "      <td>966.00</td>\n",
       "      <td>20672.00</td>\n",
       "      <td>287.00</td>\n",
       "      <td>4217.00</td>\n",
       "      <td>885.00</td>\n",
       "      <td>1.0</td>\n",
       "      <td>7.0</td>\n",
       "      <td>13.0</td>\n",
       "      <td>...</td>\n",
       "      <td>0</td>\n",
       "      <td>14.0</td>\n",
       "      <td>1</td>\n",
       "      <td>0</td>\n",
       "      <td>0</td>\n",
       "      <td>1</td>\n",
       "      <td>0</td>\n",
       "      <td>0</td>\n",
       "      <td>1</td>\n",
       "      <td>1</td>\n",
       "    </tr>\n",
       "    <tr>\n",
       "      <th>2</th>\n",
       "      <td>16095.0</td>\n",
       "      <td>5678.87</td>\n",
       "      <td>2724.00</td>\n",
       "      <td>1964.50</td>\n",
       "      <td>3933.11</td>\n",
       "      <td>23956.25</td>\n",
       "      <td>5168.00</td>\n",
       "      <td>43.0</td>\n",
       "      <td>32.0</td>\n",
       "      <td>102.0</td>\n",
       "      <td>...</td>\n",
       "      <td>1</td>\n",
       "      <td>3.0</td>\n",
       "      <td>0</td>\n",
       "      <td>0</td>\n",
       "      <td>1</td>\n",
       "      <td>1</td>\n",
       "      <td>0</td>\n",
       "      <td>0</td>\n",
       "      <td>1</td>\n",
       "      <td>1</td>\n",
       "    </tr>\n",
       "    <tr>\n",
       "      <th>3</th>\n",
       "      <td>7707.0</td>\n",
       "      <td>30489.50</td>\n",
       "      <td>1236.00</td>\n",
       "      <td>12609.88</td>\n",
       "      <td>9138.14</td>\n",
       "      <td>17521.00</td>\n",
       "      <td>13650.30</td>\n",
       "      <td>53.0</td>\n",
       "      <td>1.0</td>\n",
       "      <td>50.0</td>\n",
       "      <td>...</td>\n",
       "      <td>1</td>\n",
       "      <td>4.0</td>\n",
       "      <td>0</td>\n",
       "      <td>0</td>\n",
       "      <td>1</td>\n",
       "      <td>1</td>\n",
       "      <td>0</td>\n",
       "      <td>1</td>\n",
       "      <td>0</td>\n",
       "      <td>1</td>\n",
       "    </tr>\n",
       "    <tr>\n",
       "      <th>4</th>\n",
       "      <td>40055.0</td>\n",
       "      <td>7441.40</td>\n",
       "      <td>6906.04</td>\n",
       "      <td>4364.00</td>\n",
       "      <td>1939.00</td>\n",
       "      <td>2121.00</td>\n",
       "      <td>6829.18</td>\n",
       "      <td>67.0</td>\n",
       "      <td>47.0</td>\n",
       "      <td>82.0</td>\n",
       "      <td>...</td>\n",
       "      <td>1</td>\n",
       "      <td>7.0</td>\n",
       "      <td>0</td>\n",
       "      <td>0</td>\n",
       "      <td>1</td>\n",
       "      <td>1</td>\n",
       "      <td>0</td>\n",
       "      <td>0</td>\n",
       "      <td>1</td>\n",
       "      <td>0</td>\n",
       "    </tr>\n",
       "  </tbody>\n",
       "</table>\n",
       "<p>5 rows × 48 columns</p>\n",
       "</div>"
      ],
      "text/plain": [
       "   cc_cons  cc_cons_apr  dc_cons_apr  cc_cons_may  dc_cons_may  cc_cons_jun  \\\n",
       "0  20014.0     24893.00       378.00     10288.00     18033.70     16291.40   \n",
       "1  10173.0     18941.62       966.00     20672.00       287.00      4217.00   \n",
       "2  16095.0      5678.87      2724.00      1964.50      3933.11     23956.25   \n",
       "3   7707.0     30489.50      1236.00     12609.88      9138.14     17521.00   \n",
       "4  40055.0      7441.40      6906.04      4364.00      1939.00      2121.00   \n",
       "\n",
       "   dc_cons_jun  cc_count_apr  cc_count_may  cc_count_jun  ...  \\\n",
       "0     11432.00           2.0          26.0          10.0  ...   \n",
       "1       885.00           1.0           7.0          13.0  ...   \n",
       "2      5168.00          43.0          32.0         102.0  ...   \n",
       "3     13650.30          53.0           1.0          50.0  ...   \n",
       "4      6829.18          67.0          47.0          82.0  ...   \n",
       "\n",
       "   NetBanking_Flag  Avg_days_between_transaction  Income_HIGH  Income_LOW  \\\n",
       "0                0                          17.0            0           0   \n",
       "1                0                          14.0            1           0   \n",
       "2                1                           3.0            0           0   \n",
       "3                1                           4.0            0           0   \n",
       "4                1                           7.0            0           0   \n",
       "\n",
       "   Income_MEDIUM  account_type_current  account_type_saving  gender_F  \\\n",
       "0              1                     1                    0         0   \n",
       "1              0                     1                    0         0   \n",
       "2              1                     1                    0         0   \n",
       "3              1                     1                    0         1   \n",
       "4              1                     1                    0         0   \n",
       "\n",
       "   gender_M  loan_enq_Y  \n",
       "0         1           1  \n",
       "1         1           1  \n",
       "2         1           1  \n",
       "3         0           1  \n",
       "4         1           0  \n",
       "\n",
       "[5 rows x 48 columns]"
      ]
     },
     "execution_count": 15,
     "metadata": {},
     "output_type": "execute_result"
    }
   ],
   "source": [
    "new_Customer_existing.head()"
   ]
  },
  {
   "cell_type": "code",
   "execution_count": 16,
   "id": "6f81e7d6",
   "metadata": {},
   "outputs": [],
   "source": [
    "#assumption of a linear regression\n",
    "#1)y(Target) should follow normal Distribution\n",
    "#2)y&X should have linear relationship\n",
    "#3)NO outliers\n",
    "#4)NO missings\n",
    "#5)NO Multicollinerity"
   ]
  },
  {
   "cell_type": "code",
   "execution_count": 17,
   "id": "bd0664ec",
   "metadata": {},
   "outputs": [],
   "source": [
    "#There are two ways to go about analyzing the non-normal data.\n",
    "#Either use the non-parametric tests, which do not assume normality or\n",
    "#transform the data using an appropriate function,forcing it to fit normal distribution."
   ]
  },
  {
   "cell_type": "code",
   "execution_count": 18,
   "id": "9ec5a2ca",
   "metadata": {},
   "outputs": [
    {
     "name": "stderr",
     "output_type": "stream",
     "text": [
      "C:\\Users\\Shubham Jadhav\\anaconda3\\lib\\site-packages\\scipy\\stats\\_morestats.py:1800: UserWarning: p-value may not be accurate for N > 5000.\n",
      "  warnings.warn(\"p-value may not be accurate for N > 5000.\")\n"
     ]
    },
    {
     "name": "stdout",
     "output_type": "stream",
     "text": [
      "Statistics=0.837, p=0.000\n",
      "Sample does not look Gaussian (reject H0)\n"
     ]
    },
    {
     "data": {
      "image/png": "[encoded data removed]",
      "text/plain": [
       "<Figure size 640x480 with 1 Axes>"
      ]
     },
     "metadata": {},
     "output_type": "display_data"
    }
   ],
   "source": [
    "#Kolmogorov–Smirnov test and the Shapiro–Wilk test are most widely used methods to test the normality of the data.\n",
    "# Shapiro-Wilk Test to check normality \n",
    "stat, p = stats.shapiro(new_Customer_existing.cc_cons)\n",
    "print('Statistics=%.3f, p=%.3f' % (stat, p))\n",
    "# interpret\n",
    "alpha = 0.05\n",
    "if p > alpha:\n",
    "    print('Sample looks Gaussian (fail to reject H0)')\n",
    "else:\n",
    "    print('Sample does not look Gaussian (reject H0)')\n",
    "\n",
    "# normality test\n",
    "    '''    \n",
    "stat, p = stats.normaltest(new_Customer_existing.cc_cons)\n",
    "print('Statistics=%.3f, p=%.3f' % (stat, p))\n",
    "# interpret\n",
    "alpha = 0.05\n",
    "if p > alpha:\n",
    "    print('Sample looks Gaussian (fail to reject H0)')\n",
    "else:\n",
    "    print('Sample does not look Gaussian (reject H0)')\n",
    "'''\n",
    "#\n",
    "#new_Customer_existing.cc_cons.hist()\n",
    "qqplot(new_Customer_existing.cc_cons, line='s',fit=True)\n",
    "\n",
    "#sns.kdeplot(new_Customer_existing.cc_cons)\n",
    "plt.show()"
   ]
  },
  {
   "cell_type": "code",
   "execution_count": 19,
   "id": "6ef76710",
   "metadata": {},
   "outputs": [
    {
     "data": {
      "image/png": "[encoded data removed]",
      "text/plain": [
       "<Figure size 640x480 with 1 Axes>"
      ]
     },
     "metadata": {},
     "output_type": "display_data"
    }
   ],
   "source": [
    "sns.kdeplot(new_Customer_existing.cc_cons)\n",
    "plt.show()"
   ]
  },
  {
   "cell_type": "raw",
   "id": "f2b80997",
   "metadata": {},
   "source": [
    "1.Normalization :is the process of scaling in respect to the entire data range so that the data has a range from 0 to 1.\n",
    "2.Standardization :is the process of transforming in respect to the entire data range so that the data has a mean of 0 and a standard deviation of 1. It’s distribution is now a Standard Normal Distribution.\n",
    "3.Transformation : is the application of the same calculation to every point of the data separately."
   ]
  },
  {
   "cell_type": "raw",
   "id": "cdce1f4d",
   "metadata": {},
   "source": [
    "\n",
    "#Transformation types:[skewed distribution into normal distribution]\n",
    "#1.Logarithmic Transformation\n",
    "#2.Reciprocal Transformation – This will inverse  - data_sqrt = np.reciprocal(data)\n",
    "#3.Square Root Transformation,Cube Root Transformation\n",
    "#4.Exponential Transformation                     - data_sqrt = np.exp(data)\n",
    "#5.Box-Cox Transformation                         - stats.boxcox(data)\n",
    "\n",
    "\n",
    "#checking & applying using different transformation on data:\n",
    "data = new_Customer_existing\n",
    "#1-create log-transformed data\n",
    "#data_log = np.log(data)\n",
    "#2-create sqrt-transformed data\n",
    "data_sqrt = np.sqrt(data)\n",
    "#3-create cuberoot-transformed data\n",
    "data_cbrt = np.cbrt(data)\n",
    "\n",
    "\n",
    "\n",
    "#define grid of plots\n",
    "fig, axs = plt.subplots(nrows=1, ncols=3)\n",
    "\n",
    "\n",
    "#create histograms\n",
    "axs[0].hist(data, edgecolor='black')\n",
    "#axs[3].hist(data_log, edgecolor='black')\n",
    "axs[1].hist(data_sqrt, edgecolor='black')\n",
    "axs[2].hist(data_cbrt, edgecolor='black')\n",
    "#add title to each histogram\n",
    "axs[0].set_title('Original Data')\n",
    "#axs[3].set_title('log-transformed')\n",
    "axs[1].set_title('sqrt-transformed')\n",
    "axs[2].set_title('cuberoot-transformed')\n",
    "plt.show()"
   ]
  },
  {
   "cell_type": "raw",
   "id": "e90c6f8f",
   "metadata": {},
   "source": [
    "#Normalization\n",
    "nor=preprocessing.Normalizer()\n",
    "nor=nor.fit_transform(Transf)\n",
    "nor=pd.DataFrame(nor,columns=new_Customer_existing.columns)\n",
    "\n",
    "#OBJ=MinMaxScaler()\n",
    "#MM=OBJ.fit_transform(nor)\n",
    "#MM=pd.DataFrame(MM,columns=new_Customer_existing.columns)\n",
    "\n",
    "\n",
    "#Transformation\n",
    "\n",
    "#Transf=np.log(nor -(np.min(nor)-1))\n",
    "Transf=np.cbrt(data)\n",
    "Transf=pd.DataFrame(Transf,columns=new_Customer_existing.columns)\n",
    "\n",
    "OBJ=StandardScaler()\n",
    "SC=OBJ.fit_transform(Transf)\n",
    "SC=pd.DataFrame(SC,columns=new_Customer_existing.columns)\n",
    "\n",
    "\n",
    "\n",
    "Transf_nor=nor\n",
    "\n",
    "\n",
    "sns.kdeplot(Transf_nor.cc_cons)\n",
    "plt.show()"
   ]
  },
  {
   "cell_type": "code",
   "execution_count": 20,
   "id": "95dbb29b",
   "metadata": {},
   "outputs": [],
   "source": [
    "#MinMax Scaler                   :preprocessing.minmax_scale()/MinMaxScaler\n",
    "#Standard Scaler                 :preprocessing.StandardScaler()\n",
    "#MaxAbs Scaler                   :preprocessing.maxabs_scale()\n",
    "#Robust Scaler                   :preprocessing.RobustScaler()\n",
    "#Quantile Transform Scaler       :preprocessing.QuantileTransformer()\n",
    "#Power Transformer Scaler        :preprocessing.power_transform()\n",
    "#Unit Vector Scaler/Normalizer   :preprocessing.normalize()"
   ]
  },
  {
   "cell_type": "code",
   "execution_count": 21,
   "id": "2dfcdb30",
   "metadata": {},
   "outputs": [
    {
     "data": {
      "image/png": "[encoded data removed]",
      "text/plain": [
       "<Figure size 640x480 with 1 Axes>"
      ]
     },
     "metadata": {},
     "output_type": "display_data"
    }
   ],
   "source": [
    "#Normalization\n",
    "nor=preprocessing.normalize(new_Customer_existing)\n",
    "#Transformation\n",
    "Transf_nor=np.cbrt(nor)\n",
    "Transf_nor=pd.DataFrame(Transf_nor,columns=new_Customer_existing.columns)\n",
    "sns.kdeplot(Transf_nor.cc_cons)\n",
    "plt.show()"
   ]
  },
  {
   "cell_type": "code",
   "execution_count": 22,
   "id": "3b011a52",
   "metadata": {},
   "outputs": [
    {
     "data": {
      "image/png": "[encoded data removed]",
      "text/plain": [
       "<Figure size 640x480 with 1 Axes>"
      ]
     },
     "execution_count": 22,
     "metadata": {},
     "output_type": "execute_result"
    }
   ],
   "source": [
    "qqplot(Transf_nor.cc_cons,line='s',fit=True)"
   ]
  },
  {
   "cell_type": "code",
   "execution_count": null,
   "id": "7180596c",
   "metadata": {},
   "outputs": [],
   "source": []
  },
  {
   "cell_type": "code",
   "execution_count": 23,
   "id": "ab7c88b1",
   "metadata": {},
   "outputs": [
    {
     "data": {
      "text/html": [
       "<div>\n",
       "<style scoped>\n",
       "    .dataframe tbody tr th:only-of-type {\n",
       "        vertical-align: middle;\n",
       "    }\n",
       "\n",
       "    .dataframe tbody tr th {\n",
       "        vertical-align: top;\n",
       "    }\n",
       "\n",
       "    .dataframe thead th {\n",
       "        text-align: right;\n",
       "    }\n",
       "</style>\n",
       "<table border=\"1\" class=\"dataframe\">\n",
       "  <thead>\n",
       "    <tr style=\"text-align: right;\">\n",
       "      <th></th>\n",
       "      <th>cc_cons</th>\n",
       "      <th>cc_cons_apr</th>\n",
       "      <th>dc_cons_apr</th>\n",
       "      <th>cc_cons_may</th>\n",
       "      <th>dc_cons_may</th>\n",
       "      <th>cc_cons_jun</th>\n",
       "      <th>dc_cons_jun</th>\n",
       "      <th>cc_count_apr</th>\n",
       "      <th>cc_count_may</th>\n",
       "      <th>cc_count_jun</th>\n",
       "      <th>...</th>\n",
       "      <th>NetBanking_Flag</th>\n",
       "      <th>Avg_days_between_transaction</th>\n",
       "      <th>Income_HIGH</th>\n",
       "      <th>Income_LOW</th>\n",
       "      <th>Income_MEDIUM</th>\n",
       "      <th>account_type_current</th>\n",
       "      <th>account_type_saving</th>\n",
       "      <th>gender_F</th>\n",
       "      <th>gender_M</th>\n",
       "      <th>loan_enq_Y</th>\n",
       "    </tr>\n",
       "  </thead>\n",
       "  <tbody>\n",
       "    <tr>\n",
       "      <th>0</th>\n",
       "      <td>0.305185</td>\n",
       "      <td>0.700985</td>\n",
       "      <td>-1.466770</td>\n",
       "      <td>-0.046627</td>\n",
       "      <td>1.513510</td>\n",
       "      <td>0.689071</td>\n",
       "      <td>1.012074</td>\n",
       "      <td>-1.133701</td>\n",
       "      <td>0.061359</td>\n",
       "      <td>-0.879443</td>\n",
       "      <td>...</td>\n",
       "      <td>-1.558065</td>\n",
       "      <td>0.642085</td>\n",
       "      <td>-0.292293</td>\n",
       "      <td>-0.615501</td>\n",
       "      <td>0.655727</td>\n",
       "      <td>0.300466</td>\n",
       "      <td>-0.418787</td>\n",
       "      <td>-0.394723</td>\n",
       "      <td>0.270436</td>\n",
       "      <td>-0.304407</td>\n",
       "    </tr>\n",
       "    <tr>\n",
       "      <th>1</th>\n",
       "      <td>-0.109258</td>\n",
       "      <td>0.697807</td>\n",
       "      <td>-0.936866</td>\n",
       "      <td>0.955143</td>\n",
       "      <td>-1.525260</td>\n",
       "      <td>-0.349622</td>\n",
       "      <td>-0.903481</td>\n",
       "      <td>-1.271868</td>\n",
       "      <td>-0.706421</td>\n",
       "      <td>-0.530824</td>\n",
       "      <td>...</td>\n",
       "      <td>-1.558065</td>\n",
       "      <td>0.769272</td>\n",
       "      <td>3.547311</td>\n",
       "      <td>-0.615501</td>\n",
       "      <td>-1.307318</td>\n",
       "      <td>0.541137</td>\n",
       "      <td>-0.418787</td>\n",
       "      <td>-0.394723</td>\n",
       "      <td>0.520119</td>\n",
       "      <td>0.412231</td>\n",
       "    </tr>\n",
       "    <tr>\n",
       "      <th>2</th>\n",
       "      <td>-0.066783</td>\n",
       "      <td>-0.733291</td>\n",
       "      <td>-0.568604</td>\n",
       "      <td>-1.233101</td>\n",
       "      <td>-0.273884</td>\n",
       "      <td>0.976877</td>\n",
       "      <td>0.048174</td>\n",
       "      <td>0.601246</td>\n",
       "      <td>0.117411</td>\n",
       "      <td>1.034518</td>\n",
       "      <td>...</td>\n",
       "      <td>0.424961</td>\n",
       "      <td>-1.656024</td>\n",
       "      <td>-0.292293</td>\n",
       "      <td>-0.615501</td>\n",
       "      <td>0.563685</td>\n",
       "      <td>0.180849</td>\n",
       "      <td>-0.418787</td>\n",
       "      <td>-0.394723</td>\n",
       "      <td>0.146340</td>\n",
       "      <td>-0.660587</td>\n",
       "    </tr>\n",
       "    <tr>\n",
       "      <th>3</th>\n",
       "      <td>-0.354704</td>\n",
       "      <td>1.298863</td>\n",
       "      <td>-0.795281</td>\n",
       "      <td>0.411922</td>\n",
       "      <td>0.988759</td>\n",
       "      <td>1.115718</td>\n",
       "      <td>1.601412</td>\n",
       "      <td>1.254431</td>\n",
       "      <td>-1.586349</td>\n",
       "      <td>0.692647</td>\n",
       "      <td>...</td>\n",
       "      <td>0.725041</td>\n",
       "      <td>-0.950654</td>\n",
       "      <td>-0.292293</td>\n",
       "      <td>-0.615501</td>\n",
       "      <td>0.846813</td>\n",
       "      <td>0.548801</td>\n",
       "      <td>-0.418787</td>\n",
       "      <td>2.647309</td>\n",
       "      <td>-2.376263</td>\n",
       "      <td>0.435053</td>\n",
       "    </tr>\n",
       "    <tr>\n",
       "      <th>4</th>\n",
       "      <td>1.024587</td>\n",
       "      <td>-0.510593</td>\n",
       "      <td>0.188001</td>\n",
       "      <td>-0.763798</td>\n",
       "      <td>-0.749487</td>\n",
       "      <td>-1.059662</td>\n",
       "      <td>0.348750</td>\n",
       "      <td>1.095491</td>\n",
       "      <td>0.530218</td>\n",
       "      <td>0.828091</td>\n",
       "      <td>...</td>\n",
       "      <td>0.455870</td>\n",
       "      <td>-0.739913</td>\n",
       "      <td>-0.292293</td>\n",
       "      <td>-0.615501</td>\n",
       "      <td>0.592847</td>\n",
       "      <td>0.218748</td>\n",
       "      <td>-0.418787</td>\n",
       "      <td>-0.394723</td>\n",
       "      <td>0.185658</td>\n",
       "      <td>-7.900929</td>\n",
       "    </tr>\n",
       "  </tbody>\n",
       "</table>\n",
       "<p>5 rows × 48 columns</p>\n",
       "</div>"
      ],
      "text/plain": [
       "    cc_cons  cc_cons_apr  dc_cons_apr  cc_cons_may  dc_cons_may  cc_cons_jun  \\\n",
       "0  0.305185     0.700985    -1.466770    -0.046627     1.513510     0.689071   \n",
       "1 -0.109258     0.697807    -0.936866     0.955143    -1.525260    -0.349622   \n",
       "2 -0.066783    -0.733291    -0.568604    -1.233101    -0.273884     0.976877   \n",
       "3 -0.354704     1.298863    -0.795281     0.411922     0.988759     1.115718   \n",
       "4  1.024587    -0.510593     0.188001    -0.763798    -0.749487    -1.059662   \n",
       "\n",
       "   dc_cons_jun  cc_count_apr  cc_count_may  cc_count_jun  ...  \\\n",
       "0     1.012074     -1.133701      0.061359     -0.879443  ...   \n",
       "1    -0.903481     -1.271868     -0.706421     -0.530824  ...   \n",
       "2     0.048174      0.601246      0.117411      1.034518  ...   \n",
       "3     1.601412      1.254431     -1.586349      0.692647  ...   \n",
       "4     0.348750      1.095491      0.530218      0.828091  ...   \n",
       "\n",
       "   NetBanking_Flag  Avg_days_between_transaction  Income_HIGH  Income_LOW  \\\n",
       "0        -1.558065                      0.642085    -0.292293   -0.615501   \n",
       "1        -1.558065                      0.769272     3.547311   -0.615501   \n",
       "2         0.424961                     -1.656024    -0.292293   -0.615501   \n",
       "3         0.725041                     -0.950654    -0.292293   -0.615501   \n",
       "4         0.455870                     -0.739913    -0.292293   -0.615501   \n",
       "\n",
       "   Income_MEDIUM  account_type_current  account_type_saving  gender_F  \\\n",
       "0       0.655727              0.300466            -0.418787 -0.394723   \n",
       "1      -1.307318              0.541137            -0.418787 -0.394723   \n",
       "2       0.563685              0.180849            -0.418787 -0.394723   \n",
       "3       0.846813              0.548801            -0.418787  2.647309   \n",
       "4       0.592847              0.218748            -0.418787 -0.394723   \n",
       "\n",
       "   gender_M  loan_enq_Y  \n",
       "0  0.270436   -0.304407  \n",
       "1  0.520119    0.412231  \n",
       "2  0.146340   -0.660587  \n",
       "3 -2.376263    0.435053  \n",
       "4  0.185658   -7.900929  \n",
       "\n",
       "[5 rows x 48 columns]"
      ]
     },
     "execution_count": 23,
     "metadata": {},
     "output_type": "execute_result"
    }
   ],
   "source": [
    "# analyze whether two population means are different or not using z_test/Z_score\n",
    "Z_score=Transf_nor\n",
    "Z_score_df = (Z_score - Z_score.mean())/Z_score.std()\n",
    "Z_score_df.head()"
   ]
  },
  {
   "cell_type": "code",
   "execution_count": 24,
   "id": "e308efe2",
   "metadata": {},
   "outputs": [
    {
     "name": "stdout",
     "output_type": "stream",
     "text": [
      "0.0\n",
      "cc_cons : Null hyphothesis rejected , Alternative hyphothesis accepted\n",
      "0.0\n",
      "cc_cons_apr : Null hyphothesis rejected , Alternative hyphothesis accepted\n",
      "0.0\n",
      "dc_cons_apr : Null hyphothesis rejected , Alternative hyphothesis accepted\n",
      "0.0\n",
      "cc_cons_may : Null hyphothesis rejected , Alternative hyphothesis accepted\n",
      "0.0\n",
      "dc_cons_may : Null hyphothesis rejected , Alternative hyphothesis accepted\n",
      "0.0\n",
      "cc_cons_jun : Null hyphothesis rejected , Alternative hyphothesis accepted\n",
      "0.0\n",
      "dc_cons_jun : Null hyphothesis rejected , Alternative hyphothesis accepted\n",
      "0.0\n",
      "cc_count_apr : Null hyphothesis rejected , Alternative hyphothesis accepted\n",
      "0.0\n",
      "cc_count_may : Null hyphothesis rejected , Alternative hyphothesis accepted\n",
      "0.0\n",
      "cc_count_jun : Null hyphothesis rejected , Alternative hyphothesis accepted\n",
      "0.0\n",
      "dc_count_apr : Null hyphothesis rejected , Alternative hyphothesis accepted\n",
      "0.0\n",
      "dc_count_may : Null hyphothesis rejected , Alternative hyphothesis accepted\n",
      "0.0\n",
      "dc_count_jun : Null hyphothesis rejected , Alternative hyphothesis accepted\n",
      "0.0\n",
      "card_lim : Null hyphothesis rejected , Alternative hyphothesis accepted\n",
      "0.0\n",
      "investment_1 : Null hyphothesis rejected , Alternative hyphothesis accepted\n",
      "0.0\n",
      "investment_2 : Null hyphothesis rejected , Alternative hyphothesis accepted\n",
      "0.0\n",
      "investment_3 : Null hyphothesis rejected , Alternative hyphothesis accepted\n",
      "0.0\n",
      "investment_4 : Null hyphothesis rejected , Alternative hyphothesis accepted\n",
      "0.0\n",
      "debit_amount_apr : Null hyphothesis rejected , Alternative hyphothesis accepted\n",
      "0.0\n",
      "credit_amount_apr : Null hyphothesis rejected , Alternative hyphothesis accepted\n",
      "0.0\n",
      "debit_count_apr : Null hyphothesis rejected , Alternative hyphothesis accepted\n",
      "0.0\n",
      "credit_count_apr : Null hyphothesis rejected , Alternative hyphothesis accepted\n",
      "0.0\n",
      "max_credit_amount_apr : Null hyphothesis rejected , Alternative hyphothesis accepted\n",
      "0.0\n",
      "debit_amount_may : Null hyphothesis rejected , Alternative hyphothesis accepted\n",
      "0.0\n",
      "credit_amount_may : Null hyphothesis rejected , Alternative hyphothesis accepted\n",
      "0.0\n",
      "credit_count_may : Null hyphothesis rejected , Alternative hyphothesis accepted\n",
      "0.0\n",
      "debit_count_may : Null hyphothesis rejected , Alternative hyphothesis accepted\n",
      "0.0\n",
      "max_credit_amount_may : Null hyphothesis rejected , Alternative hyphothesis accepted\n",
      "0.0\n",
      "debit_amount_jun : Null hyphothesis rejected , Alternative hyphothesis accepted\n",
      "0.0\n",
      "credit_amount_jun : Null hyphothesis rejected , Alternative hyphothesis accepted\n",
      "0.0\n",
      "credit_count_jun : Null hyphothesis rejected , Alternative hyphothesis accepted\n",
      "0.0\n",
      "debit_count_jun : Null hyphothesis rejected , Alternative hyphothesis accepted\n",
      "0.0\n",
      "max_credit_amount_jun : Null hyphothesis rejected , Alternative hyphothesis accepted\n",
      "0.0\n",
      "emi_active : Null hyphothesis rejected , Alternative hyphothesis accepted\n",
      "0.0\n",
      "age : Null hyphothesis rejected , Alternative hyphothesis accepted\n",
      "0.0\n",
      "Emp_Tenure_Years : Null hyphothesis rejected , Alternative hyphothesis accepted\n",
      "0.0\n",
      "Tenure_with_Bank : Null hyphothesis rejected , Alternative hyphothesis accepted\n",
      "0.0\n",
      "region_code : Null hyphothesis rejected , Alternative hyphothesis accepted\n",
      "0.0\n",
      "NetBanking_Flag : Null hyphothesis rejected , Alternative hyphothesis accepted\n",
      "0.0\n",
      "Avg_days_between_transaction : Null hyphothesis rejected , Alternative hyphothesis accepted\n",
      "1.3251880416895012e-280\n",
      "Income_HIGH : Null hyphothesis rejected , Alternative hyphothesis accepted\n",
      "0.0\n",
      "Income_LOW : Null hyphothesis rejected , Alternative hyphothesis accepted\n",
      "0.0\n",
      "Income_MEDIUM : Null hyphothesis rejected , Alternative hyphothesis accepted\n",
      "0.0\n",
      "account_type_current : Null hyphothesis rejected , Alternative hyphothesis accepted\n",
      "0.0\n",
      "account_type_saving : Null hyphothesis rejected , Alternative hyphothesis accepted\n",
      "0.0\n",
      "gender_F : Null hyphothesis rejected , Alternative hyphothesis accepted\n",
      "0.0\n",
      "gender_M : Null hyphothesis rejected , Alternative hyphothesis accepted\n",
      "0.0\n",
      "loan_enq_Y : Null hyphothesis rejected , Alternative hyphothesis accepted\n"
     ]
    }
   ],
   "source": [
    "#Null Hypothesis: H0 : μ=μ0  [ the population means are equal]\n",
    "#Alternative hyphothesis:Ha :μ!=μ0 [ the population means are not equal.]\n",
    "from statsmodels.stats import weightstats as stests\n",
    "for i in Transf_nor.columns:\n",
    "    ztest,propability_value=stests.ztest(Transf_nor[i],alternative='two-sided',)\n",
    "    print(float(propability_value))\n",
    "    if propability_value<0.05:\n",
    "        print(i,\": Null hyphothesis rejected , Alternative hyphothesis accepted\")\n",
    "    else:\n",
    "        print(i,\": Null hyphothesis accepted , Alternative hyphothesis rejected\")"
   ]
  },
  {
   "cell_type": "code",
   "execution_count": null,
   "id": "8226b7c5",
   "metadata": {},
   "outputs": [],
   "source": []
  },
  {
   "cell_type": "code",
   "execution_count": null,
   "id": "feed7444",
   "metadata": {},
   "outputs": [],
   "source": []
  },
  {
   "cell_type": "code",
   "execution_count": null,
   "id": "d989f746",
   "metadata": {},
   "outputs": [],
   "source": []
  },
  {
   "cell_type": "code",
   "execution_count": null,
   "id": "e91ec0bf",
   "metadata": {},
   "outputs": [],
   "source": []
  },
  {
   "cell_type": "code",
   "execution_count": null,
   "id": "c283da30",
   "metadata": {},
   "outputs": [],
   "source": []
  },
  {
   "cell_type": "raw",
   "id": "b1bdfc78",
   "metadata": {},
   "source": [
    "#Rough Work\n",
    "'''\n",
    "Dealing with Non Normal Distributions:\n",
    "You have several options for handling your non normal data. Many tests, including the one sample Z test, T test and ANOVA assume normality. You may still be able to run these tests if your sample size is large enough (usually over 20 items). You can also choose to transform the data with a function, forcing it to fit a normal model. However,\n",
    "if you have a very small sample, a sample that is skewed or one that naturally fits another distribution type, you may want to run a non parametric test.\n",
    "'''\n",
    "\n",
    "\n",
    "\n",
    "#_____________________________________________________________________________________________________________________\n",
    "#                                    Parametric Statistical Hypothesis Tests :\n",
    "#_____________________________________________________________________________________________________________________\n",
    "#####################################1)Student’s t-Test:\n",
    "col=Transf_nor.columns\n",
    "for i in col:\n",
    "    stat, p = stats.ttest_ind(Transf_nor.cc_cons,Transf_nor[i])\n",
    "    print('Parametric:\\nStudent’s t-Test:\\n','[cc_cons-',i,']Statistics=%.3f, p=%.3f' % (stat, p))\n",
    "    # interpret\n",
    "    alpha = 0.05\n",
    "    if p > alpha:\n",
    "         print('Same distributions (fail to reject H0)')\n",
    "    else:\n",
    "         print('Different distributions (reject H0)')\n",
    "#########################################2)Paired Student’s t-Test:\n",
    "col=Transf_nor.columns\n",
    "for i in col:\n",
    "    stat, p = stats.ttest_rel(Transf_nor.cc_cons,Transf_nor[i])\n",
    "    print('Parametric:\\nPaired Student’s t-Test:\\n','[cc_cons-',i,']Statistics=%.3f, p=%.3f' % (stat, p))\n",
    "    # interpret\n",
    "    alpha = 0.05\n",
    "    if p > alpha:\n",
    "         print('Same distributions (fail to reject H0)')\n",
    "    else:\n",
    "         print('Different distributions (reject H0)')\n",
    "#########################################3)Analysis of Variance Test:\n",
    "col=Transf_nor.columns\n",
    "for i in col:\n",
    "    stat, p = stats.f_oneway(Transf_nor.cc_cons,Transf_nor[i])\n",
    "    print('Parametric:\\nAnalysis of Variance Test:\\n','[cc_cons-',i,']Statistics=%.3f, p=%.3f' % (stat, p))\n",
    "    # interpret\n",
    "    alpha = 0.05\n",
    "    if p > alpha:\n",
    "         print('Same distributions (fail to reject H0)')\n",
    "    else:\n",
    "         print('Different distributions (reject H0)')\n",
    "#_____________________________________________________________________________________________________________________         \n",
    "#                                     Nonparametric Statistical Significance Tests:\n",
    "#_____________________________________________________________________________________________________________________\n",
    "#Nonparametric statistics are those methods that do not assume a specific distribution to the data.\n",
    "\n",
    "\n",
    "############################1)Mann-Whitney U test\n",
    "col=Transf_nor.columns\n",
    "for i in col:\n",
    "    stat, p = stats.mannwhitneyu(Transf_nor.cc_cons,Transf_nor[i])\n",
    "    print('Nonparametric:\\nMann-Whitney U test:\\n','[cc_cons-',i,']Statistics=%.3f, p=%.3f' % (stat, p))\n",
    "    # interpret\n",
    "    alpha = 0.05\n",
    "    if p > alpha:\n",
    "         print('Same distributions (fail to reject H0)')\n",
    "    else:\n",
    "         print('Different distributions (reject H0)')\n",
    "############################2) Wilcoxon signed-rank test\n",
    "col=Transf_nor.columns\n",
    "#for i in col:\n",
    "#    stat, p = stats.wilcoxon(Transf_nor.cc_cons,Transf_nor[i])\n",
    "#    print('Nonparametric:\\nWilcoxon signed-rank test:\\n','[cc_cons-',i,']Statistics=%.3f, p=%.3f' % (stat, p))\n",
    "    # interpret\n",
    "#    alpha = 0.05\n",
    "#    if p > alpha:\n",
    "#         print('Same distributions (fail to reject H0)')\n",
    "#    else:\n",
    "#         print('Different distributions (reject H0)')\n",
    "############################3) Kruskal-Wallis H Test\n",
    "col=Transf_nor.columns\n",
    "for i in col:\n",
    "    stat, p = stats.kruskal(Transf_nor.cc_cons,Transf_nor[i])\n",
    "    print('Nonparametric:\\nKruskal-Wallis H Test:\\n','[cc_cons-',i,']Statistics=%.3f, p=%.3f' % (stat, p))\n",
    "    # interpret\n",
    "    alpha = 0.05\n",
    "    if p > alpha:\n",
    "         print('Same distributions (fail to reject H0)')\n",
    "    else:\n",
    "         print('Different distributions (reject H0)')\n",
    "            \n",
    "############################4) Friedman test\n",
    "col=Transf_nor.columns\n",
    "#for i in col:\n",
    "#    stat, p = stats.friedmanchisquare(new_Customer_existing.cc_cons,new_Customer_existing[i])## compare 3 samples\n",
    "#    print('Nonparametric:\\nFriedman test:\\n','[cc_cons-',i,']Statistics=%.3f, p=%.3f' % (stat, p))\n",
    "#    # interpret\n",
    "#    alpha = 0.05\n",
    "#    if p > alpha:\n",
    "#         print('Same distributions (fail to reject H0)')\n",
    "#    else:\n",
    "#         print('Different distributions (reject H0)')"
   ]
  },
  {
   "cell_type": "code",
   "execution_count": null,
   "id": "0b235a93",
   "metadata": {},
   "outputs": [],
   "source": []
  },
  {
   "cell_type": "code",
   "execution_count": null,
   "id": "739fd35d",
   "metadata": {},
   "outputs": [],
   "source": []
  },
  {
   "cell_type": "code",
   "execution_count": null,
   "id": "fbc0e9a4",
   "metadata": {},
   "outputs": [],
   "source": []
  },
  {
   "cell_type": "code",
   "execution_count": null,
   "id": "6dbf09b1",
   "metadata": {},
   "outputs": [],
   "source": []
  },
  {
   "cell_type": "code",
   "execution_count": null,
   "id": "07a0605e",
   "metadata": {},
   "outputs": [],
   "source": []
  },
  {
   "cell_type": "code",
   "execution_count": null,
   "id": "018ce69e",
   "metadata": {},
   "outputs": [],
   "source": []
  },
  {
   "cell_type": "code",
   "execution_count": null,
   "id": "9e56d19f",
   "metadata": {},
   "outputs": [],
   "source": []
  },
  {
   "cell_type": "code",
   "execution_count": 25,
   "id": "b1774f8c",
   "metadata": {},
   "outputs": [
    {
     "name": "stdout",
     "output_type": "stream",
     "text": [
      "cc_cons - mean: 0.31302925226090655 - median 0.30675780819241105 - : Right skew\n",
      "cc_cons_apr - mean: 0.2954865999229904 - median 0.2833715760707377 - : Right skew\n",
      "dc_cons_apr - mean: 0.2182005080046231 - median 0.20812396007302736 - : Right skew\n",
      "cc_cons_may - mean: 0.2814493096706264 - median 0.26753523250053585 - : Right skew\n",
      "dc_cons_may - mean: 0.21307993439993783 - median 0.20436763983269846 - : Right skew\n",
      "cc_cons_jun - mean: 0.25763542322042265 - median 0.24670304861328896 - : Right skew\n",
      "dc_cons_jun - mean: 0.20568436673640994 - median 0.19552742226362155 - : Right skew\n",
      "cc_count_apr - mean: 0.03329585826416265 - median 0.02906567415912275 - : Right skew\n",
      "cc_count_may - mean: 0.03678564340852768 - median 0.035602020083591646 - : Right skew\n",
      "cc_count_jun - mean: 0.04082498923557949 - median 0.04219033653279046 - : Left skew\n",
      "dc_count_apr - mean: 0.028659330399627026 - median 0.02502947363582654 - : Right skew\n",
      "dc_count_may - mean: 0.026683098696041824 - median 0.02307281282997583 - : Right skew\n",
      "dc_count_jun - mean: 0.03549706139286418 - median 0.03451461068274504 - : Right skew\n",
      "card_lim - mean: 0.7905118052592447 - median 0.8490565423667283 - : Left skew\n",
      "investment_1 - mean: 0.4846380184096945 - median 0.4737121015073391 - : Right skew\n",
      "investment_2 - mean: 0.6238159201718186 - median 0.6522127812716316 - : Left skew\n",
      "investment_3 - mean: 0.33420083142018736 - median 0.31165546558132995 - : Right skew\n",
      "investment_4 - mean: 0.11028966449808364 - median 0.1791774436621707 - : Left skew\n",
      "debit_amount_apr - mean: 0.4635842207753161 - median 0.45633654557989667 - : Right skew\n",
      "credit_amount_apr - mean: 0.4861021314548041 - median 0.47595977222650027 - : Right skew\n",
      "debit_count_apr - mean: 0.039710540377716486 - median 0.03986936802763617 - : Left skew\n",
      "credit_count_apr - mean: 0.024901053132614585 - median 0.02214763904082888 - : Right skew\n",
      "max_credit_amount_apr - mean: 0.4298191524710613 - median 0.41806314745526935 - : Right skew\n",
      "debit_amount_may - mean: 0.458563372004996 - median 0.44546104073296156 - : Right skew\n",
      "credit_amount_may - mean: 0.49202578324729124 - median 0.48105519252310036 - : Right skew\n",
      "credit_count_may - mean: 0.022943920191097124 - median 0.021181521555049182 - : Right skew\n",
      "debit_count_may - mean: 0.0403335396479918 - median 0.037876606081614694 - : Right skew\n",
      "max_credit_amount_may - mean: 0.429114578550429 - median 0.4174982766617389 - : Right skew\n",
      "debit_amount_jun - mean: 0.48269846710527914 - median 0.4724509846320887 - : Right skew\n",
      "credit_amount_jun - mean: 0.47961870865016204 - median 0.4726802791777878 - : Right skew\n",
      "credit_count_jun - mean: 0.029227697629686186 - median 0.025955876733309673 - : Right skew\n",
      "debit_count_jun - mean: 0.04246308134405791 - median 0.04301214805970094 - : Left skew\n",
      "max_credit_amount_jun - mean: 0.41868898272953775 - median 0.41283952078080777 - : Right skew\n",
      "emi_active - mean: 0.21572856124298842 - median 0.20675433662580683 - : Right skew\n",
      "age - mean: 0.04611310693752668 - median 0.045136608297828534 - : Right skew\n",
      "Emp_Tenure_Years - mean: 0.02892506966935817 - median 0.02803379377906561 - : Right skew\n",
      "Tenure_with_Bank - mean: 0.022459725839916053 - median 0.02271247210933443 - : Left skew\n",
      "region_code - mean: 0.10952450012475035 - median 0.10869725171746417 - : Right skew\n",
      "NetBanking_Flag - mean: 0.009521939345145388 - median 0.012137840225376142 - : Left skew\n",
      "Avg_days_between_transaction - mean: 0.028443189474806552 - median 0.028629554727500554 - : Left skew\n",
      "Income_HIGH - mean: 0.0010592733180270952 - median 0.0 - : Right skew\n",
      "Income_LOW - mean: 0.003699324741060567 - median 0.0 - : Right skew\n",
      "Income_MEDIUM - mean: 0.008467887502501213 - median 0.011839865405705207 - : Left skew\n",
      "account_type_current - mean: 0.01121767492820122 - median 0.012556352003641452 - : Left skew\n",
      "account_type_saving - mean: 0.0020088106333876737 - median 0.0 - : Right skew\n",
      "gender_F - mean: 0.0018104846934313566 - median 0.0 - : Right skew\n",
      "gender_M - mean: 0.011416000868157536 - median 0.012601914550730125 - : Left skew\n",
      "loan_enq_Y - mean: 0.013224748472065263 - median 0.012906823117393914 - : Right skew\n"
     ]
    }
   ],
   "source": [
    "#checking distribution(skew):\n",
    "#Zero skew: mean = median\n",
    "#Right skew: mean > median\n",
    "#Left skew: mean < median\n",
    "for i in Transf_nor.columns:  \n",
    "    men=Transf_nor[i].mean()\n",
    "    med=Transf_nor[i].median()\n",
    "    if men>med:\n",
    "        print(i,'-','mean:',men,'-','median',med,'-',': Right skew')\n",
    "    elif men<med:\n",
    "        print(i,'-','mean:',men,'-','median',med,'-',': Left skew')\n",
    "    else :\n",
    "        print(i,'-','mean:',men,'-','median',med,'-',': Zero skew')"
   ]
  },
  {
   "cell_type": "code",
   "execution_count": 26,
   "id": "234c4c9d",
   "metadata": {},
   "outputs": [
    {
     "name": "stdout",
     "output_type": "stream",
     "text": [
      "cc_cons - skewness value: 0.12460522431807293 - fairly symmetrical\n",
      "cc_cons_apr - skewness value: 0.46694618977766017 - fairly symmetrical\n",
      "dc_cons_apr - skewness value: 0.45828129686373853 - fairly symmetrical\n",
      "cc_cons_may - skewness value: 0.47886269920909164 - fairly symmetrical\n",
      "dc_cons_may - skewness value: 0.44140828467664256 - fairly symmetrical\n",
      "cc_cons_jun - skewness value: 0.4568129575133774 - fairly symmetrical\n",
      "dc_cons_jun - skewness value: 0.4909448510514027 - fairly symmetrical\n",
      "cc_count_apr - skewness value: 0.7238994195977501 - moderately skewed\n",
      "cc_count_may - skewness value: 0.35179385957498305 - fairly symmetrical\n",
      "cc_count_jun - skewness value: 0.09697985867386204 - fairly symmetrical\n",
      "dc_count_apr - skewness value: 0.5529346415599576 - moderately skewed\n",
      "dc_count_may - skewness value: 0.7215141585551585 - moderately skewed\n",
      "dc_count_jun - skewness value: 0.23300450454728747 - fairly symmetrical\n",
      "card_lim - skewness value: -1.128026771631091 - highly skewed distribution\n",
      "investment_1 - skewness value: 0.08754259310849384 - fairly symmetrical\n",
      "investment_3 - skewness value: 0.4829103784877044 - fairly symmetrical\n",
      "debit_amount_apr - skewness value: -0.004847194844285222 - fairly symmetrical\n",
      "credit_amount_apr - skewness value: 0.0679232948583737 - fairly symmetrical\n",
      "debit_count_apr - skewness value: 0.1323302746116681 - fairly symmetrical\n",
      "credit_count_apr - skewness value: 0.27515516423057246 - fairly symmetrical\n",
      "max_credit_amount_apr - skewness value: 0.10349991742310512 - fairly symmetrical\n",
      "debit_amount_may - skewness value: 0.20151553558598082 - fairly symmetrical\n",
      "credit_amount_may - skewness value: 0.05519375322460504 - fairly symmetrical\n",
      "credit_count_may - skewness value: 0.2090248537641666 - fairly symmetrical\n",
      "debit_count_may - skewness value: 0.33893530595402477 - fairly symmetrical\n",
      "max_credit_amount_may - skewness value: 0.05063709812201284 - fairly symmetrical\n",
      "debit_amount_jun - skewness value: 0.10009683581083662 - fairly symmetrical\n",
      "credit_amount_jun - skewness value: -0.07471562971842388 - fairly symmetrical\n",
      "credit_count_jun - skewness value: 0.7670027666136549 - moderately skewed\n",
      "debit_count_jun - skewness value: -0.1786942615032054 - fairly symmetrical\n",
      "max_credit_amount_jun - skewness value: -0.1405795391131625 - fairly symmetrical\n",
      "emi_active - skewness value: 0.32386819675467626 - fairly symmetrical\n",
      "age - skewness value: 0.7358314223828561 - moderately skewed\n",
      "Emp_Tenure_Years - skewness value: 0.44359656674118314 - fairly symmetrical\n",
      "Tenure_with_Bank - skewness value: 0.05891860711140085 - fairly symmetrical\n",
      "region_code - skewness value: 0.32368363743764195 - fairly symmetrical\n",
      "Avg_days_between_transaction - skewness value: 0.08471358294730753 - fairly symmetrical\n",
      "Income_HIGH - skewness value: 3.1954523985697705 - highly skewed distribution\n",
      "Income_LOW - skewness value: 1.0616676006331873 - highly skewed distribution\n",
      "Income_MEDIUM - skewness value: -0.44881035629706706 - fairly symmetrical\n",
      "account_type_current - skewness value: -1.5322416986660983 - highly skewed distribution\n",
      "account_type_saving - skewness value: 2.0238696440715978 - highly skewed distribution\n",
      "gender_F - skewness value: 2.1955977724506393 - highly skewed distribution\n",
      "gender_M - skewness value: -1.6442570107869077 - highly skewed distribution\n",
      "loan_enq_Y - skewness value: 0.7572683672791549 - moderately skewed\n"
     ]
    }
   ],
   "source": [
    "#checking skew distribution:\n",
    "#  A skewness value greater than 1 or less than -1 indicates a highly skewed distribution.\n",
    "#  A value between 0.5 and 1 or -0.5 and -1 is moderately skewed. \n",
    "# A value between -0.5 and 0.5 indicates that the distribution is fairly symmetrical.\n",
    "for i, j in zip(Transf_nor.skew(), Transf_nor.columns):\n",
    "    if i>1 or i<-1:\n",
    "        print(j,'-','skewness value:',i,'-','highly skewed distribution')\n",
    "    elif 0.5<i<1 or -0.5<i<-1:\n",
    "        print(j,'-','skewness value:',i,'-','moderately skewed')\n",
    "    elif -0.5<i<0.5:\n",
    "        print(j,'-','skewness value:',i,'-','fairly symmetrical')"
   ]
  },
  {
   "cell_type": "code",
   "execution_count": null,
   "id": "9eef351c",
   "metadata": {},
   "outputs": [],
   "source": []
  },
  {
   "cell_type": "code",
   "execution_count": null,
   "id": "64e37e18",
   "metadata": {},
   "outputs": [],
   "source": []
  },
  {
   "cell_type": "raw",
   "id": "cafb7edb",
   "metadata": {},
   "source": [
    "#Scaling Transformation:\n",
    "#normalization- dataset is not distorted:\n",
    "#                Min Max Scaler\n",
    "#                z-score\n",
    "#standardization-normal distribution:\n",
    "#                Standard Scaler \n",
    "#from sklearn.preprocessing import StandardScaler\n",
    "StandScaler=StandardScaler()\n",
    "SScaler=StandScaler.fit_transform(Transf_nor)\n",
    "SScaler=pd.DataFrame(SScaler,columns=data.columns)"
   ]
  },
  {
   "cell_type": "raw",
   "id": "2e3c7cac",
   "metadata": {},
   "source": [
    "#normalization\n",
    "normalized = normalize(SScaler)\n",
    "normalized=pd.DataFrame(normalized,columns=data.columns)\n"
   ]
  },
  {
   "cell_type": "code",
   "execution_count": 27,
   "id": "0bb55523",
   "metadata": {},
   "outputs": [
    {
     "name": "stderr",
     "output_type": "stream",
     "text": [
      "C:\\Users\\Shubham Jadhav\\anaconda3\\lib\\site-packages\\seaborn\\distributions.py:2619: FutureWarning: `distplot` is a deprecated function and will be removed in a future version. Please adapt your code to use either `displot` (a figure-level function with similar flexibility) or `histplot` (an axes-level function for histograms).\n",
      "  warnings.warn(msg, FutureWarning)\n"
     ]
    },
    {
     "data": {
      "image/png": "[encoded data removed]",
      "text/plain": [
       "<Figure size 640x480 with 1 Axes>"
      ]
     },
     "metadata": {},
     "output_type": "display_data"
    },
    {
     "data": {
      "text/plain": [
       "<Figure size 640x480 with 0 Axes>"
      ]
     },
     "metadata": {},
     "output_type": "display_data"
    }
   ],
   "source": [
    "sns.distplot(Transf_nor.cc_cons)\n",
    "fig = plt.figure()\n",
    "plt.show()"
   ]
  },
  {
   "cell_type": "code",
   "execution_count": 28,
   "id": "00d48f24",
   "metadata": {},
   "outputs": [
    {
     "data": {
      "image/png": "[encoded data removed]",
      "text/plain": [
       "<Figure size 640x480 with 1 Axes>"
      ]
     },
     "metadata": {},
     "output_type": "display_data"
    }
   ],
   "source": [
    "sns.kdeplot(Transf_nor.cc_cons)\n",
    "plt.show()"
   ]
  },
  {
   "cell_type": "code",
   "execution_count": null,
   "id": "3a9077b6",
   "metadata": {},
   "outputs": [],
   "source": []
  },
  {
   "cell_type": "code",
   "execution_count": null,
   "id": "db72509e",
   "metadata": {},
   "outputs": [],
   "source": []
  },
  {
   "cell_type": "code",
   "execution_count": null,
   "id": "e8479d29",
   "metadata": {},
   "outputs": [],
   "source": []
  },
  {
   "cell_type": "code",
   "execution_count": null,
   "id": "e8ae5741",
   "metadata": {},
   "outputs": [],
   "source": []
  },
  {
   "cell_type": "code",
   "execution_count": 29,
   "id": "f0dc3763",
   "metadata": {},
   "outputs": [
    {
     "name": "stdout",
     "output_type": "stream",
     "text": [
      "                         feature          VIF\n",
      "0                        cc_cons    11.412316\n",
      "1                    cc_cons_apr     9.669659\n",
      "2                    dc_cons_apr     8.271373\n",
      "3                    cc_cons_may     9.159576\n",
      "4                    dc_cons_may     9.131796\n",
      "5                    cc_cons_jun     9.729549\n",
      "6                    dc_cons_jun     8.628028\n",
      "7                   cc_count_apr     6.238688\n",
      "8                   cc_count_may     8.434848\n",
      "9                   cc_count_jun     9.269674\n",
      "10                  dc_count_apr     5.811129\n",
      "11                  dc_count_may     6.367674\n",
      "12                  dc_count_jun     6.332011\n",
      "13                      card_lim    13.096700\n",
      "14                  investment_1     3.818980\n",
      "15                  investment_2     6.270646\n",
      "16                  investment_3     4.723716\n",
      "17                  investment_4     1.321924\n",
      "18              debit_amount_apr    11.594325\n",
      "19             credit_amount_apr    12.578625\n",
      "20               debit_count_apr    10.164815\n",
      "21              credit_count_apr     5.466158\n",
      "22         max_credit_amount_apr    17.643546\n",
      "23              debit_amount_may    11.874612\n",
      "24             credit_amount_may    10.871856\n",
      "25              credit_count_may     6.413681\n",
      "26               debit_count_may     9.602733\n",
      "27         max_credit_amount_may    13.882620\n",
      "28              debit_amount_jun    12.662365\n",
      "29             credit_amount_jun    10.860268\n",
      "30              credit_count_jun     8.288086\n",
      "31               debit_count_jun     9.086510\n",
      "32         max_credit_amount_jun    12.504283\n",
      "33                    emi_active     7.162532\n",
      "34                           age   200.506572\n",
      "35              Emp_Tenure_Years    25.279018\n",
      "36              Tenure_with_Bank    24.052967\n",
      "37                   region_code    55.685377\n",
      "38               NetBanking_Flag     3.588713\n",
      "39  Avg_days_between_transaction    27.242092\n",
      "40                   Income_HIGH          inf\n",
      "41                    Income_LOW          inf\n",
      "42                 Income_MEDIUM          inf\n",
      "43          account_type_current          inf\n",
      "44           account_type_saving          inf\n",
      "45                      gender_F          inf\n",
      "46                      gender_M          inf\n",
      "47                    loan_enq_Y  7852.050438\n"
     ]
    },
    {
     "name": "stderr",
     "output_type": "stream",
     "text": [
      "C:\\Users\\Shubham Jadhav\\anaconda3\\lib\\site-packages\\statsmodels\\stats\\outliers_influence.py:195: RuntimeWarning: divide by zero encountered in double_scalars\n",
      "  vif = 1. / (1. - r_squared_i)\n"
     ]
    }
   ],
   "source": [
    "#Detecting Multicollinearity with Variance Inflation Factor(VIF)\n",
    "from statsmodels.stats.outliers_influence import variance_inflation_factor\n",
    "X=Transf_nor\n",
    "# VIF dataframe\n",
    "vif_data = pd.DataFrame()\n",
    "vif_data[\"feature\"] = X.columns\n",
    "# calculating VIF for each feature\n",
    "vif_data[\"VIF\"] = [variance_inflation_factor(X.values, i)for i in range(len(X.columns))]\n",
    "print(vif_data)"
   ]
  },
  {
   "cell_type": "code",
   "execution_count": 30,
   "id": "fc6b94b8",
   "metadata": {},
   "outputs": [
    {
     "data": {
      "text/plain": [
       "1          cc_cons_apr\n",
       "2          dc_cons_apr\n",
       "3          cc_cons_may\n",
       "4          dc_cons_may\n",
       "5          cc_cons_jun\n",
       "6          dc_cons_jun\n",
       "7         cc_count_apr\n",
       "8         cc_count_may\n",
       "9         cc_count_jun\n",
       "10        dc_count_apr\n",
       "11        dc_count_may\n",
       "12        dc_count_jun\n",
       "14        investment_1\n",
       "15        investment_2\n",
       "16        investment_3\n",
       "17        investment_4\n",
       "21    credit_count_apr\n",
       "25    credit_count_may\n",
       "26     debit_count_may\n",
       "30    credit_count_jun\n",
       "31     debit_count_jun\n",
       "33          emi_active\n",
       "38     NetBanking_Flag\n",
       "Name: feature, dtype: object"
      ]
     },
     "execution_count": 30,
     "metadata": {},
     "output_type": "execute_result"
    }
   ],
   "source": [
    "\n",
    "vif_data=pd.DataFrame(vif_data)\n",
    "#vif_data\n",
    "vif_data.feature[vif_data.VIF<10]"
   ]
  },
  {
   "cell_type": "code",
   "execution_count": 31,
   "id": "2ca21847",
   "metadata": {},
   "outputs": [],
   "source": [
    "#Removing multicollinearity:\n",
    "nor_data=Transf_nor[['cc_cons',\n",
    "         'cc_cons_apr',\n",
    "          'dc_cons_apr',\n",
    "          'cc_cons_may',\n",
    "          'dc_cons_may',\n",
    "          'cc_cons_jun',\n",
    "          'dc_cons_jun',\n",
    "         'cc_count_apr',\n",
    "         'cc_count_may',\n",
    "         'cc_count_jun',\n",
    "        'dc_count_apr',\n",
    "        'dc_count_may',\n",
    "        'dc_count_jun',\n",
    "        'investment_1',\n",
    "        'investment_2',\n",
    "        'investment_3',\n",
    "        'investment_4',\n",
    "    'credit_count_apr',\n",
    "    'credit_count_may',\n",
    "     'debit_count_may',\n",
    "    'credit_count_jun',\n",
    "     'debit_count_jun',\n",
    "          'emi_active',\n",
    "     'NetBanking_Flag']]"
   ]
  },
  {
   "cell_type": "code",
   "execution_count": 32,
   "id": "92373220",
   "metadata": {},
   "outputs": [
    {
     "data": {
      "text/html": [
       "<div>\n",
       "<style scoped>\n",
       "    .dataframe tbody tr th:only-of-type {\n",
       "        vertical-align: middle;\n",
       "    }\n",
       "\n",
       "    .dataframe tbody tr th {\n",
       "        vertical-align: top;\n",
       "    }\n",
       "\n",
       "    .dataframe thead th {\n",
       "        text-align: right;\n",
       "    }\n",
       "</style>\n",
       "<table border=\"1\" class=\"dataframe\">\n",
       "  <thead>\n",
       "    <tr style=\"text-align: right;\">\n",
       "      <th></th>\n",
       "      <th>cc_cons</th>\n",
       "      <th>cc_cons_apr</th>\n",
       "      <th>dc_cons_apr</th>\n",
       "      <th>cc_cons_may</th>\n",
       "      <th>dc_cons_may</th>\n",
       "      <th>cc_cons_jun</th>\n",
       "      <th>dc_cons_jun</th>\n",
       "      <th>cc_count_apr</th>\n",
       "      <th>cc_count_may</th>\n",
       "      <th>cc_count_jun</th>\n",
       "      <th>...</th>\n",
       "      <th>investment_2</th>\n",
       "      <th>investment_3</th>\n",
       "      <th>investment_4</th>\n",
       "      <th>credit_count_apr</th>\n",
       "      <th>credit_count_may</th>\n",
       "      <th>debit_count_may</th>\n",
       "      <th>credit_count_jun</th>\n",
       "      <th>debit_count_jun</th>\n",
       "      <th>emi_active</th>\n",
       "      <th>NetBanking_Flag</th>\n",
       "    </tr>\n",
       "  </thead>\n",
       "  <tbody>\n",
       "    <tr>\n",
       "      <th>0</th>\n",
       "      <td>0.345225</td>\n",
       "      <td>0.371264</td>\n",
       "      <td>0.091937</td>\n",
       "      <td>0.276546</td>\n",
       "      <td>0.333441</td>\n",
       "      <td>0.322337</td>\n",
       "      <td>0.286439</td>\n",
       "      <td>0.016020</td>\n",
       "      <td>0.037669</td>\n",
       "      <td>0.027394</td>\n",
       "      <td>...</td>\n",
       "      <td>0.136756</td>\n",
       "      <td>0.117395</td>\n",
       "      <td>0.241894</td>\n",
       "      <td>0.023105</td>\n",
       "      <td>0.016020</td>\n",
       "      <td>0.043485</td>\n",
       "      <td>0.016020</td>\n",
       "      <td>0.051124</td>\n",
       "      <td>0.150979</td>\n",
       "      <td>0.000000</td>\n",
       "    </tr>\n",
       "    <tr>\n",
       "      <th>1</th>\n",
       "      <td>0.301503</td>\n",
       "      <td>0.370921</td>\n",
       "      <td>0.137552</td>\n",
       "      <td>0.381888</td>\n",
       "      <td>0.091785</td>\n",
       "      <td>0.224807</td>\n",
       "      <td>0.133595</td>\n",
       "      <td>0.013915</td>\n",
       "      <td>0.026618</td>\n",
       "      <td>0.032718</td>\n",
       "      <td>...</td>\n",
       "      <td>0.774857</td>\n",
       "      <td>0.624786</td>\n",
       "      <td>0.159284</td>\n",
       "      <td>0.045945</td>\n",
       "      <td>0.017531</td>\n",
       "      <td>0.059453</td>\n",
       "      <td>0.038390</td>\n",
       "      <td>0.055368</td>\n",
       "      <td>0.327546</td>\n",
       "      <td>0.000000</td>\n",
       "    </tr>\n",
       "    <tr>\n",
       "      <th>2</th>\n",
       "      <td>0.305984</td>\n",
       "      <td>0.216217</td>\n",
       "      <td>0.169253</td>\n",
       "      <td>0.151782</td>\n",
       "      <td>0.191299</td>\n",
       "      <td>0.349361</td>\n",
       "      <td>0.209528</td>\n",
       "      <td>0.042458</td>\n",
       "      <td>0.038476</td>\n",
       "      <td>0.056624</td>\n",
       "      <td>...</td>\n",
       "      <td>0.942253</td>\n",
       "      <td>0.356822</td>\n",
       "      <td>0.188032</td>\n",
       "      <td>0.025209</td>\n",
       "      <td>0.015269</td>\n",
       "      <td>0.052651</td>\n",
       "      <td>0.023183</td>\n",
       "      <td>0.012119</td>\n",
       "      <td>0.334464</td>\n",
       "      <td>0.012119</td>\n",
       "    </tr>\n",
       "    <tr>\n",
       "      <th>3</th>\n",
       "      <td>0.275610</td>\n",
       "      <td>0.435896</td>\n",
       "      <td>0.149740</td>\n",
       "      <td>0.324765</td>\n",
       "      <td>0.291710</td>\n",
       "      <td>0.362398</td>\n",
       "      <td>0.333462</td>\n",
       "      <td>0.052411</td>\n",
       "      <td>0.013953</td>\n",
       "      <td>0.051403</td>\n",
       "      <td>...</td>\n",
       "      <td>0.846604</td>\n",
       "      <td>0.508838</td>\n",
       "      <td>-0.233373</td>\n",
       "      <td>0.043355</td>\n",
       "      <td>0.039680</td>\n",
       "      <td>0.046909</td>\n",
       "      <td>0.038495</td>\n",
       "      <td>0.060864</td>\n",
       "      <td>0.212738</td>\n",
       "      <td>0.013953</td>\n",
       "    </tr>\n",
       "    <tr>\n",
       "      <th>4</th>\n",
       "      <td>0.421118</td>\n",
       "      <td>0.240291</td>\n",
       "      <td>0.234384</td>\n",
       "      <td>0.201132</td>\n",
       "      <td>0.153477</td>\n",
       "      <td>0.158137</td>\n",
       "      <td>0.233511</td>\n",
       "      <td>0.049989</td>\n",
       "      <td>0.044417</td>\n",
       "      <td>0.053472</td>\n",
       "      <td>...</td>\n",
       "      <td>0.895376</td>\n",
       "      <td>0.592968</td>\n",
       "      <td>0.234497</td>\n",
       "      <td>0.040640</td>\n",
       "      <td>0.035502</td>\n",
       "      <td>0.045343</td>\n",
       "      <td>0.024616</td>\n",
       "      <td>0.039075</td>\n",
       "      <td>0.287762</td>\n",
       "      <td>0.012308</td>\n",
       "    </tr>\n",
       "    <tr>\n",
       "      <th>...</th>\n",
       "      <td>...</td>\n",
       "      <td>...</td>\n",
       "      <td>...</td>\n",
       "      <td>...</td>\n",
       "      <td>...</td>\n",
       "      <td>...</td>\n",
       "      <td>...</td>\n",
       "      <td>...</td>\n",
       "      <td>...</td>\n",
       "      <td>...</td>\n",
       "      <td>...</td>\n",
       "      <td>...</td>\n",
       "      <td>...</td>\n",
       "      <td>...</td>\n",
       "      <td>...</td>\n",
       "      <td>...</td>\n",
       "      <td>...</td>\n",
       "      <td>...</td>\n",
       "      <td>...</td>\n",
       "      <td>...</td>\n",
       "      <td>...</td>\n",
       "    </tr>\n",
       "    <tr>\n",
       "      <th>14992</th>\n",
       "      <td>0.193220</td>\n",
       "      <td>0.260474</td>\n",
       "      <td>0.127291</td>\n",
       "      <td>0.230659</td>\n",
       "      <td>0.187138</td>\n",
       "      <td>0.223898</td>\n",
       "      <td>0.257644</td>\n",
       "      <td>0.017186</td>\n",
       "      <td>0.039347</td>\n",
       "      <td>0.017186</td>\n",
       "      <td>...</td>\n",
       "      <td>0.343729</td>\n",
       "      <td>0.301614</td>\n",
       "      <td>0.118244</td>\n",
       "      <td>0.015014</td>\n",
       "      <td>0.011916</td>\n",
       "      <td>0.023833</td>\n",
       "      <td>0.028720</td>\n",
       "      <td>0.023833</td>\n",
       "      <td>0.328872</td>\n",
       "      <td>0.011916</td>\n",
       "    </tr>\n",
       "    <tr>\n",
       "      <th>14993</th>\n",
       "      <td>0.270933</td>\n",
       "      <td>0.377854</td>\n",
       "      <td>0.224963</td>\n",
       "      <td>0.306962</td>\n",
       "      <td>0.239483</td>\n",
       "      <td>0.158664</td>\n",
       "      <td>0.114952</td>\n",
       "      <td>0.012175</td>\n",
       "      <td>0.039443</td>\n",
       "      <td>0.019327</td>\n",
       "      <td>...</td>\n",
       "      <td>0.736113</td>\n",
       "      <td>0.281331</td>\n",
       "      <td>-0.224646</td>\n",
       "      <td>0.015340</td>\n",
       "      <td>0.019327</td>\n",
       "      <td>0.033049</td>\n",
       "      <td>0.027078</td>\n",
       "      <td>0.031908</td>\n",
       "      <td>0.204839</td>\n",
       "      <td>0.012175</td>\n",
       "    </tr>\n",
       "    <tr>\n",
       "      <th>14994</th>\n",
       "      <td>0.463893</td>\n",
       "      <td>0.217861</td>\n",
       "      <td>0.133224</td>\n",
       "      <td>0.364057</td>\n",
       "      <td>0.107179</td>\n",
       "      <td>0.426333</td>\n",
       "      <td>0.164980</td>\n",
       "      <td>0.052178</td>\n",
       "      <td>0.038557</td>\n",
       "      <td>0.053371</td>\n",
       "      <td>...</td>\n",
       "      <td>0.857510</td>\n",
       "      <td>0.396442</td>\n",
       "      <td>0.294131</td>\n",
       "      <td>0.013558</td>\n",
       "      <td>0.039108</td>\n",
       "      <td>0.023184</td>\n",
       "      <td>0.021522</td>\n",
       "      <td>0.056664</td>\n",
       "      <td>0.192839</td>\n",
       "      <td>0.013558</td>\n",
       "    </tr>\n",
       "    <tr>\n",
       "      <th>14995</th>\n",
       "      <td>0.347825</td>\n",
       "      <td>0.409136</td>\n",
       "      <td>0.218992</td>\n",
       "      <td>0.394037</td>\n",
       "      <td>0.297527</td>\n",
       "      <td>0.311416</td>\n",
       "      <td>0.113834</td>\n",
       "      <td>0.021704</td>\n",
       "      <td>0.051403</td>\n",
       "      <td>0.040054</td>\n",
       "      <td>...</td>\n",
       "      <td>0.831744</td>\n",
       "      <td>0.179726</td>\n",
       "      <td>-0.189562</td>\n",
       "      <td>0.034858</td>\n",
       "      <td>0.016363</td>\n",
       "      <td>0.033175</td>\n",
       "      <td>0.016363</td>\n",
       "      <td>0.048887</td>\n",
       "      <td>0.266822</td>\n",
       "      <td>0.011346</td>\n",
       "    </tr>\n",
       "    <tr>\n",
       "      <th>14996</th>\n",
       "      <td>0.348137</td>\n",
       "      <td>0.267536</td>\n",
       "      <td>0.092697</td>\n",
       "      <td>0.247781</td>\n",
       "      <td>0.259134</td>\n",
       "      <td>0.432179</td>\n",
       "      <td>0.088057</td>\n",
       "      <td>0.041735</td>\n",
       "      <td>0.056912</td>\n",
       "      <td>0.029611</td>\n",
       "      <td>...</td>\n",
       "      <td>0.387433</td>\n",
       "      <td>0.243193</td>\n",
       "      <td>-0.249724</td>\n",
       "      <td>0.023502</td>\n",
       "      <td>0.017316</td>\n",
       "      <td>0.059711</td>\n",
       "      <td>0.049246</td>\n",
       "      <td>0.050633</td>\n",
       "      <td>0.160369</td>\n",
       "      <td>0.000000</td>\n",
       "    </tr>\n",
       "  </tbody>\n",
       "</table>\n",
       "<p>14997 rows × 24 columns</p>\n",
       "</div>"
      ],
      "text/plain": [
       "        cc_cons  cc_cons_apr  dc_cons_apr  cc_cons_may  dc_cons_may  \\\n",
       "0      0.345225     0.371264     0.091937     0.276546     0.333441   \n",
       "1      0.301503     0.370921     0.137552     0.381888     0.091785   \n",
       "2      0.305984     0.216217     0.169253     0.151782     0.191299   \n",
       "3      0.275610     0.435896     0.149740     0.324765     0.291710   \n",
       "4      0.421118     0.240291     0.234384     0.201132     0.153477   \n",
       "...         ...          ...          ...          ...          ...   \n",
       "14992  0.193220     0.260474     0.127291     0.230659     0.187138   \n",
       "14993  0.270933     0.377854     0.224963     0.306962     0.239483   \n",
       "14994  0.463893     0.217861     0.133224     0.364057     0.107179   \n",
       "14995  0.347825     0.409136     0.218992     0.394037     0.297527   \n",
       "14996  0.348137     0.267536     0.092697     0.247781     0.259134   \n",
       "\n",
       "       cc_cons_jun  dc_cons_jun  cc_count_apr  cc_count_may  cc_count_jun  \\\n",
       "0         0.322337     0.286439      0.016020      0.037669      0.027394   \n",
       "1         0.224807     0.133595      0.013915      0.026618      0.032718   \n",
       "2         0.349361     0.209528      0.042458      0.038476      0.056624   \n",
       "3         0.362398     0.333462      0.052411      0.013953      0.051403   \n",
       "4         0.158137     0.233511      0.049989      0.044417      0.053472   \n",
       "...            ...          ...           ...           ...           ...   \n",
       "14992     0.223898     0.257644      0.017186      0.039347      0.017186   \n",
       "14993     0.158664     0.114952      0.012175      0.039443      0.019327   \n",
       "14994     0.426333     0.164980      0.052178      0.038557      0.053371   \n",
       "14995     0.311416     0.113834      0.021704      0.051403      0.040054   \n",
       "14996     0.432179     0.088057      0.041735      0.056912      0.029611   \n",
       "\n",
       "       ...  investment_2  investment_3  investment_4  credit_count_apr  \\\n",
       "0      ...      0.136756      0.117395      0.241894          0.023105   \n",
       "1      ...      0.774857      0.624786      0.159284          0.045945   \n",
       "2      ...      0.942253      0.356822      0.188032          0.025209   \n",
       "3      ...      0.846604      0.508838     -0.233373          0.043355   \n",
       "4      ...      0.895376      0.592968      0.234497          0.040640   \n",
       "...    ...           ...           ...           ...               ...   \n",
       "14992  ...      0.343729      0.301614      0.118244          0.015014   \n",
       "14993  ...      0.736113      0.281331     -0.224646          0.015340   \n",
       "14994  ...      0.857510      0.396442      0.294131          0.013558   \n",
       "14995  ...      0.831744      0.179726     -0.189562          0.034858   \n",
       "14996  ...      0.387433      0.243193     -0.249724          0.023502   \n",
       "\n",
       "       credit_count_may  debit_count_may  credit_count_jun  debit_count_jun  \\\n",
       "0              0.016020         0.043485          0.016020         0.051124   \n",
       "1              0.017531         0.059453          0.038390         0.055368   \n",
       "2              0.015269         0.052651          0.023183         0.012119   \n",
       "3              0.039680         0.046909          0.038495         0.060864   \n",
       "4              0.035502         0.045343          0.024616         0.039075   \n",
       "...                 ...              ...               ...              ...   \n",
       "14992          0.011916         0.023833          0.028720         0.023833   \n",
       "14993          0.019327         0.033049          0.027078         0.031908   \n",
       "14994          0.039108         0.023184          0.021522         0.056664   \n",
       "14995          0.016363         0.033175          0.016363         0.048887   \n",
       "14996          0.017316         0.059711          0.049246         0.050633   \n",
       "\n",
       "       emi_active  NetBanking_Flag  \n",
       "0        0.150979         0.000000  \n",
       "1        0.327546         0.000000  \n",
       "2        0.334464         0.012119  \n",
       "3        0.212738         0.013953  \n",
       "4        0.287762         0.012308  \n",
       "...           ...              ...  \n",
       "14992    0.328872         0.011916  \n",
       "14993    0.204839         0.012175  \n",
       "14994    0.192839         0.013558  \n",
       "14995    0.266822         0.011346  \n",
       "14996    0.160369         0.000000  \n",
       "\n",
       "[14997 rows x 24 columns]"
      ]
     },
     "execution_count": 32,
     "metadata": {},
     "output_type": "execute_result"
    }
   ],
   "source": [
    "nor_data"
   ]
  },
  {
   "cell_type": "code",
   "execution_count": 33,
   "id": "deb4838e",
   "metadata": {},
   "outputs": [
    {
     "data": {
      "text/plain": [
       "cc_cons             1.000000\n",
       "cc_cons_apr         0.133798\n",
       "dc_cons_apr         0.125384\n",
       "cc_cons_may         0.127530\n",
       "dc_cons_may         0.115634\n",
       "cc_cons_jun         0.133578\n",
       "dc_cons_jun         0.115471\n",
       "cc_count_apr        0.090948\n",
       "cc_count_may        0.130893\n",
       "cc_count_jun        0.129752\n",
       "dc_count_apr        0.108036\n",
       "dc_count_may        0.103096\n",
       "dc_count_jun        0.104870\n",
       "investment_1       -0.037856\n",
       "investment_2       -0.072922\n",
       "investment_3        0.050990\n",
       "investment_4        0.030352\n",
       "credit_count_apr    0.094811\n",
       "credit_count_may    0.099488\n",
       "debit_count_may     0.124106\n",
       "credit_count_jun    0.124116\n",
       "debit_count_jun     0.136938\n",
       "emi_active          0.122042\n",
       "NetBanking_Flag     0.077372\n",
       "Name: cc_cons, dtype: float64"
      ]
     },
     "execution_count": 33,
     "metadata": {},
     "output_type": "execute_result"
    }
   ],
   "source": [
    "#checking corr with target('cc_cons'):\n",
    "\n",
    "#new_Customer_existing.corr()['cc_cons']\n",
    "#data.corr()['cc_cons']\n",
    "#normalized.corr()['cc_cons']\n",
    "nor_data.corr()['cc_cons']"
   ]
  },
  {
   "cell_type": "code",
   "execution_count": 34,
   "id": "19bbf652",
   "metadata": {},
   "outputs": [
    {
     "data": {
      "text/plain": [
       "(14997, 24)"
      ]
     },
     "execution_count": 34,
     "metadata": {},
     "output_type": "execute_result"
    }
   ],
   "source": [
    "x=nor_data\n",
    "x.shape"
   ]
  },
  {
   "cell_type": "code",
   "execution_count": 35,
   "id": "da7963da",
   "metadata": {},
   "outputs": [],
   "source": [
    "#assigning x-y(Target)\n",
    "y = x.cc_cons\n",
    "X= x[x.columns.difference(['cc_cons'])]\n",
    "#Split the data into train and test data\n",
    "X_train, X_test, y_train, y_test = train_test_split(X, y,random_state=100,test_size=0.3) "
   ]
  },
  {
   "cell_type": "code",
   "execution_count": null,
   "id": "cc5c45cc",
   "metadata": {},
   "outputs": [],
   "source": []
  },
  {
   "cell_type": "code",
   "execution_count": null,
   "id": "f7499f5e",
   "metadata": {},
   "outputs": [],
   "source": [
    "# OLS Regression Results\n",
    "import statsmodels.api as sm\n",
    "import pandas as pd\n",
    " \n",
    "# reading data from the csv\n",
    "data = new_Customer_existing\n",
    " \n",
    "# defining the variables\n",
    "x = data[data.columns.difference(['cc_cons'])]\n",
    "y = data[['cc_cons']]\n",
    " \n",
    "# adding the constant term\n",
    "x = sm.add_constant(x)\n",
    " \n",
    "# performing the regression\n",
    "# and fitting the model\n",
    "result = sm.OLS(y, x).fit()\n",
    " \n",
    "# printing the summary table\n",
    "print(result.summary())"
   ]
  },
  {
   "cell_type": "code",
   "execution_count": null,
   "id": "4bc5a262",
   "metadata": {},
   "outputs": [],
   "source": []
  },
  {
   "cell_type": "code",
   "execution_count": null,
   "id": "934eabd0",
   "metadata": {},
   "outputs": [],
   "source": []
  },
  {
   "cell_type": "code",
   "execution_count": null,
   "id": "b74ef91e",
   "metadata": {},
   "outputs": [],
   "source": []
  },
  {
   "cell_type": "code",
   "execution_count": 36,
   "id": "79a92482",
   "metadata": {},
   "outputs": [],
   "source": [
    "#Feature selection\n",
    "#https://scikit-learn.org/stable/modules/feature_selection.html\n",
    "#.1. Removing features with low variance\n",
    "#.2. Univariate feature selection\n",
    "#.3. Recursive feature elimination\n",
    "#.4. Feature selection using SelectFromModel\n",
    "#.5. Sequential Feature Selection\n",
    "#.6. Feature selection as part of a pipeline\n",
    "\n",
    "#There are  types of feature selection method: \n",
    "#https://www.analyticsvidhya.com/blog/2020/10/feature-selection-techniques-in-machine-learning/\n",
    "\n",
    "#A. Filter methods                      -high Faster process/avoids overfitting\n",
    "#1.Information Gain\n",
    "#2.Chi-square Test [cat(nom)-cat(nom)]\n",
    "#3.Fisher’s Score\n",
    "#4.Correlation Coefficient\n",
    "#5.Variance Threshold\n",
    "#6.Mean Absolute Difference (MAD)\n",
    "#7.Dispersion ratio\n",
    "#8.ANOVA         [cat(ord/nom)-num]\n",
    "#9.Pearson correlation\n",
    "\n",
    "#B. Wrapper methods                     -lower faster process/prone to overfitting\n",
    "#1.Forward Feature Selection (stepwise selection)\n",
    "#2.Backward Feature Elimination\n",
    "#3.Exhaustive Feature Selection\n",
    "#4.Recursive Feature Elimination\n",
    "\n",
    "#C. Embedded methods                    -medium fatser process/less prone to overfitting\n",
    "#1.LASSO Regularization (L1)\n",
    "#2.Random Forest Importance\n",
    "#3.Ridge\n",
    "#4.Decision Tree\n",
    "\n",
    "#D. Hybrid methods"
   ]
  },
  {
   "cell_type": "code",
   "execution_count": 37,
   "id": "701ffbdb",
   "metadata": {},
   "outputs": [
    {
     "name": "stderr",
     "output_type": "stream",
     "text": [
      "C:\\Users\\Shubham Jadhav\\anaconda3\\lib\\site-packages\\numpy\\core\\_methods.py:52: RuntimeWarning: overflow encountered in reduce\n",
      "  return umr_prod(a, axis, dtype, out, keepdims, initial, where)\n"
     ]
    },
    {
     "data": {
      "text/plain": [
       "['NetBanking_Flag',\n",
       " 'cc_cons_apr',\n",
       " 'cc_cons_jun',\n",
       " 'cc_cons_may',\n",
       " 'cc_count_apr',\n",
       " 'cc_count_jun',\n",
       " 'cc_count_may',\n",
       " 'credit_count_apr',\n",
       " 'credit_count_jun',\n",
       " 'credit_count_may',\n",
       " 'dc_cons_apr',\n",
       " 'dc_count_apr',\n",
       " 'dc_count_may',\n",
       " 'debit_count_jun']"
      ]
     },
     "execution_count": 37,
     "metadata": {},
     "output_type": "execute_result"
    }
   ],
   "source": [
    "###Filter methods \n",
    "\n",
    "#--------------------------------------------------------------------------------\n",
    "\n",
    "#1.Information Gain:\n",
    "import sklearn.feature_selection as feature_selection\n",
    "#Importing mutual information gain\n",
    "#The higher the value the more important that feature will be or you can say that the dependency of that independent feature will be more on the dependent feature.\n",
    "# determine the mutual information\n",
    "#mutual_info_regression:\n",
    "mutual_info=feature_selection.mutual_info_regression(X_train,y_train,n_neighbors=3)\n",
    "mutual_info = pd.Series(mutual_info)\n",
    "mutual_info.index = X_train.columns\n",
    "#r_regression:\n",
    "r_regression=feature_selection.r_regression(X_train,y_train)\n",
    "r_regression = pd.Series(r_regression)\n",
    "r_regression.index = X_train.columns\n",
    "#compering [mutual_info-r_regression]:\n",
    "df1 = pd.DataFrame(mutual_info).reset_index()\n",
    "df2 = pd.DataFrame(r_regression).reset_index()\n",
    "Information_Gain=pd.merge(df1,df2,on='index')\n",
    "Information_Gain[['col_name','mutual_info','r_regression']]=pd.merge(df1,df2,on='index')\n",
    "col=Information_Gain.columns.drop(['index','0_x','0_y'])\n",
    "Information_Gain=Information_Gain[col]\n",
    "#Information_Gain\n",
    "#--------------------------------------------------------------------------------\n",
    "#2.Chi-square:\n",
    "#Perform chi2 test\n",
    "from sklearn.feature_selection import chi2\n",
    "#Calculating Fscore and p value\n",
    "#f_p_values=chi2(X_train,y_train)\n",
    "#F_p_values\n",
    "#data is not non-negative, maybe chi2 is not a good method.\n",
    "\n",
    "\n",
    "#--------------------------------------------------------------------------------\n",
    "\n",
    "#3.Fisher’s Score:\n",
    "#!pip install skfeature-chappers\n",
    "from skfeature.function.similarity_based import fisher_score\n",
    "#fisher_score=fisher_score.fisher_score(X_train,y_train)\n",
    "\n",
    "#--------------------------------------------------------------------------------\n",
    "\n",
    "#4.Correlation Coefficient:\n",
    "#correlation coefficients 3 method:\n",
    "#i.pearsonr() [num-num]\n",
    "pearson=X_train.corrwith(y_train,method='pearson').reset_index()\n",
    "#ii.spearmanr() [cat(ord)-num]\n",
    "spearman=X_train.corrwith(y_train,method='spearman').reset_index()\n",
    "#iii.kendalltau() [cat(ord)-num(Conti)]\n",
    "kendall=X_train.corrwith(y_train,method='kendall').reset_index()\n",
    "\n",
    "#correlation=pd.merge(pearson,spearman,on='index')\n",
    "correlations=pd.merge(pd.merge(pearson,spearman,on='index'),kendall,on='index')\n",
    "correlations=correlations[['col_name','pearson','spearman','kendall']]=pd.merge(pd.merge(pearson,spearman,on='index'),kendall,on='index')\n",
    "col=correlations.columns.drop(['index','0_x','0_y',0])\n",
    "correlations=correlations[col]\n",
    "#correlations\n",
    "\n",
    "#--------------------------------------------------------------------------------\n",
    "\n",
    "#5.Variance Threshold:\n",
    "selector=feature_selection.VarianceThreshold()\n",
    "transf=selector.fit_transform(X_train,y_train)\n",
    "Variance_Threshold=pd.DataFrame(transf,columns=X_train.columns).T\n",
    "\n",
    "#--------------------------------------------------------------------------------\n",
    "\n",
    "#6.Mean Absolute Difference (MAD)-[X_train]\n",
    "Mean_Absolute_Difference=np.sum(np.abs(X_train-np.mean(X_train,axis=0)))/X_train.shape[0]\n",
    "Mean_Absolute_Difference=Mean_Absolute_Difference.reset_index()\n",
    "Mean_Absolute_Difference.rename(columns = {'index':'col_name',0:'MAD'}, inplace = True)\n",
    "#Mean_Absolute_Difference-[y_train]\n",
    "Mean_Absolute_Difference_y=np.sum(np.abs(y_train-np.mean(y_train,axis=0)))/y_train.shape[0] #-[y_train]\n",
    "\n",
    "#--------------------------------------------------------------------------------\n",
    "\n",
    "#7.Dispersion ratio = [arithmetic_mean (AM) /geometric_mean (GM)]\n",
    "XX=X_train+1 #to avoid 0 drnominator we add 1 here\n",
    "AM=np.mean(XX,axis=0)\n",
    "GM=np.power(np.prod(XX,axis=0),1/XX.shape[0])\n",
    "Dispersion_ratio=AM/GM\n",
    "Dispersion_ratio=Dispersion_ratio.reset_index()\n",
    "Dispersion_ratio.rename(columns = {'index':'col_name',0:'Dispersion_ratio'}, inplace = True)\n",
    "#Dispersion_ratio\n",
    "\n",
    "#--------------------------------------------------------------------------------\n",
    "\n",
    "#8.ANOVA\n",
    "#stats.f_oneway(X_train,y_train)\n",
    "#--------------------------------------------------------------------------------\n",
    "\n",
    "Filter=pd.merge(pd.merge(Information_Gain,correlations,on='col_name'),Dispersion_ratio,on='col_name')\n",
    "\n",
    "###############################################################################################################\n",
    "from sklearn.feature_selection import SelectKBest\n",
    "from sklearn.feature_selection import f_regression,mutual_info_regression,f_oneway\n",
    "#-----------------------------f_regression:\n",
    "select_kf_R= SelectKBest(score_func=f_regression, k=7)\n",
    "z = select_kf_R.fit_transform(X_train, y_train) \n",
    "selected_F_R=X_train.columns[select_kf_R.get_support()]\n",
    "#----------------------------mutual_info_regression:\n",
    "select_km_infoR = SelectKBest(score_func=mutual_info_regression, k=7)\n",
    "z = select_km_infoR.fit_transform(X_train, y_train) \n",
    "selected_M_INFO_R=X_train.columns[select_km_infoR.get_support()]\n",
    "#----------------------------f_oneway:\n",
    "select_kfO_R = SelectKBest(score_func=f_oneway, k=7)\n",
    "z = select_kfO_R.fit_transform(X_train, y_train) \n",
    "selected_F_OW_R=X_train.columns[select_kfO_R.get_support()]\n",
    "\n",
    "\n",
    "#using above result we will check that how many columns commonly get from result:\n",
    "#list(selected_F_R.intersection(selected_M_INFO_R.intersection(selected_F_OW_R)))\n",
    "\n",
    "list(selected_F_R.union(selected_M_INFO_R.union(selected_F_OW_R)))\n"
   ]
  },
  {
   "cell_type": "code",
   "execution_count": null,
   "id": "86408e17",
   "metadata": {},
   "outputs": [],
   "source": []
  },
  {
   "cell_type": "code",
   "execution_count": 38,
   "id": "a384981a",
   "metadata": {},
   "outputs": [],
   "source": [
    "#B. Wrapper methods                                                           *** importing pckg  ***\n",
    "#1.Forward Feature Selection [/stepwise selection]      from mlxtend.feature_selection import SequentialFeatureSelector as sfs\n",
    "#2.Backward Feature Elimination                         from mlxtend.feature_selection import SequentialFeatureSelector as sfs\n",
    "#3.Exhaustive Feature Selection                         from mlxtend.feature_selection import ExhaustiveFeatureSelector as EFS\n",
    "#4.Recursive Feature Elimination                        from sklearn.feature_selection import RFE\n",
    "\n",
    "from sklearn.ensemble import RandomForestRegressor\n",
    "from sklearn.linear_model import LinearRegression\n",
    "from mlxtend.feature_selection import ExhaustiveFeatureSelector as EFS\n",
    "from mlxtend.feature_selection import SequentialFeatureSelector as sfs\n",
    "from sklearn.feature_selection import RFE\n",
    "\n",
    "#scoring:\n",
    "#{'accuracy', 'f1', 'precision', 'recall', 'roc_auc'} for classifiers,\n",
    "#{'mean_absolute_error', 'mean_squared_error'/'neg_mean_squared_error','median_absolute_error', 'r2'} for regressors\n"
   ]
  },
  {
   "cell_type": "code",
   "execution_count": 39,
   "id": "5c5947ae",
   "metadata": {},
   "outputs": [
    {
     "name": "stderr",
     "output_type": "stream",
     "text": [
      "[Parallel(n_jobs=1)]: Using backend SequentialBackend with 1 concurrent workers.\n",
      "[Parallel(n_jobs=1)]: Done   1 out of   1 | elapsed:    0.0s remaining:    0.0s\n",
      "[Parallel(n_jobs=1)]: Done  23 out of  23 | elapsed:    0.0s finished\n",
      "\n",
      "[2022-12-16 08:07:10] Features: 1/15 -- score: 0.018313735774939287[Parallel(n_jobs=1)]: Using backend SequentialBackend with 1 concurrent workers.\n",
      "[Parallel(n_jobs=1)]: Done   1 out of   1 | elapsed:    0.0s remaining:    0.0s\n",
      "[Parallel(n_jobs=1)]: Done  22 out of  22 | elapsed:    0.1s finished\n",
      "\n",
      "[2022-12-16 08:07:10] Features: 2/15 -- score: 0.033313305458963584[Parallel(n_jobs=1)]: Using backend SequentialBackend with 1 concurrent workers.\n",
      "[Parallel(n_jobs=1)]: Done   1 out of   1 | elapsed:    0.0s remaining:    0.0s\n",
      "[Parallel(n_jobs=1)]: Done  21 out of  21 | elapsed:    0.1s finished\n",
      "\n",
      "[2022-12-16 08:07:10] Features: 3/15 -- score: 0.044739913914192034[Parallel(n_jobs=1)]: Using backend SequentialBackend with 1 concurrent workers.\n",
      "[Parallel(n_jobs=1)]: Done   1 out of   1 | elapsed:    0.0s remaining:    0.0s\n",
      "[Parallel(n_jobs=1)]: Done  20 out of  20 | elapsed:    0.1s finished\n",
      "\n",
      "[2022-12-16 08:07:10] Features: 4/15 -- score: 0.05417697703518913[Parallel(n_jobs=1)]: Using backend SequentialBackend with 1 concurrent workers.\n",
      "[Parallel(n_jobs=1)]: Done   1 out of   1 | elapsed:    0.0s remaining:    0.0s\n",
      "[Parallel(n_jobs=1)]: Done  19 out of  19 | elapsed:    0.1s finished\n",
      "\n",
      "[2022-12-16 08:07:10] Features: 5/15 -- score: 0.06156425077971852[Parallel(n_jobs=1)]: Using backend SequentialBackend with 1 concurrent workers.\n",
      "[Parallel(n_jobs=1)]: Done   1 out of   1 | elapsed:    0.0s remaining:    0.0s\n",
      "[Parallel(n_jobs=1)]: Done  18 out of  18 | elapsed:    0.1s finished\n",
      "\n",
      "[2022-12-16 08:07:11] Features: 6/15 -- score: 0.0677376950051429[Parallel(n_jobs=1)]: Using backend SequentialBackend with 1 concurrent workers.\n",
      "[Parallel(n_jobs=1)]: Done   1 out of   1 | elapsed:    0.0s remaining:    0.0s\n",
      "[Parallel(n_jobs=1)]: Done  17 out of  17 | elapsed:    0.1s finished\n",
      "\n",
      "[2022-12-16 08:07:11] Features: 7/15 -- score: 0.0726412835139201[Parallel(n_jobs=1)]: Using backend SequentialBackend with 1 concurrent workers.\n",
      "[Parallel(n_jobs=1)]: Done   1 out of   1 | elapsed:    0.0s remaining:    0.0s\n",
      "[Parallel(n_jobs=1)]: Done  16 out of  16 | elapsed:    0.1s finished\n",
      "\n",
      "[2022-12-16 08:07:11] Features: 8/15 -- score: 0.07615081290660017[Parallel(n_jobs=1)]: Using backend SequentialBackend with 1 concurrent workers.\n",
      "[Parallel(n_jobs=1)]: Done   1 out of   1 | elapsed:    0.0s remaining:    0.0s\n",
      "[Parallel(n_jobs=1)]: Done  15 out of  15 | elapsed:    0.1s finished\n",
      "\n",
      "[2022-12-16 08:07:11] Features: 9/15 -- score: 0.0791309394623619[Parallel(n_jobs=1)]: Using backend SequentialBackend with 1 concurrent workers.\n",
      "[Parallel(n_jobs=1)]: Done   1 out of   1 | elapsed:    0.0s remaining:    0.0s\n",
      "[Parallel(n_jobs=1)]: Done  14 out of  14 | elapsed:    0.1s finished\n",
      "\n",
      "[2022-12-16 08:07:11] Features: 10/15 -- score: 0.08180634478344732[Parallel(n_jobs=1)]: Using backend SequentialBackend with 1 concurrent workers.\n",
      "[Parallel(n_jobs=1)]: Done   1 out of   1 | elapsed:    0.0s remaining:    0.0s\n",
      "[Parallel(n_jobs=1)]: Done  13 out of  13 | elapsed:    0.1s finished\n",
      "\n",
      "[2022-12-16 08:07:11] Features: 11/15 -- score: 0.08411573197911915[Parallel(n_jobs=1)]: Using backend SequentialBackend with 1 concurrent workers.\n",
      "[Parallel(n_jobs=1)]: Done   1 out of   1 | elapsed:    0.0s remaining:    0.0s\n",
      "[Parallel(n_jobs=1)]: Done  12 out of  12 | elapsed:    0.1s finished\n",
      "\n",
      "[2022-12-16 08:07:12] Features: 12/15 -- score: 0.08612081126186306[Parallel(n_jobs=1)]: Using backend SequentialBackend with 1 concurrent workers.\n",
      "[Parallel(n_jobs=1)]: Done   1 out of   1 | elapsed:    0.0s remaining:    0.0s\n",
      "[Parallel(n_jobs=1)]: Done  11 out of  11 | elapsed:    0.0s finished\n",
      "\n",
      "[2022-12-16 08:07:12] Features: 13/15 -- score: 0.0877417715032935[Parallel(n_jobs=1)]: Using backend SequentialBackend with 1 concurrent workers.\n",
      "[Parallel(n_jobs=1)]: Done   1 out of   1 | elapsed:    0.0s remaining:    0.0s\n",
      "[Parallel(n_jobs=1)]: Done  10 out of  10 | elapsed:    0.0s finished\n",
      "\n",
      "[2022-12-16 08:07:12] Features: 14/15 -- score: 0.08872799769066553[Parallel(n_jobs=1)]: Using backend SequentialBackend with 1 concurrent workers.\n",
      "[Parallel(n_jobs=1)]: Done   1 out of   1 | elapsed:    0.0s remaining:    0.0s\n",
      "[Parallel(n_jobs=1)]: Done   9 out of   9 | elapsed:    0.0s finished\n",
      "\n",
      "[2022-12-16 08:07:12] Features: 15/15 -- score: 0.08957051256433309[Parallel(n_jobs=1)]: Using backend SequentialBackend with 1 concurrent workers.\n",
      "[Parallel(n_jobs=1)]: Done   1 out of   1 | elapsed:    0.0s remaining:    0.0s\n",
      "[Parallel(n_jobs=1)]: Done  23 out of  23 | elapsed:    0.5s finished\n",
      "\n",
      "[2022-12-16 08:07:13] Features: 22/15 -- score: 0.09231919229268407[Parallel(n_jobs=1)]: Using backend SequentialBackend with 1 concurrent workers.\n",
      "[Parallel(n_jobs=1)]: Done   1 out of   1 | elapsed:    0.0s remaining:    0.0s\n",
      "[Parallel(n_jobs=1)]: Done  22 out of  22 | elapsed:    0.5s finished\n",
      "\n",
      "[2022-12-16 08:07:13] Features: 21/15 -- score: 0.09225225224246869[Parallel(n_jobs=1)]: Using backend SequentialBackend with 1 concurrent workers.\n",
      "[Parallel(n_jobs=1)]: Done   1 out of   1 | elapsed:    0.0s remaining:    0.0s\n",
      "[Parallel(n_jobs=1)]: Done  21 out of  21 | elapsed:    0.4s finished\n",
      "\n",
      "[2022-12-16 08:07:14] Features: 20/15 -- score: 0.09211632675857653[Parallel(n_jobs=1)]: Using backend SequentialBackend with 1 concurrent workers.\n",
      "[Parallel(n_jobs=1)]: Done   1 out of   1 | elapsed:    0.0s remaining:    0.0s\n",
      "[Parallel(n_jobs=1)]: Done  20 out of  20 | elapsed:    0.3s finished\n",
      "\n",
      "[2022-12-16 08:07:14] Features: 19/15 -- score: 0.09192557523517186[Parallel(n_jobs=1)]: Using backend SequentialBackend with 1 concurrent workers.\n",
      "[Parallel(n_jobs=1)]: Done   1 out of   1 | elapsed:    0.0s remaining:    0.0s\n",
      "[Parallel(n_jobs=1)]: Done  19 out of  19 | elapsed:    0.3s finished\n",
      "\n",
      "[2022-12-16 08:07:14] Features: 18/15 -- score: 0.09152177891066318[Parallel(n_jobs=1)]: Using backend SequentialBackend with 1 concurrent workers.\n",
      "[Parallel(n_jobs=1)]: Done   1 out of   1 | elapsed:    0.0s remaining:    0.0s\n",
      "[Parallel(n_jobs=1)]: Done  18 out of  18 | elapsed:    0.3s finished\n",
      "\n",
      "[2022-12-16 08:07:15] Features: 17/15 -- score: 0.09104309739166319[Parallel(n_jobs=1)]: Using backend SequentialBackend with 1 concurrent workers.\n",
      "[Parallel(n_jobs=1)]: Done   1 out of   1 | elapsed:    0.0s remaining:    0.0s\n",
      "[Parallel(n_jobs=1)]: Done  17 out of  17 | elapsed:    0.5s finished\n",
      "\n",
      "[2022-12-16 08:07:15] Features: 16/15 -- score: 0.09037826151117163[Parallel(n_jobs=1)]: Using backend SequentialBackend with 1 concurrent workers.\n",
      "[Parallel(n_jobs=1)]: Done   1 out of   1 | elapsed:    0.0s remaining:    0.0s\n"
     ]
    },
    {
     "name": "stdout",
     "output_type": "stream",
     "text": [
      "Forward selection: [1, 2, 3, 5, 6, 8, 9, 10, 11, 13, 14, 15, 16, 17, 18] backward selection: [1, 2, 3, 5, 6, 8, 9, 10, 11, 13, 14, 15, 16, 17, 18]\n"
     ]
    },
    {
     "name": "stderr",
     "output_type": "stream",
     "text": [
      "[Parallel(n_jobs=1)]: Done  16 out of  16 | elapsed:    0.3s finished\n",
      "\n",
      "[2022-12-16 08:07:16] Features: 15/15 -- score: 0.08957051256433309"
     ]
    }
   ],
   "source": [
    "\n",
    "########################### #1.Forward Feature Selection:\n",
    "lr = LinearRegression()\n",
    "#rgr = RandomForestRegressor(n_estimators=50, n_jobs=-1)\n",
    "\n",
    "# Build step forward feature selection\n",
    "sfs1 = sfs(lr,\n",
    "           k_features=15,\n",
    "           forward=True, #[Forward selection if True, backward selection otherwise]\n",
    "           verbose=2,\n",
    "           scoring='r2',\n",
    "           cv=5)\n",
    "\n",
    "# Perform SFFS\n",
    "sfs1 = sfs1.fit(X_train, y_train)\n",
    "\n",
    "\n",
    "\n",
    "##########################################2.Backward Feature Elimination\n",
    "lr = LinearRegression()\n",
    "#rgr = RandomForestRegressor(n_estimators=50, n_jobs=-1)\n",
    "\n",
    "# Build step Backward feature selection\n",
    "sfs2 = sfs(lr,\n",
    "           k_features=15,\n",
    "           forward=False, #[Forward selection if True, backward selection otherwise]\n",
    "           verbose=2,\n",
    "           scoring='r2',\n",
    "           cv=5)\n",
    "\n",
    "# Perform SFFS\n",
    "sfs2 = sfs2.fit(X_train, y_train)\n",
    "\n",
    "# Which features?\n",
    "forward_feat_cols = list(sfs1.k_feature_idx_)\n",
    "backward_feat_cols = list(sfs2.k_feature_idx_)\n",
    "\n",
    "print('Forward selection:',forward_feat_cols,'backward selection:',backward_feat_cols)"
   ]
  },
  {
   "cell_type": "raw",
   "id": "cc14bdb5",
   "metadata": {},
   "source": [
    "#####################################3.Exhaustive Feature Selection\n",
    "#lr = LinearRegression()\n",
    "rgr = RandomForestRegressor(n_estimators=50, n_jobs=-1)\n",
    "\n",
    "# Build  Exhaustive Feature Selection\n",
    "efs3 = EFS(rgr, \n",
    "          min_features=1,\n",
    "          max_features=5,\n",
    "          scoring='neg_mean_squared_error',\n",
    "          cv=10)\n",
    "\n",
    "efs3.fit(X_train, y_train)\n",
    "\n",
    "print('Best MSE score: %.2f' % efs3.best_score_ * (-1))\n",
    "print('Best subset:', efs3.best_idx_)\n"
   ]
  },
  {
   "cell_type": "raw",
   "id": "1f62756c",
   "metadata": {},
   "source": [
    "####################################4.Recursive Feature Elimination\n",
    "#lr = LinearRegression()\n",
    "rgr = RandomForestRegressor(n_estimators=200,criterion='absolute_error', n_jobs=-1)\n",
    "\n",
    "#Build Recursive Feature Elimination\n",
    "rfe4 = RFE(rgr,min_features=1,\n",
    "          max_features=5,\n",
    "          scoring='neg_mean_squared_error',\n",
    "          cv=10)\n",
    "\n",
    "\n",
    "rfe4 = rfe4.fit(X_train, YY_train)\n",
    "\n",
    "print('Best MSE score: %.2f' % rfe4.best_score_ * (-1))\n",
    "print('Best subset:', rfe4.best_idx_)\n",
    "print(\"Num Features: %s\" % (rfe4.n_features_))\n",
    "print(\"Selected Features: %s\" % (rfe4.support_))\n",
    "print(\"Feature Ranking: %s\" % (rfe4.ranking_))\n"
   ]
  },
  {
   "cell_type": "code",
   "execution_count": 67,
   "id": "1d1ab5b8",
   "metadata": {},
   "outputs": [],
   "source": [
    "# C. Embedded methods :                               *** importing pckg  ***\n",
    "#1.LASSO Regularization (L1)                                - from sklearn.linear_model import Lasso,LassoCV\n",
    "#2.Random Forest Importance                                 -from sklearn.ensemble import RandomForestRegressor\n",
    "#3.Ridge                                                    -from sklearn.linear_model import Ridge,RidgeCV,ridge_regression\n",
    "#4.Decision Tree                                            -from sklearn.tree import DecisionTreeRegressor\n",
    "#ElasticNet                                                 -from sklearn.linear_model import ElasticNet\n",
    "\n",
    "from sklearn.linear_model import Lasso,LassoCV\n",
    "from sklearn.linear_model import ElasticNet\n",
    "from sklearn.linear_model import Ridge,RidgeCV,ridge_regression\n",
    "from sklearn.ensemble import RandomForestRegressor\n",
    "from sklearn.tree import DecisionTreeRegressor\n",
    "from sklearn.feature_selection import SelectFromModel"
   ]
  },
  {
   "cell_type": "code",
   "execution_count": 79,
   "id": "6e8c5468",
   "metadata": {},
   "outputs": [
    {
     "data": {
      "text/plain": [
       "Index(['NetBanking_Flag', 'cc_cons_apr', 'cc_cons_jun', 'cc_cons_may',\n",
       "       'cc_count_jun', 'cc_count_may', 'credit_count_apr', 'credit_count_jun',\n",
       "       'credit_count_may', 'dc_cons_apr', 'dc_cons_jun', 'dc_cons_may',\n",
       "       'dc_count_apr', 'dc_count_jun', 'dc_count_may', 'debit_count_jun',\n",
       "       'debit_count_may', 'emi_active', 'investment_1', 'investment_2'],\n",
       "      dtype='object')"
      ]
     },
     "execution_count": 79,
     "metadata": {},
     "output_type": "execute_result"
    }
   ],
   "source": [
    "\n",
    "\n",
    "######################################## 1.LASSO Regularization (L1)\n",
    "#                            (Least Absolute Shrinkage and Selection Operator)\n",
    "\n",
    "sel_ = SelectFromModel(Lasso(alpha=0.001, random_state=100))\n",
    "sel_.fit(X_train, y_train)\n",
    "sel_.get_support()\n",
    "l=X_train.columns[sel_.get_support()]\n",
    "\n",
    "####################################### 2.ElasticNet\n",
    "\n",
    "sel_ = SelectFromModel(ElasticNet(alpha=0.001, random_state=100))\n",
    "sel_.fit(X_train, y_train)\n",
    "sel_.get_support()\n",
    "e=X_train.columns[sel_.get_support()]\n",
    "######################################### 3.Ridge\n",
    "sel_ = SelectFromModel(Ridge(alpha=0.001, random_state=100))\n",
    "sel_.fit(X_train, y_train)\n",
    "sel_.get_support()\n",
    "r=X_train.columns[sel_.get_support()]\n",
    "(l.union(e)).union(r)"
   ]
  },
  {
   "cell_type": "code",
   "execution_count": null,
   "id": "f3fb21e6",
   "metadata": {},
   "outputs": [],
   "source": [
    "#feature importance:"
   ]
  },
  {
   "cell_type": "code",
   "execution_count": 80,
   "id": "c84a11c3",
   "metadata": {},
   "outputs": [
    {
     "data": {
      "image/png": "[encoded data removed]",
      "text/plain": [
       "<Figure size 640x480 with 1 Axes>"
      ]
     },
     "metadata": {},
     "output_type": "display_data"
    }
   ],
   "source": [
    "################################################ 1)LinearRegression\n",
    "from sklearn.linear_model import LinearRegression\n",
    "# define the model\n",
    "model = LinearRegression()\n",
    "# fit the model\n",
    "model.fit(X_train, y_train)\n",
    "# get importance\n",
    "importance = model.coef_\n",
    "# summarize feature importance\n",
    "#for i,v in enumerate(importance):\n",
    "    \n",
    " #print('Feature: %0d, Score: %.5f' % (i,v))\n",
    "LR_feature_importance=pd.DataFrame(importance,X_train.columns).sort_values(0,ascending=False)\n",
    "# plot feature importance\n",
    "plt.bar([x for x in range(len(importance))], importance)\n",
    "plt.show()"
   ]
  },
  {
   "cell_type": "code",
   "execution_count": 81,
   "id": "1fa50b4f",
   "metadata": {},
   "outputs": [
    {
     "data": {
      "image/png": "[encoded data removed]",
      "text/plain": [
       "<Figure size 640x480 with 1 Axes>"
      ]
     },
     "metadata": {},
     "output_type": "display_data"
    }
   ],
   "source": [
    "################################## 2.Random Forest Importance\n",
    "\n",
    "#feature importance:\n",
    "from sklearn.ensemble import RandomForestRegressor \n",
    "# define the model\n",
    "model = RandomForestRegressor()\n",
    "# fit the model\n",
    "model.fit(X_train, y_train)\n",
    "# get importance\n",
    "importance = model.feature_importances_\n",
    "# summarize feature importance\n",
    "#for i,v in enumerate(importance):\n",
    "    \n",
    " #print('Feature: %0d, Score: %.5f' % (i,v))\n",
    "RFR_feature_importance=pd.DataFrame(importance,X_train.columns).sort_values(0,ascending=False)\n",
    "# plot feature importance\n",
    "plt.bar([x for x in range(len(importance))], importance)\n",
    "plt.show()\n"
   ]
  },
  {
   "cell_type": "code",
   "execution_count": 82,
   "id": "ffe48603",
   "metadata": {},
   "outputs": [
    {
     "data": {
      "image/png": "[encoded data removed]",
      "text/plain": [
       "<Figure size 640x480 with 1 Axes>"
      ]
     },
     "metadata": {},
     "output_type": "display_data"
    }
   ],
   "source": [
    "################################### 3.Decision Tree\n",
    "\n",
    "#feature importance:\n",
    "from sklearn.tree import DecisionTreeRegressor \n",
    "# define the model\n",
    "model = DecisionTreeRegressor()\n",
    "# fit the model\n",
    "model.fit(X_train, y_train)\n",
    "# get importance\n",
    "importance = model.feature_importances_\n",
    "# summarize feature importance\n",
    "#for i,v in enumerate(importance):\n",
    "    \n",
    " #print('Feature: %0d, Score: %.5f' % (i,v))\n",
    "DTR_feature_importance=pd.DataFrame(importance,X_train.columns).sort_values(0,ascending=False)\n",
    "# plot feature importance\n",
    "plt.bar([x for x in range(len(importance))], importance)\n",
    "plt.show()"
   ]
  },
  {
   "cell_type": "code",
   "execution_count": 83,
   "id": "466ee2ff",
   "metadata": {},
   "outputs": [
    {
     "data": {
      "image/png": "[encoded data removed]",
      "text/plain": [
       "<Figure size 640x480 with 1 Axes>"
      ]
     },
     "metadata": {},
     "output_type": "display_data"
    }
   ],
   "source": [
    "\n",
    "##################################XGBoost\n",
    "from xgboost import XGBRegressor\n",
    "# define the model\n",
    "model = XGBRegressor()\n",
    "# fit the model\n",
    "model.fit(X_train, y_train)\n",
    "# get importance\n",
    "importance = model.feature_importances_\n",
    "# summarize feature importance\n",
    "#for i,v in enumerate(importance):\n",
    "# print('Feature: %0d, Score: %.5f' % (i,v))\n",
    "XGB_feature_importance=pd.DataFrame(importance,X_train.columns).sort_values(0,ascending=False)\n",
    "# plot feature importance\n",
    "plt.bar([x for x in range(len(importance))], importance)\n",
    "plt.show()\n"
   ]
  },
  {
   "cell_type": "code",
   "execution_count": null,
   "id": "4d913a48",
   "metadata": {},
   "outputs": [],
   "source": []
  },
  {
   "cell_type": "code",
   "execution_count": 86,
   "id": "8ff859d7",
   "metadata": {},
   "outputs": [
    {
     "name": "stderr",
     "output_type": "stream",
     "text": [
      "C:\\Users\\Shubham Jadhav\\AppData\\Local\\Temp\\ipykernel_8116\\1199981498.py:5: FutureWarning: Passing 'suffixes' which cause duplicate columns {'0_x'} in the result is deprecated and will raise a MergeError in a future version.\n",
      "  Feature_importance=pd.merge(pd.merge(pd.merge(R,D,on='index'),L,on='index'),X,on='index')\n"
     ]
    },
    {
     "data": {
      "text/html": [
       "<div>\n",
       "<style scoped>\n",
       "    .dataframe tbody tr th:only-of-type {\n",
       "        vertical-align: middle;\n",
       "    }\n",
       "\n",
       "    .dataframe tbody tr th {\n",
       "        vertical-align: top;\n",
       "    }\n",
       "\n",
       "    .dataframe thead th {\n",
       "        text-align: right;\n",
       "    }\n",
       "</style>\n",
       "<table border=\"1\" class=\"dataframe\">\n",
       "  <thead>\n",
       "    <tr style=\"text-align: right;\">\n",
       "      <th></th>\n",
       "      <th>columns</th>\n",
       "      <th>RFR</th>\n",
       "      <th>DTR</th>\n",
       "      <th>LR</th>\n",
       "      <th>XGB</th>\n",
       "    </tr>\n",
       "  </thead>\n",
       "  <tbody>\n",
       "    <tr>\n",
       "      <th>0</th>\n",
       "      <td>NetBanking_Flag</td>\n",
       "      <td>0.112746</td>\n",
       "      <td>0.112333</td>\n",
       "      <td>0.416768</td>\n",
       "      <td>0.075496</td>\n",
       "    </tr>\n",
       "    <tr>\n",
       "      <th>1</th>\n",
       "      <td>debit_count_jun</td>\n",
       "      <td>0.049788</td>\n",
       "      <td>0.055231</td>\n",
       "      <td>0.349453</td>\n",
       "      <td>0.061887</td>\n",
       "    </tr>\n",
       "    <tr>\n",
       "      <th>2</th>\n",
       "      <td>debit_count_may</td>\n",
       "      <td>0.043659</td>\n",
       "      <td>0.062200</td>\n",
       "      <td>0.339066</td>\n",
       "      <td>0.048102</td>\n",
       "    </tr>\n",
       "    <tr>\n",
       "      <th>3</th>\n",
       "      <td>cc_count_may</td>\n",
       "      <td>0.043246</td>\n",
       "      <td>0.041960</td>\n",
       "      <td>0.409303</td>\n",
       "      <td>0.044868</td>\n",
       "    </tr>\n",
       "    <tr>\n",
       "      <th>4</th>\n",
       "      <td>dc_cons_apr</td>\n",
       "      <td>0.042260</td>\n",
       "      <td>0.047289</td>\n",
       "      <td>0.061177</td>\n",
       "      <td>0.046109</td>\n",
       "    </tr>\n",
       "    <tr>\n",
       "      <th>5</th>\n",
       "      <td>cc_cons_jun</td>\n",
       "      <td>0.042058</td>\n",
       "      <td>0.040526</td>\n",
       "      <td>0.064407</td>\n",
       "      <td>0.034979</td>\n",
       "    </tr>\n",
       "    <tr>\n",
       "      <th>6</th>\n",
       "      <td>credit_count_apr</td>\n",
       "      <td>0.041300</td>\n",
       "      <td>0.047725</td>\n",
       "      <td>0.244652</td>\n",
       "      <td>0.043403</td>\n",
       "    </tr>\n",
       "    <tr>\n",
       "      <th>7</th>\n",
       "      <td>credit_count_jun</td>\n",
       "      <td>0.041254</td>\n",
       "      <td>0.040909</td>\n",
       "      <td>0.368085</td>\n",
       "      <td>0.042386</td>\n",
       "    </tr>\n",
       "    <tr>\n",
       "      <th>8</th>\n",
       "      <td>credit_count_may</td>\n",
       "      <td>0.040881</td>\n",
       "      <td>0.040064</td>\n",
       "      <td>0.387011</td>\n",
       "      <td>0.046869</td>\n",
       "    </tr>\n",
       "    <tr>\n",
       "      <th>9</th>\n",
       "      <td>cc_count_jun</td>\n",
       "      <td>0.040801</td>\n",
       "      <td>0.038457</td>\n",
       "      <td>0.362155</td>\n",
       "      <td>0.038139</td>\n",
       "    </tr>\n",
       "    <tr>\n",
       "      <th>10</th>\n",
       "      <td>cc_cons_may</td>\n",
       "      <td>0.040795</td>\n",
       "      <td>0.037500</td>\n",
       "      <td>0.059892</td>\n",
       "      <td>0.037051</td>\n",
       "    </tr>\n",
       "    <tr>\n",
       "      <th>11</th>\n",
       "      <td>dc_count_may</td>\n",
       "      <td>0.040546</td>\n",
       "      <td>0.042434</td>\n",
       "      <td>0.376071</td>\n",
       "      <td>0.045035</td>\n",
       "    </tr>\n",
       "    <tr>\n",
       "      <th>12</th>\n",
       "      <td>dc_count_apr</td>\n",
       "      <td>0.040165</td>\n",
       "      <td>0.044132</td>\n",
       "      <td>0.242818</td>\n",
       "      <td>0.043345</td>\n",
       "    </tr>\n",
       "    <tr>\n",
       "      <th>13</th>\n",
       "      <td>dc_cons_jun</td>\n",
       "      <td>0.040045</td>\n",
       "      <td>0.036089</td>\n",
       "      <td>0.038568</td>\n",
       "      <td>0.037323</td>\n",
       "    </tr>\n",
       "    <tr>\n",
       "      <th>14</th>\n",
       "      <td>investment_4</td>\n",
       "      <td>0.039141</td>\n",
       "      <td>0.035485</td>\n",
       "      <td>0.009996</td>\n",
       "      <td>0.046386</td>\n",
       "    </tr>\n",
       "    <tr>\n",
       "      <th>15</th>\n",
       "      <td>dc_count_jun</td>\n",
       "      <td>0.038384</td>\n",
       "      <td>0.033612</td>\n",
       "      <td>0.252610</td>\n",
       "      <td>0.041727</td>\n",
       "    </tr>\n",
       "    <tr>\n",
       "      <th>16</th>\n",
       "      <td>cc_cons_apr</td>\n",
       "      <td>0.038236</td>\n",
       "      <td>0.037719</td>\n",
       "      <td>0.047230</td>\n",
       "      <td>0.025618</td>\n",
       "    </tr>\n",
       "    <tr>\n",
       "      <th>17</th>\n",
       "      <td>investment_1</td>\n",
       "      <td>0.038195</td>\n",
       "      <td>0.038417</td>\n",
       "      <td>-0.006069</td>\n",
       "      <td>0.040454</td>\n",
       "    </tr>\n",
       "    <tr>\n",
       "      <th>18</th>\n",
       "      <td>investment_3</td>\n",
       "      <td>0.038010</td>\n",
       "      <td>0.031781</td>\n",
       "      <td>-0.000014</td>\n",
       "      <td>0.039210</td>\n",
       "    </tr>\n",
       "    <tr>\n",
       "      <th>19</th>\n",
       "      <td>cc_count_apr</td>\n",
       "      <td>0.037592</td>\n",
       "      <td>0.028886</td>\n",
       "      <td>0.126209</td>\n",
       "      <td>0.033689</td>\n",
       "    </tr>\n",
       "    <tr>\n",
       "      <th>20</th>\n",
       "      <td>investment_2</td>\n",
       "      <td>0.037583</td>\n",
       "      <td>0.035494</td>\n",
       "      <td>-0.013379</td>\n",
       "      <td>0.042755</td>\n",
       "    </tr>\n",
       "    <tr>\n",
       "      <th>21</th>\n",
       "      <td>emi_active</td>\n",
       "      <td>0.037391</td>\n",
       "      <td>0.041314</td>\n",
       "      <td>0.050148</td>\n",
       "      <td>0.045244</td>\n",
       "    </tr>\n",
       "    <tr>\n",
       "      <th>22</th>\n",
       "      <td>dc_cons_may</td>\n",
       "      <td>0.035924</td>\n",
       "      <td>0.030442</td>\n",
       "      <td>0.040114</td>\n",
       "      <td>0.039924</td>\n",
       "    </tr>\n",
       "  </tbody>\n",
       "</table>\n",
       "</div>"
      ],
      "text/plain": [
       "             columns       RFR       DTR        LR       XGB\n",
       "0    NetBanking_Flag  0.112746  0.112333  0.416768  0.075496\n",
       "1    debit_count_jun  0.049788  0.055231  0.349453  0.061887\n",
       "2    debit_count_may  0.043659  0.062200  0.339066  0.048102\n",
       "3       cc_count_may  0.043246  0.041960  0.409303  0.044868\n",
       "4        dc_cons_apr  0.042260  0.047289  0.061177  0.046109\n",
       "5        cc_cons_jun  0.042058  0.040526  0.064407  0.034979\n",
       "6   credit_count_apr  0.041300  0.047725  0.244652  0.043403\n",
       "7   credit_count_jun  0.041254  0.040909  0.368085  0.042386\n",
       "8   credit_count_may  0.040881  0.040064  0.387011  0.046869\n",
       "9       cc_count_jun  0.040801  0.038457  0.362155  0.038139\n",
       "10       cc_cons_may  0.040795  0.037500  0.059892  0.037051\n",
       "11      dc_count_may  0.040546  0.042434  0.376071  0.045035\n",
       "12      dc_count_apr  0.040165  0.044132  0.242818  0.043345\n",
       "13       dc_cons_jun  0.040045  0.036089  0.038568  0.037323\n",
       "14      investment_4  0.039141  0.035485  0.009996  0.046386\n",
       "15      dc_count_jun  0.038384  0.033612  0.252610  0.041727\n",
       "16       cc_cons_apr  0.038236  0.037719  0.047230  0.025618\n",
       "17      investment_1  0.038195  0.038417 -0.006069  0.040454\n",
       "18      investment_3  0.038010  0.031781 -0.000014  0.039210\n",
       "19      cc_count_apr  0.037592  0.028886  0.126209  0.033689\n",
       "20      investment_2  0.037583  0.035494 -0.013379  0.042755\n",
       "21        emi_active  0.037391  0.041314  0.050148  0.045244\n",
       "22       dc_cons_may  0.035924  0.030442  0.040114  0.039924"
      ]
     },
     "execution_count": 86,
     "metadata": {},
     "output_type": "execute_result"
    }
   ],
   "source": [
    "D=DTR_feature_importance.reset_index()\n",
    "R=RFR_feature_importance.reset_index()\n",
    "L=LR_feature_importance.reset_index()\n",
    "X=XGB_feature_importance.reset_index()\n",
    "Feature_importance=pd.merge(pd.merge(pd.merge(R,D,on='index'),L,on='index'),X,on='index')\n",
    "Feature_importance.columns = ['columns', 'RFR', 'DTR','LR','XGB']\n",
    "Feature_importance"
   ]
  },
  {
   "cell_type": "code",
   "execution_count": null,
   "id": "9c5c3671",
   "metadata": {},
   "outputs": [],
   "source": []
  },
  {
   "cell_type": "code",
   "execution_count": null,
   "id": "ecc76afc",
   "metadata": {},
   "outputs": [],
   "source": []
  },
  {
   "cell_type": "code",
   "execution_count": null,
   "id": "7e18e2be",
   "metadata": {},
   "outputs": [],
   "source": []
  },
  {
   "cell_type": "code",
   "execution_count": null,
   "id": "2ca33f61",
   "metadata": {},
   "outputs": [],
   "source": []
  },
  {
   "cell_type": "code",
   "execution_count": null,
   "id": "054f43a9",
   "metadata": {},
   "outputs": [],
   "source": []
  },
  {
   "cell_type": "code",
   "execution_count": null,
   "id": "d7644cf9",
   "metadata": {},
   "outputs": [],
   "source": []
  },
  {
   "cell_type": "code",
   "execution_count": 88,
   "id": "d9378d81",
   "metadata": {},
   "outputs": [
    {
     "name": "stderr",
     "output_type": "stream",
     "text": [
      "C:\\Users\\Shubham Jadhav\\anaconda3\\lib\\site-packages\\sklearn\\ensemble\\_forest.py:403: FutureWarning: Criterion 'mae' was deprecated in v1.0 and will be removed in version 1.2. Use `criterion='absolute_error'` which is equivalent.\n",
      "  warn(\n"
     ]
    },
    {
     "data": {
      "text/plain": [
       "Index(['NetBanking_Flag', 'cc_count_may', 'debit_count_jun',\n",
       "       'debit_count_may'],\n",
       "      dtype='object')"
      ]
     },
     "execution_count": 88,
     "metadata": {},
     "output_type": "execute_result"
    }
   ],
   "source": [
    "sel_ = SelectFromModel(RandomForestRegressor(criterion='mae',n_estimators=100,n_jobs=-1,random_state=100,bootstrap=True))\n",
    "sel_.fit(X_train, y_train)\n",
    "sel_.get_support()\n",
    "X_train.columns[sel_.get_support()]\n"
   ]
  },
  {
   "cell_type": "code",
   "execution_count": null,
   "id": "a39f6403",
   "metadata": {},
   "outputs": [],
   "source": [
    "#poission\n",
    "Index(['cc_cons_apr', 'cc_cons_may', 'cc_count_jun', 'cc_count_may',\n",
    "       'credit_count_jun', 'dc_cons_jun', 'dc_cons_may', 'dc_count_apr',\n",
    "       'dc_count_jun', 'dc_count_may', 'debit_count_may', 'investment_1',\n",
    "       'investment_2', 'investment_3', 'investment_4'],\n",
    "      dtype='object')"
   ]
  },
  {
   "cell_type": "code",
   "execution_count": null,
   "id": "9fdab6da",
   "metadata": {},
   "outputs": [],
   "source": [
    "#absolute_error\n",
    "Index(['NetBanking_Flag', 'cc_count_may', 'debit_count_jun',\n",
    "       'debit_count_may'],\n",
    "      dtype='object')"
   ]
  },
  {
   "cell_type": "code",
   "execution_count": null,
   "id": "170a9c45",
   "metadata": {},
   "outputs": [],
   "source": [
    "#mae\n",
    "Index(['NetBanking_Flag', 'cc_count_may', 'debit_count_jun',\n",
    "       'debit_count_may'],\n",
    "      dtype='object')"
   ]
  },
  {
   "cell_type": "code",
   "execution_count": null,
   "id": "bdc9bb71",
   "metadata": {},
   "outputs": [],
   "source": []
  },
  {
   "cell_type": "raw",
   "id": "6288b44e",
   "metadata": {},
   "source": [
    "# #################################Permutation Feature Importance :\n",
    "from sklearn.neighbors import KNeighborsRegressor\n",
    "from sklearn.inspection import permutation_importance\n",
    "\n",
    "# define the model\n",
    "model = KNeighborsRegressor()\n",
    "# fit the model\n",
    "model.fit(X, y)\n",
    "# perform permutation importance\n",
    "results = permutation_importance(model, X, y, scoring='neg_mean_squared_error')\n",
    "# get importance\n",
    "importance = results.importances_mean\n",
    "# summarize feature importance\n",
    "for i,v in enumerate(importance):\n",
    " print('Feature: %0d, Score: %.5f' % (i,v))\n",
    "# plot feature importance\n",
    "plt.bar([x for x in range(len(importance))], importance)\n",
    "plt.show()"
   ]
  },
  {
   "cell_type": "code",
   "execution_count": null,
   "id": "ca4220e1",
   "metadata": {},
   "outputs": [],
   "source": []
  },
  {
   "cell_type": "code",
   "execution_count": 85,
   "id": "89040367",
   "metadata": {},
   "outputs": [
    {
     "data": {
      "text/html": [
       "<div>\n",
       "<style scoped>\n",
       "    .dataframe tbody tr th:only-of-type {\n",
       "        vertical-align: middle;\n",
       "    }\n",
       "\n",
       "    .dataframe tbody tr th {\n",
       "        vertical-align: top;\n",
       "    }\n",
       "\n",
       "    .dataframe thead th {\n",
       "        text-align: right;\n",
       "    }\n",
       "</style>\n",
       "<table border=\"1\" class=\"dataframe\">\n",
       "  <thead>\n",
       "    <tr style=\"text-align: right;\">\n",
       "      <th></th>\n",
       "      <th>cc_cons</th>\n",
       "      <th>cc_cons_apr</th>\n",
       "      <th>dc_cons_apr</th>\n",
       "      <th>cc_cons_may</th>\n",
       "      <th>dc_cons_may</th>\n",
       "      <th>cc_cons_jun</th>\n",
       "      <th>dc_cons_jun</th>\n",
       "      <th>cc_count_apr</th>\n",
       "      <th>cc_count_may</th>\n",
       "      <th>cc_count_jun</th>\n",
       "      <th>...</th>\n",
       "      <th>investment_2</th>\n",
       "      <th>investment_3</th>\n",
       "      <th>investment_4</th>\n",
       "      <th>credit_count_apr</th>\n",
       "      <th>credit_count_may</th>\n",
       "      <th>debit_count_may</th>\n",
       "      <th>credit_count_jun</th>\n",
       "      <th>debit_count_jun</th>\n",
       "      <th>emi_active</th>\n",
       "      <th>NetBanking_Flag</th>\n",
       "    </tr>\n",
       "  </thead>\n",
       "  <tbody>\n",
       "    <tr>\n",
       "      <th>0</th>\n",
       "      <td>0.345225</td>\n",
       "      <td>0.371264</td>\n",
       "      <td>0.091937</td>\n",
       "      <td>0.276546</td>\n",
       "      <td>0.333441</td>\n",
       "      <td>0.322337</td>\n",
       "      <td>0.286439</td>\n",
       "      <td>0.016020</td>\n",
       "      <td>0.037669</td>\n",
       "      <td>0.027394</td>\n",
       "      <td>...</td>\n",
       "      <td>0.136756</td>\n",
       "      <td>0.117395</td>\n",
       "      <td>0.241894</td>\n",
       "      <td>0.023105</td>\n",
       "      <td>0.016020</td>\n",
       "      <td>0.043485</td>\n",
       "      <td>0.016020</td>\n",
       "      <td>0.051124</td>\n",
       "      <td>0.150979</td>\n",
       "      <td>0.000000</td>\n",
       "    </tr>\n",
       "    <tr>\n",
       "      <th>1</th>\n",
       "      <td>0.301503</td>\n",
       "      <td>0.370921</td>\n",
       "      <td>0.137552</td>\n",
       "      <td>0.381888</td>\n",
       "      <td>0.091785</td>\n",
       "      <td>0.224807</td>\n",
       "      <td>0.133595</td>\n",
       "      <td>0.013915</td>\n",
       "      <td>0.026618</td>\n",
       "      <td>0.032718</td>\n",
       "      <td>...</td>\n",
       "      <td>0.774857</td>\n",
       "      <td>0.624786</td>\n",
       "      <td>0.159284</td>\n",
       "      <td>0.045945</td>\n",
       "      <td>0.017531</td>\n",
       "      <td>0.059453</td>\n",
       "      <td>0.038390</td>\n",
       "      <td>0.055368</td>\n",
       "      <td>0.327546</td>\n",
       "      <td>0.000000</td>\n",
       "    </tr>\n",
       "    <tr>\n",
       "      <th>2</th>\n",
       "      <td>0.305984</td>\n",
       "      <td>0.216217</td>\n",
       "      <td>0.169253</td>\n",
       "      <td>0.151782</td>\n",
       "      <td>0.191299</td>\n",
       "      <td>0.349361</td>\n",
       "      <td>0.209528</td>\n",
       "      <td>0.042458</td>\n",
       "      <td>0.038476</td>\n",
       "      <td>0.056624</td>\n",
       "      <td>...</td>\n",
       "      <td>0.942253</td>\n",
       "      <td>0.356822</td>\n",
       "      <td>0.188032</td>\n",
       "      <td>0.025209</td>\n",
       "      <td>0.015269</td>\n",
       "      <td>0.052651</td>\n",
       "      <td>0.023183</td>\n",
       "      <td>0.012119</td>\n",
       "      <td>0.334464</td>\n",
       "      <td>0.012119</td>\n",
       "    </tr>\n",
       "    <tr>\n",
       "      <th>3</th>\n",
       "      <td>0.275610</td>\n",
       "      <td>0.435896</td>\n",
       "      <td>0.149740</td>\n",
       "      <td>0.324765</td>\n",
       "      <td>0.291710</td>\n",
       "      <td>0.362398</td>\n",
       "      <td>0.333462</td>\n",
       "      <td>0.052411</td>\n",
       "      <td>0.013953</td>\n",
       "      <td>0.051403</td>\n",
       "      <td>...</td>\n",
       "      <td>0.846604</td>\n",
       "      <td>0.508838</td>\n",
       "      <td>-0.233373</td>\n",
       "      <td>0.043355</td>\n",
       "      <td>0.039680</td>\n",
       "      <td>0.046909</td>\n",
       "      <td>0.038495</td>\n",
       "      <td>0.060864</td>\n",
       "      <td>0.212738</td>\n",
       "      <td>0.013953</td>\n",
       "    </tr>\n",
       "    <tr>\n",
       "      <th>4</th>\n",
       "      <td>0.421118</td>\n",
       "      <td>0.240291</td>\n",
       "      <td>0.234384</td>\n",
       "      <td>0.201132</td>\n",
       "      <td>0.153477</td>\n",
       "      <td>0.158137</td>\n",
       "      <td>0.233511</td>\n",
       "      <td>0.049989</td>\n",
       "      <td>0.044417</td>\n",
       "      <td>0.053472</td>\n",
       "      <td>...</td>\n",
       "      <td>0.895376</td>\n",
       "      <td>0.592968</td>\n",
       "      <td>0.234497</td>\n",
       "      <td>0.040640</td>\n",
       "      <td>0.035502</td>\n",
       "      <td>0.045343</td>\n",
       "      <td>0.024616</td>\n",
       "      <td>0.039075</td>\n",
       "      <td>0.287762</td>\n",
       "      <td>0.012308</td>\n",
       "    </tr>\n",
       "    <tr>\n",
       "      <th>...</th>\n",
       "      <td>...</td>\n",
       "      <td>...</td>\n",
       "      <td>...</td>\n",
       "      <td>...</td>\n",
       "      <td>...</td>\n",
       "      <td>...</td>\n",
       "      <td>...</td>\n",
       "      <td>...</td>\n",
       "      <td>...</td>\n",
       "      <td>...</td>\n",
       "      <td>...</td>\n",
       "      <td>...</td>\n",
       "      <td>...</td>\n",
       "      <td>...</td>\n",
       "      <td>...</td>\n",
       "      <td>...</td>\n",
       "      <td>...</td>\n",
       "      <td>...</td>\n",
       "      <td>...</td>\n",
       "      <td>...</td>\n",
       "      <td>...</td>\n",
       "    </tr>\n",
       "    <tr>\n",
       "      <th>14992</th>\n",
       "      <td>0.193220</td>\n",
       "      <td>0.260474</td>\n",
       "      <td>0.127291</td>\n",
       "      <td>0.230659</td>\n",
       "      <td>0.187138</td>\n",
       "      <td>0.223898</td>\n",
       "      <td>0.257644</td>\n",
       "      <td>0.017186</td>\n",
       "      <td>0.039347</td>\n",
       "      <td>0.017186</td>\n",
       "      <td>...</td>\n",
       "      <td>0.343729</td>\n",
       "      <td>0.301614</td>\n",
       "      <td>0.118244</td>\n",
       "      <td>0.015014</td>\n",
       "      <td>0.011916</td>\n",
       "      <td>0.023833</td>\n",
       "      <td>0.028720</td>\n",
       "      <td>0.023833</td>\n",
       "      <td>0.328872</td>\n",
       "      <td>0.011916</td>\n",
       "    </tr>\n",
       "    <tr>\n",
       "      <th>14993</th>\n",
       "      <td>0.270933</td>\n",
       "      <td>0.377854</td>\n",
       "      <td>0.224963</td>\n",
       "      <td>0.306962</td>\n",
       "      <td>0.239483</td>\n",
       "      <td>0.158664</td>\n",
       "      <td>0.114952</td>\n",
       "      <td>0.012175</td>\n",
       "      <td>0.039443</td>\n",
       "      <td>0.019327</td>\n",
       "      <td>...</td>\n",
       "      <td>0.736113</td>\n",
       "      <td>0.281331</td>\n",
       "      <td>-0.224646</td>\n",
       "      <td>0.015340</td>\n",
       "      <td>0.019327</td>\n",
       "      <td>0.033049</td>\n",
       "      <td>0.027078</td>\n",
       "      <td>0.031908</td>\n",
       "      <td>0.204839</td>\n",
       "      <td>0.012175</td>\n",
       "    </tr>\n",
       "    <tr>\n",
       "      <th>14994</th>\n",
       "      <td>0.463893</td>\n",
       "      <td>0.217861</td>\n",
       "      <td>0.133224</td>\n",
       "      <td>0.364057</td>\n",
       "      <td>0.107179</td>\n",
       "      <td>0.426333</td>\n",
       "      <td>0.164980</td>\n",
       "      <td>0.052178</td>\n",
       "      <td>0.038557</td>\n",
       "      <td>0.053371</td>\n",
       "      <td>...</td>\n",
       "      <td>0.857510</td>\n",
       "      <td>0.396442</td>\n",
       "      <td>0.294131</td>\n",
       "      <td>0.013558</td>\n",
       "      <td>0.039108</td>\n",
       "      <td>0.023184</td>\n",
       "      <td>0.021522</td>\n",
       "      <td>0.056664</td>\n",
       "      <td>0.192839</td>\n",
       "      <td>0.013558</td>\n",
       "    </tr>\n",
       "    <tr>\n",
       "      <th>14995</th>\n",
       "      <td>0.347825</td>\n",
       "      <td>0.409136</td>\n",
       "      <td>0.218992</td>\n",
       "      <td>0.394037</td>\n",
       "      <td>0.297527</td>\n",
       "      <td>0.311416</td>\n",
       "      <td>0.113834</td>\n",
       "      <td>0.021704</td>\n",
       "      <td>0.051403</td>\n",
       "      <td>0.040054</td>\n",
       "      <td>...</td>\n",
       "      <td>0.831744</td>\n",
       "      <td>0.179726</td>\n",
       "      <td>-0.189562</td>\n",
       "      <td>0.034858</td>\n",
       "      <td>0.016363</td>\n",
       "      <td>0.033175</td>\n",
       "      <td>0.016363</td>\n",
       "      <td>0.048887</td>\n",
       "      <td>0.266822</td>\n",
       "      <td>0.011346</td>\n",
       "    </tr>\n",
       "    <tr>\n",
       "      <th>14996</th>\n",
       "      <td>0.348137</td>\n",
       "      <td>0.267536</td>\n",
       "      <td>0.092697</td>\n",
       "      <td>0.247781</td>\n",
       "      <td>0.259134</td>\n",
       "      <td>0.432179</td>\n",
       "      <td>0.088057</td>\n",
       "      <td>0.041735</td>\n",
       "      <td>0.056912</td>\n",
       "      <td>0.029611</td>\n",
       "      <td>...</td>\n",
       "      <td>0.387433</td>\n",
       "      <td>0.243193</td>\n",
       "      <td>-0.249724</td>\n",
       "      <td>0.023502</td>\n",
       "      <td>0.017316</td>\n",
       "      <td>0.059711</td>\n",
       "      <td>0.049246</td>\n",
       "      <td>0.050633</td>\n",
       "      <td>0.160369</td>\n",
       "      <td>0.000000</td>\n",
       "    </tr>\n",
       "  </tbody>\n",
       "</table>\n",
       "<p>14997 rows × 24 columns</p>\n",
       "</div>"
      ],
      "text/plain": [
       "        cc_cons  cc_cons_apr  dc_cons_apr  cc_cons_may  dc_cons_may  \\\n",
       "0      0.345225     0.371264     0.091937     0.276546     0.333441   \n",
       "1      0.301503     0.370921     0.137552     0.381888     0.091785   \n",
       "2      0.305984     0.216217     0.169253     0.151782     0.191299   \n",
       "3      0.275610     0.435896     0.149740     0.324765     0.291710   \n",
       "4      0.421118     0.240291     0.234384     0.201132     0.153477   \n",
       "...         ...          ...          ...          ...          ...   \n",
       "14992  0.193220     0.260474     0.127291     0.230659     0.187138   \n",
       "14993  0.270933     0.377854     0.224963     0.306962     0.239483   \n",
       "14994  0.463893     0.217861     0.133224     0.364057     0.107179   \n",
       "14995  0.347825     0.409136     0.218992     0.394037     0.297527   \n",
       "14996  0.348137     0.267536     0.092697     0.247781     0.259134   \n",
       "\n",
       "       cc_cons_jun  dc_cons_jun  cc_count_apr  cc_count_may  cc_count_jun  \\\n",
       "0         0.322337     0.286439      0.016020      0.037669      0.027394   \n",
       "1         0.224807     0.133595      0.013915      0.026618      0.032718   \n",
       "2         0.349361     0.209528      0.042458      0.038476      0.056624   \n",
       "3         0.362398     0.333462      0.052411      0.013953      0.051403   \n",
       "4         0.158137     0.233511      0.049989      0.044417      0.053472   \n",
       "...            ...          ...           ...           ...           ...   \n",
       "14992     0.223898     0.257644      0.017186      0.039347      0.017186   \n",
       "14993     0.158664     0.114952      0.012175      0.039443      0.019327   \n",
       "14994     0.426333     0.164980      0.052178      0.038557      0.053371   \n",
       "14995     0.311416     0.113834      0.021704      0.051403      0.040054   \n",
       "14996     0.432179     0.088057      0.041735      0.056912      0.029611   \n",
       "\n",
       "       ...  investment_2  investment_3  investment_4  credit_count_apr  \\\n",
       "0      ...      0.136756      0.117395      0.241894          0.023105   \n",
       "1      ...      0.774857      0.624786      0.159284          0.045945   \n",
       "2      ...      0.942253      0.356822      0.188032          0.025209   \n",
       "3      ...      0.846604      0.508838     -0.233373          0.043355   \n",
       "4      ...      0.895376      0.592968      0.234497          0.040640   \n",
       "...    ...           ...           ...           ...               ...   \n",
       "14992  ...      0.343729      0.301614      0.118244          0.015014   \n",
       "14993  ...      0.736113      0.281331     -0.224646          0.015340   \n",
       "14994  ...      0.857510      0.396442      0.294131          0.013558   \n",
       "14995  ...      0.831744      0.179726     -0.189562          0.034858   \n",
       "14996  ...      0.387433      0.243193     -0.249724          0.023502   \n",
       "\n",
       "       credit_count_may  debit_count_may  credit_count_jun  debit_count_jun  \\\n",
       "0              0.016020         0.043485          0.016020         0.051124   \n",
       "1              0.017531         0.059453          0.038390         0.055368   \n",
       "2              0.015269         0.052651          0.023183         0.012119   \n",
       "3              0.039680         0.046909          0.038495         0.060864   \n",
       "4              0.035502         0.045343          0.024616         0.039075   \n",
       "...                 ...              ...               ...              ...   \n",
       "14992          0.011916         0.023833          0.028720         0.023833   \n",
       "14993          0.019327         0.033049          0.027078         0.031908   \n",
       "14994          0.039108         0.023184          0.021522         0.056664   \n",
       "14995          0.016363         0.033175          0.016363         0.048887   \n",
       "14996          0.017316         0.059711          0.049246         0.050633   \n",
       "\n",
       "       emi_active  NetBanking_Flag  \n",
       "0        0.150979         0.000000  \n",
       "1        0.327546         0.000000  \n",
       "2        0.334464         0.012119  \n",
       "3        0.212738         0.013953  \n",
       "4        0.287762         0.012308  \n",
       "...           ...              ...  \n",
       "14992    0.328872         0.011916  \n",
       "14993    0.204839         0.012175  \n",
       "14994    0.192839         0.013558  \n",
       "14995    0.266822         0.011346  \n",
       "14996    0.160369         0.000000  \n",
       "\n",
       "[14997 rows x 24 columns]"
      ]
     },
     "execution_count": 85,
     "metadata": {},
     "output_type": "execute_result"
    }
   ],
   "source": [
    "x"
   ]
  },
  {
   "cell_type": "markdown",
   "id": "a5382630",
   "metadata": {},
   "source": [
    "# Building the Model\n"
   ]
  },
  {
   "cell_type": "code",
   "execution_count": null,
   "id": "981aef3f",
   "metadata": {},
   "outputs": [],
   "source": []
  },
  {
   "cell_type": "code",
   "execution_count": null,
   "id": "29307635",
   "metadata": {},
   "outputs": [],
   "source": []
  },
  {
   "cell_type": "code",
   "execution_count": 93,
   "id": "90834bf6",
   "metadata": {},
   "outputs": [],
   "source": [
    "XX= x[['NetBanking_Flag', 'cc_cons_apr', 'cc_cons_jun', 'cc_cons_may',\n",
    "       'cc_count_jun', 'cc_count_may', 'credit_count_apr', 'credit_count_jun',\n",
    "       'credit_count_may', 'dc_cons_apr', 'dc_cons_jun', 'dc_cons_may',\n",
    "       'dc_count_apr', 'dc_count_jun', 'dc_count_may', 'debit_count_jun',\n",
    "       'debit_count_may', 'emi_active', 'investment_1', 'investment_2']]  #the top 3 features\n",
    "YY= x[['cc_cons']]  #the target output\n",
    "#Second, split the dataset into train and test:\n",
    "XX_train,XX_test,YY_train,YY_test=train_test_split(XX,YY,test_size=0.4,random_state=50)"
   ]
  },
  {
   "cell_type": "code",
   "execution_count": null,
   "id": "907a5a27",
   "metadata": {},
   "outputs": [],
   "source": []
  },
  {
   "cell_type": "code",
   "execution_count": 94,
   "id": "f54f0c52",
   "metadata": {},
   "outputs": [],
   "source": [
    "#train accuracy metrics\n",
    "#Mean Squared Error (MSE).\n",
    "#Root Mean Squared Error (RMSE).\n",
    "#Mean Absolute Error (MAE)"
   ]
  },
  {
   "cell_type": "code",
   "execution_count": 95,
   "id": "03b82ddc",
   "metadata": {},
   "outputs": [
    {
     "name": "stdout",
     "output_type": "stream",
     "text": [
      "regression score(r2):  0.09871637522972931\n",
      "Root Mean Squared Error (RMSE):  0.10005830518250367\n",
      "Mean Squared Error (MSE):  0.010011664435995039\n",
      "Mean Absolute Error (MAE):  0.07960768745961093\n"
     ]
    }
   ],
   "source": [
    "from sklearn.linear_model import LinearRegression\n",
    "from sklearn import metrics\n",
    "lreg= LinearRegression()\n",
    "lreg=lreg.fit(XX_train,YY_train)\n",
    "\n",
    "#train accuracy metrics:\n",
    "YY_pred=lreg.predict(XX_train)\n",
    "\n",
    "print('regression score(r2): ',metrics.r2_score(YY_train, YY_pred))\n",
    "print('Root Mean Squared Error (RMSE): ',np.sqrt(metrics. mean_squared_error(YY_train, YY_pred)))\n",
    "print('Mean Squared Error (MSE): ',metrics.mean_squared_error(YY_train, YY_pred))\n",
    "print('Mean Absolute Error (MAE): ',metrics.mean_absolute_error(YY_train, YY_pred))"
   ]
  },
  {
   "cell_type": "code",
   "execution_count": 96,
   "id": "a3ea8bca",
   "metadata": {},
   "outputs": [
    {
     "name": "stdout",
     "output_type": "stream",
     "text": [
      "regression score(r2):  0.09392186126564905\n",
      "Root Mean Squared Error (RMSE):  0.10055186257485788\n",
      "Mean Squared Error (MSE):  0.010110677067273104\n",
      "Mean Absolute Error (MAE):  0.0798301537940851\n"
     ]
    }
   ],
   "source": [
    "#testing accuracy metrics\n",
    "YY_pred=lreg.predict(XX_test)\n",
    "from sklearn import metrics\n",
    "print('regression score(r2): ',metrics.r2_score(YY_test, YY_pred))\n",
    "print('Root Mean Squared Error (RMSE): ',np.sqrt(metrics. mean_squared_error(YY_test, YY_pred)))\n",
    "print('Mean Squared Error (MSE): ',metrics.mean_squared_error(YY_test, YY_pred))\n",
    "print('Mean Absolute Error (MAE): ',metrics.mean_absolute_error(YY_test, YY_pred))"
   ]
  },
  {
   "cell_type": "code",
   "execution_count": null,
   "id": "f9b7b940",
   "metadata": {},
   "outputs": [],
   "source": []
  },
  {
   "cell_type": "code",
   "execution_count": null,
   "id": "85dd7e21",
   "metadata": {},
   "outputs": [],
   "source": []
  },
  {
   "cell_type": "code",
   "execution_count": 97,
   "id": "cc5ce595",
   "metadata": {},
   "outputs": [],
   "source": [
    "from sklearn.model_selection import GridSearchCV\n",
    "from sklearn.tree import DecisionTreeRegressor"
   ]
  },
  {
   "cell_type": "code",
   "execution_count": 98,
   "id": "ca1a48dd",
   "metadata": {},
   "outputs": [
    {
     "ename": "ValueError",
     "evalue": "Parameter grid for parameter (random_state) needs to be a list or numpy array, but got (<class 'NoneType'>). Single values need to be wrapped in a list with one element.",
     "output_type": "error",
     "traceback": [
      "\u001b[1;31m---------------------------------------------------------------------------\u001b[0m",
      "\u001b[1;31mValueError\u001b[0m                                Traceback (most recent call last)",
      "\u001b[1;32m~\\AppData\\Local\\Temp\\ipykernel_8116\\1733482532.py\u001b[0m in \u001b[0;36m<module>\u001b[1;34m\u001b[0m\n\u001b[0;32m     23\u001b[0m     \u001b[1;34m'return_train_score'\u001b[0m\u001b[1;33m:\u001b[0m\u001b[1;33m[\u001b[0m\u001b[1;32mTrue\u001b[0m\u001b[1;33m]\u001b[0m\u001b[1;33m,\u001b[0m\u001b[1;33m\u001b[0m\u001b[1;33m\u001b[0m\u001b[0m\n\u001b[0;32m     24\u001b[0m               }\n\u001b[1;32m---> 25\u001b[1;33m \u001b[0mgrid\u001b[0m\u001b[1;33m=\u001b[0m\u001b[0mGridSearchCV\u001b[0m\u001b[1;33m(\u001b[0m\u001b[0mestimator\u001b[0m\u001b[1;33m,\u001b[0m\u001b[0mes_param_grid\u001b[0m\u001b[1;33m,\u001b[0m\u001b[0mcv\u001b[0m\u001b[1;33m=\u001b[0m\u001b[1;34m'cv'\u001b[0m\u001b[1;33m,\u001b[0m\u001b[0mscoring\u001b[0m\u001b[1;33m=\u001b[0m\u001b[1;34m'r2'\u001b[0m\u001b[1;33m)\u001b[0m\u001b[1;33m\u001b[0m\u001b[1;33m\u001b[0m\u001b[0m\n\u001b[0m\u001b[0;32m     26\u001b[0m \u001b[0mgrid\u001b[0m\u001b[1;33m.\u001b[0m\u001b[0mfit\u001b[0m\u001b[1;33m(\u001b[0m\u001b[0mXX_train\u001b[0m\u001b[1;33m,\u001b[0m \u001b[0myy_train\u001b[0m\u001b[1;33m)\u001b[0m\u001b[1;33m\u001b[0m\u001b[1;33m\u001b[0m\u001b[0m\n",
      "\u001b[1;32m~\\anaconda3\\lib\\site-packages\\sklearn\\model_selection\\_search.py\u001b[0m in \u001b[0;36m__init__\u001b[1;34m(self, estimator, param_grid, scoring, n_jobs, refit, cv, verbose, pre_dispatch, error_score, return_train_score)\u001b[0m\n\u001b[0;32m   1386\u001b[0m         )\n\u001b[0;32m   1387\u001b[0m         \u001b[0mself\u001b[0m\u001b[1;33m.\u001b[0m\u001b[0mparam_grid\u001b[0m \u001b[1;33m=\u001b[0m \u001b[0mparam_grid\u001b[0m\u001b[1;33m\u001b[0m\u001b[1;33m\u001b[0m\u001b[0m\n\u001b[1;32m-> 1388\u001b[1;33m         \u001b[0m_check_param_grid\u001b[0m\u001b[1;33m(\u001b[0m\u001b[0mparam_grid\u001b[0m\u001b[1;33m)\u001b[0m\u001b[1;33m\u001b[0m\u001b[1;33m\u001b[0m\u001b[0m\n\u001b[0m\u001b[0;32m   1389\u001b[0m \u001b[1;33m\u001b[0m\u001b[0m\n\u001b[0;32m   1390\u001b[0m     \u001b[1;32mdef\u001b[0m \u001b[0m_run_search\u001b[0m\u001b[1;33m(\u001b[0m\u001b[0mself\u001b[0m\u001b[1;33m,\u001b[0m \u001b[0mevaluate_candidates\u001b[0m\u001b[1;33m)\u001b[0m\u001b[1;33m:\u001b[0m\u001b[1;33m\u001b[0m\u001b[1;33m\u001b[0m\u001b[0m\n",
      "\u001b[1;32m~\\anaconda3\\lib\\site-packages\\sklearn\\model_selection\\_search.py\u001b[0m in \u001b[0;36m_check_param_grid\u001b[1;34m(param_grid)\u001b[0m\n\u001b[0;32m    332\u001b[0m \u001b[1;33m\u001b[0m\u001b[0m\n\u001b[0;32m    333\u001b[0m             \u001b[1;32mif\u001b[0m \u001b[0misinstance\u001b[0m\u001b[1;33m(\u001b[0m\u001b[0mv\u001b[0m\u001b[1;33m,\u001b[0m \u001b[0mstr\u001b[0m\u001b[1;33m)\u001b[0m \u001b[1;32mor\u001b[0m \u001b[1;32mnot\u001b[0m \u001b[0misinstance\u001b[0m\u001b[1;33m(\u001b[0m\u001b[0mv\u001b[0m\u001b[1;33m,\u001b[0m \u001b[1;33m(\u001b[0m\u001b[0mnp\u001b[0m\u001b[1;33m.\u001b[0m\u001b[0mndarray\u001b[0m\u001b[1;33m,\u001b[0m \u001b[0mSequence\u001b[0m\u001b[1;33m)\u001b[0m\u001b[1;33m)\u001b[0m\u001b[1;33m:\u001b[0m\u001b[1;33m\u001b[0m\u001b[1;33m\u001b[0m\u001b[0m\n\u001b[1;32m--> 334\u001b[1;33m                 raise ValueError(\n\u001b[0m\u001b[0;32m    335\u001b[0m                     \u001b[1;34m\"Parameter grid for parameter ({0}) needs to\"\u001b[0m\u001b[1;33m\u001b[0m\u001b[1;33m\u001b[0m\u001b[0m\n\u001b[0;32m    336\u001b[0m                     \u001b[1;34m\" be a list or numpy array, but got ({1}).\"\u001b[0m\u001b[1;33m\u001b[0m\u001b[1;33m\u001b[0m\u001b[0m\n",
      "\u001b[1;31mValueError\u001b[0m: Parameter grid for parameter (random_state) needs to be a list or numpy array, but got (<class 'NoneType'>). Single values need to be wrapped in a list with one element."
     ]
    }
   ],
   "source": [
    "estimator=DecisionTreeRegressor()\n",
    "es_param_grid={\n",
    "    'criterion':[\"squared_error\", \"friedman_mse\", \"absolute_error\", \"poisson\",'mae','mse'],\n",
    "    'splitter':['best'],\n",
    "    'max_depth':[2,3,4],\n",
    "    'min_samples_split':[1,2,3,4],\n",
    "    'min_samples_leaf':[1,2,3],\n",
    "    'min_weight_fraction_leaf':[0.0],\n",
    "    'max_features':[\"auto\", \"sqrt\", \"log2\"],\n",
    "    'random_state':None,\n",
    "    'max_leaf_nodes':None,\n",
    "    'min_impurity_decrease':[0.0],\n",
    "    'ccp_alpha':[0.0],\n",
    "    'n_estimators': [100, 80, 60, 55, 51, 45]\n",
    "             }\n",
    "gs_param_grid={'scoring':['r2'],\n",
    "    'n_jobs':-1,\n",
    "    'refit':True,\n",
    "    'cv':[5,6,7,8,9,10],\n",
    "    'verbose':[3],\n",
    "    'pre_dispatch':['2*n_jobs'],\n",
    "    'error_score':['raise'],\n",
    "    'return_train_score':[True],\n",
    "              }\n",
    "grid=GridSearchCV(estimator,es_param_grid,cv='cv',scoring='r2')\n",
    "grid.fit(XX_train, yy_train)"
   ]
  },
  {
   "cell_type": "code",
   "execution_count": null,
   "id": "272e7b59",
   "metadata": {},
   "outputs": [],
   "source": []
  },
  {
   "cell_type": "code",
   "execution_count": 99,
   "id": "dab54e58",
   "metadata": {},
   "outputs": [
    {
     "name": "stderr",
     "output_type": "stream",
     "text": [
      "C:\\Users\\Shubham Jadhav\\anaconda3\\lib\\site-packages\\sklearn\\model_selection\\_validation.py:372: FitFailedWarning: \n",
      "360 fits failed out of a total of 1440.\n",
      "The score on these train-test partitions for these parameters will be set to nan.\n",
      "If these failures are not expected, you can try to debug them by setting error_score='raise'.\n",
      "\n",
      "Below are more details about the failures:\n",
      "--------------------------------------------------------------------------------\n",
      "360 fits failed with the following error:\n",
      "Traceback (most recent call last):\n",
      "  File \"C:\\Users\\Shubham Jadhav\\anaconda3\\lib\\site-packages\\sklearn\\model_selection\\_validation.py\", line 680, in _fit_and_score\n",
      "    estimator.fit(X_train, y_train, **fit_params)\n",
      "  File \"C:\\Users\\Shubham Jadhav\\anaconda3\\lib\\site-packages\\sklearn\\tree\\_classes.py\", line 1315, in fit\n",
      "    super().fit(\n",
      "  File \"C:\\Users\\Shubham Jadhav\\anaconda3\\lib\\site-packages\\sklearn\\tree\\_classes.py\", line 250, in fit\n",
      "    raise ValueError(\n",
      "ValueError: min_samples_split must be an integer greater than 1 or a float in (0.0, 1.0]; got the integer 1\n",
      "\n",
      "  warnings.warn(some_fits_failed_message, FitFailedWarning)\n",
      "C:\\Users\\Shubham Jadhav\\anaconda3\\lib\\site-packages\\sklearn\\model_selection\\_search.py:969: UserWarning: One or more of the test scores are non-finite: [        nan  0.06864855  0.06864855  0.06864855         nan  0.06864855\n",
      "  0.06864855  0.06864855         nan  0.06864855  0.06864855  0.06864855\n",
      "         nan  0.07971952  0.07971952  0.07971952         nan  0.07971952\n",
      "  0.07971952  0.07971952         nan  0.07971952  0.07971952  0.07971952\n",
      "         nan  0.07979055  0.07979055  0.07979055         nan  0.07989652\n",
      "  0.07989652  0.07989652         nan  0.08219226  0.08219226  0.08219226\n",
      "         nan  0.06864855  0.06864855  0.06864855         nan  0.06864855\n",
      "  0.06864855  0.06864855         nan  0.06864855  0.06864855  0.06864855\n",
      "         nan  0.07971952  0.07971952  0.07971952         nan  0.07971952\n",
      "  0.07971952  0.07971952         nan  0.07971952  0.07971952  0.07971952\n",
      "         nan  0.07979055  0.07979055  0.07979055         nan  0.07989652\n",
      "  0.07989652  0.07989652         nan  0.08219226  0.08219226  0.08219226\n",
      "         nan  0.0694446   0.0694446   0.0694446          nan  0.0694446\n",
      "  0.0694446   0.0694446          nan  0.0694446   0.0694446   0.0694446\n",
      "         nan  0.08421182  0.08421182  0.08421182         nan  0.08421182\n",
      "  0.08421182  0.08421182         nan  0.08421182  0.08421182  0.08421182\n",
      "         nan  0.07467489  0.07467489  0.07467489         nan  0.07460016\n",
      "  0.07460016  0.07460016         nan  0.07431205  0.07431205  0.07431205\n",
      "         nan -0.00215251 -0.00215251 -0.00215251         nan -0.00066287\n",
      " -0.00066287 -0.00066287         nan -0.00137384 -0.00137384 -0.00137384\n",
      "         nan -0.00196866 -0.00196866 -0.00196866         nan -0.00091329\n",
      " -0.00091329 -0.00091329         nan -0.00164029 -0.00164029 -0.00164029\n",
      "         nan -0.00196459 -0.00196811 -0.00196811         nan -0.00091319\n",
      " -0.00091319 -0.00091319         nan -0.00135836 -0.00135836 -0.00135836]\n",
      "  warnings.warn(\n"
     ]
    },
    {
     "name": "stdout",
     "output_type": "stream",
     "text": [
      "{'criterion': 'absolute_error', 'max_depth': 3, 'min_samples_leaf': 1, 'min_samples_split': 2}\n"
     ]
    }
   ],
   "source": [
    "estimator=DecisionTreeRegressor()\n",
    "es_param_grid={\n",
    "    'criterion':[\"squared_error\", \"friedman_mse\", \"absolute_error\", \"poisson\"],\n",
    "    'max_depth':[2,3,4],\n",
    "    'min_samples_split':[1,2,3,4],\n",
    "    'min_samples_leaf':[1,2,3],\n",
    "   \n",
    "    #'max_features':[\"auto\", \"sqrt\", \"log2\"],\n",
    "  \n",
    "    #'n_estimators': [100, 80, 60, 55, 51, 45]\n",
    "             }\n",
    "gs_param_grid={'scoring':['r2'],\n",
    "    'n_jobs':-1,\n",
    "    'refit':True,\n",
    "    'cv':[5,6,7,8,9,10],\n",
    "    'verbose':[3],\n",
    "    'pre_dispatch':['2*n_jobs'],\n",
    "    'error_score':['raise'],\n",
    "    'return_train_score':[True],\n",
    "              }\n",
    "grid=GridSearchCV(estimator,es_param_grid,cv=10,scoring='r2',n_jobs=-1)\n",
    "grid.fit(XX_train, YY_train)\n",
    "print(grid.best_params_)"
   ]
  },
  {
   "cell_type": "code",
   "execution_count": 100,
   "id": "7a9ffd1c",
   "metadata": {},
   "outputs": [
    {
     "name": "stderr",
     "output_type": "stream",
     "text": [
      "C:\\Users\\Shubham Jadhav\\anaconda3\\lib\\site-packages\\sklearn\\model_selection\\_validation.py:372: FitFailedWarning: \n",
      "360 fits failed out of a total of 1440.\n",
      "The score on these train-test partitions for these parameters will be set to nan.\n",
      "If these failures are not expected, you can try to debug them by setting error_score='raise'.\n",
      "\n",
      "Below are more details about the failures:\n",
      "--------------------------------------------------------------------------------\n",
      "360 fits failed with the following error:\n",
      "Traceback (most recent call last):\n",
      "  File \"C:\\Users\\Shubham Jadhav\\anaconda3\\lib\\site-packages\\sklearn\\model_selection\\_validation.py\", line 680, in _fit_and_score\n",
      "    estimator.fit(X_train, y_train, **fit_params)\n",
      "  File \"C:\\Users\\Shubham Jadhav\\anaconda3\\lib\\site-packages\\sklearn\\tree\\_classes.py\", line 1315, in fit\n",
      "    super().fit(\n",
      "  File \"C:\\Users\\Shubham Jadhav\\anaconda3\\lib\\site-packages\\sklearn\\tree\\_classes.py\", line 250, in fit\n",
      "    raise ValueError(\n",
      "ValueError: min_samples_split must be an integer greater than 1 or a float in (0.0, 1.0]; got the integer 1\n",
      "\n",
      "  warnings.warn(some_fits_failed_message, FitFailedWarning)\n",
      "C:\\Users\\Shubham Jadhav\\anaconda3\\lib\\site-packages\\sklearn\\model_selection\\_search.py:969: UserWarning: One or more of the test scores are non-finite: [        nan  0.06864855  0.06864855  0.06864855         nan  0.06864855\n",
      "  0.06864855  0.06864855         nan  0.06864855  0.06864855  0.06864855\n",
      "         nan  0.07971952  0.07971952  0.07971952         nan  0.07971952\n",
      "  0.07971952  0.07971952         nan  0.07971952  0.07971952  0.07971952\n",
      "         nan  0.07979055  0.07979055  0.07979055         nan  0.07989652\n",
      "  0.07989652  0.07989652         nan  0.08219226  0.08219226  0.08219226\n",
      "         nan  0.06864855  0.06864855  0.06864855         nan  0.06864855\n",
      "  0.06864855  0.06864855         nan  0.06864855  0.06864855  0.06864855\n",
      "         nan  0.07971952  0.07971952  0.07971952         nan  0.07971952\n",
      "  0.07971952  0.07971952         nan  0.07971952  0.07971952  0.07971952\n",
      "         nan  0.07979055  0.07979055  0.07979055         nan  0.07989652\n",
      "  0.07989652  0.07989652         nan  0.08219226  0.08219226  0.08219226\n",
      "         nan  0.0694446   0.0694446   0.0694446          nan  0.0694446\n",
      "  0.0694446   0.0694446          nan  0.0694446   0.0694446   0.0694446\n",
      "         nan  0.08421182  0.08421182  0.08421182         nan  0.08421182\n",
      "  0.08421182  0.08421182         nan  0.08421182  0.08421182  0.08421182\n",
      "         nan  0.07467489  0.07467489  0.07467489         nan  0.07460016\n",
      "  0.07460016  0.07460016         nan  0.07431205  0.07431205  0.07431205\n",
      "         nan -0.00215251 -0.00215251 -0.00215251         nan -0.00066287\n",
      " -0.00066287 -0.00066287         nan -0.00137384 -0.00137384 -0.00137384\n",
      "         nan -0.00196866 -0.00196866 -0.00196866         nan -0.00091329\n",
      " -0.00091329 -0.00091329         nan -0.00164029 -0.00164029 -0.00164029\n",
      "         nan -0.00197222 -0.00196811 -0.00196811         nan -0.00091319\n",
      " -0.00091319 -0.00091319         nan -0.00135836 -0.00135836 -0.00135836]\n",
      "  warnings.warn(\n"
     ]
    },
    {
     "name": "stdout",
     "output_type": "stream",
     "text": [
      "regression score(r2):  0.0991720509604862\n",
      "Root Mean Squared Error (RMSE):  0.10003300798167362\n",
      "Mean Squared Error (MSE):  0.01000660268586158\n",
      "Mean Absolute Error (MAE):  0.0793107075288997\n"
     ]
    }
   ],
   "source": [
    "lreg=grid.fit(XX_train,YY_train)\n",
    "\n",
    "#train accuracy metrics:\n",
    "YY_pred=lreg.predict(XX_train)\n",
    "\n",
    "print('regression score(r2): ',metrics.r2_score(YY_train, YY_pred))\n",
    "print('Root Mean Squared Error (RMSE): ',np.sqrt(metrics. mean_squared_error(YY_train, YY_pred)))\n",
    "print('Mean Squared Error (MSE): ',metrics.mean_squared_error(YY_train, YY_pred))\n",
    "print('Mean Absolute Error (MAE): ',metrics.mean_absolute_error(YY_train, YY_pred))"
   ]
  },
  {
   "cell_type": "code",
   "execution_count": null,
   "id": "2089f29c",
   "metadata": {},
   "outputs": [],
   "source": []
  },
  {
   "cell_type": "code",
   "execution_count": null,
   "id": "e4f4af40",
   "metadata": {},
   "outputs": [],
   "source": []
  },
  {
   "cell_type": "code",
   "execution_count": null,
   "id": "1b2ae7e4",
   "metadata": {},
   "outputs": [],
   "source": []
  },
  {
   "cell_type": "code",
   "execution_count": null,
   "id": "3ffbc4e2",
   "metadata": {},
   "outputs": [],
   "source": []
  },
  {
   "cell_type": "code",
   "execution_count": null,
   "id": "b1505016",
   "metadata": {},
   "outputs": [],
   "source": []
  },
  {
   "cell_type": "code",
   "execution_count": 101,
   "id": "894416f1",
   "metadata": {},
   "outputs": [
    {
     "ename": "NameError",
     "evalue": "name 'XGBRFRegressor' is not defined",
     "output_type": "error",
     "traceback": [
      "\u001b[1;31m---------------------------------------------------------------------------\u001b[0m",
      "\u001b[1;31mNameError\u001b[0m                                 Traceback (most recent call last)",
      "\u001b[1;32m~\\AppData\\Local\\Temp\\ipykernel_8116\\4076805787.py\u001b[0m in \u001b[0;36m<module>\u001b[1;34m\u001b[0m\n\u001b[0;32m      4\u001b[0m              }\n\u001b[0;32m      5\u001b[0m \u001b[1;33m\u001b[0m\u001b[0m\n\u001b[1;32m----> 6\u001b[1;33m \u001b[0mgrid\u001b[0m \u001b[1;33m=\u001b[0m \u001b[0mGridSearchCV\u001b[0m\u001b[1;33m(\u001b[0m\u001b[0mXGBRFRegressor\u001b[0m\u001b[1;33m(\u001b[0m\u001b[1;33m)\u001b[0m\u001b[1;33m,\u001b[0m \u001b[0mparam_grid\u001b[0m\u001b[1;33m,\u001b[0m \u001b[0mrefit\u001b[0m \u001b[1;33m=\u001b[0m \u001b[1;32mTrue\u001b[0m\u001b[1;33m,\u001b[0m \u001b[0mverbose\u001b[0m \u001b[1;33m=\u001b[0m \u001b[1;36m3\u001b[0m\u001b[1;33m,\u001b[0m \u001b[0mn_jobs\u001b[0m\u001b[1;33m=\u001b[0m\u001b[1;33m-\u001b[0m\u001b[1;36m1\u001b[0m\u001b[1;33m)\u001b[0m \u001b[1;31m#\u001b[0m\u001b[1;33m\u001b[0m\u001b[1;33m\u001b[0m\u001b[0m\n\u001b[0m\u001b[0;32m      7\u001b[0m \u001b[0mregr_trans\u001b[0m \u001b[1;33m=\u001b[0m \u001b[0mTransformedTargetRegressor\u001b[0m\u001b[1;33m(\u001b[0m\u001b[0mregressor\u001b[0m\u001b[1;33m=\u001b[0m\u001b[0mgrid\u001b[0m\u001b[1;33m,\u001b[0m \u001b[0mtransformer\u001b[0m\u001b[1;33m=\u001b[0m\u001b[0mQuantileTransformer\u001b[0m\u001b[1;33m(\u001b[0m\u001b[0moutput_distribution\u001b[0m\u001b[1;33m=\u001b[0m\u001b[1;34m'normal'\u001b[0m\u001b[1;33m)\u001b[0m\u001b[1;33m)\u001b[0m\u001b[1;33m\u001b[0m\u001b[1;33m\u001b[0m\u001b[0m\n",
      "\u001b[1;31mNameError\u001b[0m: name 'XGBRFRegressor' is not defined"
     ]
    }
   ],
   "source": [
    "param_grid = {'n_estimators': [100, 80, 60, 55, 51, 45],  \n",
    "              'max_depth': [7, 8],\n",
    "              'reg_lambda' :[0.26, 0.25, 0.2]\n",
    "             }\n",
    "                \n",
    "grid = GridSearchCV(XGBRFRegressor(), param_grid, refit = True, verbose = 3, n_jobs=-1) #\n",
    "regr_trans = TransformedTargetRegressor(regressor=grid, transformer=QuantileTransformer(output_distribution='normal'))\n"
   ]
  },
  {
   "cell_type": "code",
   "execution_count": 109,
   "id": "8c39e95f",
   "metadata": {},
   "outputs": [
    {
     "ename": "ValueError",
     "evalue": "Invalid parameter C for estimator LinearRegression(). Check the list of available parameters with `estimator.get_params().keys()`.",
     "output_type": "error",
     "traceback": [
      "\u001b[1;31m---------------------------------------------------------------------------\u001b[0m",
      "\u001b[1;31mValueError\u001b[0m                                Traceback (most recent call last)",
      "\u001b[1;32m~\\AppData\\Local\\Temp\\ipykernel_2416\\2516645747.py\u001b[0m in \u001b[0;36m<module>\u001b[1;34m\u001b[0m\n\u001b[0;32m      2\u001b[0m \u001b[0msvc\u001b[0m \u001b[1;33m=\u001b[0m \u001b[0mLinearRegression\u001b[0m\u001b[1;33m(\u001b[0m\u001b[1;33m)\u001b[0m\u001b[1;33m\u001b[0m\u001b[1;33m\u001b[0m\u001b[0m\n\u001b[0;32m      3\u001b[0m \u001b[0mclf\u001b[0m \u001b[1;33m=\u001b[0m \u001b[0mGridSearchCV\u001b[0m\u001b[1;33m(\u001b[0m\u001b[0msvc\u001b[0m\u001b[1;33m,\u001b[0m \u001b[0mparameters\u001b[0m\u001b[1;33m)\u001b[0m\u001b[1;33m\u001b[0m\u001b[1;33m\u001b[0m\u001b[0m\n\u001b[1;32m----> 4\u001b[1;33m \u001b[0mclf\u001b[0m\u001b[1;33m.\u001b[0m\u001b[0mfit\u001b[0m\u001b[1;33m(\u001b[0m\u001b[0mXX_train\u001b[0m\u001b[1;33m,\u001b[0m\u001b[0mYY_train\u001b[0m\u001b[1;33m)\u001b[0m\u001b[1;33m\u001b[0m\u001b[1;33m\u001b[0m\u001b[0m\n\u001b[0m\u001b[0;32m      5\u001b[0m \u001b[0mparam_grid\u001b[0m\u001b[1;33m=\u001b[0m\u001b[1;33m{\u001b[0m\u001b[1;34m'C'\u001b[0m\u001b[1;33m:\u001b[0m \u001b[1;33m[\u001b[0m\u001b[1;36m1\u001b[0m\u001b[1;33m,\u001b[0m \u001b[1;36m10\u001b[0m\u001b[1;33m]\u001b[0m\u001b[1;33m,\u001b[0m \u001b[1;34m'kernel'\u001b[0m\u001b[1;33m:\u001b[0m \u001b[1;33m(\u001b[0m\u001b[1;34m'linear'\u001b[0m\u001b[1;33m,\u001b[0m \u001b[1;34m'rbf'\u001b[0m\u001b[1;33m)\u001b[0m\u001b[1;33m}\u001b[0m\u001b[1;33m\u001b[0m\u001b[1;33m\u001b[0m\u001b[0m\n\u001b[0;32m      6\u001b[0m \u001b[0mGridSearchCV\u001b[0m\u001b[1;33m(\u001b[0m\u001b[0mestimator\u001b[0m\u001b[1;33m=\u001b[0m\u001b[0mSVC\u001b[0m\u001b[1;33m(\u001b[0m\u001b[1;33m)\u001b[0m\u001b[1;33m,\u001b[0m \u001b[0mparam_grid\u001b[0m\u001b[1;33m=\u001b[0m\u001b[0mparam_grid\u001b[0m\u001b[1;33m)\u001b[0m\u001b[1;33m\u001b[0m\u001b[1;33m\u001b[0m\u001b[0m\n",
      "\u001b[1;32m~\\anaconda3\\lib\\site-packages\\sklearn\\model_selection\\_search.py\u001b[0m in \u001b[0;36mfit\u001b[1;34m(self, X, y, groups, **fit_params)\u001b[0m\n\u001b[0;32m    889\u001b[0m                 \u001b[1;32mreturn\u001b[0m \u001b[0mresults\u001b[0m\u001b[1;33m\u001b[0m\u001b[1;33m\u001b[0m\u001b[0m\n\u001b[0;32m    890\u001b[0m \u001b[1;33m\u001b[0m\u001b[0m\n\u001b[1;32m--> 891\u001b[1;33m             \u001b[0mself\u001b[0m\u001b[1;33m.\u001b[0m\u001b[0m_run_search\u001b[0m\u001b[1;33m(\u001b[0m\u001b[0mevaluate_candidates\u001b[0m\u001b[1;33m)\u001b[0m\u001b[1;33m\u001b[0m\u001b[1;33m\u001b[0m\u001b[0m\n\u001b[0m\u001b[0;32m    892\u001b[0m \u001b[1;33m\u001b[0m\u001b[0m\n\u001b[0;32m    893\u001b[0m             \u001b[1;31m# multimetric is determined here because in the case of a callable\u001b[0m\u001b[1;33m\u001b[0m\u001b[1;33m\u001b[0m\u001b[0m\n",
      "\u001b[1;32m~\\anaconda3\\lib\\site-packages\\sklearn\\model_selection\\_search.py\u001b[0m in \u001b[0;36m_run_search\u001b[1;34m(self, evaluate_candidates)\u001b[0m\n\u001b[0;32m   1390\u001b[0m     \u001b[1;32mdef\u001b[0m \u001b[0m_run_search\u001b[0m\u001b[1;33m(\u001b[0m\u001b[0mself\u001b[0m\u001b[1;33m,\u001b[0m \u001b[0mevaluate_candidates\u001b[0m\u001b[1;33m)\u001b[0m\u001b[1;33m:\u001b[0m\u001b[1;33m\u001b[0m\u001b[1;33m\u001b[0m\u001b[0m\n\u001b[0;32m   1391\u001b[0m         \u001b[1;34m\"\"\"Search all candidates in param_grid\"\"\"\u001b[0m\u001b[1;33m\u001b[0m\u001b[1;33m\u001b[0m\u001b[0m\n\u001b[1;32m-> 1392\u001b[1;33m         \u001b[0mevaluate_candidates\u001b[0m\u001b[1;33m(\u001b[0m\u001b[0mParameterGrid\u001b[0m\u001b[1;33m(\u001b[0m\u001b[0mself\u001b[0m\u001b[1;33m.\u001b[0m\u001b[0mparam_grid\u001b[0m\u001b[1;33m)\u001b[0m\u001b[1;33m)\u001b[0m\u001b[1;33m\u001b[0m\u001b[1;33m\u001b[0m\u001b[0m\n\u001b[0m\u001b[0;32m   1393\u001b[0m \u001b[1;33m\u001b[0m\u001b[0m\n\u001b[0;32m   1394\u001b[0m \u001b[1;33m\u001b[0m\u001b[0m\n",
      "\u001b[1;32m~\\anaconda3\\lib\\site-packages\\sklearn\\model_selection\\_search.py\u001b[0m in \u001b[0;36mevaluate_candidates\u001b[1;34m(candidate_params, cv, more_results)\u001b[0m\n\u001b[0;32m    836\u001b[0m                     )\n\u001b[0;32m    837\u001b[0m \u001b[1;33m\u001b[0m\u001b[0m\n\u001b[1;32m--> 838\u001b[1;33m                 out = parallel(\n\u001b[0m\u001b[0;32m    839\u001b[0m                     delayed(_fit_and_score)(\n\u001b[0;32m    840\u001b[0m                         \u001b[0mclone\u001b[0m\u001b[1;33m(\u001b[0m\u001b[0mbase_estimator\u001b[0m\u001b[1;33m)\u001b[0m\u001b[1;33m,\u001b[0m\u001b[1;33m\u001b[0m\u001b[1;33m\u001b[0m\u001b[0m\n",
      "\u001b[1;32m~\\anaconda3\\lib\\site-packages\\joblib\\parallel.py\u001b[0m in \u001b[0;36m__call__\u001b[1;34m(self, iterable)\u001b[0m\n\u001b[0;32m   1041\u001b[0m             \u001b[1;31m# remaining jobs.\u001b[0m\u001b[1;33m\u001b[0m\u001b[1;33m\u001b[0m\u001b[0m\n\u001b[0;32m   1042\u001b[0m             \u001b[0mself\u001b[0m\u001b[1;33m.\u001b[0m\u001b[0m_iterating\u001b[0m \u001b[1;33m=\u001b[0m \u001b[1;32mFalse\u001b[0m\u001b[1;33m\u001b[0m\u001b[1;33m\u001b[0m\u001b[0m\n\u001b[1;32m-> 1043\u001b[1;33m             \u001b[1;32mif\u001b[0m \u001b[0mself\u001b[0m\u001b[1;33m.\u001b[0m\u001b[0mdispatch_one_batch\u001b[0m\u001b[1;33m(\u001b[0m\u001b[0miterator\u001b[0m\u001b[1;33m)\u001b[0m\u001b[1;33m:\u001b[0m\u001b[1;33m\u001b[0m\u001b[1;33m\u001b[0m\u001b[0m\n\u001b[0m\u001b[0;32m   1044\u001b[0m                 \u001b[0mself\u001b[0m\u001b[1;33m.\u001b[0m\u001b[0m_iterating\u001b[0m \u001b[1;33m=\u001b[0m \u001b[0mself\u001b[0m\u001b[1;33m.\u001b[0m\u001b[0m_original_iterator\u001b[0m \u001b[1;32mis\u001b[0m \u001b[1;32mnot\u001b[0m \u001b[1;32mNone\u001b[0m\u001b[1;33m\u001b[0m\u001b[1;33m\u001b[0m\u001b[0m\n\u001b[0;32m   1045\u001b[0m \u001b[1;33m\u001b[0m\u001b[0m\n",
      "\u001b[1;32m~\\anaconda3\\lib\\site-packages\\joblib\\parallel.py\u001b[0m in \u001b[0;36mdispatch_one_batch\u001b[1;34m(self, iterator)\u001b[0m\n\u001b[0;32m    859\u001b[0m                 \u001b[1;32mreturn\u001b[0m \u001b[1;32mFalse\u001b[0m\u001b[1;33m\u001b[0m\u001b[1;33m\u001b[0m\u001b[0m\n\u001b[0;32m    860\u001b[0m             \u001b[1;32melse\u001b[0m\u001b[1;33m:\u001b[0m\u001b[1;33m\u001b[0m\u001b[1;33m\u001b[0m\u001b[0m\n\u001b[1;32m--> 861\u001b[1;33m                 \u001b[0mself\u001b[0m\u001b[1;33m.\u001b[0m\u001b[0m_dispatch\u001b[0m\u001b[1;33m(\u001b[0m\u001b[0mtasks\u001b[0m\u001b[1;33m)\u001b[0m\u001b[1;33m\u001b[0m\u001b[1;33m\u001b[0m\u001b[0m\n\u001b[0m\u001b[0;32m    862\u001b[0m                 \u001b[1;32mreturn\u001b[0m \u001b[1;32mTrue\u001b[0m\u001b[1;33m\u001b[0m\u001b[1;33m\u001b[0m\u001b[0m\n\u001b[0;32m    863\u001b[0m \u001b[1;33m\u001b[0m\u001b[0m\n",
      "\u001b[1;32m~\\anaconda3\\lib\\site-packages\\joblib\\parallel.py\u001b[0m in \u001b[0;36m_dispatch\u001b[1;34m(self, batch)\u001b[0m\n\u001b[0;32m    777\u001b[0m         \u001b[1;32mwith\u001b[0m \u001b[0mself\u001b[0m\u001b[1;33m.\u001b[0m\u001b[0m_lock\u001b[0m\u001b[1;33m:\u001b[0m\u001b[1;33m\u001b[0m\u001b[1;33m\u001b[0m\u001b[0m\n\u001b[0;32m    778\u001b[0m             \u001b[0mjob_idx\u001b[0m \u001b[1;33m=\u001b[0m \u001b[0mlen\u001b[0m\u001b[1;33m(\u001b[0m\u001b[0mself\u001b[0m\u001b[1;33m.\u001b[0m\u001b[0m_jobs\u001b[0m\u001b[1;33m)\u001b[0m\u001b[1;33m\u001b[0m\u001b[1;33m\u001b[0m\u001b[0m\n\u001b[1;32m--> 779\u001b[1;33m             \u001b[0mjob\u001b[0m \u001b[1;33m=\u001b[0m \u001b[0mself\u001b[0m\u001b[1;33m.\u001b[0m\u001b[0m_backend\u001b[0m\u001b[1;33m.\u001b[0m\u001b[0mapply_async\u001b[0m\u001b[1;33m(\u001b[0m\u001b[0mbatch\u001b[0m\u001b[1;33m,\u001b[0m \u001b[0mcallback\u001b[0m\u001b[1;33m=\u001b[0m\u001b[0mcb\u001b[0m\u001b[1;33m)\u001b[0m\u001b[1;33m\u001b[0m\u001b[1;33m\u001b[0m\u001b[0m\n\u001b[0m\u001b[0;32m    780\u001b[0m             \u001b[1;31m# A job can complete so quickly than its callback is\u001b[0m\u001b[1;33m\u001b[0m\u001b[1;33m\u001b[0m\u001b[0m\n\u001b[0;32m    781\u001b[0m             \u001b[1;31m# called before we get here, causing self._jobs to\u001b[0m\u001b[1;33m\u001b[0m\u001b[1;33m\u001b[0m\u001b[0m\n",
      "\u001b[1;32m~\\anaconda3\\lib\\site-packages\\joblib\\_parallel_backends.py\u001b[0m in \u001b[0;36mapply_async\u001b[1;34m(self, func, callback)\u001b[0m\n\u001b[0;32m    206\u001b[0m     \u001b[1;32mdef\u001b[0m \u001b[0mapply_async\u001b[0m\u001b[1;33m(\u001b[0m\u001b[0mself\u001b[0m\u001b[1;33m,\u001b[0m \u001b[0mfunc\u001b[0m\u001b[1;33m,\u001b[0m \u001b[0mcallback\u001b[0m\u001b[1;33m=\u001b[0m\u001b[1;32mNone\u001b[0m\u001b[1;33m)\u001b[0m\u001b[1;33m:\u001b[0m\u001b[1;33m\u001b[0m\u001b[1;33m\u001b[0m\u001b[0m\n\u001b[0;32m    207\u001b[0m         \u001b[1;34m\"\"\"Schedule a func to be run\"\"\"\u001b[0m\u001b[1;33m\u001b[0m\u001b[1;33m\u001b[0m\u001b[0m\n\u001b[1;32m--> 208\u001b[1;33m         \u001b[0mresult\u001b[0m \u001b[1;33m=\u001b[0m \u001b[0mImmediateResult\u001b[0m\u001b[1;33m(\u001b[0m\u001b[0mfunc\u001b[0m\u001b[1;33m)\u001b[0m\u001b[1;33m\u001b[0m\u001b[1;33m\u001b[0m\u001b[0m\n\u001b[0m\u001b[0;32m    209\u001b[0m         \u001b[1;32mif\u001b[0m \u001b[0mcallback\u001b[0m\u001b[1;33m:\u001b[0m\u001b[1;33m\u001b[0m\u001b[1;33m\u001b[0m\u001b[0m\n\u001b[0;32m    210\u001b[0m             \u001b[0mcallback\u001b[0m\u001b[1;33m(\u001b[0m\u001b[0mresult\u001b[0m\u001b[1;33m)\u001b[0m\u001b[1;33m\u001b[0m\u001b[1;33m\u001b[0m\u001b[0m\n",
      "\u001b[1;32m~\\anaconda3\\lib\\site-packages\\joblib\\_parallel_backends.py\u001b[0m in \u001b[0;36m__init__\u001b[1;34m(self, batch)\u001b[0m\n\u001b[0;32m    570\u001b[0m         \u001b[1;31m# Don't delay the application, to avoid keeping the input\u001b[0m\u001b[1;33m\u001b[0m\u001b[1;33m\u001b[0m\u001b[0m\n\u001b[0;32m    571\u001b[0m         \u001b[1;31m# arguments in memory\u001b[0m\u001b[1;33m\u001b[0m\u001b[1;33m\u001b[0m\u001b[0m\n\u001b[1;32m--> 572\u001b[1;33m         \u001b[0mself\u001b[0m\u001b[1;33m.\u001b[0m\u001b[0mresults\u001b[0m \u001b[1;33m=\u001b[0m \u001b[0mbatch\u001b[0m\u001b[1;33m(\u001b[0m\u001b[1;33m)\u001b[0m\u001b[1;33m\u001b[0m\u001b[1;33m\u001b[0m\u001b[0m\n\u001b[0m\u001b[0;32m    573\u001b[0m \u001b[1;33m\u001b[0m\u001b[0m\n\u001b[0;32m    574\u001b[0m     \u001b[1;32mdef\u001b[0m \u001b[0mget\u001b[0m\u001b[1;33m(\u001b[0m\u001b[0mself\u001b[0m\u001b[1;33m)\u001b[0m\u001b[1;33m:\u001b[0m\u001b[1;33m\u001b[0m\u001b[1;33m\u001b[0m\u001b[0m\n",
      "\u001b[1;32m~\\anaconda3\\lib\\site-packages\\joblib\\parallel.py\u001b[0m in \u001b[0;36m__call__\u001b[1;34m(self)\u001b[0m\n\u001b[0;32m    260\u001b[0m         \u001b[1;31m# change the default number of processes to -1\u001b[0m\u001b[1;33m\u001b[0m\u001b[1;33m\u001b[0m\u001b[0m\n\u001b[0;32m    261\u001b[0m         \u001b[1;32mwith\u001b[0m \u001b[0mparallel_backend\u001b[0m\u001b[1;33m(\u001b[0m\u001b[0mself\u001b[0m\u001b[1;33m.\u001b[0m\u001b[0m_backend\u001b[0m\u001b[1;33m,\u001b[0m \u001b[0mn_jobs\u001b[0m\u001b[1;33m=\u001b[0m\u001b[0mself\u001b[0m\u001b[1;33m.\u001b[0m\u001b[0m_n_jobs\u001b[0m\u001b[1;33m)\u001b[0m\u001b[1;33m:\u001b[0m\u001b[1;33m\u001b[0m\u001b[1;33m\u001b[0m\u001b[0m\n\u001b[1;32m--> 262\u001b[1;33m             return [func(*args, **kwargs)\n\u001b[0m\u001b[0;32m    263\u001b[0m                     for func, args, kwargs in self.items]\n\u001b[0;32m    264\u001b[0m \u001b[1;33m\u001b[0m\u001b[0m\n",
      "\u001b[1;32m~\\anaconda3\\lib\\site-packages\\joblib\\parallel.py\u001b[0m in \u001b[0;36m<listcomp>\u001b[1;34m(.0)\u001b[0m\n\u001b[0;32m    260\u001b[0m         \u001b[1;31m# change the default number of processes to -1\u001b[0m\u001b[1;33m\u001b[0m\u001b[1;33m\u001b[0m\u001b[0m\n\u001b[0;32m    261\u001b[0m         \u001b[1;32mwith\u001b[0m \u001b[0mparallel_backend\u001b[0m\u001b[1;33m(\u001b[0m\u001b[0mself\u001b[0m\u001b[1;33m.\u001b[0m\u001b[0m_backend\u001b[0m\u001b[1;33m,\u001b[0m \u001b[0mn_jobs\u001b[0m\u001b[1;33m=\u001b[0m\u001b[0mself\u001b[0m\u001b[1;33m.\u001b[0m\u001b[0m_n_jobs\u001b[0m\u001b[1;33m)\u001b[0m\u001b[1;33m:\u001b[0m\u001b[1;33m\u001b[0m\u001b[1;33m\u001b[0m\u001b[0m\n\u001b[1;32m--> 262\u001b[1;33m             return [func(*args, **kwargs)\n\u001b[0m\u001b[0;32m    263\u001b[0m                     for func, args, kwargs in self.items]\n\u001b[0;32m    264\u001b[0m \u001b[1;33m\u001b[0m\u001b[0m\n",
      "\u001b[1;32m~\\anaconda3\\lib\\site-packages\\sklearn\\utils\\fixes.py\u001b[0m in \u001b[0;36m__call__\u001b[1;34m(self, *args, **kwargs)\u001b[0m\n\u001b[0;32m    214\u001b[0m     \u001b[1;32mdef\u001b[0m \u001b[0m__call__\u001b[0m\u001b[1;33m(\u001b[0m\u001b[0mself\u001b[0m\u001b[1;33m,\u001b[0m \u001b[1;33m*\u001b[0m\u001b[0margs\u001b[0m\u001b[1;33m,\u001b[0m \u001b[1;33m**\u001b[0m\u001b[0mkwargs\u001b[0m\u001b[1;33m)\u001b[0m\u001b[1;33m:\u001b[0m\u001b[1;33m\u001b[0m\u001b[1;33m\u001b[0m\u001b[0m\n\u001b[0;32m    215\u001b[0m         \u001b[1;32mwith\u001b[0m \u001b[0mconfig_context\u001b[0m\u001b[1;33m(\u001b[0m\u001b[1;33m**\u001b[0m\u001b[0mself\u001b[0m\u001b[1;33m.\u001b[0m\u001b[0mconfig\u001b[0m\u001b[1;33m)\u001b[0m\u001b[1;33m:\u001b[0m\u001b[1;33m\u001b[0m\u001b[1;33m\u001b[0m\u001b[0m\n\u001b[1;32m--> 216\u001b[1;33m             \u001b[1;32mreturn\u001b[0m \u001b[0mself\u001b[0m\u001b[1;33m.\u001b[0m\u001b[0mfunction\u001b[0m\u001b[1;33m(\u001b[0m\u001b[1;33m*\u001b[0m\u001b[0margs\u001b[0m\u001b[1;33m,\u001b[0m \u001b[1;33m**\u001b[0m\u001b[0mkwargs\u001b[0m\u001b[1;33m)\u001b[0m\u001b[1;33m\u001b[0m\u001b[1;33m\u001b[0m\u001b[0m\n\u001b[0m\u001b[0;32m    217\u001b[0m \u001b[1;33m\u001b[0m\u001b[0m\n\u001b[0;32m    218\u001b[0m \u001b[1;33m\u001b[0m\u001b[0m\n",
      "\u001b[1;32m~\\anaconda3\\lib\\site-packages\\sklearn\\model_selection\\_validation.py\u001b[0m in \u001b[0;36m_fit_and_score\u001b[1;34m(estimator, X, y, scorer, train, test, verbose, parameters, fit_params, return_train_score, return_parameters, return_n_test_samples, return_times, return_estimator, split_progress, candidate_progress, error_score)\u001b[0m\n\u001b[0;32m    666\u001b[0m             \u001b[0mcloned_parameters\u001b[0m\u001b[1;33m[\u001b[0m\u001b[0mk\u001b[0m\u001b[1;33m]\u001b[0m \u001b[1;33m=\u001b[0m \u001b[0mclone\u001b[0m\u001b[1;33m(\u001b[0m\u001b[0mv\u001b[0m\u001b[1;33m,\u001b[0m \u001b[0msafe\u001b[0m\u001b[1;33m=\u001b[0m\u001b[1;32mFalse\u001b[0m\u001b[1;33m)\u001b[0m\u001b[1;33m\u001b[0m\u001b[1;33m\u001b[0m\u001b[0m\n\u001b[0;32m    667\u001b[0m \u001b[1;33m\u001b[0m\u001b[0m\n\u001b[1;32m--> 668\u001b[1;33m         \u001b[0mestimator\u001b[0m \u001b[1;33m=\u001b[0m \u001b[0mestimator\u001b[0m\u001b[1;33m.\u001b[0m\u001b[0mset_params\u001b[0m\u001b[1;33m(\u001b[0m\u001b[1;33m**\u001b[0m\u001b[0mcloned_parameters\u001b[0m\u001b[1;33m)\u001b[0m\u001b[1;33m\u001b[0m\u001b[1;33m\u001b[0m\u001b[0m\n\u001b[0m\u001b[0;32m    669\u001b[0m \u001b[1;33m\u001b[0m\u001b[0m\n\u001b[0;32m    670\u001b[0m     \u001b[0mstart_time\u001b[0m \u001b[1;33m=\u001b[0m \u001b[0mtime\u001b[0m\u001b[1;33m.\u001b[0m\u001b[0mtime\u001b[0m\u001b[1;33m(\u001b[0m\u001b[1;33m)\u001b[0m\u001b[1;33m\u001b[0m\u001b[1;33m\u001b[0m\u001b[0m\n",
      "\u001b[1;32m~\\anaconda3\\lib\\site-packages\\sklearn\\base.py\u001b[0m in \u001b[0;36mset_params\u001b[1;34m(self, **params)\u001b[0m\n\u001b[0;32m    243\u001b[0m             \u001b[0mkey\u001b[0m\u001b[1;33m,\u001b[0m \u001b[0mdelim\u001b[0m\u001b[1;33m,\u001b[0m \u001b[0msub_key\u001b[0m \u001b[1;33m=\u001b[0m \u001b[0mkey\u001b[0m\u001b[1;33m.\u001b[0m\u001b[0mpartition\u001b[0m\u001b[1;33m(\u001b[0m\u001b[1;34m\"__\"\u001b[0m\u001b[1;33m)\u001b[0m\u001b[1;33m\u001b[0m\u001b[1;33m\u001b[0m\u001b[0m\n\u001b[0;32m    244\u001b[0m             \u001b[1;32mif\u001b[0m \u001b[0mkey\u001b[0m \u001b[1;32mnot\u001b[0m \u001b[1;32min\u001b[0m \u001b[0mvalid_params\u001b[0m\u001b[1;33m:\u001b[0m\u001b[1;33m\u001b[0m\u001b[1;33m\u001b[0m\u001b[0m\n\u001b[1;32m--> 245\u001b[1;33m                 raise ValueError(\n\u001b[0m\u001b[0;32m    246\u001b[0m                     \u001b[1;34m\"Invalid parameter %s for estimator %s. \"\u001b[0m\u001b[1;33m\u001b[0m\u001b[1;33m\u001b[0m\u001b[0m\n\u001b[0;32m    247\u001b[0m                     \u001b[1;34m\"Check the list of available parameters \"\u001b[0m\u001b[1;33m\u001b[0m\u001b[1;33m\u001b[0m\u001b[0m\n",
      "\u001b[1;31mValueError\u001b[0m: Invalid parameter C for estimator LinearRegression(). Check the list of available parameters with `estimator.get_params().keys()`."
     ]
    }
   ],
   "source": [
    "parameters = {'kernel':('linear', 'rbf'), 'C':[1, 10]}\n",
    "svc = LinearRegression()\n",
    "clf = GridSearchCV(svc, parameters)\n",
    "clf.fit(XX_train,YY_train)\n",
    "param_grid={'C': [1, 10], 'kernel': ('linear', 'rbf')}\n",
    "GridSearchCV(estimator=SVC(), param_grid=param_grid)\n",
    "sorted(clf.cv_results_.keys())"
   ]
  },
  {
   "cell_type": "code",
   "execution_count": null,
   "id": "27d3c649",
   "metadata": {},
   "outputs": [],
   "source": []
  },
  {
   "cell_type": "code",
   "execution_count": null,
   "id": "e564a193",
   "metadata": {},
   "outputs": [],
   "source": []
  },
  {
   "cell_type": "code",
   "execution_count": null,
   "id": "7bc70156",
   "metadata": {},
   "outputs": [],
   "source": []
  },
  {
   "cell_type": "code",
   "execution_count": null,
   "id": "0e4914f1",
   "metadata": {},
   "outputs": [],
   "source": []
  },
  {
   "cell_type": "code",
   "execution_count": null,
   "id": "3a1f3d8f",
   "metadata": {},
   "outputs": [],
   "source": []
  },
  {
   "cell_type": "code",
   "execution_count": null,
   "id": "d6559771",
   "metadata": {},
   "outputs": [],
   "source": []
  },
  {
   "cell_type": "code",
   "execution_count": null,
   "id": "4d37178e",
   "metadata": {},
   "outputs": [],
   "source": []
  },
  {
   "cell_type": "code",
   "execution_count": null,
   "id": "5382540a",
   "metadata": {},
   "outputs": [],
   "source": []
  },
  {
   "cell_type": "code",
   "execution_count": null,
   "id": "f5c997ae",
   "metadata": {},
   "outputs": [],
   "source": []
  },
  {
   "cell_type": "code",
   "execution_count": null,
   "id": "5d09dd7f",
   "metadata": {},
   "outputs": [],
   "source": []
  },
  {
   "cell_type": "code",
   "execution_count": null,
   "id": "88e131a7",
   "metadata": {},
   "outputs": [],
   "source": []
  },
  {
   "cell_type": "code",
   "execution_count": null,
   "id": "79ca511a",
   "metadata": {},
   "outputs": [],
   "source": []
  },
  {
   "cell_type": "code",
   "execution_count": 105,
   "id": "e8d2bb40",
   "metadata": {},
   "outputs": [
    {
     "name": "stderr",
     "output_type": "stream",
     "text": [
      "C:\\Users\\Shubham Jadhav\\AppData\\Local\\Temp\\ipykernel_2416\\1590685938.py:9: DataConversionWarning: A column-vector y was passed when a 1d array was expected. Please change the shape of y to (n_samples,), for example using ravel().\n",
      "  lreg=lreg.fit(XX_train,YY_train)\n"
     ]
    },
    {
     "name": "stdout",
     "output_type": "stream",
     "text": [
      "r2_score:  0.09973418445048365\n",
      "mean_squared_log_error: 0.0057549450849631095\n",
      "mean_squared_error: 0.009810479183174925\n",
      "mean_absolute_erroreport: 0.07831570385125335\n"
     ]
    }
   ],
   "source": [
    "#Second, split the dataset into train and test:\n",
    "XX_train,XX_test,YY_train,YY_test=train_test_split(XX,YY,test_size=0.3,random_state=100)\n",
    "\n",
    "from sklearn.linear_model import LinearRegression\n",
    "from sklearn.ensemble import RandomForestRegressor\n",
    "from sklearn.tree import DecisionTreeRegressor\n",
    "\n",
    "lreg= RandomForestRegressor()\n",
    "lreg=lreg.fit(XX_train,YY_train)\n",
    "\n",
    "\n",
    "\n",
    "YY_pred=lreg.predict(XX_test)\n",
    "#print (XX_test) #test dataset\n",
    "#print (YY_pred) #predicted values\n",
    "\n",
    "from sklearn import metrics\n",
    "print('r2_score: ',metrics.r2_score(YY_test, YY_pred))\n",
    "print('mean_squared_log_error:',metrics.mean_squared_log_error(YY_test, YY_pred))\n",
    "print('mean_squared_error:',metrics.mean_squared_error(YY_test, YY_pred))\n",
    "print('mean_absolute_erroreport:',metrics.mean_absolute_error(YY_test, YY_pred))"
   ]
  },
  {
   "cell_type": "code",
   "execution_count": null,
   "id": "1f3ffb43",
   "metadata": {},
   "outputs": [],
   "source": []
  },
  {
   "cell_type": "code",
   "execution_count": 107,
   "id": "65a7e282",
   "metadata": {},
   "outputs": [
    {
     "data": {
      "text/plain": [
       "(0.1084854628192603, 0.07772112611060847, 0.09856527662309135)"
      ]
     },
     "execution_count": 107,
     "metadata": {},
     "output_type": "execute_result"
    }
   ],
   "source": [
    "model = RandomForestRegressor()\n",
    "#transforming target variable through quantile transformer\n",
    "ttr = TransformedTargetRegressor(regressor=model, transformer=QuantileTransformer(output_distribution='normal'))\n",
    "ttr.fit(X_train, y_train)\n",
    "yhat = ttr.predict(X_test)\n",
    "metrics.r2_score(y_test, yhat),metrics.mean_absolute_error(y_test, yhat), np.sqrt(metrics.mean_squared_error(y_test, yhat))"
   ]
  },
  {
   "cell_type": "code",
   "execution_count": null,
   "id": "bb78a761",
   "metadata": {},
   "outputs": [],
   "source": []
  },
  {
   "cell_type": "code",
   "execution_count": null,
   "id": "6175bd9a",
   "metadata": {},
   "outputs": [],
   "source": []
  },
  {
   "cell_type": "code",
   "execution_count": null,
   "id": "a4cb53b0",
   "metadata": {},
   "outputs": [],
   "source": []
  },
  {
   "cell_type": "code",
   "execution_count": null,
   "id": "3ef8eb5d",
   "metadata": {},
   "outputs": [],
   "source": []
  },
  {
   "cell_type": "code",
   "execution_count": null,
   "id": "2f4e786a",
   "metadata": {},
   "outputs": [],
   "source": []
  },
  {
   "cell_type": "code",
   "execution_count": null,
   "id": "0a724c58",
   "metadata": {},
   "outputs": [],
   "source": []
  },
  {
   "cell_type": "code",
   "execution_count": null,
   "id": "f74a355d",
   "metadata": {},
   "outputs": [],
   "source": []
  },
  {
   "cell_type": "code",
   "execution_count": null,
   "id": "65d5dc3e",
   "metadata": {},
   "outputs": [],
   "source": []
  },
  {
   "cell_type": "code",
   "execution_count": null,
   "id": "5a3d8c1e",
   "metadata": {},
   "outputs": [],
   "source": []
  },
  {
   "cell_type": "code",
   "execution_count": null,
   "id": "70797109",
   "metadata": {},
   "outputs": [],
   "source": []
  },
  {
   "cell_type": "code",
   "execution_count": null,
   "id": "8605ec54",
   "metadata": {},
   "outputs": [],
   "source": []
  },
  {
   "cell_type": "code",
   "execution_count": null,
   "id": "aceeb1cd",
   "metadata": {},
   "outputs": [],
   "source": []
  },
  {
   "cell_type": "code",
   "execution_count": null,
   "id": "5bed33aa",
   "metadata": {},
   "outputs": [],
   "source": []
  },
  {
   "cell_type": "code",
   "execution_count": null,
   "id": "05ff5a11",
   "metadata": {},
   "outputs": [],
   "source": []
  },
  {
   "cell_type": "code",
   "execution_count": null,
   "id": "f6dc2ab8",
   "metadata": {},
   "outputs": [],
   "source": []
  },
  {
   "cell_type": "code",
   "execution_count": null,
   "id": "a6899b12",
   "metadata": {},
   "outputs": [],
   "source": []
  },
  {
   "cell_type": "code",
   "execution_count": 102,
   "id": "e548b979",
   "metadata": {},
   "outputs": [
    {
     "name": "stdout",
     "output_type": "stream",
     "text": [
      "Fitting 5 folds for each of 36 candidates, totalling 180 fits\n",
      "{'max_depth': 7, 'n_estimators': 51, 'reg_lambda': 0.2}\n"
     ]
    },
    {
     "data": {
      "text/plain": [
       "(0.11399799106555264, 0.0775754886972844, 0.09826007330100149)"
      ]
     },
     "execution_count": 102,
     "metadata": {},
     "output_type": "execute_result"
    }
   ],
   "source": [
    "from sklearn.ensemble import GradientBoostingRegressor\n",
    "import lightgbm\n",
    "import xgboost\n",
    "from xgboost import XGBRFRegressor \n",
    "from xgboost import XGBRegressor\n",
    "from sklearn.model_selection import GridSearchCV\n",
    "from sklearn.compose import TransformedTargetRegressor\n",
    "from sklearn.preprocessing import QuantileTransformer\n",
    "\n",
    "param_grid = {'n_estimators': [100, 80, 60, 55, 51, 45],  \n",
    "              'max_depth': [7, 8],\n",
    "              'reg_lambda' :[0.26, 0.25, 0.2]\n",
    "             }\n",
    "                \n",
    "grid = GridSearchCV(XGBRFRegressor(), param_grid, refit = True, verbose = 3, n_jobs=-1) #\n",
    "regr_trans = TransformedTargetRegressor(regressor=grid, transformer=QuantileTransformer(output_distribution='normal'))\n",
    "\n",
    "# fitting the model for grid search \n",
    "grid_result=regr_trans.fit(X_train, y_train)\n",
    "best_params=grid_result.regressor_.best_params_\n",
    "print(best_params)\n",
    "\n",
    "#using best params to create and fit model\n",
    "best_model = XGBRFRegressor(max_depth=best_params[\"max_depth\"], n_estimators=best_params[\"n_estimators\"], reg_lambda=best_params[\"reg_lambda\"])\n",
    "regr_trans = TransformedTargetRegressor(regressor=best_model, transformer=QuantileTransformer(output_distribution='normal'))\n",
    "regr_trans.fit(X_train, y_train)\n",
    "yhat = regr_trans.predict(X_test)\n",
    "\n",
    "#evaluate metrics\n",
    "metrics.r2_score(y_test, yhat), metrics.mean_absolute_error(y_test, yhat), np.sqrt(metrics.mean_squared_error(y_test, yhat))"
   ]
  },
  {
   "cell_type": "code",
   "execution_count": null,
   "id": "138996ff",
   "metadata": {},
   "outputs": [],
   "source": []
  },
  {
   "cell_type": "raw",
   "id": "1eb68e41",
   "metadata": {},
   "source": [
    "\n",
    "from sklearn.linear_model import LogisticRegression,LinearRegression\n",
    "from sklearn.neighbors import KNeighborsClassifier,KNeighborsRegressor\n",
    "from mlxtend.feature_selection import ExhaustiveFeatureSelector as EFS\n",
    "from sklearn.model_selection import GridSearchCV\n",
    "from sklearn.model_selection import ParameterGrid\n",
    "from sklearn.pipeline import make_pipeline"
   ]
  },
  {
   "cell_type": "code",
   "execution_count": null,
   "id": "078a2a54",
   "metadata": {},
   "outputs": [],
   "source": []
  },
  {
   "cell_type": "code",
   "execution_count": null,
   "id": "8add7041",
   "metadata": {},
   "outputs": [],
   "source": []
  },
  {
   "cell_type": "code",
   "execution_count": null,
   "id": "d39e435b",
   "metadata": {},
   "outputs": [],
   "source": []
  },
  {
   "cell_type": "code",
   "execution_count": null,
   "id": "d767691c",
   "metadata": {},
   "outputs": [],
   "source": []
  },
  {
   "cell_type": "code",
   "execution_count": null,
   "id": "d39ae332",
   "metadata": {},
   "outputs": [],
   "source": []
  },
  {
   "cell_type": "code",
   "execution_count": null,
   "id": "0012a6b4",
   "metadata": {},
   "outputs": [],
   "source": []
  },
  {
   "cell_type": "code",
   "execution_count": null,
   "id": "5191cde4",
   "metadata": {},
   "outputs": [],
   "source": []
  },
  {
   "cell_type": "raw",
   "id": "eea20278",
   "metadata": {},
   "source": [
    "\n"
   ]
  },
  {
   "cell_type": "raw",
   "id": "4529e2e9",
   "metadata": {},
   "source": []
  },
  {
   "cell_type": "code",
   "execution_count": null,
   "id": "3ff0e7e2",
   "metadata": {},
   "outputs": [],
   "source": []
  },
  {
   "cell_type": "code",
   "execution_count": null,
   "id": "3ed7b451",
   "metadata": {},
   "outputs": [],
   "source": []
  },
  {
   "cell_type": "code",
   "execution_count": null,
   "id": "ed2de80c",
   "metadata": {},
   "outputs": [],
   "source": []
  },
  {
   "cell_type": "code",
   "execution_count": 1,
   "id": "ceb20a70",
   "metadata": {},
   "outputs": [],
   "source": [
    "#importing packages \n",
    "import pandas as pd\n",
    "import numpy as np\n",
    "import matplotlib.pyplot as plt\n",
    "import scipy as scp\n",
    "from scipy import stats\n",
    "import sklearn as skl\n",
    "from sklearn.impute import KNNImputer\n",
    "import statsmodels.api as sm\n",
    "import seaborn as sns"
   ]
  },
  {
   "cell_type": "code",
   "execution_count": null,
   "id": "0fc106e6",
   "metadata": {},
   "outputs": [],
   "source": []
  },
  {
   "cell_type": "code",
   "execution_count": 2,
   "id": "195a50e8",
   "metadata": {},
   "outputs": [],
   "source": [
    "#importing data\n",
    "Credit=pd.read_excel('CreditConsumptionData.xlsx')\n",
    "Behavior=pd.read_excel('CustomerBehaviorData.xlsx')\n",
    "Demographics=pd.read_excel('CustomerDemographics.xlsx')"
   ]
  },
  {
   "cell_type": "raw",
   "id": "5caa3c87",
   "metadata": {},
   "source": [
    "#cheacking data :"
   ]
  },
  {
   "cell_type": "code",
   "execution_count": 3,
   "id": "af8a118e",
   "metadata": {},
   "outputs": [],
   "source": [
    "#cheacking data count:\n",
    "#Credit.count()\n",
    "#Behavior.count()\n",
    "#Demographics.count()"
   ]
  },
  {
   "cell_type": "code",
   "execution_count": 4,
   "id": "18a0fc55",
   "metadata": {},
   "outputs": [
    {
     "data": {
      "text/plain": [
       "ID                                int64\n",
       "account_type                     object\n",
       "gender                           object\n",
       "age                               int64\n",
       "Income                           object\n",
       "Emp_Tenure_Years                float64\n",
       "Tenure_with_Bank                  int64\n",
       "region_code                     float64\n",
       "NetBanking_Flag                   int64\n",
       "Avg_days_between_transaction    float64\n",
       "dtype: object"
      ]
     },
     "execution_count": 4,
     "metadata": {},
     "output_type": "execute_result"
    }
   ],
   "source": [
    "#cheacking data types :\n",
    "#Credit.dtypes\n",
    "#Behavior.dtypes\n",
    "Demographics.dtypes"
   ]
  },
  {
   "cell_type": "code",
   "execution_count": 5,
   "id": "ff50286b",
   "metadata": {},
   "outputs": [
    {
     "data": {
      "text/plain": [
       "ID            0\n",
       "cc_cons    5000\n",
       "dtype: int64"
      ]
     },
     "execution_count": 5,
     "metadata": {},
     "output_type": "execute_result"
    }
   ],
   "source": [
    "#cheacking null value :\n",
    "Credit.isna().sum()\n",
    "#Behavior.isna().sum()\n",
    "#Demographics.isna().sum() "
   ]
  },
  {
   "cell_type": "code",
   "execution_count": 6,
   "id": "b09b3295",
   "metadata": {},
   "outputs": [
    {
     "data": {
      "text/html": [
       "<div>\n",
       "<style scoped>\n",
       "    .dataframe tbody tr th:only-of-type {\n",
       "        vertical-align: middle;\n",
       "    }\n",
       "\n",
       "    .dataframe tbody tr th {\n",
       "        vertical-align: top;\n",
       "    }\n",
       "\n",
       "    .dataframe thead th {\n",
       "        text-align: right;\n",
       "    }\n",
       "</style>\n",
       "<table border=\"1\" class=\"dataframe\">\n",
       "  <thead>\n",
       "    <tr style=\"text-align: right;\">\n",
       "      <th></th>\n",
       "      <th>ID</th>\n",
       "      <th>age</th>\n",
       "      <th>Emp_Tenure_Years</th>\n",
       "      <th>Tenure_with_Bank</th>\n",
       "      <th>region_code</th>\n",
       "      <th>NetBanking_Flag</th>\n",
       "      <th>Avg_days_between_transaction</th>\n",
       "    </tr>\n",
       "  </thead>\n",
       "  <tbody>\n",
       "    <tr>\n",
       "      <th>count</th>\n",
       "      <td>20000.000000</td>\n",
       "      <td>20000.000000</td>\n",
       "      <td>20000.000000</td>\n",
       "      <td>20000.000000</td>\n",
       "      <td>19999.000000</td>\n",
       "      <td>20000.000000</td>\n",
       "      <td>19997.000000</td>\n",
       "    </tr>\n",
       "    <tr>\n",
       "      <th>mean</th>\n",
       "      <td>9999.500000</td>\n",
       "      <td>47.672300</td>\n",
       "      <td>15.217250</td>\n",
       "      <td>5.496050</td>\n",
       "      <td>598.959348</td>\n",
       "      <td>0.718000</td>\n",
       "      <td>11.044757</td>\n",
       "    </tr>\n",
       "    <tr>\n",
       "      <th>std</th>\n",
       "      <td>5773.647028</td>\n",
       "      <td>30.359771</td>\n",
       "      <td>20.481455</td>\n",
       "      <td>2.870452</td>\n",
       "      <td>220.105230</td>\n",
       "      <td>0.449985</td>\n",
       "      <td>5.480552</td>\n",
       "    </tr>\n",
       "    <tr>\n",
       "      <th>min</th>\n",
       "      <td>0.000000</td>\n",
       "      <td>25.000000</td>\n",
       "      <td>0.500000</td>\n",
       "      <td>1.000000</td>\n",
       "      <td>123.000000</td>\n",
       "      <td>0.000000</td>\n",
       "      <td>2.000000</td>\n",
       "    </tr>\n",
       "    <tr>\n",
       "      <th>25%</th>\n",
       "      <td>4999.750000</td>\n",
       "      <td>33.000000</td>\n",
       "      <td>5.100000</td>\n",
       "      <td>3.000000</td>\n",
       "      <td>424.000000</td>\n",
       "      <td>0.000000</td>\n",
       "      <td>6.000000</td>\n",
       "    </tr>\n",
       "    <tr>\n",
       "      <th>50%</th>\n",
       "      <td>9999.500000</td>\n",
       "      <td>40.000000</td>\n",
       "      <td>9.900000</td>\n",
       "      <td>6.000000</td>\n",
       "      <td>623.000000</td>\n",
       "      <td>1.000000</td>\n",
       "      <td>11.000000</td>\n",
       "    </tr>\n",
       "    <tr>\n",
       "      <th>75%</th>\n",
       "      <td>14999.250000</td>\n",
       "      <td>53.000000</td>\n",
       "      <td>18.000000</td>\n",
       "      <td>8.000000</td>\n",
       "      <td>799.000000</td>\n",
       "      <td>1.000000</td>\n",
       "      <td>16.000000</td>\n",
       "    </tr>\n",
       "    <tr>\n",
       "      <th>max</th>\n",
       "      <td>19999.000000</td>\n",
       "      <td>223.000000</td>\n",
       "      <td>203.000000</td>\n",
       "      <td>10.000000</td>\n",
       "      <td>974.000000</td>\n",
       "      <td>1.000000</td>\n",
       "      <td>20.000000</td>\n",
       "    </tr>\n",
       "  </tbody>\n",
       "</table>\n",
       "</div>"
      ],
      "text/plain": [
       "                 ID           age  Emp_Tenure_Years  Tenure_with_Bank  \\\n",
       "count  20000.000000  20000.000000      20000.000000      20000.000000   \n",
       "mean    9999.500000     47.672300         15.217250          5.496050   \n",
       "std     5773.647028     30.359771         20.481455          2.870452   \n",
       "min        0.000000     25.000000          0.500000          1.000000   \n",
       "25%     4999.750000     33.000000          5.100000          3.000000   \n",
       "50%     9999.500000     40.000000          9.900000          6.000000   \n",
       "75%    14999.250000     53.000000         18.000000          8.000000   \n",
       "max    19999.000000    223.000000        203.000000         10.000000   \n",
       "\n",
       "        region_code  NetBanking_Flag  Avg_days_between_transaction  \n",
       "count  19999.000000     20000.000000                  19997.000000  \n",
       "mean     598.959348         0.718000                     11.044757  \n",
       "std      220.105230         0.449985                      5.480552  \n",
       "min      123.000000         0.000000                      2.000000  \n",
       "25%      424.000000         0.000000                      6.000000  \n",
       "50%      623.000000         1.000000                     11.000000  \n",
       "75%      799.000000         1.000000                     16.000000  \n",
       "max      974.000000         1.000000                     20.000000  "
      ]
     },
     "execution_count": 6,
     "metadata": {},
     "output_type": "execute_result"
    }
   ],
   "source": [
    "#Credit.describe()\n",
    "#Behavior.describe()\n",
    "Demographics.describe()"
   ]
  },
  {
   "cell_type": "code",
   "execution_count": 7,
   "id": "091c5825",
   "metadata": {},
   "outputs": [],
   "source": [
    "#merging data\n",
    "Customer=Credit.merge(Behavior.merge(Demographics,on='ID'),on='ID')"
   ]
  },
  {
   "cell_type": "code",
   "execution_count": 8,
   "id": "ffe7f76d",
   "metadata": {},
   "outputs": [
    {
     "data": {
      "text/plain": [
       "ID                                 0\n",
       "cc_cons                         5000\n",
       "cc_cons_apr                        0\n",
       "dc_cons_apr                        0\n",
       "cc_cons_may                        1\n",
       "dc_cons_may                        0\n",
       "cc_cons_jun                        0\n",
       "dc_cons_jun                        1\n",
       "cc_count_apr                       1\n",
       "cc_count_may                       0\n",
       "cc_count_jun                       0\n",
       "dc_count_apr                       0\n",
       "dc_count_may                       0\n",
       "dc_count_jun                       0\n",
       "card_lim                           0\n",
       "personal_loan_active               0\n",
       "vehicle_loan_active                0\n",
       "personal_loan_closed               1\n",
       "vehicle_loan_closed                0\n",
       "investment_1                       0\n",
       "investment_2                       0\n",
       "investment_3                       2\n",
       "investment_4                       0\n",
       "debit_amount_apr                   0\n",
       "credit_amount_apr                  0\n",
       "debit_count_apr                    1\n",
       "credit_count_apr                   0\n",
       "max_credit_amount_apr              0\n",
       "debit_amount_may                   0\n",
       "credit_amount_may                  0\n",
       "credit_count_may                   0\n",
       "debit_count_may                    0\n",
       "max_credit_amount_may              0\n",
       "debit_amount_jun                   0\n",
       "credit_amount_jun                  0\n",
       "credit_count_jun                   0\n",
       "debit_count_jun                    0\n",
       "max_credit_amount_jun              0\n",
       "loan_enq                           2\n",
       "emi_active                         1\n",
       "account_type                       1\n",
       "gender                             1\n",
       "age                                0\n",
       "Income                             1\n",
       "Emp_Tenure_Years                   0\n",
       "Tenure_with_Bank                   0\n",
       "region_code                        1\n",
       "NetBanking_Flag                    0\n",
       "Avg_days_between_transaction       3\n",
       "dtype: int64"
      ]
     },
     "execution_count": 8,
     "metadata": {},
     "output_type": "execute_result"
    }
   ],
   "source": [
    "Customer.isna().sum()"
   ]
  },
  {
   "cell_type": "code",
   "execution_count": 9,
   "id": "8376b277",
   "metadata": {},
   "outputs": [
    {
     "data": {
      "text/plain": [
       "Index(['cc_cons', 'cc_cons_may', 'dc_cons_jun', 'cc_count_apr',\n",
       "       'personal_loan_closed', 'investment_3', 'debit_count_apr', 'loan_enq',\n",
       "       'emi_active', 'account_type', 'gender', 'Income', 'region_code',\n",
       "       'Avg_days_between_transaction'],\n",
       "      dtype='object')"
      ]
     },
     "execution_count": 9,
     "metadata": {},
     "output_type": "execute_result"
    }
   ],
   "source": [
    "Customer.columns[Customer.isna().sum()>0]  "
   ]
  },
  {
   "cell_type": "code",
   "execution_count": 10,
   "id": "aed8b5c6",
   "metadata": {},
   "outputs": [
    {
     "data": {
      "text/plain": [
       "count     15000.000000\n",
       "mean      55157.729867\n",
       "std       97670.972252\n",
       "min           0.000000\n",
       "25%        6768.000000\n",
       "50%       13364.000000\n",
       "75%       20105.750000\n",
       "max      408382.000000\n",
       "Name: cc_cons, dtype: float64"
      ]
     },
     "execution_count": 10,
     "metadata": {},
     "output_type": "execute_result"
    }
   ],
   "source": [
    "Customer.cc_cons.describe()                         "
   ]
  },
  {
   "cell_type": "code",
   "execution_count": 11,
   "id": "9f5cc1d7",
   "metadata": {},
   "outputs": [
    {
     "data": {
      "text/plain": [
       "Index(['ID', 'cc_cons', 'cc_cons_apr', 'dc_cons_apr', 'cc_cons_may',\n",
       "       'dc_cons_may', 'cc_cons_jun', 'dc_cons_jun', 'cc_count_apr',\n",
       "       'cc_count_may', 'cc_count_jun', 'dc_count_apr', 'dc_count_may',\n",
       "       'dc_count_jun', 'card_lim', 'personal_loan_active',\n",
       "       'vehicle_loan_active', 'personal_loan_closed', 'vehicle_loan_closed',\n",
       "       'investment_1', 'investment_2', 'investment_3', 'investment_4',\n",
       "       'debit_amount_apr', 'credit_amount_apr', 'debit_count_apr',\n",
       "       'credit_count_apr', 'max_credit_amount_apr', 'debit_amount_may',\n",
       "       'credit_amount_may', 'credit_count_may', 'debit_count_may',\n",
       "       'max_credit_amount_may', 'debit_amount_jun', 'credit_amount_jun',\n",
       "       'credit_count_jun', 'debit_count_jun', 'max_credit_amount_jun',\n",
       "       'loan_enq', 'emi_active', 'account_type', 'gender', 'age', 'Income',\n",
       "       'Emp_Tenure_Years', 'Tenure_with_Bank', 'region_code',\n",
       "       'NetBanking_Flag', 'Avg_days_between_transaction'],\n",
       "      dtype='object')"
      ]
     },
     "execution_count": 11,
     "metadata": {},
     "output_type": "execute_result"
    }
   ],
   "source": [
    "Customer.columns"
   ]
  },
  {
   "cell_type": "code",
   "execution_count": 12,
   "id": "5d1da026",
   "metadata": {},
   "outputs": [
    {
     "data": {
      "text/html": [
       "<div>\n",
       "<style scoped>\n",
       "    .dataframe tbody tr th:only-of-type {\n",
       "        vertical-align: middle;\n",
       "    }\n",
       "\n",
       "    .dataframe tbody tr th {\n",
       "        vertical-align: top;\n",
       "    }\n",
       "\n",
       "    .dataframe thead th {\n",
       "        text-align: right;\n",
       "    }\n",
       "</style>\n",
       "<table border=\"1\" class=\"dataframe\">\n",
       "  <thead>\n",
       "    <tr style=\"text-align: right;\">\n",
       "      <th></th>\n",
       "      <th>count</th>\n",
       "      <th>mean</th>\n",
       "      <th>std</th>\n",
       "      <th>min</th>\n",
       "      <th>25%</th>\n",
       "      <th>50%</th>\n",
       "      <th>75%</th>\n",
       "      <th>max</th>\n",
       "    </tr>\n",
       "  </thead>\n",
       "  <tbody>\n",
       "    <tr>\n",
       "      <th>ID</th>\n",
       "      <td>20000.0</td>\n",
       "      <td>9999.500000</td>\n",
       "      <td>5.773647e+03</td>\n",
       "      <td>0.00</td>\n",
       "      <td>4999.750</td>\n",
       "      <td>9999.5000</td>\n",
       "      <td>14999.2500</td>\n",
       "      <td>19999.00</td>\n",
       "    </tr>\n",
       "    <tr>\n",
       "      <th>cc_cons</th>\n",
       "      <td>15000.0</td>\n",
       "      <td>55157.729867</td>\n",
       "      <td>9.767097e+04</td>\n",
       "      <td>0.00</td>\n",
       "      <td>6768.000</td>\n",
       "      <td>13364.0000</td>\n",
       "      <td>20105.7500</td>\n",
       "      <td>408382.00</td>\n",
       "    </tr>\n",
       "    <tr>\n",
       "      <th>cc_cons_apr</th>\n",
       "      <td>20000.0</td>\n",
       "      <td>17856.990922</td>\n",
       "      <td>2.515888e+04</td>\n",
       "      <td>253.00</td>\n",
       "      <td>4377.000</td>\n",
       "      <td>10214.6425</td>\n",
       "      <td>21189.0000</td>\n",
       "      <td>441031.33</td>\n",
       "    </tr>\n",
       "    <tr>\n",
       "      <th>dc_cons_apr</th>\n",
       "      <td>20000.0</td>\n",
       "      <td>8130.453414</td>\n",
       "      <td>1.457219e+04</td>\n",
       "      <td>19.35</td>\n",
       "      <td>1624.650</td>\n",
       "      <td>3964.7500</td>\n",
       "      <td>9339.0200</td>\n",
       "      <td>229255.00</td>\n",
       "    </tr>\n",
       "    <tr>\n",
       "      <th>cc_cons_may</th>\n",
       "      <td>19999.0</td>\n",
       "      <td>16188.364717</td>\n",
       "      <td>2.651068e+04</td>\n",
       "      <td>157.00</td>\n",
       "      <td>3635.910</td>\n",
       "      <td>8635.2300</td>\n",
       "      <td>18655.3050</td>\n",
       "      <td>1117246.31</td>\n",
       "    </tr>\n",
       "    <tr>\n",
       "      <th>dc_cons_may</th>\n",
       "      <td>20000.0</td>\n",
       "      <td>7702.427191</td>\n",
       "      <td>1.789273e+04</td>\n",
       "      <td>22.00</td>\n",
       "      <td>1634.260</td>\n",
       "      <td>3791.7200</td>\n",
       "      <td>8263.5900</td>\n",
       "      <td>911223.49</td>\n",
       "    </tr>\n",
       "    <tr>\n",
       "      <th>cc_cons_jun</th>\n",
       "      <td>20000.0</td>\n",
       "      <td>12135.806021</td>\n",
       "      <td>1.879098e+04</td>\n",
       "      <td>65.00</td>\n",
       "      <td>2999.075</td>\n",
       "      <td>6656.8000</td>\n",
       "      <td>14195.7275</td>\n",
       "      <td>382914.10</td>\n",
       "    </tr>\n",
       "    <tr>\n",
       "      <th>dc_cons_jun</th>\n",
       "      <td>19999.0</td>\n",
       "      <td>7109.708341</td>\n",
       "      <td>1.331394e+04</td>\n",
       "      <td>62.00</td>\n",
       "      <td>1361.100</td>\n",
       "      <td>3326.0000</td>\n",
       "      <td>7458.8200</td>\n",
       "      <td>233384.00</td>\n",
       "    </tr>\n",
       "    <tr>\n",
       "      <th>cc_count_apr</th>\n",
       "      <td>19999.0</td>\n",
       "      <td>41.611631</td>\n",
       "      <td>9.783547e+01</td>\n",
       "      <td>1.00</td>\n",
       "      <td>5.000</td>\n",
       "      <td>10.0000</td>\n",
       "      <td>44.0000</td>\n",
       "      <td>531.00</td>\n",
       "    </tr>\n",
       "    <tr>\n",
       "      <th>cc_count_may</th>\n",
       "      <td>20000.0</td>\n",
       "      <td>33.569100</td>\n",
       "      <td>5.031692e+01</td>\n",
       "      <td>1.00</td>\n",
       "      <td>8.000</td>\n",
       "      <td>23.0000</td>\n",
       "      <td>43.0000</td>\n",
       "      <td>601.00</td>\n",
       "    </tr>\n",
       "    <tr>\n",
       "      <th>cc_count_jun</th>\n",
       "      <td>20000.0</td>\n",
       "      <td>41.470200</td>\n",
       "      <td>4.682566e+01</td>\n",
       "      <td>1.00</td>\n",
       "      <td>10.000</td>\n",
       "      <td>35.0000</td>\n",
       "      <td>61.0000</td>\n",
       "      <td>653.00</td>\n",
       "    </tr>\n",
       "    <tr>\n",
       "      <th>dc_count_apr</th>\n",
       "      <td>20000.0</td>\n",
       "      <td>17.071700</td>\n",
       "      <td>1.928532e+01</td>\n",
       "      <td>1.00</td>\n",
       "      <td>2.000</td>\n",
       "      <td>7.0000</td>\n",
       "      <td>25.0000</td>\n",
       "      <td>82.00</td>\n",
       "    </tr>\n",
       "    <tr>\n",
       "      <th>dc_count_may</th>\n",
       "      <td>20000.0</td>\n",
       "      <td>14.067750</td>\n",
       "      <td>1.715780e+01</td>\n",
       "      <td>1.00</td>\n",
       "      <td>2.000</td>\n",
       "      <td>5.0000</td>\n",
       "      <td>21.0000</td>\n",
       "      <td>71.00</td>\n",
       "    </tr>\n",
       "    <tr>\n",
       "      <th>dc_count_jun</th>\n",
       "      <td>20000.0</td>\n",
       "      <td>30.481150</td>\n",
       "      <td>2.933219e+01</td>\n",
       "      <td>1.00</td>\n",
       "      <td>4.000</td>\n",
       "      <td>17.0000</td>\n",
       "      <td>54.0000</td>\n",
       "      <td>98.00</td>\n",
       "    </tr>\n",
       "    <tr>\n",
       "      <th>card_lim</th>\n",
       "      <td>20000.0</td>\n",
       "      <td>278346.396100</td>\n",
       "      <td>1.807583e+05</td>\n",
       "      <td>0.00</td>\n",
       "      <td>124000.000</td>\n",
       "      <td>272000.0000</td>\n",
       "      <td>401000.0000</td>\n",
       "      <td>1000000.00</td>\n",
       "    </tr>\n",
       "    <tr>\n",
       "      <th>personal_loan_active</th>\n",
       "      <td>20000.0</td>\n",
       "      <td>1.000000</td>\n",
       "      <td>0.000000e+00</td>\n",
       "      <td>1.00</td>\n",
       "      <td>1.000</td>\n",
       "      <td>1.0000</td>\n",
       "      <td>1.0000</td>\n",
       "      <td>1.00</td>\n",
       "    </tr>\n",
       "    <tr>\n",
       "      <th>vehicle_loan_active</th>\n",
       "      <td>20000.0</td>\n",
       "      <td>1.000000</td>\n",
       "      <td>0.000000e+00</td>\n",
       "      <td>1.00</td>\n",
       "      <td>1.000</td>\n",
       "      <td>1.0000</td>\n",
       "      <td>1.0000</td>\n",
       "      <td>1.00</td>\n",
       "    </tr>\n",
       "    <tr>\n",
       "      <th>personal_loan_closed</th>\n",
       "      <td>19999.0</td>\n",
       "      <td>1.000000</td>\n",
       "      <td>0.000000e+00</td>\n",
       "      <td>1.00</td>\n",
       "      <td>1.000</td>\n",
       "      <td>1.0000</td>\n",
       "      <td>1.0000</td>\n",
       "      <td>1.00</td>\n",
       "    </tr>\n",
       "    <tr>\n",
       "      <th>vehicle_loan_closed</th>\n",
       "      <td>20000.0</td>\n",
       "      <td>1.000000</td>\n",
       "      <td>0.000000e+00</td>\n",
       "      <td>1.00</td>\n",
       "      <td>1.000</td>\n",
       "      <td>1.0000</td>\n",
       "      <td>1.0000</td>\n",
       "      <td>1.00</td>\n",
       "    </tr>\n",
       "    <tr>\n",
       "      <th>investment_1</th>\n",
       "      <td>20000.0</td>\n",
       "      <td>590898.109444</td>\n",
       "      <td>2.937387e+06</td>\n",
       "      <td>0.30</td>\n",
       "      <td>6030.650</td>\n",
       "      <td>44331.8100</td>\n",
       "      <td>161704.0000</td>\n",
       "      <td>65977430.00</td>\n",
       "    </tr>\n",
       "    <tr>\n",
       "      <th>investment_2</th>\n",
       "      <td>20000.0</td>\n",
       "      <td>232952.031688</td>\n",
       "      <td>4.075202e+05</td>\n",
       "      <td>3.00</td>\n",
       "      <td>38928.000</td>\n",
       "      <td>110135.8600</td>\n",
       "      <td>245000.0000</td>\n",
       "      <td>5000000.00</td>\n",
       "    </tr>\n",
       "    <tr>\n",
       "      <th>investment_3</th>\n",
       "      <td>19998.0</td>\n",
       "      <td>44605.654868</td>\n",
       "      <td>8.850497e+04</td>\n",
       "      <td>462.00</td>\n",
       "      <td>2214.000</td>\n",
       "      <td>13873.0000</td>\n",
       "      <td>48950.0000</td>\n",
       "      <td>610000.00</td>\n",
       "    </tr>\n",
       "    <tr>\n",
       "      <th>investment_4</th>\n",
       "      <td>20000.0</td>\n",
       "      <td>3495.439932</td>\n",
       "      <td>7.369511e+03</td>\n",
       "      <td>-12179.00</td>\n",
       "      <td>0.000</td>\n",
       "      <td>2351.0000</td>\n",
       "      <td>6885.0000</td>\n",
       "      <td>35346.00</td>\n",
       "    </tr>\n",
       "    <tr>\n",
       "      <th>debit_amount_apr</th>\n",
       "      <td>20000.0</td>\n",
       "      <td>68644.997682</td>\n",
       "      <td>1.138021e+05</td>\n",
       "      <td>4.01</td>\n",
       "      <td>23206.530</td>\n",
       "      <td>41681.1400</td>\n",
       "      <td>76553.2825</td>\n",
       "      <td>5156863.79</td>\n",
       "    </tr>\n",
       "    <tr>\n",
       "      <th>credit_amount_apr</th>\n",
       "      <td>20000.0</td>\n",
       "      <td>79686.846292</td>\n",
       "      <td>1.833605e+05</td>\n",
       "      <td>61.38</td>\n",
       "      <td>26764.000</td>\n",
       "      <td>46998.0000</td>\n",
       "      <td>85740.0000</td>\n",
       "      <td>10592125.00</td>\n",
       "    </tr>\n",
       "    <tr>\n",
       "      <th>debit_count_apr</th>\n",
       "      <td>19999.0</td>\n",
       "      <td>36.240362</td>\n",
       "      <td>3.057426e+01</td>\n",
       "      <td>0.00</td>\n",
       "      <td>11.000</td>\n",
       "      <td>32.0000</td>\n",
       "      <td>52.0000</td>\n",
       "      <td>147.00</td>\n",
       "    </tr>\n",
       "    <tr>\n",
       "      <th>credit_count_apr</th>\n",
       "      <td>20000.0</td>\n",
       "      <td>11.250750</td>\n",
       "      <td>1.265654e+01</td>\n",
       "      <td>0.00</td>\n",
       "      <td>2.000</td>\n",
       "      <td>4.0000</td>\n",
       "      <td>19.0000</td>\n",
       "      <td>78.00</td>\n",
       "    </tr>\n",
       "    <tr>\n",
       "      <th>max_credit_amount_apr</th>\n",
       "      <td>20000.0</td>\n",
       "      <td>54418.935198</td>\n",
       "      <td>1.964095e+05</td>\n",
       "      <td>1.00</td>\n",
       "      <td>20613.000</td>\n",
       "      <td>31908.0000</td>\n",
       "      <td>52503.0000</td>\n",
       "      <td>12029154.00</td>\n",
       "    </tr>\n",
       "    <tr>\n",
       "      <th>debit_amount_may</th>\n",
       "      <td>20000.0</td>\n",
       "      <td>65306.354726</td>\n",
       "      <td>1.016961e+05</td>\n",
       "      <td>28.20</td>\n",
       "      <td>20816.110</td>\n",
       "      <td>38116.0000</td>\n",
       "      <td>74063.3900</td>\n",
       "      <td>4252567.00</td>\n",
       "    </tr>\n",
       "    <tr>\n",
       "      <th>credit_amount_may</th>\n",
       "      <td>20000.0</td>\n",
       "      <td>82937.068801</td>\n",
       "      <td>1.714761e+05</td>\n",
       "      <td>10.61</td>\n",
       "      <td>25210.750</td>\n",
       "      <td>48137.1850</td>\n",
       "      <td>94476.5575</td>\n",
       "      <td>10601749.00</td>\n",
       "    </tr>\n",
       "    <tr>\n",
       "      <th>credit_count_may</th>\n",
       "      <td>20000.0</td>\n",
       "      <td>11.919000</td>\n",
       "      <td>1.685576e+01</td>\n",
       "      <td>0.00</td>\n",
       "      <td>2.000</td>\n",
       "      <td>4.0000</td>\n",
       "      <td>11.0000</td>\n",
       "      <td>71.00</td>\n",
       "    </tr>\n",
       "    <tr>\n",
       "      <th>debit_count_may</th>\n",
       "      <td>20000.0</td>\n",
       "      <td>40.974850</td>\n",
       "      <td>4.056120e+01</td>\n",
       "      <td>0.00</td>\n",
       "      <td>11.000</td>\n",
       "      <td>23.0000</td>\n",
       "      <td>69.0000</td>\n",
       "      <td>171.00</td>\n",
       "    </tr>\n",
       "    <tr>\n",
       "      <th>max_credit_amount_may</th>\n",
       "      <td>20000.0</td>\n",
       "      <td>58207.985138</td>\n",
       "      <td>2.085914e+05</td>\n",
       "      <td>0.25</td>\n",
       "      <td>20202.250</td>\n",
       "      <td>31496.5000</td>\n",
       "      <td>56421.0000</td>\n",
       "      <td>10000000.00</td>\n",
       "    </tr>\n",
       "    <tr>\n",
       "      <th>debit_amount_jun</th>\n",
       "      <td>20000.0</td>\n",
       "      <td>78122.797160</td>\n",
       "      <td>2.448983e+05</td>\n",
       "      <td>5.23</td>\n",
       "      <td>25763.110</td>\n",
       "      <td>45725.0500</td>\n",
       "      <td>85296.5300</td>\n",
       "      <td>26429152.75</td>\n",
       "    </tr>\n",
       "    <tr>\n",
       "      <th>credit_amount_jun</th>\n",
       "      <td>20000.0</td>\n",
       "      <td>78816.927607</td>\n",
       "      <td>1.569872e+05</td>\n",
       "      <td>11.88</td>\n",
       "      <td>24920.080</td>\n",
       "      <td>46183.0000</td>\n",
       "      <td>86020.0000</td>\n",
       "      <td>6611953.00</td>\n",
       "    </tr>\n",
       "    <tr>\n",
       "      <th>credit_count_jun</th>\n",
       "      <td>20000.0</td>\n",
       "      <td>19.905450</td>\n",
       "      <td>2.705532e+01</td>\n",
       "      <td>1.00</td>\n",
       "      <td>4.000</td>\n",
       "      <td>7.0000</td>\n",
       "      <td>21.0000</td>\n",
       "      <td>117.00</td>\n",
       "    </tr>\n",
       "    <tr>\n",
       "      <th>debit_count_jun</th>\n",
       "      <td>20000.0</td>\n",
       "      <td>44.529100</td>\n",
       "      <td>3.508045e+01</td>\n",
       "      <td>0.00</td>\n",
       "      <td>12.000</td>\n",
       "      <td>37.0000</td>\n",
       "      <td>73.0000</td>\n",
       "      <td>133.00</td>\n",
       "    </tr>\n",
       "    <tr>\n",
       "      <th>max_credit_amount_jun</th>\n",
       "      <td>20000.0</td>\n",
       "      <td>52849.847571</td>\n",
       "      <td>1.343175e+05</td>\n",
       "      <td>0.06</td>\n",
       "      <td>18964.500</td>\n",
       "      <td>30250.0000</td>\n",
       "      <td>53449.0000</td>\n",
       "      <td>5200000.00</td>\n",
       "    </tr>\n",
       "    <tr>\n",
       "      <th>emi_active</th>\n",
       "      <td>19999.0</td>\n",
       "      <td>15398.868773</td>\n",
       "      <td>1.202541e+05</td>\n",
       "      <td>0.00</td>\n",
       "      <td>1545.940</td>\n",
       "      <td>3934.6600</td>\n",
       "      <td>9376.3900</td>\n",
       "      <td>7447125.13</td>\n",
       "    </tr>\n",
       "    <tr>\n",
       "      <th>age</th>\n",
       "      <td>20000.0</td>\n",
       "      <td>47.672300</td>\n",
       "      <td>3.035977e+01</td>\n",
       "      <td>25.00</td>\n",
       "      <td>33.000</td>\n",
       "      <td>40.0000</td>\n",
       "      <td>53.0000</td>\n",
       "      <td>223.00</td>\n",
       "    </tr>\n",
       "    <tr>\n",
       "      <th>Emp_Tenure_Years</th>\n",
       "      <td>20000.0</td>\n",
       "      <td>15.217250</td>\n",
       "      <td>2.048145e+01</td>\n",
       "      <td>0.50</td>\n",
       "      <td>5.100</td>\n",
       "      <td>9.9000</td>\n",
       "      <td>18.0000</td>\n",
       "      <td>203.00</td>\n",
       "    </tr>\n",
       "    <tr>\n",
       "      <th>Tenure_with_Bank</th>\n",
       "      <td>20000.0</td>\n",
       "      <td>5.496050</td>\n",
       "      <td>2.870452e+00</td>\n",
       "      <td>1.00</td>\n",
       "      <td>3.000</td>\n",
       "      <td>6.0000</td>\n",
       "      <td>8.0000</td>\n",
       "      <td>10.00</td>\n",
       "    </tr>\n",
       "    <tr>\n",
       "      <th>region_code</th>\n",
       "      <td>19999.0</td>\n",
       "      <td>598.959348</td>\n",
       "      <td>2.201052e+02</td>\n",
       "      <td>123.00</td>\n",
       "      <td>424.000</td>\n",
       "      <td>623.0000</td>\n",
       "      <td>799.0000</td>\n",
       "      <td>974.00</td>\n",
       "    </tr>\n",
       "    <tr>\n",
       "      <th>NetBanking_Flag</th>\n",
       "      <td>20000.0</td>\n",
       "      <td>0.718000</td>\n",
       "      <td>4.499846e-01</td>\n",
       "      <td>0.00</td>\n",
       "      <td>0.000</td>\n",
       "      <td>1.0000</td>\n",
       "      <td>1.0000</td>\n",
       "      <td>1.00</td>\n",
       "    </tr>\n",
       "    <tr>\n",
       "      <th>Avg_days_between_transaction</th>\n",
       "      <td>19997.0</td>\n",
       "      <td>11.044757</td>\n",
       "      <td>5.480552e+00</td>\n",
       "      <td>2.00</td>\n",
       "      <td>6.000</td>\n",
       "      <td>11.0000</td>\n",
       "      <td>16.0000</td>\n",
       "      <td>20.00</td>\n",
       "    </tr>\n",
       "  </tbody>\n",
       "</table>\n",
       "</div>"
      ],
      "text/plain": [
       "                                count           mean           std       min  \\\n",
       "ID                            20000.0    9999.500000  5.773647e+03      0.00   \n",
       "cc_cons                       15000.0   55157.729867  9.767097e+04      0.00   \n",
       "cc_cons_apr                   20000.0   17856.990922  2.515888e+04    253.00   \n",
       "dc_cons_apr                   20000.0    8130.453414  1.457219e+04     19.35   \n",
       "cc_cons_may                   19999.0   16188.364717  2.651068e+04    157.00   \n",
       "dc_cons_may                   20000.0    7702.427191  1.789273e+04     22.00   \n",
       "cc_cons_jun                   20000.0   12135.806021  1.879098e+04     65.00   \n",
       "dc_cons_jun                   19999.0    7109.708341  1.331394e+04     62.00   \n",
       "cc_count_apr                  19999.0      41.611631  9.783547e+01      1.00   \n",
       "cc_count_may                  20000.0      33.569100  5.031692e+01      1.00   \n",
       "cc_count_jun                  20000.0      41.470200  4.682566e+01      1.00   \n",
       "dc_count_apr                  20000.0      17.071700  1.928532e+01      1.00   \n",
       "dc_count_may                  20000.0      14.067750  1.715780e+01      1.00   \n",
       "dc_count_jun                  20000.0      30.481150  2.933219e+01      1.00   \n",
       "card_lim                      20000.0  278346.396100  1.807583e+05      0.00   \n",
       "personal_loan_active          20000.0       1.000000  0.000000e+00      1.00   \n",
       "vehicle_loan_active           20000.0       1.000000  0.000000e+00      1.00   \n",
       "personal_loan_closed          19999.0       1.000000  0.000000e+00      1.00   \n",
       "vehicle_loan_closed           20000.0       1.000000  0.000000e+00      1.00   \n",
       "investment_1                  20000.0  590898.109444  2.937387e+06      0.30   \n",
       "investment_2                  20000.0  232952.031688  4.075202e+05      3.00   \n",
       "investment_3                  19998.0   44605.654868  8.850497e+04    462.00   \n",
       "investment_4                  20000.0    3495.439932  7.369511e+03 -12179.00   \n",
       "debit_amount_apr              20000.0   68644.997682  1.138021e+05      4.01   \n",
       "credit_amount_apr             20000.0   79686.846292  1.833605e+05     61.38   \n",
       "debit_count_apr               19999.0      36.240362  3.057426e+01      0.00   \n",
       "credit_count_apr              20000.0      11.250750  1.265654e+01      0.00   \n",
       "max_credit_amount_apr         20000.0   54418.935198  1.964095e+05      1.00   \n",
       "debit_amount_may              20000.0   65306.354726  1.016961e+05     28.20   \n",
       "credit_amount_may             20000.0   82937.068801  1.714761e+05     10.61   \n",
       "credit_count_may              20000.0      11.919000  1.685576e+01      0.00   \n",
       "debit_count_may               20000.0      40.974850  4.056120e+01      0.00   \n",
       "max_credit_amount_may         20000.0   58207.985138  2.085914e+05      0.25   \n",
       "debit_amount_jun              20000.0   78122.797160  2.448983e+05      5.23   \n",
       "credit_amount_jun             20000.0   78816.927607  1.569872e+05     11.88   \n",
       "credit_count_jun              20000.0      19.905450  2.705532e+01      1.00   \n",
       "debit_count_jun               20000.0      44.529100  3.508045e+01      0.00   \n",
       "max_credit_amount_jun         20000.0   52849.847571  1.343175e+05      0.06   \n",
       "emi_active                    19999.0   15398.868773  1.202541e+05      0.00   \n",
       "age                           20000.0      47.672300  3.035977e+01     25.00   \n",
       "Emp_Tenure_Years              20000.0      15.217250  2.048145e+01      0.50   \n",
       "Tenure_with_Bank              20000.0       5.496050  2.870452e+00      1.00   \n",
       "region_code                   19999.0     598.959348  2.201052e+02    123.00   \n",
       "NetBanking_Flag               20000.0       0.718000  4.499846e-01      0.00   \n",
       "Avg_days_between_transaction  19997.0      11.044757  5.480552e+00      2.00   \n",
       "\n",
       "                                     25%          50%          75%  \\\n",
       "ID                              4999.750    9999.5000   14999.2500   \n",
       "cc_cons                         6768.000   13364.0000   20105.7500   \n",
       "cc_cons_apr                     4377.000   10214.6425   21189.0000   \n",
       "dc_cons_apr                     1624.650    3964.7500    9339.0200   \n",
       "cc_cons_may                     3635.910    8635.2300   18655.3050   \n",
       "dc_cons_may                     1634.260    3791.7200    8263.5900   \n",
       "cc_cons_jun                     2999.075    6656.8000   14195.7275   \n",
       "dc_cons_jun                     1361.100    3326.0000    7458.8200   \n",
       "cc_count_apr                       5.000      10.0000      44.0000   \n",
       "cc_count_may                       8.000      23.0000      43.0000   \n",
       "cc_count_jun                      10.000      35.0000      61.0000   \n",
       "dc_count_apr                       2.000       7.0000      25.0000   \n",
       "dc_count_may                       2.000       5.0000      21.0000   \n",
       "dc_count_jun                       4.000      17.0000      54.0000   \n",
       "card_lim                      124000.000  272000.0000  401000.0000   \n",
       "personal_loan_active               1.000       1.0000       1.0000   \n",
       "vehicle_loan_active                1.000       1.0000       1.0000   \n",
       "personal_loan_closed               1.000       1.0000       1.0000   \n",
       "vehicle_loan_closed                1.000       1.0000       1.0000   \n",
       "investment_1                    6030.650   44331.8100  161704.0000   \n",
       "investment_2                   38928.000  110135.8600  245000.0000   \n",
       "investment_3                    2214.000   13873.0000   48950.0000   \n",
       "investment_4                       0.000    2351.0000    6885.0000   \n",
       "debit_amount_apr               23206.530   41681.1400   76553.2825   \n",
       "credit_amount_apr              26764.000   46998.0000   85740.0000   \n",
       "debit_count_apr                   11.000      32.0000      52.0000   \n",
       "credit_count_apr                   2.000       4.0000      19.0000   \n",
       "max_credit_amount_apr          20613.000   31908.0000   52503.0000   \n",
       "debit_amount_may               20816.110   38116.0000   74063.3900   \n",
       "credit_amount_may              25210.750   48137.1850   94476.5575   \n",
       "credit_count_may                   2.000       4.0000      11.0000   \n",
       "debit_count_may                   11.000      23.0000      69.0000   \n",
       "max_credit_amount_may          20202.250   31496.5000   56421.0000   \n",
       "debit_amount_jun               25763.110   45725.0500   85296.5300   \n",
       "credit_amount_jun              24920.080   46183.0000   86020.0000   \n",
       "credit_count_jun                   4.000       7.0000      21.0000   \n",
       "debit_count_jun                   12.000      37.0000      73.0000   \n",
       "max_credit_amount_jun          18964.500   30250.0000   53449.0000   \n",
       "emi_active                      1545.940    3934.6600    9376.3900   \n",
       "age                               33.000      40.0000      53.0000   \n",
       "Emp_Tenure_Years                   5.100       9.9000      18.0000   \n",
       "Tenure_with_Bank                   3.000       6.0000       8.0000   \n",
       "region_code                      424.000     623.0000     799.0000   \n",
       "NetBanking_Flag                    0.000       1.0000       1.0000   \n",
       "Avg_days_between_transaction       6.000      11.0000      16.0000   \n",
       "\n",
       "                                      max  \n",
       "ID                               19999.00  \n",
       "cc_cons                         408382.00  \n",
       "cc_cons_apr                     441031.33  \n",
       "dc_cons_apr                     229255.00  \n",
       "cc_cons_may                    1117246.31  \n",
       "dc_cons_may                     911223.49  \n",
       "cc_cons_jun                     382914.10  \n",
       "dc_cons_jun                     233384.00  \n",
       "cc_count_apr                       531.00  \n",
       "cc_count_may                       601.00  \n",
       "cc_count_jun                       653.00  \n",
       "dc_count_apr                        82.00  \n",
       "dc_count_may                        71.00  \n",
       "dc_count_jun                        98.00  \n",
       "card_lim                       1000000.00  \n",
       "personal_loan_active                 1.00  \n",
       "vehicle_loan_active                  1.00  \n",
       "personal_loan_closed                 1.00  \n",
       "vehicle_loan_closed                  1.00  \n",
       "investment_1                  65977430.00  \n",
       "investment_2                   5000000.00  \n",
       "investment_3                    610000.00  \n",
       "investment_4                     35346.00  \n",
       "debit_amount_apr               5156863.79  \n",
       "credit_amount_apr             10592125.00  \n",
       "debit_count_apr                    147.00  \n",
       "credit_count_apr                    78.00  \n",
       "max_credit_amount_apr         12029154.00  \n",
       "debit_amount_may               4252567.00  \n",
       "credit_amount_may             10601749.00  \n",
       "credit_count_may                    71.00  \n",
       "debit_count_may                    171.00  \n",
       "max_credit_amount_may         10000000.00  \n",
       "debit_amount_jun              26429152.75  \n",
       "credit_amount_jun              6611953.00  \n",
       "credit_count_jun                   117.00  \n",
       "debit_count_jun                    133.00  \n",
       "max_credit_amount_jun          5200000.00  \n",
       "emi_active                     7447125.13  \n",
       "age                                223.00  \n",
       "Emp_Tenure_Years                   203.00  \n",
       "Tenure_with_Bank                    10.00  \n",
       "region_code                        974.00  \n",
       "NetBanking_Flag                      1.00  \n",
       "Avg_days_between_transaction        20.00  "
      ]
     },
     "execution_count": 12,
     "metadata": {},
     "output_type": "execute_result"
    }
   ],
   "source": [
    "Customer.describe().T"
   ]
  },
  {
   "cell_type": "code",
   "execution_count": 13,
   "id": "d830cf4f",
   "metadata": {},
   "outputs": [],
   "source": [
    "cust=Customer"
   ]
  },
  {
   "cell_type": "code",
   "execution_count": 14,
   "id": "23e60d3d",
   "metadata": {},
   "outputs": [
    {
     "data": {
      "text/plain": [
       "ID                                 0\n",
       "cc_cons                         5000\n",
       "cc_cons_apr                        0\n",
       "dc_cons_apr                        0\n",
       "cc_cons_may                        1\n",
       "dc_cons_may                        0\n",
       "cc_cons_jun                        0\n",
       "dc_cons_jun                        1\n",
       "cc_count_apr                       1\n",
       "cc_count_may                       0\n",
       "cc_count_jun                       0\n",
       "dc_count_apr                       0\n",
       "dc_count_may                       0\n",
       "dc_count_jun                       0\n",
       "card_lim                           0\n",
       "personal_loan_active               0\n",
       "vehicle_loan_active                0\n",
       "personal_loan_closed               1\n",
       "vehicle_loan_closed                0\n",
       "investment_1                       0\n",
       "investment_2                       0\n",
       "investment_3                       2\n",
       "investment_4                       0\n",
       "debit_amount_apr                   0\n",
       "credit_amount_apr                  0\n",
       "debit_count_apr                    1\n",
       "credit_count_apr                   0\n",
       "max_credit_amount_apr              0\n",
       "debit_amount_may                   0\n",
       "credit_amount_may                  0\n",
       "credit_count_may                   0\n",
       "debit_count_may                    0\n",
       "max_credit_amount_may              0\n",
       "debit_amount_jun                   0\n",
       "credit_amount_jun                  0\n",
       "credit_count_jun                   0\n",
       "debit_count_jun                    0\n",
       "max_credit_amount_jun              0\n",
       "loan_enq                           2\n",
       "emi_active                         1\n",
       "account_type                       1\n",
       "gender                             1\n",
       "age                                0\n",
       "Income                             1\n",
       "Emp_Tenure_Years                   0\n",
       "Tenure_with_Bank                   0\n",
       "region_code                        1\n",
       "NetBanking_Flag                    0\n",
       "Avg_days_between_transaction       3\n",
       "dtype: int64"
      ]
     },
     "execution_count": 14,
     "metadata": {},
     "output_type": "execute_result"
    }
   ],
   "source": [
    "cust.isna().sum()"
   ]
  },
  {
   "cell_type": "code",
   "execution_count": 15,
   "id": "f52ce506",
   "metadata": {},
   "outputs": [],
   "source": [
    "#we can try to fill null value using nearest neighbors(k-Nearest Neighbors)"
   ]
  },
  {
   "cell_type": "code",
   "execution_count": 16,
   "id": "0f0da29d",
   "metadata": {},
   "outputs": [],
   "source": [
    "#imputing  missing value : \n",
    "imputer=KNNImputer(n_neighbors=5)\n",
    "cust[['ID','cc_cons','cc_cons_apr', 'dc_cons_apr', 'cc_cons_may',\n",
    "       'dc_cons_may', 'cc_cons_jun', 'dc_cons_jun', 'cc_count_apr',\n",
    "       'cc_count_may', 'cc_count_jun', 'dc_count_apr', 'dc_count_may',\n",
    "       'dc_count_jun', 'card_lim', 'personal_loan_active',\n",
    "       'vehicle_loan_active', 'personal_loan_closed', 'vehicle_loan_closed',\n",
    "       'investment_1', 'investment_2', 'investment_3', 'investment_4',\n",
    "       'debit_amount_apr', 'credit_amount_apr', 'debit_count_apr',\n",
    "       'credit_count_apr', 'max_credit_amount_apr', 'debit_amount_may',\n",
    "       'credit_amount_may', 'credit_count_may', 'debit_count_may',\n",
    "       'max_credit_amount_may', 'debit_amount_jun', 'credit_amount_jun',\n",
    "       'credit_count_jun', 'debit_count_jun', 'max_credit_amount_jun',\n",
    "        'emi_active', 'age',\n",
    "       'Emp_Tenure_Years', 'Tenure_with_Bank', 'region_code',\n",
    "       'NetBanking_Flag', 'Avg_days_between_transaction']]=imputer.fit_transform(cust[['ID','cc_cons','cc_cons_apr', 'dc_cons_apr', 'cc_cons_may',\n",
    "       'dc_cons_may', 'cc_cons_jun', 'dc_cons_jun', 'cc_count_apr',\n",
    "       'cc_count_may', 'cc_count_jun', 'dc_count_apr', 'dc_count_may',\n",
    "       'dc_count_jun', 'card_lim', 'personal_loan_active',\n",
    "       'vehicle_loan_active', 'personal_loan_closed', 'vehicle_loan_closed',\n",
    "       'investment_1', 'investment_2', 'investment_3', 'investment_4',\n",
    "       'debit_amount_apr', 'credit_amount_apr', 'debit_count_apr',\n",
    "       'credit_count_apr', 'max_credit_amount_apr', 'debit_amount_may',\n",
    "       'credit_amount_may', 'credit_count_may', 'debit_count_may',\n",
    "       'max_credit_amount_may', 'debit_amount_jun', 'credit_amount_jun',\n",
    "       'credit_count_jun', 'debit_count_jun', 'max_credit_amount_jun',\n",
    "        'emi_active', 'age',\n",
    "       'Emp_Tenure_Years', 'Tenure_with_Bank', 'region_code',\n",
    "       'NetBanking_Flag', 'Avg_days_between_transaction']])\n",
    "\n",
    "#imputing object missing value with mode : \n",
    "#cols = ['loan_enq', 'account_type', 'gender', 'Income']\n",
    "#cust[cols]=cust[cols].fillna(cust.mode().iloc[0])\n",
    "###################----OR----#####################\n",
    "cust['loan_enq'].replace(['Y'],[1], inplace=True)\n",
    "cust['account_type'].replace(['current', 'saving'],[1,0], inplace=True)\n",
    "cust['gender'].replace(['M', 'F'],[1,0], inplace=True)\n",
    "cust['Income'].replace(['MEDIUM', 'HIGH', 'LOW'],[1,2,0], inplace=True)\n",
    "\n",
    "cust[['loan_enq','account_type','gender','Income']]=imputer.fit_transform(cust[['loan_enq','account_type','gender','Income']])\n",
    "cust[['loan_enq','account_type','gender','Income']]=cust[['loan_enq','account_type','gender','Income']].astype(int)"
   ]
  },
  {
   "cell_type": "code",
   "execution_count": 17,
   "id": "8e465d2a",
   "metadata": {},
   "outputs": [
    {
     "name": "stderr",
     "output_type": "stream",
     "text": [
      "C:\\ProgramData\\Anaconda3\\lib\\site-packages\\seaborn\\_decorators.py:36: FutureWarning: Pass the following variables as keyword args: x, y. From version 0.12, the only valid positional argument will be `data`, and passing other arguments without an explicit keyword will result in an error or misinterpretation.\n",
      "  warnings.warn(\n",
      "C:\\ProgramData\\Anaconda3\\lib\\site-packages\\seaborn\\_decorators.py:36: FutureWarning: Pass the following variables as keyword args: x, y. From version 0.12, the only valid positional argument will be `data`, and passing other arguments without an explicit keyword will result in an error or misinterpretation.\n",
      "  warnings.warn(\n",
      "C:\\ProgramData\\Anaconda3\\lib\\site-packages\\seaborn\\_decorators.py:36: FutureWarning: Pass the following variables as keyword args: x, y. From version 0.12, the only valid positional argument will be `data`, and passing other arguments without an explicit keyword will result in an error or misinterpretation.\n",
      "  warnings.warn(\n"
     ]
    },
    {
     "data": {
      "text/plain": [
       "<AxesSubplot:xlabel='cc_cons_jun', ylabel='cc_cons'>"
      ]
     },
     "execution_count": 17,
     "metadata": {},
     "output_type": "execute_result"
    },
    {
     "data": {
      "image/png": "[encoded data removed]",
      "text/plain": [
       "<Figure size 720x288 with 3 Axes>"
      ]
     },
     "metadata": {
      "needs_background": "light"
     },
     "output_type": "display_data"
    }
   ],
   "source": [
    "#scatter plot\n",
    "fig, ax = plt.subplots(nrows=1, ncols=3, figsize=(10,4))\n",
    "sns.scatterplot(cust.cc_cons_apr,cust.cc_cons, ax=ax[0])\n",
    "sns.scatterplot(cust.cc_cons_may,cust.cc_cons,ax=ax[1])\n",
    "sns.scatterplot(cust.cc_cons_jun,cust.cc_cons,ax=ax[2])"
   ]
  },
  {
   "cell_type": "code",
   "execution_count": 18,
   "id": "ddd2a9b7",
   "metadata": {},
   "outputs": [
    {
     "data": {
      "text/plain": [
       "Index(['ID', 'cc_cons', 'cc_cons_apr', 'dc_cons_apr', 'cc_cons_may',\n",
       "       'dc_cons_may', 'cc_cons_jun', 'dc_cons_jun', 'cc_count_apr',\n",
       "       'cc_count_may', 'cc_count_jun', 'dc_count_apr', 'dc_count_may',\n",
       "       'dc_count_jun', 'card_lim', 'personal_loan_active',\n",
       "       'vehicle_loan_active', 'personal_loan_closed', 'vehicle_loan_closed',\n",
       "       'investment_1', 'investment_2', 'investment_3', 'investment_4',\n",
       "       'debit_amount_apr', 'credit_amount_apr', 'debit_count_apr',\n",
       "       'credit_count_apr', 'max_credit_amount_apr', 'debit_amount_may',\n",
       "       'credit_amount_may', 'credit_count_may', 'debit_count_may',\n",
       "       'max_credit_amount_may', 'debit_amount_jun', 'credit_amount_jun',\n",
       "       'credit_count_jun', 'debit_count_jun', 'max_credit_amount_jun',\n",
       "       'loan_enq', 'emi_active', 'account_type', 'gender', 'age', 'Income',\n",
       "       'Emp_Tenure_Years', 'Tenure_with_Bank', 'region_code',\n",
       "       'NetBanking_Flag', 'Avg_days_between_transaction'],\n",
       "      dtype='object')"
      ]
     },
     "execution_count": 18,
     "metadata": {},
     "output_type": "execute_result"
    }
   ],
   "source": [
    "cust.columns"
   ]
  },
  {
   "cell_type": "code",
   "execution_count": 19,
   "id": "bf232e1b",
   "metadata": {},
   "outputs": [
    {
     "data": {
      "text/plain": [
       "<AxesSubplot:xlabel='cc_cons_jun', ylabel='Count'>"
      ]
     },
     "execution_count": 19,
     "metadata": {},
     "output_type": "execute_result"
    },
    {
     "data": {
      "image/png": "[encoded data removed]",
      "text/plain": [
       "<Figure size 720x288 with 3 Axes>"
      ]
     },
     "metadata": {
      "needs_background": "light"
     },
     "output_type": "display_data"
    }
   ],
   "source": [
    "#histplot\n",
    "fig, ax = plt.subplots(nrows=1,ncols=3,figsize=(10,4))\n",
    "sns.histplot(cust.cc_cons_apr,bins=100, ax=ax[0])\n",
    "sns.histplot(cust.cc_cons_may,bins=100,ax=ax[1])\n",
    "sns.histplot(cust.cc_cons_jun,bins=100,ax=ax[2])"
   ]
  },
  {
   "cell_type": "code",
   "execution_count": 20,
   "id": "c82b09d9",
   "metadata": {},
   "outputs": [
    {
     "name": "stderr",
     "output_type": "stream",
     "text": [
      "C:\\ProgramData\\Anaconda3\\lib\\site-packages\\seaborn\\_decorators.py:36: FutureWarning: Pass the following variable as a keyword arg: x. From version 0.12, the only valid positional argument will be `data`, and passing other arguments without an explicit keyword will result in an error or misinterpretation.\n",
      "  warnings.warn(\n",
      "C:\\ProgramData\\Anaconda3\\lib\\site-packages\\seaborn\\_decorators.py:36: FutureWarning: Pass the following variable as a keyword arg: x. From version 0.12, the only valid positional argument will be `data`, and passing other arguments without an explicit keyword will result in an error or misinterpretation.\n",
      "  warnings.warn(\n",
      "C:\\ProgramData\\Anaconda3\\lib\\site-packages\\seaborn\\_decorators.py:36: FutureWarning: Pass the following variable as a keyword arg: x. From version 0.12, the only valid positional argument will be `data`, and passing other arguments without an explicit keyword will result in an error or misinterpretation.\n",
      "  warnings.warn(\n"
     ]
    },
    {
     "data": {
      "text/plain": [
       "<AxesSubplot:xlabel='cc_cons_jun'>"
      ]
     },
     "execution_count": 20,
     "metadata": {},
     "output_type": "execute_result"
    },
    {
     "data": {
      "image/png": "[encoded data removed]",
      "text/plain": [
       "<Figure size 720x288 with 3 Axes>"
      ]
     },
     "metadata": {
      "needs_background": "light"
     },
     "output_type": "display_data"
    }
   ],
   "source": [
    "#boxplot\n",
    "fig, ax = plt.subplots(nrows=1,ncols=3,figsize=(10,4))\n",
    "sns.boxplot(cust.cc_cons_apr,ax=ax[0])\n",
    "sns.boxplot(cust.cc_cons_may,ax=ax[1])\n",
    "sns.boxplot(cust.cc_cons_jun,ax=ax[2])"
   ]
  },
  {
   "cell_type": "code",
   "execution_count": 21,
   "id": "2fcad7aa",
   "metadata": {},
   "outputs": [
    {
     "name": "stdout",
     "output_type": "stream",
     "text": [
      "Mean Absolute Error: 15306.3745104\n",
      "Mean Squared Error: 662857533.3438362\n",
      "Root Mean Squared Error: 25746.019757310765\n"
     ]
    }
   ],
   "source": [
    "#The following code divides data into attributes and labels:\n",
    "#Preparing Data For Training\n",
    "X = cust.iloc[:, 0:4].values\n",
    "y = cust.iloc[:, 4].values\n",
    "\n",
    "#The following code divides data into training and testing sets:\n",
    "from sklearn.model_selection import train_test_split\n",
    "\n",
    "X_train, X_test, y_train, y_test = train_test_split(X, y, test_size=0.2, random_state=0)\n",
    "\n",
    "# Feature Scaling\n",
    "from sklearn.preprocessing import StandardScaler\n",
    "\n",
    "sc = StandardScaler()\n",
    "X_train = sc.fit_transform(X_train)\n",
    "X_test = sc.transform(X_test)\n",
    "\n",
    "#Training the Algorithm\n",
    "from sklearn.ensemble import RandomForestRegressor\n",
    "regressor = RandomForestRegressor(n_estimators=20, random_state=0)\n",
    "regressor.fit(X_train, y_train)\n",
    "y_pred = regressor.predict(X_test)\n",
    "\n",
    "#Evaluating the Algorithm\n",
    "from sklearn import metrics\n",
    "\n",
    "print('Mean Absolute Error:', metrics.mean_absolute_error(y_test, y_pred))\n",
    "print('Mean Squared Error:', metrics.mean_squared_error(y_test, y_pred))\n",
    "print('Root Mean Squared Error:', np.sqrt(metrics.mean_squared_error(y_test, y_pred)))\n"
   ]
  },
  {
   "cell_type": "code",
   "execution_count": null,
   "id": "88d4a289",
   "metadata": {},
   "outputs": [],
   "source": []
  },
  {
   "cell_type": "code",
   "execution_count": null,
   "id": "d490204e",
   "metadata": {},
   "outputs": [],
   "source": []
  },
  {
   "cell_type": "code",
   "execution_count": null,
   "id": "6d040594",
   "metadata": {},
   "outputs": [],
   "source": []
  },
  {
   "cell_type": "code",
   "execution_count": null,
   "id": "e8d6d90d",
   "metadata": {},
   "outputs": [],
   "source": []
  },
  {
   "cell_type": "code",
   "execution_count": null,
   "id": "c7015bfe",
   "metadata": {},
   "outputs": [],
   "source": []
  },
  {
   "cell_type": "code",
   "execution_count": null,
   "id": "09ed6342",
   "metadata": {},
   "outputs": [],
   "source": []
  },
  {
   "cell_type": "code",
   "execution_count": null,
   "id": "855d3ed0",
   "metadata": {},
   "outputs": [],
   "source": [
    "#seprating variable based on null Target variable  \n",
    "Customer_0=Customer[Customer.cc_cons.isna()==0]    #it's use for traing & testing purpose\n",
    "Customer_1=Customer[Customer.cc_cons.isna()==1]    #we want to predict (null)target variable after Customer_0 training & testing based on accuracy "
   ]
  },
  {
   "cell_type": "code",
   "execution_count": null,
   "id": "e98ed72d",
   "metadata": {},
   "outputs": [],
   "source": [
    "Customer_0=Customer_0.dropna() #droping null values\n",
    "#OR-----------------------------------------------------------\n",
    "\n",
    "#missing value treatment:\n",
    "#def missing_treatment(x):\n",
    "#    x=x.fillna(x.median())\n",
    "#    return x\n",
    "#applying user defined function--------------------------------\n",
    "#Customer_0=NewCustomer_0.apply(lambda x : missing_treatment(x))"
   ]
  },
  {
   "cell_type": "code",
   "execution_count": null,
   "id": "84a4fa00",
   "metadata": {},
   "outputs": [],
   "source": [
    "Customer_0.columns[Customer_0.dtypes=='object']"
   ]
  },
  {
   "cell_type": "code",
   "execution_count": null,
   "id": "34bfdd61",
   "metadata": {},
   "outputs": [],
   "source": [
    "#Customer_0.loan_enq.value_counts()                                                                    #Y-14995\n",
    "#Customer_0.account_type.value_counts()                                              #current-12722   #saving-2273\n",
    "#Customer_0.gender.value_counts()                                                    #M-12941         #F-2054\n",
    "#Customer_0.Income.value_counts()                                     #MEDIUM-9610   #LOW-4186        #HIGH-1199"
   ]
  },
  {
   "cell_type": "code",
   "execution_count": null,
   "id": "b22c3c7e",
   "metadata": {},
   "outputs": [],
   "source": [
    "#object data types\n",
    "Customer_0['loan_enq'].replace(['Y',np.nan],[1,0],inplace=True)\n",
    "#Customer_0.loan_enq\n",
    "\n",
    "#Customer_0.columns[Customer_0.dtypes=='object']\n",
    "#----->Index(['loan_enq', 'account_type', 'gender', 'Income'], dtype='object')\n",
    "encoding=Customer_0[Customer_0.columns[Customer_0.dtypes==object]]\n",
    "#object data types\n",
    "#Customer_0.columns[Customer_0.dtypes=='object']\n",
    "#----->Index(['loan_enq', 'account_type', 'gender', 'Income'], dtype='object')\n",
    "encoding=Customer_0[Customer_0.columns[Customer_0.dtypes==object]]\n",
    "\n",
    "\n",
    "\n",
    "\n",
    "\n",
    "#One Hot Encoding using Sci-kit learn Library: (method-2)\n",
    "from sklearn.preprocessing import OneHotEncoder\n",
    "#Create an instance of One-hot-encoder\n",
    "enc=OneHotEncoder()\n",
    "one_hot=pd.DataFrame(enc.fit_transform(encoding[['account_type', 'gender', 'Income']]).toarray(),columns=['account_type_current','account_type_saving', 'gender_F','gender_M','Income_HIGH','Income_LOW','Income_MEDIUM'])\n",
    "\n",
    "#checking columns name with number of count to assign name for columns \n",
    "#Customer_0.Income.value_counts()\n",
    "#Onehot.Income_MEDIUM.value_counts()\n",
    "\n",
    "#Merging\n",
    "New_Customer_0=Customer_0.join(one_hot)\n",
    "#droping columns which is encoded using one-hot\n",
    "New_Customer_0=New_Customer_0[New_Customer_0.columns.drop(New_Customer_0.columns[New_Customer_0.dtypes==object])]\n",
    "#New_Customer_0.dtypes"
   ]
  },
  {
   "cell_type": "code",
   "execution_count": null,
   "id": "1f13b2d3",
   "metadata": {},
   "outputs": [],
   "source": [
    "New_Customer_0=New_Customer_0.dropna() #droping nullvalue which is created by one-hot encoding"
   ]
  },
  {
   "cell_type": "code",
   "execution_count": null,
   "id": "c3a9aa41",
   "metadata": {},
   "outputs": [],
   "source": [
    "New_Customer_0.personal_loan_closed.astype('int')\n",
    "New_Customer_0[['vehicle_loan_closed','vehicle_loan_active','personal_loan_closed','personal_loan_active']]"
   ]
  },
  {
   "cell_type": "code",
   "execution_count": null,
   "id": "2d558cea",
   "metadata": {},
   "outputs": [],
   "source": [
    "#Preparing Data For Training\n",
    "X=Customer_0[Customer_0.columns[Customer_0.columns!='cc_cons']]\n",
    "Y=Customer_0.cc_cons\n",
    "\n",
    "#The following code divides data into training and testing sets:\n",
    "from sklearn.model_selection import train_test_split\n",
    "\n",
    "X_train, X_test, y_train, y_test = train_test_split(X, Y, test_size=0.33, random_state=42)\n",
    "#checking shape\n",
    "X_train.shape\n",
    "#y_train.shape\n",
    "X_test.shape\n",
    "#y_test.shape"
   ]
  },
  {
   "cell_type": "code",
   "execution_count": null,
   "id": "95d030bd",
   "metadata": {},
   "outputs": [],
   "source": [
    "#Customer_0.shape\n",
    "#Customer_0.dtypes\n",
    "#Customer_0.info()\n",
    "#Customer_0.describe()\n",
    "#Customer_0.duplicated().sum()\n",
    "#Customer_0.isnull().sum()\n",
    "\n",
    "\n",
    "\n",
    "\n",
    "\n",
    "#outlier treatment\n",
    "#def outlier_capping(x):\n",
    "#    x=x.clip(upper=x.quntile(0.99),lower=x.quantile(0.01))\n",
    "#    return x\n",
    "#applying user defined function--------------------------------------------\n",
    "#Customer_0=NewCustomer_0.apply(lambda x : outlier_capping(x))"
   ]
  },
  {
   "cell_type": "code",
   "execution_count": null,
   "id": "8729d18d",
   "metadata": {},
   "outputs": [],
   "source": []
  },
  {
   "cell_type": "code",
   "execution_count": null,
   "id": "56c4bb32",
   "metadata": {},
   "outputs": [],
   "source": []
  },
  {
   "cell_type": "code",
   "execution_count": null,
   "id": "2c9e5dd3",
   "metadata": {},
   "outputs": [],
   "source": [
    "\n",
    "plt.hist(Customer_0.cc_cons,bins=5)\n",
    "\n",
    "plt.show()\n",
    "sns.displot(Customer_0, x=\"cc_cons\",kde=True)"
   ]
  }
 ],
 "metadata": {
  "kernelspec": {
   "display_name": "Python 3 (ipykernel)",
   "language": "python",
   "name": "python3"
  },
  "language_info": {
   "codemirror_mode": {
    "name": "ipython",
    "version": 3
   },
   "file_extension": ".py",
   "mimetype": "text/x-python",
   "name": "python",
   "nbconvert_exporter": "python",
   "pygments_lexer": "ipython3",
   "version": "3.9.13"
  }
 },
 "nbformat": 4,
 "nbformat_minor": 5
}
